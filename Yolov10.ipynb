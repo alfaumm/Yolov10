{
  "nbformat": 4,
  "nbformat_minor": 0,
  "metadata": {
    "colab": {
      "provenance": [],
      "gpuType": "T4",
      "mount_file_id": "1Yg9NjnoDQRv-uzDMVuknWyKXQ78nPOIU",
      "authorship_tag": "ABX9TyPknnQ00ZGeJjY28YPvMaOK",
      "include_colab_link": true
    },
    "kernelspec": {
      "name": "python3",
      "display_name": "Python 3"
    },
    "language_info": {
      "name": "python"
    },
    "accelerator": "GPU"
  },
  "cells": [
    {
      "cell_type": "markdown",
      "metadata": {
        "id": "view-in-github",
        "colab_type": "text"
      },
      "source": [
        "<a href=\"https://colab.research.google.com/github/alfaumm/Yolov10/blob/main/Yolov10.ipynb\" target=\"_parent\"><img src=\"https://colab.research.google.com/assets/colab-badge.svg\" alt=\"Open In Colab\"/></a>"
      ]
    },
    {
      "cell_type": "code",
      "execution_count": 1,
      "metadata": {
        "id": "e7ZNXEdJfXpA",
        "colab": {
          "base_uri": "https://localhost:8080/"
        },
        "outputId": "cad8c449-1f60-42fb-a0a1-ec931c11c48d",
        "collapsed": true
      },
      "outputs": [
        {
          "output_type": "stream",
          "name": "stdout",
          "text": [
            "Collecting ultralytics\n",
            "  Downloading ultralytics-8.2.81-py3-none-any.whl.metadata (41 kB)\n",
            "\u001b[?25l     \u001b[90m━━━━━━━━━━━━━━━━━━━━━━━━━━━━━━━━━━━━━━━━\u001b[0m \u001b[32m0.0/41.3 kB\u001b[0m \u001b[31m?\u001b[0m eta \u001b[36m-:--:--\u001b[0m\r\u001b[2K     \u001b[90m━━━━━━━━━━━━━━━━━━━━━━━━━━━━━━━━━━━━━━━━\u001b[0m \u001b[32m41.3/41.3 kB\u001b[0m \u001b[31m2.3 MB/s\u001b[0m eta \u001b[36m0:00:00\u001b[0m\n",
            "\u001b[?25hRequirement already satisfied: numpy<2.0.0,>=1.23.0 in /usr/local/lib/python3.10/dist-packages (from ultralytics) (1.26.4)\n",
            "Requirement already satisfied: matplotlib>=3.3.0 in /usr/local/lib/python3.10/dist-packages (from ultralytics) (3.7.1)\n",
            "Requirement already satisfied: opencv-python>=4.6.0 in /usr/local/lib/python3.10/dist-packages (from ultralytics) (4.10.0.84)\n",
            "Requirement already satisfied: pillow>=7.1.2 in /usr/local/lib/python3.10/dist-packages (from ultralytics) (9.4.0)\n",
            "Requirement already satisfied: pyyaml>=5.3.1 in /usr/local/lib/python3.10/dist-packages (from ultralytics) (6.0.2)\n",
            "Requirement already satisfied: requests>=2.23.0 in /usr/local/lib/python3.10/dist-packages (from ultralytics) (2.32.3)\n",
            "Requirement already satisfied: scipy>=1.4.1 in /usr/local/lib/python3.10/dist-packages (from ultralytics) (1.13.1)\n",
            "Requirement already satisfied: torch>=1.8.0 in /usr/local/lib/python3.10/dist-packages (from ultralytics) (2.3.1+cu121)\n",
            "Requirement already satisfied: torchvision>=0.9.0 in /usr/local/lib/python3.10/dist-packages (from ultralytics) (0.18.1+cu121)\n",
            "Requirement already satisfied: tqdm>=4.64.0 in /usr/local/lib/python3.10/dist-packages (from ultralytics) (4.66.5)\n",
            "Requirement already satisfied: psutil in /usr/local/lib/python3.10/dist-packages (from ultralytics) (5.9.5)\n",
            "Requirement already satisfied: py-cpuinfo in /usr/local/lib/python3.10/dist-packages (from ultralytics) (9.0.0)\n",
            "Requirement already satisfied: pandas>=1.1.4 in /usr/local/lib/python3.10/dist-packages (from ultralytics) (2.1.4)\n",
            "Requirement already satisfied: seaborn>=0.11.0 in /usr/local/lib/python3.10/dist-packages (from ultralytics) (0.13.1)\n",
            "Collecting ultralytics-thop>=2.0.0 (from ultralytics)\n",
            "  Downloading ultralytics_thop-2.0.5-py3-none-any.whl.metadata (8.9 kB)\n",
            "Requirement already satisfied: contourpy>=1.0.1 in /usr/local/lib/python3.10/dist-packages (from matplotlib>=3.3.0->ultralytics) (1.2.1)\n",
            "Requirement already satisfied: cycler>=0.10 in /usr/local/lib/python3.10/dist-packages (from matplotlib>=3.3.0->ultralytics) (0.12.1)\n",
            "Requirement already satisfied: fonttools>=4.22.0 in /usr/local/lib/python3.10/dist-packages (from matplotlib>=3.3.0->ultralytics) (4.53.1)\n",
            "Requirement already satisfied: kiwisolver>=1.0.1 in /usr/local/lib/python3.10/dist-packages (from matplotlib>=3.3.0->ultralytics) (1.4.5)\n",
            "Requirement already satisfied: packaging>=20.0 in /usr/local/lib/python3.10/dist-packages (from matplotlib>=3.3.0->ultralytics) (24.1)\n",
            "Requirement already satisfied: pyparsing>=2.3.1 in /usr/local/lib/python3.10/dist-packages (from matplotlib>=3.3.0->ultralytics) (3.1.2)\n",
            "Requirement already satisfied: python-dateutil>=2.7 in /usr/local/lib/python3.10/dist-packages (from matplotlib>=3.3.0->ultralytics) (2.8.2)\n",
            "Requirement already satisfied: pytz>=2020.1 in /usr/local/lib/python3.10/dist-packages (from pandas>=1.1.4->ultralytics) (2024.1)\n",
            "Requirement already satisfied: tzdata>=2022.1 in /usr/local/lib/python3.10/dist-packages (from pandas>=1.1.4->ultralytics) (2024.1)\n",
            "Requirement already satisfied: charset-normalizer<4,>=2 in /usr/local/lib/python3.10/dist-packages (from requests>=2.23.0->ultralytics) (3.3.2)\n",
            "Requirement already satisfied: idna<4,>=2.5 in /usr/local/lib/python3.10/dist-packages (from requests>=2.23.0->ultralytics) (3.7)\n",
            "Requirement already satisfied: urllib3<3,>=1.21.1 in /usr/local/lib/python3.10/dist-packages (from requests>=2.23.0->ultralytics) (2.0.7)\n",
            "Requirement already satisfied: certifi>=2017.4.17 in /usr/local/lib/python3.10/dist-packages (from requests>=2.23.0->ultralytics) (2024.7.4)\n",
            "Requirement already satisfied: filelock in /usr/local/lib/python3.10/dist-packages (from torch>=1.8.0->ultralytics) (3.15.4)\n",
            "Requirement already satisfied: typing-extensions>=4.8.0 in /usr/local/lib/python3.10/dist-packages (from torch>=1.8.0->ultralytics) (4.12.2)\n",
            "Requirement already satisfied: sympy in /usr/local/lib/python3.10/dist-packages (from torch>=1.8.0->ultralytics) (1.13.2)\n",
            "Requirement already satisfied: networkx in /usr/local/lib/python3.10/dist-packages (from torch>=1.8.0->ultralytics) (3.3)\n",
            "Requirement already satisfied: jinja2 in /usr/local/lib/python3.10/dist-packages (from torch>=1.8.0->ultralytics) (3.1.4)\n",
            "Requirement already satisfied: fsspec in /usr/local/lib/python3.10/dist-packages (from torch>=1.8.0->ultralytics) (2024.6.1)\n",
            "Collecting nvidia-cuda-nvrtc-cu12==12.1.105 (from torch>=1.8.0->ultralytics)\n",
            "  Using cached nvidia_cuda_nvrtc_cu12-12.1.105-py3-none-manylinux1_x86_64.whl.metadata (1.5 kB)\n",
            "Collecting nvidia-cuda-runtime-cu12==12.1.105 (from torch>=1.8.0->ultralytics)\n",
            "  Using cached nvidia_cuda_runtime_cu12-12.1.105-py3-none-manylinux1_x86_64.whl.metadata (1.5 kB)\n",
            "Collecting nvidia-cuda-cupti-cu12==12.1.105 (from torch>=1.8.0->ultralytics)\n",
            "  Using cached nvidia_cuda_cupti_cu12-12.1.105-py3-none-manylinux1_x86_64.whl.metadata (1.6 kB)\n",
            "Collecting nvidia-cudnn-cu12==8.9.2.26 (from torch>=1.8.0->ultralytics)\n",
            "  Using cached nvidia_cudnn_cu12-8.9.2.26-py3-none-manylinux1_x86_64.whl.metadata (1.6 kB)\n",
            "Collecting nvidia-cublas-cu12==12.1.3.1 (from torch>=1.8.0->ultralytics)\n",
            "  Using cached nvidia_cublas_cu12-12.1.3.1-py3-none-manylinux1_x86_64.whl.metadata (1.5 kB)\n",
            "Collecting nvidia-cufft-cu12==11.0.2.54 (from torch>=1.8.0->ultralytics)\n",
            "  Using cached nvidia_cufft_cu12-11.0.2.54-py3-none-manylinux1_x86_64.whl.metadata (1.5 kB)\n",
            "Collecting nvidia-curand-cu12==10.3.2.106 (from torch>=1.8.0->ultralytics)\n",
            "  Using cached nvidia_curand_cu12-10.3.2.106-py3-none-manylinux1_x86_64.whl.metadata (1.5 kB)\n",
            "Collecting nvidia-cusolver-cu12==11.4.5.107 (from torch>=1.8.0->ultralytics)\n",
            "  Using cached nvidia_cusolver_cu12-11.4.5.107-py3-none-manylinux1_x86_64.whl.metadata (1.6 kB)\n",
            "Collecting nvidia-cusparse-cu12==12.1.0.106 (from torch>=1.8.0->ultralytics)\n",
            "  Using cached nvidia_cusparse_cu12-12.1.0.106-py3-none-manylinux1_x86_64.whl.metadata (1.6 kB)\n",
            "Collecting nvidia-nccl-cu12==2.20.5 (from torch>=1.8.0->ultralytics)\n",
            "  Using cached nvidia_nccl_cu12-2.20.5-py3-none-manylinux2014_x86_64.whl.metadata (1.8 kB)\n",
            "Collecting nvidia-nvtx-cu12==12.1.105 (from torch>=1.8.0->ultralytics)\n",
            "  Using cached nvidia_nvtx_cu12-12.1.105-py3-none-manylinux1_x86_64.whl.metadata (1.7 kB)\n",
            "Requirement already satisfied: triton==2.3.1 in /usr/local/lib/python3.10/dist-packages (from torch>=1.8.0->ultralytics) (2.3.1)\n",
            "Collecting nvidia-nvjitlink-cu12 (from nvidia-cusolver-cu12==11.4.5.107->torch>=1.8.0->ultralytics)\n",
            "  Using cached nvidia_nvjitlink_cu12-12.6.20-py3-none-manylinux2014_x86_64.whl.metadata (1.5 kB)\n",
            "Requirement already satisfied: six>=1.5 in /usr/local/lib/python3.10/dist-packages (from python-dateutil>=2.7->matplotlib>=3.3.0->ultralytics) (1.16.0)\n",
            "Requirement already satisfied: MarkupSafe>=2.0 in /usr/local/lib/python3.10/dist-packages (from jinja2->torch>=1.8.0->ultralytics) (2.1.5)\n",
            "Requirement already satisfied: mpmath<1.4,>=1.1.0 in /usr/local/lib/python3.10/dist-packages (from sympy->torch>=1.8.0->ultralytics) (1.3.0)\n",
            "Downloading ultralytics-8.2.81-py3-none-any.whl (869 kB)\n",
            "\u001b[2K   \u001b[90m━━━━━━━━━━━━━━━━━━━━━━━━━━━━━━━━━━━━━━━━\u001b[0m \u001b[32m869.4/869.4 kB\u001b[0m \u001b[31m34.9 MB/s\u001b[0m eta \u001b[36m0:00:00\u001b[0m\n",
            "\u001b[?25hUsing cached nvidia_cublas_cu12-12.1.3.1-py3-none-manylinux1_x86_64.whl (410.6 MB)\n",
            "Using cached nvidia_cuda_cupti_cu12-12.1.105-py3-none-manylinux1_x86_64.whl (14.1 MB)\n",
            "Using cached nvidia_cuda_nvrtc_cu12-12.1.105-py3-none-manylinux1_x86_64.whl (23.7 MB)\n",
            "Using cached nvidia_cuda_runtime_cu12-12.1.105-py3-none-manylinux1_x86_64.whl (823 kB)\n",
            "Using cached nvidia_cudnn_cu12-8.9.2.26-py3-none-manylinux1_x86_64.whl (731.7 MB)\n",
            "Using cached nvidia_cufft_cu12-11.0.2.54-py3-none-manylinux1_x86_64.whl (121.6 MB)\n",
            "Using cached nvidia_curand_cu12-10.3.2.106-py3-none-manylinux1_x86_64.whl (56.5 MB)\n",
            "Using cached nvidia_cusolver_cu12-11.4.5.107-py3-none-manylinux1_x86_64.whl (124.2 MB)\n",
            "Using cached nvidia_cusparse_cu12-12.1.0.106-py3-none-manylinux1_x86_64.whl (196.0 MB)\n",
            "Using cached nvidia_nccl_cu12-2.20.5-py3-none-manylinux2014_x86_64.whl (176.2 MB)\n",
            "Using cached nvidia_nvtx_cu12-12.1.105-py3-none-manylinux1_x86_64.whl (99 kB)\n",
            "Downloading ultralytics_thop-2.0.5-py3-none-any.whl (25 kB)\n",
            "Using cached nvidia_nvjitlink_cu12-12.6.20-py3-none-manylinux2014_x86_64.whl (19.7 MB)\n",
            "Installing collected packages: nvidia-nvtx-cu12, nvidia-nvjitlink-cu12, nvidia-nccl-cu12, nvidia-curand-cu12, nvidia-cufft-cu12, nvidia-cuda-runtime-cu12, nvidia-cuda-nvrtc-cu12, nvidia-cuda-cupti-cu12, nvidia-cublas-cu12, nvidia-cusparse-cu12, nvidia-cudnn-cu12, nvidia-cusolver-cu12, ultralytics-thop, ultralytics\n",
            "Successfully installed nvidia-cublas-cu12-12.1.3.1 nvidia-cuda-cupti-cu12-12.1.105 nvidia-cuda-nvrtc-cu12-12.1.105 nvidia-cuda-runtime-cu12-12.1.105 nvidia-cudnn-cu12-8.9.2.26 nvidia-cufft-cu12-11.0.2.54 nvidia-curand-cu12-10.3.2.106 nvidia-cusolver-cu12-11.4.5.107 nvidia-cusparse-cu12-12.1.0.106 nvidia-nccl-cu12-2.20.5 nvidia-nvjitlink-cu12-12.6.20 nvidia-nvtx-cu12-12.1.105 ultralytics-8.2.81 ultralytics-thop-2.0.5\n"
          ]
        }
      ],
      "source": [
        "!pip install ultralytics"
      ]
    },
    {
      "cell_type": "code",
      "source": [
        "from google.colab import drive\n",
        "drive.mount('/content/drive')"
      ],
      "metadata": {
        "colab": {
          "base_uri": "https://localhost:8080/"
        },
        "id": "O1OUiO4NcELH",
        "outputId": "991dd876-1c98-4b76-fdf9-346e9b846862"
      },
      "execution_count": 4,
      "outputs": [
        {
          "output_type": "stream",
          "name": "stdout",
          "text": [
            "Drive already mounted at /content/drive; to attempt to forcibly remount, call drive.mount(\"/content/drive\", force_remount=True).\n"
          ]
        }
      ]
    },
    {
      "cell_type": "code",
      "source": [
        "train_path_img = '/content/drive/MyDrive/Yolov8/train/images'\n",
        "train_path_label = '/content/drive/MyDrive/Yolov8/train/labels'\n",
        "val_path_img = '/content/drive/MyDrive/Yolov8/val/images'\n",
        "val_path_label = '/content/drive/MyDrive/Yolov8/val/labels'\n",
        "test_path_img = '/content/drive/MyDrive/Yolov8/test'"
      ],
      "metadata": {
        "id": "xdts8kizcmWI"
      },
      "execution_count": 10,
      "outputs": []
    },
    {
      "cell_type": "code",
      "source": [
        "from ultralytics import YOLO"
      ],
      "metadata": {
        "id": "8LS1LZ-jMjlz"
      },
      "execution_count": 5,
      "outputs": []
    },
    {
      "cell_type": "code",
      "source": [
        "model = YOLO('yolov10m.pt')"
      ],
      "metadata": {
        "id": "tejIA02Idg1b",
        "colab": {
          "base_uri": "https://localhost:8080/"
        },
        "outputId": "1eedf34a-19ae-431a-9a03-0f1d191890f4"
      },
      "execution_count": 28,
      "outputs": [
        {
          "output_type": "stream",
          "name": "stdout",
          "text": [
            "Downloading https://github.com/ultralytics/assets/releases/download/v8.2.0/yolov10m.pt to 'yolov10m.pt'...\n"
          ]
        },
        {
          "output_type": "stream",
          "name": "stderr",
          "text": [
            "100%|██████████| 32.1M/32.1M [00:00<00:00, 262MB/s]\n"
          ]
        }
      ]
    },
    {
      "cell_type": "code",
      "source": [
        "from ultralytics import YOLO\n",
        "\n",
        "model = YOLO(\"yolov10m.pt\")\n",
        "model.train(data=\"/content/drive/MyDrive/Yolov8-2/helm.yaml\", epochs=100, imgsz=640, lr0=0.01, batch=16)\n"
      ],
      "metadata": {
        "colab": {
          "base_uri": "https://localhost:8080/"
        },
        "id": "jM6khy9uYtZg",
        "outputId": "cf0745e6-88bc-41a3-ffc7-6bf36fe14cc7",
        "collapsed": true
      },
      "execution_count": 29,
      "outputs": [
        {
          "output_type": "stream",
          "name": "stdout",
          "text": [
            "Ultralytics YOLOv8.2.81 🚀 Python-3.10.12 torch-2.3.1+cu121 CUDA:0 (Tesla T4, 15102MiB)\n",
            "\u001b[34m\u001b[1mengine/trainer: \u001b[0mtask=detect, mode=train, model=yolov10m.pt, data=/content/drive/MyDrive/Yolov8-2/helm.yaml, epochs=100, time=None, patience=100, batch=16, imgsz=640, save=True, save_period=-1, cache=False, device=None, workers=8, project=None, name=train4, exist_ok=False, pretrained=True, optimizer=auto, verbose=True, seed=0, deterministic=True, single_cls=False, rect=False, cos_lr=False, close_mosaic=10, resume=False, amp=True, fraction=1.0, profile=False, freeze=None, multi_scale=False, overlap_mask=True, mask_ratio=4, dropout=0.0, val=True, split=val, save_json=False, save_hybrid=False, conf=None, iou=0.7, max_det=300, half=False, dnn=False, plots=True, source=None, vid_stride=1, stream_buffer=False, visualize=False, augment=False, agnostic_nms=False, classes=None, retina_masks=False, embed=None, show=False, save_frames=False, save_txt=False, save_conf=False, save_crop=False, show_labels=True, show_conf=True, show_boxes=True, line_width=None, format=torchscript, keras=False, optimize=False, int8=False, dynamic=False, simplify=False, opset=None, workspace=4, nms=False, lr0=0.01, lrf=0.01, momentum=0.937, weight_decay=0.0005, warmup_epochs=3.0, warmup_momentum=0.8, warmup_bias_lr=0.1, box=7.5, cls=0.5, dfl=1.5, pose=12.0, kobj=1.0, label_smoothing=0.0, nbs=64, hsv_h=0.015, hsv_s=0.7, hsv_v=0.4, degrees=0.0, translate=0.1, scale=0.5, shear=0.0, perspective=0.0, flipud=0.0, fliplr=0.5, bgr=0.0, mosaic=1.0, mixup=0.0, copy_paste=0.0, auto_augment=randaugment, erasing=0.4, crop_fraction=1.0, cfg=None, tracker=botsort.yaml, save_dir=runs/detect/train4\n",
            "Overriding model.yaml nc=80 with nc=1\n",
            "\n",
            "                   from  n    params  module                                       arguments                     \n",
            "  0                  -1  1      1392  ultralytics.nn.modules.conv.Conv             [3, 48, 3, 2]                 \n",
            "  1                  -1  1     41664  ultralytics.nn.modules.conv.Conv             [48, 96, 3, 2]                \n",
            "  2                  -1  2    111360  ultralytics.nn.modules.block.C2f             [96, 96, 2, True]             \n",
            "  3                  -1  1    166272  ultralytics.nn.modules.conv.Conv             [96, 192, 3, 2]               \n",
            "  4                  -1  4    813312  ultralytics.nn.modules.block.C2f             [192, 192, 4, True]           \n",
            "  5                  -1  1     78720  ultralytics.nn.modules.block.SCDown          [192, 384, 3, 2]              \n",
            "  6                  -1  4   3248640  ultralytics.nn.modules.block.C2f             [384, 384, 4, True]           \n",
            "  7                  -1  1    228672  ultralytics.nn.modules.block.SCDown          [384, 576, 3, 2]              \n",
            "  8                  -1  2   1689984  ultralytics.nn.modules.block.C2fCIB          [576, 576, 2, True]           \n",
            "  9                  -1  1    831168  ultralytics.nn.modules.block.SPPF            [576, 576, 5]                 \n",
            " 10                  -1  1   1253088  ultralytics.nn.modules.block.PSA             [576, 576]                    \n",
            " 11                  -1  1         0  torch.nn.modules.upsampling.Upsample         [None, 2, 'nearest']          \n",
            " 12             [-1, 6]  1         0  ultralytics.nn.modules.conv.Concat           [1]                           \n",
            " 13                  -1  2   1993728  ultralytics.nn.modules.block.C2f             [960, 384, 2]                 \n",
            " 14                  -1  1         0  torch.nn.modules.upsampling.Upsample         [None, 2, 'nearest']          \n",
            " 15             [-1, 4]  1         0  ultralytics.nn.modules.conv.Concat           [1]                           \n",
            " 16                  -1  2    517632  ultralytics.nn.modules.block.C2f             [576, 192, 2]                 \n",
            " 17                  -1  1    332160  ultralytics.nn.modules.conv.Conv             [192, 192, 3, 2]              \n",
            " 18            [-1, 13]  1         0  ultralytics.nn.modules.conv.Concat           [1]                           \n",
            " 19                  -1  2    831744  ultralytics.nn.modules.block.C2fCIB          [576, 384, 2, True]           \n",
            " 20                  -1  1    152448  ultralytics.nn.modules.block.SCDown          [384, 384, 3, 2]              \n",
            " 21            [-1, 10]  1         0  ultralytics.nn.modules.conv.Concat           [1]                           \n",
            " 22                  -1  2   1911168  ultralytics.nn.modules.block.C2fCIB          [960, 576, 2, True]           \n",
            " 23        [16, 19, 22]  1   2282134  ultralytics.nn.modules.head.v10Detect        [1, [192, 384, 576]]          \n",
            "YOLOv10m summary: 498 layers, 16,485,286 parameters, 16,485,270 gradients, 64.0 GFLOPs\n",
            "\n",
            "Transferred 787/799 items from pretrained weights\n",
            "\u001b[34m\u001b[1mTensorBoard: \u001b[0mStart with 'tensorboard --logdir runs/detect/train4', view at http://localhost:6006/\n",
            "Freezing layer 'model.23.dfl.conv.weight'\n",
            "\u001b[34m\u001b[1mAMP: \u001b[0mrunning Automatic Mixed Precision (AMP) checks with YOLOv8n...\n",
            "\u001b[34m\u001b[1mAMP: \u001b[0mchecks passed ✅\n"
          ]
        },
        {
          "output_type": "stream",
          "name": "stderr",
          "text": [
            "\u001b[34m\u001b[1mtrain: \u001b[0mScanning /content/drive/MyDrive/Yolov8-2/helm/train/labels.cache... 42 images, 1 backgrounds, 0 corrupt: 100%|██████████| 43/43 [00:00<?, ?it/s]"
          ]
        },
        {
          "output_type": "stream",
          "name": "stdout",
          "text": [
            "\u001b[34m\u001b[1malbumentations: \u001b[0mBlur(p=0.01, blur_limit=(3, 7)), MedianBlur(p=0.01, blur_limit=(3, 7)), ToGray(p=0.01), CLAHE(p=0.01, clip_limit=(1, 4.0), tile_grid_size=(8, 8))\n"
          ]
        },
        {
          "output_type": "stream",
          "name": "stderr",
          "text": [
            "\n",
            "/usr/lib/python3.10/multiprocessing/popen_fork.py:66: RuntimeWarning: os.fork() was called. os.fork() is incompatible with multithreaded code, and JAX is multithreaded, so this will likely lead to a deadlock.\n",
            "  self.pid = os.fork()\n",
            "\u001b[34m\u001b[1mval: \u001b[0mScanning /content/drive/MyDrive/Yolov8-2/helm/val/labels.cache... 42 images, 1 backgrounds, 0 corrupt: 100%|██████████| 43/43 [00:00<?, ?it/s]\n"
          ]
        },
        {
          "output_type": "stream",
          "name": "stdout",
          "text": [
            "Plotting labels to runs/detect/train4/labels.jpg... \n",
            "\u001b[34m\u001b[1moptimizer:\u001b[0m 'optimizer=auto' found, ignoring 'lr0=0.01' and 'momentum=0.937' and determining best 'optimizer', 'lr0' and 'momentum' automatically... \n",
            "\u001b[34m\u001b[1moptimizer:\u001b[0m AdamW(lr=0.002, momentum=0.9) with parameter groups 129 weight(decay=0.0), 142 weight(decay=0.0005), 141 bias(decay=0.0)\n",
            "\u001b[34m\u001b[1mTensorBoard: \u001b[0mmodel graph visualization added ✅\n",
            "Image sizes 640 train, 640 val\n",
            "Using 2 dataloader workers\n",
            "Logging results to \u001b[1mruns/detect/train4\u001b[0m\n",
            "Starting training for 100 epochs...\n",
            "\n",
            "      Epoch    GPU_mem   box_loss   cls_loss   dfl_loss  Instances       Size\n"
          ]
        },
        {
          "output_type": "stream",
          "name": "stderr",
          "text": [
            "      1/100      9.55G      3.441      13.51      3.361         54        640: 100%|██████████| 3/3 [00:04<00:00,  1.44s/it]\n",
            "                 Class     Images  Instances      Box(P          R      mAP50  mAP50-95): 100%|██████████| 2/2 [00:02<00:00,  1.16s/it]"
          ]
        },
        {
          "output_type": "stream",
          "name": "stdout",
          "text": [
            "                   all         43        111    0.00922    0.00901   0.000303   0.000182\n"
          ]
        },
        {
          "output_type": "stream",
          "name": "stderr",
          "text": [
            "\n"
          ]
        },
        {
          "output_type": "stream",
          "name": "stdout",
          "text": [
            "\n",
            "      Epoch    GPU_mem   box_loss   cls_loss   dfl_loss  Instances       Size\n"
          ]
        },
        {
          "output_type": "stream",
          "name": "stderr",
          "text": [
            "      2/100      9.21G      3.178      13.42      3.322         48        640: 100%|██████████| 3/3 [00:02<00:00,  1.48it/s]\n",
            "                 Class     Images  Instances      Box(P          R      mAP50  mAP50-95): 100%|██████████| 2/2 [00:00<00:00,  2.54it/s]"
          ]
        },
        {
          "output_type": "stream",
          "name": "stdout",
          "text": [
            "                   all         43        111     0.0198    0.00901   0.000396   0.000277\n"
          ]
        },
        {
          "output_type": "stream",
          "name": "stderr",
          "text": [
            "\n"
          ]
        },
        {
          "output_type": "stream",
          "name": "stdout",
          "text": [
            "\n",
            "      Epoch    GPU_mem   box_loss   cls_loss   dfl_loss  Instances       Size\n"
          ]
        },
        {
          "output_type": "stream",
          "name": "stderr",
          "text": [
            "      3/100      9.25G      3.304      13.81      3.392         57        640: 100%|██████████| 3/3 [00:01<00:00,  1.74it/s]\n",
            "                 Class     Images  Instances      Box(P          R      mAP50  mAP50-95): 100%|██████████| 2/2 [00:00<00:00,  3.26it/s]"
          ]
        },
        {
          "output_type": "stream",
          "name": "stdout",
          "text": [
            "                   all         43        111      0.253      0.288      0.223      0.106\n"
          ]
        },
        {
          "output_type": "stream",
          "name": "stderr",
          "text": [
            "\n"
          ]
        },
        {
          "output_type": "stream",
          "name": "stdout",
          "text": [
            "\n",
            "      Epoch    GPU_mem   box_loss   cls_loss   dfl_loss  Instances       Size\n"
          ]
        },
        {
          "output_type": "stream",
          "name": "stderr",
          "text": [
            "      4/100      9.37G      2.745      8.187      2.442         74        640: 100%|██████████| 3/3 [00:01<00:00,  1.86it/s]\n",
            "                 Class     Images  Instances      Box(P          R      mAP50  mAP50-95): 100%|██████████| 2/2 [00:00<00:00,  2.99it/s]"
          ]
        },
        {
          "output_type": "stream",
          "name": "stdout",
          "text": [
            "                   all         43        111       0.71      0.618      0.634      0.417\n"
          ]
        },
        {
          "output_type": "stream",
          "name": "stderr",
          "text": [
            "\n"
          ]
        },
        {
          "output_type": "stream",
          "name": "stdout",
          "text": [
            "\n",
            "      Epoch    GPU_mem   box_loss   cls_loss   dfl_loss  Instances       Size\n"
          ]
        },
        {
          "output_type": "stream",
          "name": "stderr",
          "text": [
            "      5/100      9.32G      2.443      5.208       2.25         45        640: 100%|██████████| 3/3 [00:01<00:00,  1.58it/s]\n",
            "                 Class     Images  Instances      Box(P          R      mAP50  mAP50-95): 100%|██████████| 2/2 [00:00<00:00,  3.18it/s]"
          ]
        },
        {
          "output_type": "stream",
          "name": "stdout",
          "text": [
            "                   all         43        111      0.195       0.18       0.12     0.0732\n"
          ]
        },
        {
          "output_type": "stream",
          "name": "stderr",
          "text": [
            "\n"
          ]
        },
        {
          "output_type": "stream",
          "name": "stdout",
          "text": [
            "\n",
            "      Epoch    GPU_mem   box_loss   cls_loss   dfl_loss  Instances       Size\n"
          ]
        },
        {
          "output_type": "stream",
          "name": "stderr",
          "text": [
            "      6/100      9.33G      2.379      4.074      2.154         56        640: 100%|██████████| 3/3 [00:01<00:00,  1.62it/s]\n",
            "                 Class     Images  Instances      Box(P          R      mAP50  mAP50-95): 100%|██████████| 2/2 [00:00<00:00,  2.29it/s]"
          ]
        },
        {
          "output_type": "stream",
          "name": "stdout",
          "text": [
            "                   all         43        111      0.195       0.18       0.12     0.0732\n"
          ]
        },
        {
          "output_type": "stream",
          "name": "stderr",
          "text": [
            "\n"
          ]
        },
        {
          "output_type": "stream",
          "name": "stdout",
          "text": [
            "\n",
            "      Epoch    GPU_mem   box_loss   cls_loss   dfl_loss  Instances       Size\n"
          ]
        },
        {
          "output_type": "stream",
          "name": "stderr",
          "text": [
            "      7/100      9.37G      2.412      3.486      2.135         82        640: 100%|██████████| 3/3 [00:01<00:00,  1.91it/s]\n",
            "                 Class     Images  Instances      Box(P          R      mAP50  mAP50-95): 100%|██████████| 2/2 [00:00<00:00,  3.29it/s]"
          ]
        },
        {
          "output_type": "stream",
          "name": "stdout",
          "text": [
            "                   all         43        111   0.000629     0.0721   0.000333    0.00021\n"
          ]
        },
        {
          "output_type": "stream",
          "name": "stderr",
          "text": [
            "\n"
          ]
        },
        {
          "output_type": "stream",
          "name": "stdout",
          "text": [
            "\n",
            "      Epoch    GPU_mem   box_loss   cls_loss   dfl_loss  Instances       Size\n"
          ]
        },
        {
          "output_type": "stream",
          "name": "stderr",
          "text": [
            "      8/100      9.34G      2.448      3.384      2.192         42        640: 100%|██████████| 3/3 [00:01<00:00,  1.97it/s]\n",
            "                 Class     Images  Instances      Box(P          R      mAP50  mAP50-95): 100%|██████████| 2/2 [00:00<00:00,  3.24it/s]"
          ]
        },
        {
          "output_type": "stream",
          "name": "stdout",
          "text": [
            "                   all         43        111    0.00277      0.189    0.00163   0.000957\n"
          ]
        },
        {
          "output_type": "stream",
          "name": "stderr",
          "text": [
            "\n"
          ]
        },
        {
          "output_type": "stream",
          "name": "stdout",
          "text": [
            "\n",
            "      Epoch    GPU_mem   box_loss   cls_loss   dfl_loss  Instances       Size\n"
          ]
        },
        {
          "output_type": "stream",
          "name": "stderr",
          "text": [
            "      9/100       9.4G      2.661      3.144      2.258         54        640: 100%|██████████| 3/3 [00:01<00:00,  1.69it/s]\n",
            "                 Class     Images  Instances      Box(P          R      mAP50  mAP50-95): 100%|██████████| 2/2 [00:00<00:00,  2.59it/s]"
          ]
        },
        {
          "output_type": "stream",
          "name": "stdout",
          "text": [
            "                   all         43        111    0.00703      0.108     0.0037    0.00219\n"
          ]
        },
        {
          "output_type": "stream",
          "name": "stderr",
          "text": [
            "\n"
          ]
        },
        {
          "output_type": "stream",
          "name": "stdout",
          "text": [
            "\n",
            "      Epoch    GPU_mem   box_loss   cls_loss   dfl_loss  Instances       Size\n"
          ]
        },
        {
          "output_type": "stream",
          "name": "stderr",
          "text": [
            "     10/100      9.37G      2.638       2.55      2.421         45        640: 100%|██████████| 3/3 [00:01<00:00,  1.60it/s]\n",
            "                 Class     Images  Instances      Box(P          R      mAP50  mAP50-95): 100%|██████████| 2/2 [00:00<00:00,  2.68it/s]"
          ]
        },
        {
          "output_type": "stream",
          "name": "stdout",
          "text": [
            "                   all         43        111    0.00167      0.162   0.000951   0.000235\n"
          ]
        },
        {
          "output_type": "stream",
          "name": "stderr",
          "text": [
            "\n"
          ]
        },
        {
          "output_type": "stream",
          "name": "stdout",
          "text": [
            "\n",
            "      Epoch    GPU_mem   box_loss   cls_loss   dfl_loss  Instances       Size\n"
          ]
        },
        {
          "output_type": "stream",
          "name": "stderr",
          "text": [
            "     11/100      9.38G      2.432      2.552      2.307         57        640: 100%|██████████| 3/3 [00:01<00:00,  1.89it/s]\n",
            "                 Class     Images  Instances      Box(P          R      mAP50  mAP50-95): 100%|██████████| 2/2 [00:00<00:00,  3.15it/s]"
          ]
        },
        {
          "output_type": "stream",
          "name": "stdout",
          "text": [
            "                   all         43        111    0.00177       0.18   0.000968   0.000314\n"
          ]
        },
        {
          "output_type": "stream",
          "name": "stderr",
          "text": [
            "\n"
          ]
        },
        {
          "output_type": "stream",
          "name": "stdout",
          "text": [
            "\n",
            "      Epoch    GPU_mem   box_loss   cls_loss   dfl_loss  Instances       Size\n"
          ]
        },
        {
          "output_type": "stream",
          "name": "stderr",
          "text": [
            "     12/100      9.34G       2.26       2.38      2.175         33        640: 100%|██████████| 3/3 [00:01<00:00,  1.96it/s]\n",
            "                 Class     Images  Instances      Box(P          R      mAP50  mAP50-95): 100%|██████████| 2/2 [00:00<00:00,  3.51it/s]"
          ]
        },
        {
          "output_type": "stream",
          "name": "stdout",
          "text": [
            "                   all         43        111   0.000615      0.018   0.000171   4.86e-05\n"
          ]
        },
        {
          "output_type": "stream",
          "name": "stderr",
          "text": [
            "\n"
          ]
        },
        {
          "output_type": "stream",
          "name": "stdout",
          "text": [
            "\n",
            "      Epoch    GPU_mem   box_loss   cls_loss   dfl_loss  Instances       Size\n"
          ]
        },
        {
          "output_type": "stream",
          "name": "stderr",
          "text": [
            "     13/100      9.37G      2.385      2.147      2.223         54        640: 100%|██████████| 3/3 [00:01<00:00,  1.90it/s]\n",
            "                 Class     Images  Instances      Box(P          R      mAP50  mAP50-95): 100%|██████████| 2/2 [00:00<00:00,  2.36it/s]"
          ]
        },
        {
          "output_type": "stream",
          "name": "stdout",
          "text": [
            "                   all         43        111    0.00031      0.036   0.000162   0.000101\n"
          ]
        },
        {
          "output_type": "stream",
          "name": "stderr",
          "text": [
            "\n"
          ]
        },
        {
          "output_type": "stream",
          "name": "stdout",
          "text": [
            "\n",
            "      Epoch    GPU_mem   box_loss   cls_loss   dfl_loss  Instances       Size\n"
          ]
        },
        {
          "output_type": "stream",
          "name": "stderr",
          "text": [
            "     14/100      9.35G      2.508      2.278      2.379         54        640: 100%|██████████| 3/3 [00:01<00:00,  1.66it/s]\n",
            "                 Class     Images  Instances      Box(P          R      mAP50  mAP50-95): 100%|██████████| 2/2 [00:00<00:00,  2.15it/s]"
          ]
        },
        {
          "output_type": "stream",
          "name": "stdout",
          "text": [
            "                   all         43        111    0.00514      0.045   0.000652   0.000356\n"
          ]
        },
        {
          "output_type": "stream",
          "name": "stderr",
          "text": [
            "\n"
          ]
        },
        {
          "output_type": "stream",
          "name": "stdout",
          "text": [
            "\n",
            "      Epoch    GPU_mem   box_loss   cls_loss   dfl_loss  Instances       Size\n"
          ]
        },
        {
          "output_type": "stream",
          "name": "stderr",
          "text": [
            "     15/100      9.38G      2.371          2      2.194         61        640: 100%|██████████| 3/3 [00:01<00:00,  1.85it/s]\n",
            "                 Class     Images  Instances      Box(P          R      mAP50  mAP50-95): 100%|██████████| 2/2 [00:00<00:00,  3.23it/s]"
          ]
        },
        {
          "output_type": "stream",
          "name": "stdout",
          "text": [
            "                   all         43        111    0.00179       0.18    0.00107   0.000564\n"
          ]
        },
        {
          "output_type": "stream",
          "name": "stderr",
          "text": [
            "\n"
          ]
        },
        {
          "output_type": "stream",
          "name": "stdout",
          "text": [
            "\n",
            "      Epoch    GPU_mem   box_loss   cls_loss   dfl_loss  Instances       Size\n"
          ]
        },
        {
          "output_type": "stream",
          "name": "stderr",
          "text": [
            "     16/100      9.34G      2.594       1.83      2.301         47        640: 100%|██████████| 3/3 [00:01<00:00,  1.94it/s]\n",
            "                 Class     Images  Instances      Box(P          R      mAP50  mAP50-95): 100%|██████████| 2/2 [00:00<00:00,  3.14it/s]"
          ]
        },
        {
          "output_type": "stream",
          "name": "stdout",
          "text": [
            "                   all         43        111    0.00571      0.315    0.00496    0.00268\n"
          ]
        },
        {
          "output_type": "stream",
          "name": "stderr",
          "text": [
            "\n"
          ]
        },
        {
          "output_type": "stream",
          "name": "stdout",
          "text": [
            "\n",
            "      Epoch    GPU_mem   box_loss   cls_loss   dfl_loss  Instances       Size\n"
          ]
        },
        {
          "output_type": "stream",
          "name": "stderr",
          "text": [
            "     17/100      9.37G      2.664      1.998      2.186         63        640: 100%|██████████| 3/3 [00:01<00:00,  1.89it/s]\n",
            "                 Class     Images  Instances      Box(P          R      mAP50  mAP50-95): 100%|██████████| 2/2 [00:00<00:00,  3.07it/s]"
          ]
        },
        {
          "output_type": "stream",
          "name": "stdout",
          "text": [
            "                   all         43        111    0.00277      0.297    0.00182    0.00111\n"
          ]
        },
        {
          "output_type": "stream",
          "name": "stderr",
          "text": [
            "\n"
          ]
        },
        {
          "output_type": "stream",
          "name": "stdout",
          "text": [
            "\n",
            "      Epoch    GPU_mem   box_loss   cls_loss   dfl_loss  Instances       Size\n"
          ]
        },
        {
          "output_type": "stream",
          "name": "stderr",
          "text": [
            "     18/100      9.35G      2.616      1.976      2.301         71        640: 100%|██████████| 3/3 [00:01<00:00,  1.57it/s]\n",
            "                 Class     Images  Instances      Box(P          R      mAP50  mAP50-95): 100%|██████████| 2/2 [00:00<00:00,  2.14it/s]"
          ]
        },
        {
          "output_type": "stream",
          "name": "stdout",
          "text": [
            "                   all         43        111    0.00321      0.189    0.00193    0.00113\n"
          ]
        },
        {
          "output_type": "stream",
          "name": "stderr",
          "text": [
            "\n"
          ]
        },
        {
          "output_type": "stream",
          "name": "stdout",
          "text": [
            "\n",
            "      Epoch    GPU_mem   box_loss   cls_loss   dfl_loss  Instances       Size\n"
          ]
        },
        {
          "output_type": "stream",
          "name": "stderr",
          "text": [
            "     19/100      9.35G      2.464      1.702       2.13         66        640: 100%|██████████| 3/3 [00:01<00:00,  1.68it/s]\n",
            "                 Class     Images  Instances      Box(P          R      mAP50  mAP50-95): 100%|██████████| 2/2 [00:00<00:00,  2.76it/s]"
          ]
        },
        {
          "output_type": "stream",
          "name": "stdout",
          "text": [
            "                   all         43        111      0.124       0.21      0.048     0.0284\n"
          ]
        },
        {
          "output_type": "stream",
          "name": "stderr",
          "text": [
            "\n"
          ]
        },
        {
          "output_type": "stream",
          "name": "stdout",
          "text": [
            "\n",
            "      Epoch    GPU_mem   box_loss   cls_loss   dfl_loss  Instances       Size\n"
          ]
        },
        {
          "output_type": "stream",
          "name": "stderr",
          "text": [
            "     20/100      9.37G      2.307      2.028      2.233         55        640: 100%|██████████| 3/3 [00:01<00:00,  1.94it/s]\n",
            "                 Class     Images  Instances      Box(P          R      mAP50  mAP50-95): 100%|██████████| 2/2 [00:00<00:00,  3.04it/s]"
          ]
        },
        {
          "output_type": "stream",
          "name": "stdout",
          "text": [
            "                   all         43        111      0.119      0.225       0.04     0.0236\n"
          ]
        },
        {
          "output_type": "stream",
          "name": "stderr",
          "text": [
            "\n"
          ]
        },
        {
          "output_type": "stream",
          "name": "stdout",
          "text": [
            "\n",
            "      Epoch    GPU_mem   box_loss   cls_loss   dfl_loss  Instances       Size\n"
          ]
        },
        {
          "output_type": "stream",
          "name": "stderr",
          "text": [
            "     21/100      9.35G      2.397      1.561      2.214         46        640: 100%|██████████| 3/3 [00:01<00:00,  1.93it/s]\n",
            "                 Class     Images  Instances      Box(P          R      mAP50  mAP50-95): 100%|██████████| 2/2 [00:00<00:00,  3.14it/s]"
          ]
        },
        {
          "output_type": "stream",
          "name": "stdout",
          "text": [
            "                   all         43        111      0.416      0.205      0.165     0.0794\n"
          ]
        },
        {
          "output_type": "stream",
          "name": "stderr",
          "text": [
            "\n"
          ]
        },
        {
          "output_type": "stream",
          "name": "stdout",
          "text": [
            "\n",
            "      Epoch    GPU_mem   box_loss   cls_loss   dfl_loss  Instances       Size\n"
          ]
        },
        {
          "output_type": "stream",
          "name": "stderr",
          "text": [
            "     22/100      9.35G      2.347      1.689      2.125         46        640: 100%|██████████| 3/3 [00:01<00:00,  1.73it/s]\n",
            "                 Class     Images  Instances      Box(P          R      mAP50  mAP50-95): 100%|██████████| 2/2 [00:00<00:00,  2.40it/s]"
          ]
        },
        {
          "output_type": "stream",
          "name": "stdout",
          "text": [
            "                   all         43        111      0.368      0.261      0.254       0.13\n"
          ]
        },
        {
          "output_type": "stream",
          "name": "stderr",
          "text": [
            "\n"
          ]
        },
        {
          "output_type": "stream",
          "name": "stdout",
          "text": [
            "\n",
            "      Epoch    GPU_mem   box_loss   cls_loss   dfl_loss  Instances       Size\n"
          ]
        },
        {
          "output_type": "stream",
          "name": "stderr",
          "text": [
            "     23/100      9.37G      2.343       1.68      2.191         59        640: 100%|██████████| 3/3 [00:01<00:00,  1.61it/s]\n",
            "                 Class     Images  Instances      Box(P          R      mAP50  mAP50-95): 100%|██████████| 2/2 [00:00<00:00,  2.19it/s]"
          ]
        },
        {
          "output_type": "stream",
          "name": "stdout",
          "text": [
            "                   all         43        111      0.405      0.243      0.227      0.114\n"
          ]
        },
        {
          "output_type": "stream",
          "name": "stderr",
          "text": [
            "\n"
          ]
        },
        {
          "output_type": "stream",
          "name": "stdout",
          "text": [
            "\n",
            "      Epoch    GPU_mem   box_loss   cls_loss   dfl_loss  Instances       Size\n"
          ]
        },
        {
          "output_type": "stream",
          "name": "stderr",
          "text": [
            "     24/100      9.37G      2.522      1.772      2.131         35        640: 100%|██████████| 3/3 [00:01<00:00,  1.94it/s]\n",
            "                 Class     Images  Instances      Box(P          R      mAP50  mAP50-95): 100%|██████████| 2/2 [00:00<00:00,  2.90it/s]"
          ]
        },
        {
          "output_type": "stream",
          "name": "stdout",
          "text": [
            "                   all         43        111      0.616      0.523      0.528      0.303\n"
          ]
        },
        {
          "output_type": "stream",
          "name": "stderr",
          "text": [
            "\n"
          ]
        },
        {
          "output_type": "stream",
          "name": "stdout",
          "text": [
            "\n",
            "      Epoch    GPU_mem   box_loss   cls_loss   dfl_loss  Instances       Size\n"
          ]
        },
        {
          "output_type": "stream",
          "name": "stderr",
          "text": [
            "     25/100      9.34G      2.383      1.772      2.312         42        640: 100%|██████████| 3/3 [00:01<00:00,  1.93it/s]\n",
            "                 Class     Images  Instances      Box(P          R      mAP50  mAP50-95): 100%|██████████| 2/2 [00:00<00:00,  3.47it/s]"
          ]
        },
        {
          "output_type": "stream",
          "name": "stdout",
          "text": [
            "                   all         43        111      0.588      0.189      0.163     0.0966\n"
          ]
        },
        {
          "output_type": "stream",
          "name": "stderr",
          "text": [
            "\n"
          ]
        },
        {
          "output_type": "stream",
          "name": "stdout",
          "text": [
            "\n",
            "      Epoch    GPU_mem   box_loss   cls_loss   dfl_loss  Instances       Size\n"
          ]
        },
        {
          "output_type": "stream",
          "name": "stderr",
          "text": [
            "     26/100      9.35G      2.493      1.838      2.207         42        640: 100%|██████████| 3/3 [00:01<00:00,  1.74it/s]\n",
            "                 Class     Images  Instances      Box(P          R      mAP50  mAP50-95): 100%|██████████| 2/2 [00:00<00:00,  2.55it/s]"
          ]
        },
        {
          "output_type": "stream",
          "name": "stdout",
          "text": [
            "                   all         43        111     0.0108      0.036    0.00314   0.000994\n"
          ]
        },
        {
          "output_type": "stream",
          "name": "stderr",
          "text": [
            "\n"
          ]
        },
        {
          "output_type": "stream",
          "name": "stdout",
          "text": [
            "\n",
            "      Epoch    GPU_mem   box_loss   cls_loss   dfl_loss  Instances       Size\n"
          ]
        },
        {
          "output_type": "stream",
          "name": "stderr",
          "text": [
            "     27/100      9.35G       2.78      1.887      2.431         61        640: 100%|██████████| 3/3 [00:02<00:00,  1.44it/s]\n",
            "                 Class     Images  Instances      Box(P          R      mAP50  mAP50-95): 100%|██████████| 2/2 [00:01<00:00,  1.82it/s]"
          ]
        },
        {
          "output_type": "stream",
          "name": "stdout",
          "text": [
            "                   all         43        111    0.00625     0.0721    0.00241      0.001\n"
          ]
        },
        {
          "output_type": "stream",
          "name": "stderr",
          "text": [
            "\n"
          ]
        },
        {
          "output_type": "stream",
          "name": "stdout",
          "text": [
            "\n",
            "      Epoch    GPU_mem   box_loss   cls_loss   dfl_loss  Instances       Size\n"
          ]
        },
        {
          "output_type": "stream",
          "name": "stderr",
          "text": [
            "     28/100      9.35G      2.588      1.982      2.294         44        640: 100%|██████████| 3/3 [00:01<00:00,  1.92it/s]\n",
            "                 Class     Images  Instances      Box(P          R      mAP50  mAP50-95): 100%|██████████| 2/2 [00:00<00:00,  3.33it/s]"
          ]
        },
        {
          "output_type": "stream",
          "name": "stdout",
          "text": [
            "                   all         43        111     0.0152      0.162    0.00589    0.00263\n"
          ]
        },
        {
          "output_type": "stream",
          "name": "stderr",
          "text": [
            "\n"
          ]
        },
        {
          "output_type": "stream",
          "name": "stdout",
          "text": [
            "\n",
            "      Epoch    GPU_mem   box_loss   cls_loss   dfl_loss  Instances       Size\n"
          ]
        },
        {
          "output_type": "stream",
          "name": "stderr",
          "text": [
            "     29/100      9.37G      2.748      2.219      2.264         36        640: 100%|██████████| 3/3 [00:01<00:00,  2.00it/s]\n",
            "                 Class     Images  Instances      Box(P          R      mAP50  mAP50-95): 100%|██████████| 2/2 [00:00<00:00,  3.01it/s]"
          ]
        },
        {
          "output_type": "stream",
          "name": "stdout",
          "text": [
            "                   all         43        111     0.0152      0.162    0.00589    0.00263\n"
          ]
        },
        {
          "output_type": "stream",
          "name": "stderr",
          "text": [
            "\n"
          ]
        },
        {
          "output_type": "stream",
          "name": "stdout",
          "text": [
            "\n",
            "      Epoch    GPU_mem   box_loss   cls_loss   dfl_loss  Instances       Size\n"
          ]
        },
        {
          "output_type": "stream",
          "name": "stderr",
          "text": [
            "     30/100      9.39G      2.664      1.884      2.382         53        640: 100%|██████████| 3/3 [00:01<00:00,  1.90it/s]\n",
            "                 Class     Images  Instances      Box(P          R      mAP50  mAP50-95): 100%|██████████| 2/2 [00:00<00:00,  2.56it/s]"
          ]
        },
        {
          "output_type": "stream",
          "name": "stdout",
          "text": [
            "                   all         43        111      0.013     0.0631    0.00192    0.00086\n"
          ]
        },
        {
          "output_type": "stream",
          "name": "stderr",
          "text": [
            "\n"
          ]
        },
        {
          "output_type": "stream",
          "name": "stdout",
          "text": [
            "\n",
            "      Epoch    GPU_mem   box_loss   cls_loss   dfl_loss  Instances       Size\n"
          ]
        },
        {
          "output_type": "stream",
          "name": "stderr",
          "text": [
            "     31/100       9.4G      2.558      1.684      2.247         56        640: 100%|██████████| 3/3 [00:01<00:00,  1.68it/s]\n",
            "                 Class     Images  Instances      Box(P          R      mAP50  mAP50-95): 100%|██████████| 2/2 [00:00<00:00,  2.52it/s]"
          ]
        },
        {
          "output_type": "stream",
          "name": "stdout",
          "text": [
            "                   all         43        111     0.0242      0.045    0.00507    0.00191\n"
          ]
        },
        {
          "output_type": "stream",
          "name": "stderr",
          "text": [
            "\n"
          ]
        },
        {
          "output_type": "stream",
          "name": "stdout",
          "text": [
            "\n",
            "      Epoch    GPU_mem   box_loss   cls_loss   dfl_loss  Instances       Size\n"
          ]
        },
        {
          "output_type": "stream",
          "name": "stderr",
          "text": [
            "     32/100       9.4G      2.366      1.731      2.171         49        640: 100%|██████████| 3/3 [00:01<00:00,  1.77it/s]\n",
            "                 Class     Images  Instances      Box(P          R      mAP50  mAP50-95): 100%|██████████| 2/2 [00:00<00:00,  3.17it/s]"
          ]
        },
        {
          "output_type": "stream",
          "name": "stdout",
          "text": [
            "                   all         43        111     0.0476      0.117     0.0111     0.0049\n"
          ]
        },
        {
          "output_type": "stream",
          "name": "stderr",
          "text": [
            "\n"
          ]
        },
        {
          "output_type": "stream",
          "name": "stdout",
          "text": [
            "\n",
            "      Epoch    GPU_mem   box_loss   cls_loss   dfl_loss  Instances       Size\n"
          ]
        },
        {
          "output_type": "stream",
          "name": "stderr",
          "text": [
            "     33/100      9.34G       2.47      1.764      2.223         40        640: 100%|██████████| 3/3 [00:01<00:00,  1.95it/s]\n",
            "                 Class     Images  Instances      Box(P          R      mAP50  mAP50-95): 100%|██████████| 2/2 [00:00<00:00,  3.24it/s]"
          ]
        },
        {
          "output_type": "stream",
          "name": "stdout",
          "text": [
            "                   all         43        111     0.0476      0.117     0.0111     0.0049\n"
          ]
        },
        {
          "output_type": "stream",
          "name": "stderr",
          "text": [
            "\n"
          ]
        },
        {
          "output_type": "stream",
          "name": "stdout",
          "text": [
            "\n",
            "      Epoch    GPU_mem   box_loss   cls_loss   dfl_loss  Instances       Size\n"
          ]
        },
        {
          "output_type": "stream",
          "name": "stderr",
          "text": [
            "     34/100       9.4G      2.405      1.662      2.046         55        640: 100%|██████████| 3/3 [00:01<00:00,  1.94it/s]\n",
            "                 Class     Images  Instances      Box(P          R      mAP50  mAP50-95): 100%|██████████| 2/2 [00:00<00:00,  2.95it/s]"
          ]
        },
        {
          "output_type": "stream",
          "name": "stdout",
          "text": [
            "                   all         43        111      0.178      0.189      0.121     0.0693\n"
          ]
        },
        {
          "output_type": "stream",
          "name": "stderr",
          "text": [
            "\n"
          ]
        },
        {
          "output_type": "stream",
          "name": "stdout",
          "text": [
            "\n",
            "      Epoch    GPU_mem   box_loss   cls_loss   dfl_loss  Instances       Size\n"
          ]
        },
        {
          "output_type": "stream",
          "name": "stderr",
          "text": [
            "     35/100       9.4G      2.293      1.644      2.161         43        640: 100%|██████████| 3/3 [00:01<00:00,  1.65it/s]\n",
            "                 Class     Images  Instances      Box(P          R      mAP50  mAP50-95): 100%|██████████| 2/2 [00:00<00:00,  2.17it/s]"
          ]
        },
        {
          "output_type": "stream",
          "name": "stdout",
          "text": [
            "                   all         43        111      0.237       0.26      0.172     0.0887\n"
          ]
        },
        {
          "output_type": "stream",
          "name": "stderr",
          "text": [
            "\n"
          ]
        },
        {
          "output_type": "stream",
          "name": "stdout",
          "text": [
            "\n",
            "      Epoch    GPU_mem   box_loss   cls_loss   dfl_loss  Instances       Size\n"
          ]
        },
        {
          "output_type": "stream",
          "name": "stderr",
          "text": [
            "     36/100      9.38G      2.225      1.568      2.109         62        640: 100%|██████████| 3/3 [00:01<00:00,  1.58it/s]\n",
            "                 Class     Images  Instances      Box(P          R      mAP50  mAP50-95): 100%|██████████| 2/2 [00:00<00:00,  2.34it/s]"
          ]
        },
        {
          "output_type": "stream",
          "name": "stdout",
          "text": [
            "                   all         43        111      0.354      0.324      0.285      0.169\n"
          ]
        },
        {
          "output_type": "stream",
          "name": "stderr",
          "text": [
            "\n"
          ]
        },
        {
          "output_type": "stream",
          "name": "stdout",
          "text": [
            "\n",
            "      Epoch    GPU_mem   box_loss   cls_loss   dfl_loss  Instances       Size\n"
          ]
        },
        {
          "output_type": "stream",
          "name": "stderr",
          "text": [
            "     37/100      9.34G      2.114      1.446      2.067         47        640: 100%|██████████| 3/3 [00:01<00:00,  1.99it/s]\n",
            "                 Class     Images  Instances      Box(P          R      mAP50  mAP50-95): 100%|██████████| 2/2 [00:00<00:00,  3.35it/s]"
          ]
        },
        {
          "output_type": "stream",
          "name": "stdout",
          "text": [
            "                   all         43        111      0.354      0.324      0.285      0.169\n"
          ]
        },
        {
          "output_type": "stream",
          "name": "stderr",
          "text": [
            "\n"
          ]
        },
        {
          "output_type": "stream",
          "name": "stdout",
          "text": [
            "\n",
            "      Epoch    GPU_mem   box_loss   cls_loss   dfl_loss  Instances       Size\n"
          ]
        },
        {
          "output_type": "stream",
          "name": "stderr",
          "text": [
            "     38/100       9.4G      2.444      1.563      2.149         58        640: 100%|██████████| 3/3 [00:01<00:00,  1.94it/s]\n",
            "                 Class     Images  Instances      Box(P          R      mAP50  mAP50-95): 100%|██████████| 2/2 [00:00<00:00,  3.22it/s]"
          ]
        },
        {
          "output_type": "stream",
          "name": "stdout",
          "text": [
            "                   all         43        111      0.517      0.477      0.465      0.305\n"
          ]
        },
        {
          "output_type": "stream",
          "name": "stderr",
          "text": [
            "\n"
          ]
        },
        {
          "output_type": "stream",
          "name": "stdout",
          "text": [
            "\n",
            "      Epoch    GPU_mem   box_loss   cls_loss   dfl_loss  Instances       Size\n"
          ]
        },
        {
          "output_type": "stream",
          "name": "stderr",
          "text": [
            "     39/100      9.38G      2.188      1.278      2.059         43        640: 100%|██████████| 3/3 [00:01<00:00,  1.76it/s]\n",
            "                 Class     Images  Instances      Box(P          R      mAP50  mAP50-95): 100%|██████████| 2/2 [00:00<00:00,  2.62it/s]"
          ]
        },
        {
          "output_type": "stream",
          "name": "stdout",
          "text": [
            "                   all         43        111      0.723      0.541      0.626      0.403\n"
          ]
        },
        {
          "output_type": "stream",
          "name": "stderr",
          "text": [
            "\n"
          ]
        },
        {
          "output_type": "stream",
          "name": "stdout",
          "text": [
            "\n",
            "      Epoch    GPU_mem   box_loss   cls_loss   dfl_loss  Instances       Size\n"
          ]
        },
        {
          "output_type": "stream",
          "name": "stderr",
          "text": [
            "     40/100      9.37G      2.201      1.445      2.165         49        640: 100%|██████████| 3/3 [00:01<00:00,  1.57it/s]\n",
            "                 Class     Images  Instances      Box(P          R      mAP50  mAP50-95): 100%|██████████| 2/2 [00:00<00:00,  2.43it/s]"
          ]
        },
        {
          "output_type": "stream",
          "name": "stdout",
          "text": [
            "                   all         43        111      0.555      0.468      0.517      0.341\n"
          ]
        },
        {
          "output_type": "stream",
          "name": "stderr",
          "text": [
            "\n"
          ]
        },
        {
          "output_type": "stream",
          "name": "stdout",
          "text": [
            "\n",
            "      Epoch    GPU_mem   box_loss   cls_loss   dfl_loss  Instances       Size\n"
          ]
        },
        {
          "output_type": "stream",
          "name": "stderr",
          "text": [
            "     41/100      9.34G      2.199      1.325      2.135         45        640: 100%|██████████| 3/3 [00:01<00:00,  1.99it/s]\n",
            "                 Class     Images  Instances      Box(P          R      mAP50  mAP50-95): 100%|██████████| 2/2 [00:00<00:00,  2.90it/s]"
          ]
        },
        {
          "output_type": "stream",
          "name": "stdout",
          "text": [
            "                   all         43        111      0.555      0.468      0.517      0.341\n"
          ]
        },
        {
          "output_type": "stream",
          "name": "stderr",
          "text": [
            "\n"
          ]
        },
        {
          "output_type": "stream",
          "name": "stdout",
          "text": [
            "\n",
            "      Epoch    GPU_mem   box_loss   cls_loss   dfl_loss  Instances       Size\n"
          ]
        },
        {
          "output_type": "stream",
          "name": "stderr",
          "text": [
            "     42/100      9.39G      2.342      1.481      2.248         38        640: 100%|██████████| 3/3 [00:01<00:00,  1.92it/s]\n",
            "                 Class     Images  Instances      Box(P          R      mAP50  mAP50-95): 100%|██████████| 2/2 [00:00<00:00,  3.35it/s]\n"
          ]
        },
        {
          "output_type": "stream",
          "name": "stdout",
          "text": [
            "                   all         43        111      0.714      0.604      0.655       0.42\n",
            "\n",
            "      Epoch    GPU_mem   box_loss   cls_loss   dfl_loss  Instances       Size\n"
          ]
        },
        {
          "output_type": "stream",
          "name": "stderr",
          "text": [
            "     43/100      9.39G      2.372      1.365      2.176         51        640: 100%|██████████| 3/3 [00:01<00:00,  1.72it/s]\n",
            "                 Class     Images  Instances      Box(P          R      mAP50  mAP50-95): 100%|██████████| 2/2 [00:00<00:00,  2.63it/s]"
          ]
        },
        {
          "output_type": "stream",
          "name": "stdout",
          "text": [
            "                   all         43        111      0.856      0.643      0.781      0.505\n"
          ]
        },
        {
          "output_type": "stream",
          "name": "stderr",
          "text": [
            "\n"
          ]
        },
        {
          "output_type": "stream",
          "name": "stdout",
          "text": [
            "\n",
            "      Epoch    GPU_mem   box_loss   cls_loss   dfl_loss  Instances       Size\n"
          ]
        },
        {
          "output_type": "stream",
          "name": "stderr",
          "text": [
            "     44/100      9.39G      2.284      1.366      2.001         49        640: 100%|██████████| 3/3 [00:01<00:00,  1.95it/s]\n",
            "                 Class     Images  Instances      Box(P          R      mAP50  mAP50-95): 100%|██████████| 2/2 [00:00<00:00,  2.96it/s]"
          ]
        },
        {
          "output_type": "stream",
          "name": "stdout",
          "text": [
            "                   all         43        111      0.828      0.631      0.762      0.458\n"
          ]
        },
        {
          "output_type": "stream",
          "name": "stderr",
          "text": [
            "\n"
          ]
        },
        {
          "output_type": "stream",
          "name": "stdout",
          "text": [
            "\n",
            "      Epoch    GPU_mem   box_loss   cls_loss   dfl_loss  Instances       Size\n"
          ]
        },
        {
          "output_type": "stream",
          "name": "stderr",
          "text": [
            "     45/100      9.35G      2.759      1.436      2.235         64        640: 100%|██████████| 3/3 [00:01<00:00,  1.86it/s]\n",
            "                 Class     Images  Instances      Box(P          R      mAP50  mAP50-95): 100%|██████████| 2/2 [00:00<00:00,  2.44it/s]"
          ]
        },
        {
          "output_type": "stream",
          "name": "stdout",
          "text": [
            "                   all         43        111      0.828      0.631      0.762      0.458\n"
          ]
        },
        {
          "output_type": "stream",
          "name": "stderr",
          "text": [
            "\n"
          ]
        },
        {
          "output_type": "stream",
          "name": "stdout",
          "text": [
            "\n",
            "      Epoch    GPU_mem   box_loss   cls_loss   dfl_loss  Instances       Size\n"
          ]
        },
        {
          "output_type": "stream",
          "name": "stderr",
          "text": [
            "     46/100       9.4G      2.392      1.395      2.117         51        640: 100%|██████████| 3/3 [00:01<00:00,  1.67it/s]\n",
            "                 Class     Images  Instances      Box(P          R      mAP50  mAP50-95): 100%|██████████| 2/2 [00:00<00:00,  2.09it/s]"
          ]
        },
        {
          "output_type": "stream",
          "name": "stdout",
          "text": [
            "                   all         43        111      0.706       0.73      0.782      0.481\n"
          ]
        },
        {
          "output_type": "stream",
          "name": "stderr",
          "text": [
            "\n"
          ]
        },
        {
          "output_type": "stream",
          "name": "stdout",
          "text": [
            "\n",
            "      Epoch    GPU_mem   box_loss   cls_loss   dfl_loss  Instances       Size\n"
          ]
        },
        {
          "output_type": "stream",
          "name": "stderr",
          "text": [
            "     47/100      9.38G      2.244      1.386        2.1         32        640: 100%|██████████| 3/3 [00:01<00:00,  1.92it/s]\n",
            "                 Class     Images  Instances      Box(P          R      mAP50  mAP50-95): 100%|██████████| 2/2 [00:00<00:00,  2.99it/s]"
          ]
        },
        {
          "output_type": "stream",
          "name": "stdout",
          "text": [
            "                   all         43        111      0.833      0.856      0.916      0.605\n"
          ]
        },
        {
          "output_type": "stream",
          "name": "stderr",
          "text": [
            "\n"
          ]
        },
        {
          "output_type": "stream",
          "name": "stdout",
          "text": [
            "\n",
            "      Epoch    GPU_mem   box_loss   cls_loss   dfl_loss  Instances       Size\n"
          ]
        },
        {
          "output_type": "stream",
          "name": "stderr",
          "text": [
            "     48/100      9.39G      2.147        1.2      2.018         58        640: 100%|██████████| 3/3 [00:01<00:00,  1.68it/s]\n",
            "                 Class     Images  Instances      Box(P          R      mAP50  mAP50-95): 100%|██████████| 2/2 [00:00<00:00,  2.42it/s]"
          ]
        },
        {
          "output_type": "stream",
          "name": "stdout",
          "text": [
            "                   all         43        111      0.847      0.896      0.946      0.673\n"
          ]
        },
        {
          "output_type": "stream",
          "name": "stderr",
          "text": [
            "\n"
          ]
        },
        {
          "output_type": "stream",
          "name": "stdout",
          "text": [
            "\n",
            "      Epoch    GPU_mem   box_loss   cls_loss   dfl_loss  Instances       Size\n"
          ]
        },
        {
          "output_type": "stream",
          "name": "stderr",
          "text": [
            "     49/100      9.34G      2.116      1.235       2.09         67        640: 100%|██████████| 3/3 [00:01<00:00,  1.96it/s]\n",
            "                 Class     Images  Instances      Box(P          R      mAP50  mAP50-95): 100%|██████████| 2/2 [00:00<00:00,  3.02it/s]"
          ]
        },
        {
          "output_type": "stream",
          "name": "stdout",
          "text": [
            "                   all         43        111      0.847      0.896      0.946      0.673\n"
          ]
        },
        {
          "output_type": "stream",
          "name": "stderr",
          "text": [
            "\n"
          ]
        },
        {
          "output_type": "stream",
          "name": "stdout",
          "text": [
            "\n",
            "      Epoch    GPU_mem   box_loss   cls_loss   dfl_loss  Instances       Size\n"
          ]
        },
        {
          "output_type": "stream",
          "name": "stderr",
          "text": [
            "     50/100       9.4G      2.153      1.152      2.051         64        640: 100%|██████████| 3/3 [00:01<00:00,  1.62it/s]\n",
            "                 Class     Images  Instances      Box(P          R      mAP50  mAP50-95): 100%|██████████| 2/2 [00:00<00:00,  2.21it/s]"
          ]
        },
        {
          "output_type": "stream",
          "name": "stdout",
          "text": [
            "                   all         43        111      0.825      0.935      0.931      0.676\n"
          ]
        },
        {
          "output_type": "stream",
          "name": "stderr",
          "text": [
            "\n"
          ]
        },
        {
          "output_type": "stream",
          "name": "stdout",
          "text": [
            "\n",
            "      Epoch    GPU_mem   box_loss   cls_loss   dfl_loss  Instances       Size\n"
          ]
        },
        {
          "output_type": "stream",
          "name": "stderr",
          "text": [
            "     51/100      9.37G      1.991       1.24      2.087         49        640: 100%|██████████| 3/3 [00:01<00:00,  1.93it/s]\n",
            "                 Class     Images  Instances      Box(P          R      mAP50  mAP50-95): 100%|██████████| 2/2 [00:00<00:00,  2.92it/s]"
          ]
        },
        {
          "output_type": "stream",
          "name": "stdout",
          "text": [
            "                   all         43        111      0.908      0.888      0.949      0.688\n"
          ]
        },
        {
          "output_type": "stream",
          "name": "stderr",
          "text": [
            "\n"
          ]
        },
        {
          "output_type": "stream",
          "name": "stdout",
          "text": [
            "\n",
            "      Epoch    GPU_mem   box_loss   cls_loss   dfl_loss  Instances       Size\n"
          ]
        },
        {
          "output_type": "stream",
          "name": "stderr",
          "text": [
            "     52/100      9.39G      2.042      1.169      1.998         58        640: 100%|██████████| 3/3 [00:01<00:00,  1.92it/s]\n",
            "                 Class     Images  Instances      Box(P          R      mAP50  mAP50-95): 100%|██████████| 2/2 [00:00<00:00,  3.07it/s]"
          ]
        },
        {
          "output_type": "stream",
          "name": "stdout",
          "text": [
            "                   all         43        111      0.943      0.901      0.973      0.691\n"
          ]
        },
        {
          "output_type": "stream",
          "name": "stderr",
          "text": [
            "\n"
          ]
        },
        {
          "output_type": "stream",
          "name": "stdout",
          "text": [
            "\n",
            "      Epoch    GPU_mem   box_loss   cls_loss   dfl_loss  Instances       Size\n"
          ]
        },
        {
          "output_type": "stream",
          "name": "stderr",
          "text": [
            "     53/100      9.34G      2.104      1.192      2.028         54        640: 100%|██████████| 3/3 [00:01<00:00,  1.73it/s]\n",
            "                 Class     Images  Instances      Box(P          R      mAP50  mAP50-95): 100%|██████████| 2/2 [00:00<00:00,  2.45it/s]"
          ]
        },
        {
          "output_type": "stream",
          "name": "stdout",
          "text": [
            "                   all         43        111      0.943      0.901      0.973      0.691\n"
          ]
        },
        {
          "output_type": "stream",
          "name": "stderr",
          "text": [
            "\n"
          ]
        },
        {
          "output_type": "stream",
          "name": "stdout",
          "text": [
            "\n",
            "      Epoch    GPU_mem   box_loss   cls_loss   dfl_loss  Instances       Size\n"
          ]
        },
        {
          "output_type": "stream",
          "name": "stderr",
          "text": [
            "     54/100       9.4G      2.009      1.086      1.898         74        640: 100%|██████████| 3/3 [00:01<00:00,  1.94it/s]\n",
            "                 Class     Images  Instances      Box(P          R      mAP50  mAP50-95): 100%|██████████| 2/2 [00:00<00:00,  3.14it/s]"
          ]
        },
        {
          "output_type": "stream",
          "name": "stdout",
          "text": [
            "                   all         43        111      0.911      0.892      0.941      0.683\n"
          ]
        },
        {
          "output_type": "stream",
          "name": "stderr",
          "text": [
            "\n"
          ]
        },
        {
          "output_type": "stream",
          "name": "stdout",
          "text": [
            "\n",
            "      Epoch    GPU_mem   box_loss   cls_loss   dfl_loss  Instances       Size\n"
          ]
        },
        {
          "output_type": "stream",
          "name": "stderr",
          "text": [
            "     55/100      9.38G      1.854      1.051      1.944         48        640: 100%|██████████| 3/3 [00:01<00:00,  1.93it/s]\n",
            "                 Class     Images  Instances      Box(P          R      mAP50  mAP50-95): 100%|██████████| 2/2 [00:00<00:00,  2.56it/s]"
          ]
        },
        {
          "output_type": "stream",
          "name": "stdout",
          "text": [
            "                   all         43        111      0.922      0.964      0.984      0.738\n"
          ]
        },
        {
          "output_type": "stream",
          "name": "stderr",
          "text": [
            "\n"
          ]
        },
        {
          "output_type": "stream",
          "name": "stdout",
          "text": [
            "\n",
            "      Epoch    GPU_mem   box_loss   cls_loss   dfl_loss  Instances       Size\n"
          ]
        },
        {
          "output_type": "stream",
          "name": "stderr",
          "text": [
            "     56/100      9.38G      1.984      1.135      1.937         60        640: 100%|██████████| 3/3 [00:01<00:00,  1.59it/s]\n",
            "                 Class     Images  Instances      Box(P          R      mAP50  mAP50-95): 100%|██████████| 2/2 [00:00<00:00,  2.44it/s]"
          ]
        },
        {
          "output_type": "stream",
          "name": "stdout",
          "text": [
            "                   all         43        111      0.944      0.908      0.975      0.749\n"
          ]
        },
        {
          "output_type": "stream",
          "name": "stderr",
          "text": [
            "\n"
          ]
        },
        {
          "output_type": "stream",
          "name": "stdout",
          "text": [
            "\n",
            "      Epoch    GPU_mem   box_loss   cls_loss   dfl_loss  Instances       Size\n"
          ]
        },
        {
          "output_type": "stream",
          "name": "stderr",
          "text": [
            "     57/100      9.35G      1.855      1.072      1.989         49        640: 100%|██████████| 3/3 [00:01<00:00,  1.99it/s]\n",
            "                 Class     Images  Instances      Box(P          R      mAP50  mAP50-95): 100%|██████████| 2/2 [00:00<00:00,  2.98it/s]"
          ]
        },
        {
          "output_type": "stream",
          "name": "stdout",
          "text": [
            "                   all         43        111      0.944      0.908      0.975      0.749\n"
          ]
        },
        {
          "output_type": "stream",
          "name": "stderr",
          "text": [
            "\n"
          ]
        },
        {
          "output_type": "stream",
          "name": "stdout",
          "text": [
            "\n",
            "      Epoch    GPU_mem   box_loss   cls_loss   dfl_loss  Instances       Size\n"
          ]
        },
        {
          "output_type": "stream",
          "name": "stderr",
          "text": [
            "     58/100       9.4G      2.091      1.302      2.117         49        640: 100%|██████████| 3/3 [00:01<00:00,  1.93it/s]\n",
            "                 Class     Images  Instances      Box(P          R      mAP50  mAP50-95): 100%|██████████| 2/2 [00:00<00:00,  2.87it/s]"
          ]
        },
        {
          "output_type": "stream",
          "name": "stdout",
          "text": [
            "                   all         43        111      0.919      0.937      0.972      0.755\n"
          ]
        },
        {
          "output_type": "stream",
          "name": "stderr",
          "text": [
            "\n"
          ]
        },
        {
          "output_type": "stream",
          "name": "stdout",
          "text": [
            "\n",
            "      Epoch    GPU_mem   box_loss   cls_loss   dfl_loss  Instances       Size\n"
          ]
        },
        {
          "output_type": "stream",
          "name": "stderr",
          "text": [
            "     59/100      9.38G      1.912      1.149      1.992         49        640: 100%|██████████| 3/3 [00:01<00:00,  1.75it/s]\n",
            "                 Class     Images  Instances      Box(P          R      mAP50  mAP50-95): 100%|██████████| 2/2 [00:00<00:00,  2.75it/s]"
          ]
        },
        {
          "output_type": "stream",
          "name": "stdout",
          "text": [
            "                   all         43        111      0.981      0.909      0.985      0.786\n"
          ]
        },
        {
          "output_type": "stream",
          "name": "stderr",
          "text": [
            "\n"
          ]
        },
        {
          "output_type": "stream",
          "name": "stdout",
          "text": [
            "\n",
            "      Epoch    GPU_mem   box_loss   cls_loss   dfl_loss  Instances       Size\n"
          ]
        },
        {
          "output_type": "stream",
          "name": "stderr",
          "text": [
            "     60/100      9.37G      1.777      1.029      1.934         51        640: 100%|██████████| 3/3 [00:01<00:00,  1.52it/s]\n",
            "                 Class     Images  Instances      Box(P          R      mAP50  mAP50-95): 100%|██████████| 2/2 [00:00<00:00,  2.31it/s]"
          ]
        },
        {
          "output_type": "stream",
          "name": "stdout",
          "text": [
            "                   all         43        111      0.939      0.937      0.981      0.786\n"
          ]
        },
        {
          "output_type": "stream",
          "name": "stderr",
          "text": [
            "\n"
          ]
        },
        {
          "output_type": "stream",
          "name": "stdout",
          "text": [
            "\n",
            "      Epoch    GPU_mem   box_loss   cls_loss   dfl_loss  Instances       Size\n"
          ]
        },
        {
          "output_type": "stream",
          "name": "stderr",
          "text": [
            "     61/100      9.35G      1.938      1.189      2.128         35        640: 100%|██████████| 3/3 [00:01<00:00,  1.98it/s]\n",
            "                 Class     Images  Instances      Box(P          R      mAP50  mAP50-95): 100%|██████████| 2/2 [00:00<00:00,  3.00it/s]"
          ]
        },
        {
          "output_type": "stream",
          "name": "stdout",
          "text": [
            "                   all         43        111      0.939      0.937      0.981      0.786\n"
          ]
        },
        {
          "output_type": "stream",
          "name": "stderr",
          "text": [
            "\n"
          ]
        },
        {
          "output_type": "stream",
          "name": "stdout",
          "text": [
            "\n",
            "      Epoch    GPU_mem   box_loss   cls_loss   dfl_loss  Instances       Size\n"
          ]
        },
        {
          "output_type": "stream",
          "name": "stderr",
          "text": [
            "     62/100      9.39G      1.873      1.262      2.039         60        640: 100%|██████████| 3/3 [00:01<00:00,  1.94it/s]\n",
            "                 Class     Images  Instances      Box(P          R      mAP50  mAP50-95): 100%|██████████| 2/2 [00:00<00:00,  3.36it/s]"
          ]
        },
        {
          "output_type": "stream",
          "name": "stdout",
          "text": [
            "                   all         43        111      0.961      0.889      0.974       0.77\n"
          ]
        },
        {
          "output_type": "stream",
          "name": "stderr",
          "text": [
            "\n"
          ]
        },
        {
          "output_type": "stream",
          "name": "stdout",
          "text": [
            "\n",
            "      Epoch    GPU_mem   box_loss   cls_loss   dfl_loss  Instances       Size\n"
          ]
        },
        {
          "output_type": "stream",
          "name": "stderr",
          "text": [
            "     63/100      9.37G      1.923      1.275      1.977         43        640: 100%|██████████| 3/3 [00:01<00:00,  1.80it/s]\n",
            "                 Class     Images  Instances      Box(P          R      mAP50  mAP50-95): 100%|██████████| 2/2 [00:00<00:00,  2.72it/s]"
          ]
        },
        {
          "output_type": "stream",
          "name": "stdout",
          "text": [
            "                   all         43        111      0.972      0.926      0.986      0.784\n"
          ]
        },
        {
          "output_type": "stream",
          "name": "stderr",
          "text": [
            "\n"
          ]
        },
        {
          "output_type": "stream",
          "name": "stdout",
          "text": [
            "\n",
            "      Epoch    GPU_mem   box_loss   cls_loss   dfl_loss  Instances       Size\n"
          ]
        },
        {
          "output_type": "stream",
          "name": "stderr",
          "text": [
            "     64/100      9.37G      1.788       1.04      1.889         53        640: 100%|██████████| 3/3 [00:01<00:00,  1.59it/s]\n",
            "                 Class     Images  Instances      Box(P          R      mAP50  mAP50-95): 100%|██████████| 2/2 [00:00<00:00,  2.15it/s]"
          ]
        },
        {
          "output_type": "stream",
          "name": "stdout",
          "text": [
            "                   all         43        111      0.928      0.937      0.978      0.782\n"
          ]
        },
        {
          "output_type": "stream",
          "name": "stderr",
          "text": [
            "\n"
          ]
        },
        {
          "output_type": "stream",
          "name": "stdout",
          "text": [
            "\n",
            "      Epoch    GPU_mem   box_loss   cls_loss   dfl_loss  Instances       Size\n"
          ]
        },
        {
          "output_type": "stream",
          "name": "stderr",
          "text": [
            "     65/100      9.34G      1.543     0.9507      1.898         42        640: 100%|██████████| 3/3 [00:01<00:00,  1.98it/s]\n",
            "                 Class     Images  Instances      Box(P          R      mAP50  mAP50-95): 100%|██████████| 2/2 [00:00<00:00,  3.81it/s]"
          ]
        },
        {
          "output_type": "stream",
          "name": "stdout",
          "text": [
            "                   all         43        111      0.928      0.937      0.978      0.782\n"
          ]
        },
        {
          "output_type": "stream",
          "name": "stderr",
          "text": [
            "\n"
          ]
        },
        {
          "output_type": "stream",
          "name": "stdout",
          "text": [
            "\n",
            "      Epoch    GPU_mem   box_loss   cls_loss   dfl_loss  Instances       Size\n"
          ]
        },
        {
          "output_type": "stream",
          "name": "stderr",
          "text": [
            "     66/100       9.4G      1.905      1.094       1.89         63        640: 100%|██████████| 3/3 [00:01<00:00,  1.73it/s]\n",
            "                 Class     Images  Instances      Box(P          R      mAP50  mAP50-95): 100%|██████████| 2/2 [00:00<00:00,  3.27it/s]"
          ]
        },
        {
          "output_type": "stream",
          "name": "stdout",
          "text": [
            "                   all         43        111      0.925      0.937      0.975      0.788\n"
          ]
        },
        {
          "output_type": "stream",
          "name": "stderr",
          "text": [
            "\n"
          ]
        },
        {
          "output_type": "stream",
          "name": "stdout",
          "text": [
            "\n",
            "      Epoch    GPU_mem   box_loss   cls_loss   dfl_loss  Instances       Size\n"
          ]
        },
        {
          "output_type": "stream",
          "name": "stderr",
          "text": [
            "     67/100      9.37G      1.636     0.9708       1.87         63        640: 100%|██████████| 3/3 [00:01<00:00,  1.91it/s]\n",
            "                 Class     Images  Instances      Box(P          R      mAP50  mAP50-95): 100%|██████████| 2/2 [00:00<00:00,  2.90it/s]"
          ]
        },
        {
          "output_type": "stream",
          "name": "stdout",
          "text": [
            "                   all         43        111      0.947      0.928      0.975      0.788\n"
          ]
        },
        {
          "output_type": "stream",
          "name": "stderr",
          "text": [
            "\n"
          ]
        },
        {
          "output_type": "stream",
          "name": "stdout",
          "text": [
            "\n",
            "      Epoch    GPU_mem   box_loss   cls_loss   dfl_loss  Instances       Size\n"
          ]
        },
        {
          "output_type": "stream",
          "name": "stderr",
          "text": [
            "     68/100       9.4G      1.697      1.057      1.906         62        640: 100%|██████████| 3/3 [00:01<00:00,  1.61it/s]\n",
            "                 Class     Images  Instances      Box(P          R      mAP50  mAP50-95): 100%|██████████| 2/2 [00:00<00:00,  2.18it/s]"
          ]
        },
        {
          "output_type": "stream",
          "name": "stdout",
          "text": [
            "                   all         43        111      0.933      0.892      0.968      0.775\n"
          ]
        },
        {
          "output_type": "stream",
          "name": "stderr",
          "text": [
            "\n"
          ]
        },
        {
          "output_type": "stream",
          "name": "stdout",
          "text": [
            "\n",
            "      Epoch    GPU_mem   box_loss   cls_loss   dfl_loss  Instances       Size\n"
          ]
        },
        {
          "output_type": "stream",
          "name": "stderr",
          "text": [
            "     69/100      9.35G      1.679     0.9409      1.915         46        640: 100%|██████████| 3/3 [00:01<00:00,  1.79it/s]\n",
            "                 Class     Images  Instances      Box(P          R      mAP50  mAP50-95): 100%|██████████| 2/2 [00:00<00:00,  3.08it/s]"
          ]
        },
        {
          "output_type": "stream",
          "name": "stdout",
          "text": [
            "                   all         43        111      0.933      0.892      0.968      0.775\n"
          ]
        },
        {
          "output_type": "stream",
          "name": "stderr",
          "text": [
            "\n"
          ]
        },
        {
          "output_type": "stream",
          "name": "stdout",
          "text": [
            "\n",
            "      Epoch    GPU_mem   box_loss   cls_loss   dfl_loss  Instances       Size\n"
          ]
        },
        {
          "output_type": "stream",
          "name": "stderr",
          "text": [
            "     70/100       9.4G      1.658     0.9972      1.867         37        640: 100%|██████████| 3/3 [00:01<00:00,  1.92it/s]\n",
            "                 Class     Images  Instances      Box(P          R      mAP50  mAP50-95): 100%|██████████| 2/2 [00:00<00:00,  3.59it/s]\n"
          ]
        },
        {
          "output_type": "stream",
          "name": "stdout",
          "text": [
            "                   all         43        111      0.927      0.892      0.954      0.784\n",
            "\n",
            "      Epoch    GPU_mem   box_loss   cls_loss   dfl_loss  Instances       Size\n"
          ]
        },
        {
          "output_type": "stream",
          "name": "stderr",
          "text": [
            "     71/100      9.37G       1.52      0.873      1.814         79        640: 100%|██████████| 3/3 [00:01<00:00,  1.94it/s]\n",
            "                 Class     Images  Instances      Box(P          R      mAP50  mAP50-95): 100%|██████████| 2/2 [00:00<00:00,  3.19it/s]"
          ]
        },
        {
          "output_type": "stream",
          "name": "stdout",
          "text": [
            "                   all         43        111      0.964      0.883       0.97      0.803\n"
          ]
        },
        {
          "output_type": "stream",
          "name": "stderr",
          "text": [
            "\n"
          ]
        },
        {
          "output_type": "stream",
          "name": "stdout",
          "text": [
            "\n",
            "      Epoch    GPU_mem   box_loss   cls_loss   dfl_loss  Instances       Size\n"
          ]
        },
        {
          "output_type": "stream",
          "name": "stderr",
          "text": [
            "     72/100      9.37G      1.566      0.907      1.849         50        640: 100%|██████████| 3/3 [00:01<00:00,  1.87it/s]\n",
            "                 Class     Images  Instances      Box(P          R      mAP50  mAP50-95): 100%|██████████| 2/2 [00:00<00:00,  2.93it/s]"
          ]
        },
        {
          "output_type": "stream",
          "name": "stdout",
          "text": [
            "                   all         43        111      0.946      0.939      0.983      0.818\n"
          ]
        },
        {
          "output_type": "stream",
          "name": "stderr",
          "text": [
            "\n"
          ]
        },
        {
          "output_type": "stream",
          "name": "stdout",
          "text": [
            "\n",
            "      Epoch    GPU_mem   box_loss   cls_loss   dfl_loss  Instances       Size\n"
          ]
        },
        {
          "output_type": "stream",
          "name": "stderr",
          "text": [
            "     73/100      9.34G      1.612     0.9037      1.829         56        640: 100%|██████████| 3/3 [00:01<00:00,  1.80it/s]\n",
            "                 Class     Images  Instances      Box(P          R      mAP50  mAP50-95): 100%|██████████| 2/2 [00:00<00:00,  2.28it/s]"
          ]
        },
        {
          "output_type": "stream",
          "name": "stdout",
          "text": [
            "                   all         43        111      0.946      0.939      0.983      0.818\n"
          ]
        },
        {
          "output_type": "stream",
          "name": "stderr",
          "text": [
            "\n"
          ]
        },
        {
          "output_type": "stream",
          "name": "stdout",
          "text": [
            "\n",
            "      Epoch    GPU_mem   box_loss   cls_loss   dfl_loss  Instances       Size\n"
          ]
        },
        {
          "output_type": "stream",
          "name": "stderr",
          "text": [
            "     74/100       9.4G      1.495     0.7826      1.815         48        640: 100%|██████████| 3/3 [00:01<00:00,  1.94it/s]\n",
            "                 Class     Images  Instances      Box(P          R      mAP50  mAP50-95): 100%|██████████| 2/2 [00:00<00:00,  3.23it/s]"
          ]
        },
        {
          "output_type": "stream",
          "name": "stdout",
          "text": [
            "                   all         43        111      0.964      0.962      0.987      0.833\n"
          ]
        },
        {
          "output_type": "stream",
          "name": "stderr",
          "text": [
            "\n"
          ]
        },
        {
          "output_type": "stream",
          "name": "stdout",
          "text": [
            "\n",
            "      Epoch    GPU_mem   box_loss   cls_loss   dfl_loss  Instances       Size\n"
          ]
        },
        {
          "output_type": "stream",
          "name": "stderr",
          "text": [
            "     75/100      9.38G       1.65     0.9148      1.944         46        640: 100%|██████████| 3/3 [00:01<00:00,  1.79it/s]\n",
            "                 Class     Images  Instances      Box(P          R      mAP50  mAP50-95): 100%|██████████| 2/2 [00:00<00:00,  2.75it/s]"
          ]
        },
        {
          "output_type": "stream",
          "name": "stdout",
          "text": [
            "                   all         43        111      0.963      0.946      0.989      0.835\n"
          ]
        },
        {
          "output_type": "stream",
          "name": "stderr",
          "text": [
            "\n"
          ]
        },
        {
          "output_type": "stream",
          "name": "stdout",
          "text": [
            "\n",
            "      Epoch    GPU_mem   box_loss   cls_loss   dfl_loss  Instances       Size\n"
          ]
        },
        {
          "output_type": "stream",
          "name": "stderr",
          "text": [
            "     76/100      9.37G      1.497     0.8313      1.872         55        640: 100%|██████████| 3/3 [00:01<00:00,  1.94it/s]\n",
            "                 Class     Images  Instances      Box(P          R      mAP50  mAP50-95): 100%|██████████| 2/2 [00:00<00:00,  3.52it/s]"
          ]
        },
        {
          "output_type": "stream",
          "name": "stdout",
          "text": [
            "                   all         43        111      0.951      0.937      0.988      0.837\n"
          ]
        },
        {
          "output_type": "stream",
          "name": "stderr",
          "text": [
            "\n"
          ]
        },
        {
          "output_type": "stream",
          "name": "stdout",
          "text": [
            "\n",
            "      Epoch    GPU_mem   box_loss   cls_loss   dfl_loss  Instances       Size\n"
          ]
        },
        {
          "output_type": "stream",
          "name": "stderr",
          "text": [
            "     77/100      9.37G      1.567     0.9213      1.795         51        640: 100%|██████████| 3/3 [00:01<00:00,  1.99it/s]\n",
            "                 Class     Images  Instances      Box(P          R      mAP50  mAP50-95): 100%|██████████| 2/2 [00:00<00:00,  3.43it/s]"
          ]
        },
        {
          "output_type": "stream",
          "name": "stdout",
          "text": [
            "                   all         43        111      0.951      0.937      0.988      0.837\n"
          ]
        },
        {
          "output_type": "stream",
          "name": "stderr",
          "text": [
            "\n"
          ]
        },
        {
          "output_type": "stream",
          "name": "stdout",
          "text": [
            "\n",
            "      Epoch    GPU_mem   box_loss   cls_loss   dfl_loss  Instances       Size\n"
          ]
        },
        {
          "output_type": "stream",
          "name": "stderr",
          "text": [
            "     78/100       9.4G      1.416     0.8549      1.911         28        640: 100%|██████████| 3/3 [00:01<00:00,  1.66it/s]\n",
            "                 Class     Images  Instances      Box(P          R      mAP50  mAP50-95): 100%|██████████| 2/2 [00:00<00:00,  2.02it/s]"
          ]
        },
        {
          "output_type": "stream",
          "name": "stdout",
          "text": [
            "                   all         43        111      0.947      0.971      0.988      0.828\n"
          ]
        },
        {
          "output_type": "stream",
          "name": "stderr",
          "text": [
            "\n"
          ]
        },
        {
          "output_type": "stream",
          "name": "stdout",
          "text": [
            "\n",
            "      Epoch    GPU_mem   box_loss   cls_loss   dfl_loss  Instances       Size\n"
          ]
        },
        {
          "output_type": "stream",
          "name": "stderr",
          "text": [
            "     79/100      9.37G      1.524     0.8916      1.854         47        640: 100%|██████████| 3/3 [00:01<00:00,  1.93it/s]\n",
            "                 Class     Images  Instances      Box(P          R      mAP50  mAP50-95): 100%|██████████| 2/2 [00:00<00:00,  2.99it/s]"
          ]
        },
        {
          "output_type": "stream",
          "name": "stdout",
          "text": [
            "                   all         43        111      0.948      0.986      0.988      0.835\n"
          ]
        },
        {
          "output_type": "stream",
          "name": "stderr",
          "text": [
            "\n"
          ]
        },
        {
          "output_type": "stream",
          "name": "stdout",
          "text": [
            "\n",
            "      Epoch    GPU_mem   box_loss   cls_loss   dfl_loss  Instances       Size\n"
          ]
        },
        {
          "output_type": "stream",
          "name": "stderr",
          "text": [
            "     80/100      9.37G      1.482     0.8047       1.85         52        640: 100%|██████████| 3/3 [00:01<00:00,  1.87it/s]\n",
            "                 Class     Images  Instances      Box(P          R      mAP50  mAP50-95): 100%|██████████| 2/2 [00:00<00:00,  2.98it/s]"
          ]
        },
        {
          "output_type": "stream",
          "name": "stdout",
          "text": [
            "                   all         43        111      0.964      0.978      0.986      0.849\n"
          ]
        },
        {
          "output_type": "stream",
          "name": "stderr",
          "text": [
            "\n"
          ]
        },
        {
          "output_type": "stream",
          "name": "stdout",
          "text": [
            "\n",
            "      Epoch    GPU_mem   box_loss   cls_loss   dfl_loss  Instances       Size\n"
          ]
        },
        {
          "output_type": "stream",
          "name": "stderr",
          "text": [
            "     81/100      9.34G      1.477     0.8739      1.869         56        640: 100%|██████████| 3/3 [00:01<00:00,  1.97it/s]\n",
            "                 Class     Images  Instances      Box(P          R      mAP50  mAP50-95): 100%|██████████| 2/2 [00:00<00:00,  3.25it/s]"
          ]
        },
        {
          "output_type": "stream",
          "name": "stdout",
          "text": [
            "                   all         43        111      0.964      0.978      0.986      0.849\n"
          ]
        },
        {
          "output_type": "stream",
          "name": "stderr",
          "text": [
            "\n"
          ]
        },
        {
          "output_type": "stream",
          "name": "stdout",
          "text": [
            "\n",
            "      Epoch    GPU_mem   box_loss   cls_loss   dfl_loss  Instances       Size\n"
          ]
        },
        {
          "output_type": "stream",
          "name": "stderr",
          "text": [
            "     82/100       9.4G      1.289     0.7478      1.817         51        640: 100%|██████████| 3/3 [00:01<00:00,  1.94it/s]\n",
            "                 Class     Images  Instances      Box(P          R      mAP50  mAP50-95): 100%|██████████| 2/2 [00:00<00:00,  2.95it/s]"
          ]
        },
        {
          "output_type": "stream",
          "name": "stdout",
          "text": [
            "                   all         43        111      0.948      0.979      0.992      0.864\n"
          ]
        },
        {
          "output_type": "stream",
          "name": "stderr",
          "text": [
            "\n"
          ]
        },
        {
          "output_type": "stream",
          "name": "stdout",
          "text": [
            "\n",
            "      Epoch    GPU_mem   box_loss   cls_loss   dfl_loss  Instances       Size\n"
          ]
        },
        {
          "output_type": "stream",
          "name": "stderr",
          "text": [
            "     83/100      9.37G      1.415     0.8843      1.837         57        640: 100%|██████████| 3/3 [00:01<00:00,  1.73it/s]\n",
            "                 Class     Images  Instances      Box(P          R      mAP50  mAP50-95): 100%|██████████| 2/2 [00:00<00:00,  2.35it/s]"
          ]
        },
        {
          "output_type": "stream",
          "name": "stdout",
          "text": [
            "                   all         43        111      0.962      0.991      0.993      0.878\n"
          ]
        },
        {
          "output_type": "stream",
          "name": "stderr",
          "text": [
            "\n"
          ]
        },
        {
          "output_type": "stream",
          "name": "stdout",
          "text": [
            "\n",
            "      Epoch    GPU_mem   box_loss   cls_loss   dfl_loss  Instances       Size\n"
          ]
        },
        {
          "output_type": "stream",
          "name": "stderr",
          "text": [
            "     84/100      9.37G      1.408     0.7836      1.879         48        640: 100%|██████████| 3/3 [00:01<00:00,  1.93it/s]\n",
            "                 Class     Images  Instances      Box(P          R      mAP50  mAP50-95): 100%|██████████| 2/2 [00:00<00:00,  2.79it/s]"
          ]
        },
        {
          "output_type": "stream",
          "name": "stdout",
          "text": [
            "                   all         43        111      0.963      0.982      0.992      0.874\n"
          ]
        },
        {
          "output_type": "stream",
          "name": "stderr",
          "text": [
            "\n"
          ]
        },
        {
          "output_type": "stream",
          "name": "stdout",
          "text": [
            "\n",
            "      Epoch    GPU_mem   box_loss   cls_loss   dfl_loss  Instances       Size\n"
          ]
        },
        {
          "output_type": "stream",
          "name": "stderr",
          "text": [
            "     85/100      9.34G      1.351      0.709      1.783         49        640: 100%|██████████| 3/3 [00:01<00:00,  1.97it/s]\n",
            "                 Class     Images  Instances      Box(P          R      mAP50  mAP50-95): 100%|██████████| 2/2 [00:00<00:00,  3.24it/s]"
          ]
        },
        {
          "output_type": "stream",
          "name": "stdout",
          "text": [
            "                   all         43        111      0.963      0.982      0.992      0.874\n"
          ]
        },
        {
          "output_type": "stream",
          "name": "stderr",
          "text": [
            "\n"
          ]
        },
        {
          "output_type": "stream",
          "name": "stdout",
          "text": [
            "\n",
            "      Epoch    GPU_mem   box_loss   cls_loss   dfl_loss  Instances       Size\n"
          ]
        },
        {
          "output_type": "stream",
          "name": "stderr",
          "text": [
            "     86/100       9.4G      1.341     0.7837      1.773         62        640: 100%|██████████| 3/3 [00:01<00:00,  1.92it/s]\n",
            "                 Class     Images  Instances      Box(P          R      mAP50  mAP50-95): 100%|██████████| 2/2 [00:00<00:00,  2.95it/s]"
          ]
        },
        {
          "output_type": "stream",
          "name": "stdout",
          "text": [
            "                   all         43        111      0.969          1      0.993       0.87\n"
          ]
        },
        {
          "output_type": "stream",
          "name": "stderr",
          "text": [
            "\n"
          ]
        },
        {
          "output_type": "stream",
          "name": "stdout",
          "text": [
            "\n",
            "      Epoch    GPU_mem   box_loss   cls_loss   dfl_loss  Instances       Size\n"
          ]
        },
        {
          "output_type": "stream",
          "name": "stderr",
          "text": [
            "     87/100      9.37G      1.397     0.8622      1.817         33        640: 100%|██████████| 3/3 [00:01<00:00,  1.74it/s]\n",
            "                 Class     Images  Instances      Box(P          R      mAP50  mAP50-95): 100%|██████████| 2/2 [00:00<00:00,  2.73it/s]"
          ]
        },
        {
          "output_type": "stream",
          "name": "stdout",
          "text": [
            "                   all         43        111      0.979      0.991      0.994      0.875\n"
          ]
        },
        {
          "output_type": "stream",
          "name": "stderr",
          "text": [
            "\n"
          ]
        },
        {
          "output_type": "stream",
          "name": "stdout",
          "text": [
            "\n",
            "      Epoch    GPU_mem   box_loss   cls_loss   dfl_loss  Instances       Size\n"
          ]
        },
        {
          "output_type": "stream",
          "name": "stderr",
          "text": [
            "     88/100      9.42G      1.274     0.7294      1.749         46        640: 100%|██████████| 3/3 [00:01<00:00,  1.58it/s]\n",
            "                 Class     Images  Instances      Box(P          R      mAP50  mAP50-95): 100%|██████████| 2/2 [00:01<00:00,  2.00it/s]"
          ]
        },
        {
          "output_type": "stream",
          "name": "stdout",
          "text": [
            "                   all         43        111      0.991      0.986      0.993      0.877\n"
          ]
        },
        {
          "output_type": "stream",
          "name": "stderr",
          "text": [
            "\n"
          ]
        },
        {
          "output_type": "stream",
          "name": "stdout",
          "text": [
            "\n",
            "      Epoch    GPU_mem   box_loss   cls_loss   dfl_loss  Instances       Size\n"
          ]
        },
        {
          "output_type": "stream",
          "name": "stderr",
          "text": [
            "     89/100      9.35G      1.397     0.7796      1.816         44        640: 100%|██████████| 3/3 [00:01<00:00,  1.98it/s]\n",
            "                 Class     Images  Instances      Box(P          R      mAP50  mAP50-95): 100%|██████████| 2/2 [00:00<00:00,  3.10it/s]"
          ]
        },
        {
          "output_type": "stream",
          "name": "stdout",
          "text": [
            "                   all         43        111      0.991      0.986      0.993      0.877\n"
          ]
        },
        {
          "output_type": "stream",
          "name": "stderr",
          "text": [
            "\n"
          ]
        },
        {
          "output_type": "stream",
          "name": "stdout",
          "text": [
            "\n",
            "      Epoch    GPU_mem   box_loss   cls_loss   dfl_loss  Instances       Size\n"
          ]
        },
        {
          "output_type": "stream",
          "name": "stderr",
          "text": [
            "     90/100       9.4G      1.425     0.7454      1.817         49        640: 100%|██████████| 3/3 [00:01<00:00,  1.93it/s]\n",
            "                 Class     Images  Instances      Box(P          R      mAP50  mAP50-95): 100%|██████████| 2/2 [00:00<00:00,  2.93it/s]"
          ]
        },
        {
          "output_type": "stream",
          "name": "stdout",
          "text": [
            "                   all         43        111      0.988      0.991      0.995      0.875\n"
          ]
        },
        {
          "output_type": "stream",
          "name": "stderr",
          "text": [
            "\n"
          ]
        },
        {
          "output_type": "stream",
          "name": "stdout",
          "text": [
            "Closing dataloader mosaic\n",
            "\u001b[34m\u001b[1malbumentations: \u001b[0mBlur(p=0.01, blur_limit=(3, 7)), MedianBlur(p=0.01, blur_limit=(3, 7)), ToGray(p=0.01), CLAHE(p=0.01, clip_limit=(1, 4.0), tile_grid_size=(8, 8))\n"
          ]
        },
        {
          "output_type": "stream",
          "name": "stderr",
          "text": [
            "/usr/lib/python3.10/multiprocessing/popen_fork.py:66: RuntimeWarning: os.fork() was called. os.fork() is incompatible with multithreaded code, and JAX is multithreaded, so this will likely lead to a deadlock.\n",
            "  self.pid = os.fork()\n"
          ]
        },
        {
          "output_type": "stream",
          "name": "stdout",
          "text": [
            "\n",
            "      Epoch    GPU_mem   box_loss   cls_loss   dfl_loss  Instances       Size\n"
          ]
        },
        {
          "output_type": "stream",
          "name": "stderr",
          "text": [
            "     91/100      9.35G      1.408     0.8316      1.827         44        640: 100%|██████████| 3/3 [00:03<00:00,  1.16s/it]\n",
            "                 Class     Images  Instances      Box(P          R      mAP50  mAP50-95): 100%|██████████| 2/2 [00:01<00:00,  1.80it/s]"
          ]
        },
        {
          "output_type": "stream",
          "name": "stdout",
          "text": [
            "                   all         43        111      0.986      0.991      0.995      0.882\n"
          ]
        },
        {
          "output_type": "stream",
          "name": "stderr",
          "text": [
            "\n"
          ]
        },
        {
          "output_type": "stream",
          "name": "stdout",
          "text": [
            "\n",
            "      Epoch    GPU_mem   box_loss   cls_loss   dfl_loss  Instances       Size\n"
          ]
        },
        {
          "output_type": "stream",
          "name": "stderr",
          "text": [
            "     92/100      9.35G      1.193     0.6267      1.749         26        640: 100%|██████████| 3/3 [00:02<00:00,  1.49it/s]\n",
            "                 Class     Images  Instances      Box(P          R      mAP50  mAP50-95): 100%|██████████| 2/2 [00:00<00:00,  2.10it/s]"
          ]
        },
        {
          "output_type": "stream",
          "name": "stdout",
          "text": [
            "                   all         43        111       0.96      0.991      0.994      0.879\n"
          ]
        },
        {
          "output_type": "stream",
          "name": "stderr",
          "text": [
            "\n"
          ]
        },
        {
          "output_type": "stream",
          "name": "stdout",
          "text": [
            "\n",
            "      Epoch    GPU_mem   box_loss   cls_loss   dfl_loss  Instances       Size\n"
          ]
        },
        {
          "output_type": "stream",
          "name": "stderr",
          "text": [
            "     93/100      9.32G      1.128     0.6215      1.742         19        640: 100%|██████████| 3/3 [00:01<00:00,  1.69it/s]\n",
            "                 Class     Images  Instances      Box(P          R      mAP50  mAP50-95): 100%|██████████| 2/2 [00:00<00:00,  2.12it/s]"
          ]
        },
        {
          "output_type": "stream",
          "name": "stdout",
          "text": [
            "                   all         43        111       0.96      0.991      0.994      0.879\n"
          ]
        },
        {
          "output_type": "stream",
          "name": "stderr",
          "text": [
            "\n"
          ]
        },
        {
          "output_type": "stream",
          "name": "stdout",
          "text": [
            "\n",
            "      Epoch    GPU_mem   box_loss   cls_loss   dfl_loss  Instances       Size\n"
          ]
        },
        {
          "output_type": "stream",
          "name": "stderr",
          "text": [
            "     94/100       9.4G        1.3     0.7033      1.758         33        640: 100%|██████████| 3/3 [00:01<00:00,  1.93it/s]\n",
            "                 Class     Images  Instances      Box(P          R      mAP50  mAP50-95): 100%|██████████| 2/2 [00:00<00:00,  3.09it/s]"
          ]
        },
        {
          "output_type": "stream",
          "name": "stdout",
          "text": [
            "                   all         43        111      0.982      0.981      0.994      0.893\n"
          ]
        },
        {
          "output_type": "stream",
          "name": "stderr",
          "text": [
            "\n"
          ]
        },
        {
          "output_type": "stream",
          "name": "stdout",
          "text": [
            "\n",
            "      Epoch    GPU_mem   box_loss   cls_loss   dfl_loss  Instances       Size\n"
          ]
        },
        {
          "output_type": "stream",
          "name": "stderr",
          "text": [
            "     95/100      9.37G      1.077     0.5807      1.666         24        640: 100%|██████████| 3/3 [00:01<00:00,  1.78it/s]\n",
            "                 Class     Images  Instances      Box(P          R      mAP50  mAP50-95): 100%|██████████| 2/2 [00:00<00:00,  2.67it/s]"
          ]
        },
        {
          "output_type": "stream",
          "name": "stdout",
          "text": [
            "                   all         43        111      0.965      0.994      0.994      0.896\n"
          ]
        },
        {
          "output_type": "stream",
          "name": "stderr",
          "text": [
            "\n"
          ]
        },
        {
          "output_type": "stream",
          "name": "stdout",
          "text": [
            "\n",
            "      Epoch    GPU_mem   box_loss   cls_loss   dfl_loss  Instances       Size\n"
          ]
        },
        {
          "output_type": "stream",
          "name": "stderr",
          "text": [
            "     96/100      9.37G      1.097     0.6709      1.742         31        640: 100%|██████████| 3/3 [00:01<00:00,  1.59it/s]\n",
            "                 Class     Images  Instances      Box(P          R      mAP50  mAP50-95): 100%|██████████| 2/2 [00:00<00:00,  2.17it/s]"
          ]
        },
        {
          "output_type": "stream",
          "name": "stdout",
          "text": [
            "                   all         43        111      0.982      0.999      0.994      0.899\n"
          ]
        },
        {
          "output_type": "stream",
          "name": "stderr",
          "text": [
            "\n"
          ]
        },
        {
          "output_type": "stream",
          "name": "stdout",
          "text": [
            "\n",
            "      Epoch    GPU_mem   box_loss   cls_loss   dfl_loss  Instances       Size\n"
          ]
        },
        {
          "output_type": "stream",
          "name": "stderr",
          "text": [
            "     97/100      9.32G      1.093     0.6122      1.759         39        640: 100%|██████████| 3/3 [00:01<00:00,  2.01it/s]\n",
            "                 Class     Images  Instances      Box(P          R      mAP50  mAP50-95): 100%|██████████| 2/2 [00:00<00:00,  3.29it/s]"
          ]
        },
        {
          "output_type": "stream",
          "name": "stdout",
          "text": [
            "                   all         43        111      0.982      0.999      0.994      0.899\n"
          ]
        },
        {
          "output_type": "stream",
          "name": "stderr",
          "text": [
            "\n"
          ]
        },
        {
          "output_type": "stream",
          "name": "stdout",
          "text": [
            "\n",
            "      Epoch    GPU_mem   box_loss   cls_loss   dfl_loss  Instances       Size\n"
          ]
        },
        {
          "output_type": "stream",
          "name": "stderr",
          "text": [
            "     98/100       9.4G      1.038     0.5518      1.656         19        640: 100%|██████████| 3/3 [00:01<00:00,  1.68it/s]\n",
            "                 Class     Images  Instances      Box(P          R      mAP50  mAP50-95): 100%|██████████| 2/2 [00:00<00:00,  2.64it/s]"
          ]
        },
        {
          "output_type": "stream",
          "name": "stdout",
          "text": [
            "                   all         43        111      0.964          1      0.993      0.902\n"
          ]
        },
        {
          "output_type": "stream",
          "name": "stderr",
          "text": [
            "\n"
          ]
        },
        {
          "output_type": "stream",
          "name": "stdout",
          "text": [
            "\n",
            "      Epoch    GPU_mem   box_loss   cls_loss   dfl_loss  Instances       Size\n"
          ]
        },
        {
          "output_type": "stream",
          "name": "stderr",
          "text": [
            "     99/100      9.37G      1.045      0.569      1.651         32        640: 100%|██████████| 3/3 [00:01<00:00,  1.95it/s]\n",
            "                 Class     Images  Instances      Box(P          R      mAP50  mAP50-95): 100%|██████████| 2/2 [00:00<00:00,  2.88it/s]"
          ]
        },
        {
          "output_type": "stream",
          "name": "stdout",
          "text": [
            "                   all         43        111       0.97          1      0.992      0.902\n"
          ]
        },
        {
          "output_type": "stream",
          "name": "stderr",
          "text": [
            "\n"
          ]
        },
        {
          "output_type": "stream",
          "name": "stdout",
          "text": [
            "\n",
            "      Epoch    GPU_mem   box_loss   cls_loss   dfl_loss  Instances       Size\n"
          ]
        },
        {
          "output_type": "stream",
          "name": "stderr",
          "text": [
            "    100/100      9.37G      1.165     0.6432      1.736         30        640: 100%|██████████| 3/3 [00:01<00:00,  1.70it/s]\n",
            "                 Class     Images  Instances      Box(P          R      mAP50  mAP50-95): 100%|██████████| 2/2 [00:00<00:00,  2.55it/s]"
          ]
        },
        {
          "output_type": "stream",
          "name": "stdout",
          "text": [
            "                   all         43        111      0.972          1      0.993      0.903\n"
          ]
        },
        {
          "output_type": "stream",
          "name": "stderr",
          "text": [
            "\n"
          ]
        },
        {
          "output_type": "stream",
          "name": "stdout",
          "text": [
            "\n",
            "100 epochs completed in 0.183 hours.\n",
            "Optimizer stripped from runs/detect/train4/weights/last.pt, 33.5MB\n",
            "Optimizer stripped from runs/detect/train4/weights/best.pt, 33.5MB\n",
            "\n",
            "Validating runs/detect/train4/weights/best.pt...\n",
            "Ultralytics YOLOv8.2.81 🚀 Python-3.10.12 torch-2.3.1+cu121 CUDA:0 (Tesla T4, 15102MiB)\n",
            "YOLOv10m summary (fused): 369 layers, 16,451,542 parameters, 0 gradients, 63.4 GFLOPs\n"
          ]
        },
        {
          "output_type": "stream",
          "name": "stderr",
          "text": [
            "                 Class     Images  Instances      Box(P          R      mAP50  mAP50-95): 100%|██████████| 2/2 [00:01<00:00,  1.74it/s]\n"
          ]
        },
        {
          "output_type": "stream",
          "name": "stdout",
          "text": [
            "                   all         43        111      0.972          1      0.992      0.903\n",
            "Speed: 0.2ms preprocess, 11.8ms inference, 0.0ms loss, 0.3ms postprocess per image\n",
            "Results saved to \u001b[1mruns/detect/train4\u001b[0m\n"
          ]
        },
        {
          "output_type": "execute_result",
          "data": {
            "text/plain": [
              "ultralytics.utils.metrics.DetMetrics object with attributes:\n",
              "\n",
              "ap_class_index: array([0])\n",
              "box: ultralytics.utils.metrics.Metric object\n",
              "confusion_matrix: <ultralytics.utils.metrics.ConfusionMatrix object at 0x7e6c096aa3e0>\n",
              "curves: ['Precision-Recall(B)', 'F1-Confidence(B)', 'Precision-Confidence(B)', 'Recall-Confidence(B)']\n",
              "curves_results: [[array([          0,    0.001001,    0.002002,    0.003003,    0.004004,    0.005005,    0.006006,    0.007007,    0.008008,    0.009009,     0.01001,    0.011011,    0.012012,    0.013013,    0.014014,    0.015015,    0.016016,    0.017017,    0.018018,    0.019019,     0.02002,    0.021021,    0.022022,    0.023023,\n",
              "          0.024024,    0.025025,    0.026026,    0.027027,    0.028028,    0.029029,     0.03003,    0.031031,    0.032032,    0.033033,    0.034034,    0.035035,    0.036036,    0.037037,    0.038038,    0.039039,     0.04004,    0.041041,    0.042042,    0.043043,    0.044044,    0.045045,    0.046046,    0.047047,\n",
              "          0.048048,    0.049049,     0.05005,    0.051051,    0.052052,    0.053053,    0.054054,    0.055055,    0.056056,    0.057057,    0.058058,    0.059059,     0.06006,    0.061061,    0.062062,    0.063063,    0.064064,    0.065065,    0.066066,    0.067067,    0.068068,    0.069069,     0.07007,    0.071071,\n",
              "          0.072072,    0.073073,    0.074074,    0.075075,    0.076076,    0.077077,    0.078078,    0.079079,     0.08008,    0.081081,    0.082082,    0.083083,    0.084084,    0.085085,    0.086086,    0.087087,    0.088088,    0.089089,     0.09009,    0.091091,    0.092092,    0.093093,    0.094094,    0.095095,\n",
              "          0.096096,    0.097097,    0.098098,    0.099099,      0.1001,      0.1011,      0.1021,      0.1031,      0.1041,     0.10511,     0.10611,     0.10711,     0.10811,     0.10911,     0.11011,     0.11111,     0.11211,     0.11311,     0.11411,     0.11512,     0.11612,     0.11712,     0.11812,     0.11912,\n",
              "           0.12012,     0.12112,     0.12212,     0.12312,     0.12412,     0.12513,     0.12613,     0.12713,     0.12813,     0.12913,     0.13013,     0.13113,     0.13213,     0.13313,     0.13413,     0.13514,     0.13614,     0.13714,     0.13814,     0.13914,     0.14014,     0.14114,     0.14214,     0.14314,\n",
              "           0.14414,     0.14515,     0.14615,     0.14715,     0.14815,     0.14915,     0.15015,     0.15115,     0.15215,     0.15315,     0.15415,     0.15516,     0.15616,     0.15716,     0.15816,     0.15916,     0.16016,     0.16116,     0.16216,     0.16316,     0.16416,     0.16517,     0.16617,     0.16717,\n",
              "           0.16817,     0.16917,     0.17017,     0.17117,     0.17217,     0.17317,     0.17417,     0.17518,     0.17618,     0.17718,     0.17818,     0.17918,     0.18018,     0.18118,     0.18218,     0.18318,     0.18418,     0.18519,     0.18619,     0.18719,     0.18819,     0.18919,     0.19019,     0.19119,\n",
              "           0.19219,     0.19319,     0.19419,      0.1952,      0.1962,      0.1972,      0.1982,      0.1992,      0.2002,      0.2012,      0.2022,      0.2032,      0.2042,     0.20521,     0.20621,     0.20721,     0.20821,     0.20921,     0.21021,     0.21121,     0.21221,     0.21321,     0.21421,     0.21522,\n",
              "           0.21622,     0.21722,     0.21822,     0.21922,     0.22022,     0.22122,     0.22222,     0.22322,     0.22422,     0.22523,     0.22623,     0.22723,     0.22823,     0.22923,     0.23023,     0.23123,     0.23223,     0.23323,     0.23423,     0.23524,     0.23624,     0.23724,     0.23824,     0.23924,\n",
              "           0.24024,     0.24124,     0.24224,     0.24324,     0.24424,     0.24525,     0.24625,     0.24725,     0.24825,     0.24925,     0.25025,     0.25125,     0.25225,     0.25325,     0.25425,     0.25526,     0.25626,     0.25726,     0.25826,     0.25926,     0.26026,     0.26126,     0.26226,     0.26326,\n",
              "           0.26426,     0.26527,     0.26627,     0.26727,     0.26827,     0.26927,     0.27027,     0.27127,     0.27227,     0.27327,     0.27427,     0.27528,     0.27628,     0.27728,     0.27828,     0.27928,     0.28028,     0.28128,     0.28228,     0.28328,     0.28428,     0.28529,     0.28629,     0.28729,\n",
              "           0.28829,     0.28929,     0.29029,     0.29129,     0.29229,     0.29329,     0.29429,      0.2953,      0.2963,      0.2973,      0.2983,      0.2993,      0.3003,      0.3013,      0.3023,      0.3033,      0.3043,     0.30531,     0.30631,     0.30731,     0.30831,     0.30931,     0.31031,     0.31131,\n",
              "           0.31231,     0.31331,     0.31431,     0.31532,     0.31632,     0.31732,     0.31832,     0.31932,     0.32032,     0.32132,     0.32232,     0.32332,     0.32432,     0.32533,     0.32633,     0.32733,     0.32833,     0.32933,     0.33033,     0.33133,     0.33233,     0.33333,     0.33433,     0.33534,\n",
              "           0.33634,     0.33734,     0.33834,     0.33934,     0.34034,     0.34134,     0.34234,     0.34334,     0.34434,     0.34535,     0.34635,     0.34735,     0.34835,     0.34935,     0.35035,     0.35135,     0.35235,     0.35335,     0.35435,     0.35536,     0.35636,     0.35736,     0.35836,     0.35936,\n",
              "           0.36036,     0.36136,     0.36236,     0.36336,     0.36436,     0.36537,     0.36637,     0.36737,     0.36837,     0.36937,     0.37037,     0.37137,     0.37237,     0.37337,     0.37437,     0.37538,     0.37638,     0.37738,     0.37838,     0.37938,     0.38038,     0.38138,     0.38238,     0.38338,\n",
              "           0.38438,     0.38539,     0.38639,     0.38739,     0.38839,     0.38939,     0.39039,     0.39139,     0.39239,     0.39339,     0.39439,      0.3954,      0.3964,      0.3974,      0.3984,      0.3994,      0.4004,      0.4014,      0.4024,      0.4034,      0.4044,     0.40541,     0.40641,     0.40741,\n",
              "           0.40841,     0.40941,     0.41041,     0.41141,     0.41241,     0.41341,     0.41441,     0.41542,     0.41642,     0.41742,     0.41842,     0.41942,     0.42042,     0.42142,     0.42242,     0.42342,     0.42442,     0.42543,     0.42643,     0.42743,     0.42843,     0.42943,     0.43043,     0.43143,\n",
              "           0.43243,     0.43343,     0.43443,     0.43544,     0.43644,     0.43744,     0.43844,     0.43944,     0.44044,     0.44144,     0.44244,     0.44344,     0.44444,     0.44545,     0.44645,     0.44745,     0.44845,     0.44945,     0.45045,     0.45145,     0.45245,     0.45345,     0.45445,     0.45546,\n",
              "           0.45646,     0.45746,     0.45846,     0.45946,     0.46046,     0.46146,     0.46246,     0.46346,     0.46446,     0.46547,     0.46647,     0.46747,     0.46847,     0.46947,     0.47047,     0.47147,     0.47247,     0.47347,     0.47447,     0.47548,     0.47648,     0.47748,     0.47848,     0.47948,\n",
              "           0.48048,     0.48148,     0.48248,     0.48348,     0.48448,     0.48549,     0.48649,     0.48749,     0.48849,     0.48949,     0.49049,     0.49149,     0.49249,     0.49349,     0.49449,      0.4955,      0.4965,      0.4975,      0.4985,      0.4995,      0.5005,      0.5015,      0.5025,      0.5035,\n",
              "            0.5045,     0.50551,     0.50651,     0.50751,     0.50851,     0.50951,     0.51051,     0.51151,     0.51251,     0.51351,     0.51451,     0.51552,     0.51652,     0.51752,     0.51852,     0.51952,     0.52052,     0.52152,     0.52252,     0.52352,     0.52452,     0.52553,     0.52653,     0.52753,\n",
              "           0.52853,     0.52953,     0.53053,     0.53153,     0.53253,     0.53353,     0.53453,     0.53554,     0.53654,     0.53754,     0.53854,     0.53954,     0.54054,     0.54154,     0.54254,     0.54354,     0.54454,     0.54555,     0.54655,     0.54755,     0.54855,     0.54955,     0.55055,     0.55155,\n",
              "           0.55255,     0.55355,     0.55455,     0.55556,     0.55656,     0.55756,     0.55856,     0.55956,     0.56056,     0.56156,     0.56256,     0.56356,     0.56456,     0.56557,     0.56657,     0.56757,     0.56857,     0.56957,     0.57057,     0.57157,     0.57257,     0.57357,     0.57457,     0.57558,\n",
              "           0.57658,     0.57758,     0.57858,     0.57958,     0.58058,     0.58158,     0.58258,     0.58358,     0.58458,     0.58559,     0.58659,     0.58759,     0.58859,     0.58959,     0.59059,     0.59159,     0.59259,     0.59359,     0.59459,      0.5956,      0.5966,      0.5976,      0.5986,      0.5996,\n",
              "            0.6006,      0.6016,      0.6026,      0.6036,      0.6046,     0.60561,     0.60661,     0.60761,     0.60861,     0.60961,     0.61061,     0.61161,     0.61261,     0.61361,     0.61461,     0.61562,     0.61662,     0.61762,     0.61862,     0.61962,     0.62062,     0.62162,     0.62262,     0.62362,\n",
              "           0.62462,     0.62563,     0.62663,     0.62763,     0.62863,     0.62963,     0.63063,     0.63163,     0.63263,     0.63363,     0.63463,     0.63564,     0.63664,     0.63764,     0.63864,     0.63964,     0.64064,     0.64164,     0.64264,     0.64364,     0.64464,     0.64565,     0.64665,     0.64765,\n",
              "           0.64865,     0.64965,     0.65065,     0.65165,     0.65265,     0.65365,     0.65465,     0.65566,     0.65666,     0.65766,     0.65866,     0.65966,     0.66066,     0.66166,     0.66266,     0.66366,     0.66466,     0.66567,     0.66667,     0.66767,     0.66867,     0.66967,     0.67067,     0.67167,\n",
              "           0.67267,     0.67367,     0.67467,     0.67568,     0.67668,     0.67768,     0.67868,     0.67968,     0.68068,     0.68168,     0.68268,     0.68368,     0.68468,     0.68569,     0.68669,     0.68769,     0.68869,     0.68969,     0.69069,     0.69169,     0.69269,     0.69369,     0.69469,      0.6957,\n",
              "            0.6967,      0.6977,      0.6987,      0.6997,      0.7007,      0.7017,      0.7027,      0.7037,      0.7047,     0.70571,     0.70671,     0.70771,     0.70871,     0.70971,     0.71071,     0.71171,     0.71271,     0.71371,     0.71471,     0.71572,     0.71672,     0.71772,     0.71872,     0.71972,\n",
              "           0.72072,     0.72172,     0.72272,     0.72372,     0.72472,     0.72573,     0.72673,     0.72773,     0.72873,     0.72973,     0.73073,     0.73173,     0.73273,     0.73373,     0.73473,     0.73574,     0.73674,     0.73774,     0.73874,     0.73974,     0.74074,     0.74174,     0.74274,     0.74374,\n",
              "           0.74474,     0.74575,     0.74675,     0.74775,     0.74875,     0.74975,     0.75075,     0.75175,     0.75275,     0.75375,     0.75475,     0.75576,     0.75676,     0.75776,     0.75876,     0.75976,     0.76076,     0.76176,     0.76276,     0.76376,     0.76476,     0.76577,     0.76677,     0.76777,\n",
              "           0.76877,     0.76977,     0.77077,     0.77177,     0.77277,     0.77377,     0.77477,     0.77578,     0.77678,     0.77778,     0.77878,     0.77978,     0.78078,     0.78178,     0.78278,     0.78378,     0.78478,     0.78579,     0.78679,     0.78779,     0.78879,     0.78979,     0.79079,     0.79179,\n",
              "           0.79279,     0.79379,     0.79479,      0.7958,      0.7968,      0.7978,      0.7988,      0.7998,      0.8008,      0.8018,      0.8028,      0.8038,      0.8048,     0.80581,     0.80681,     0.80781,     0.80881,     0.80981,     0.81081,     0.81181,     0.81281,     0.81381,     0.81481,     0.81582,\n",
              "           0.81682,     0.81782,     0.81882,     0.81982,     0.82082,     0.82182,     0.82282,     0.82382,     0.82482,     0.82583,     0.82683,     0.82783,     0.82883,     0.82983,     0.83083,     0.83183,     0.83283,     0.83383,     0.83483,     0.83584,     0.83684,     0.83784,     0.83884,     0.83984,\n",
              "           0.84084,     0.84184,     0.84284,     0.84384,     0.84484,     0.84585,     0.84685,     0.84785,     0.84885,     0.84985,     0.85085,     0.85185,     0.85285,     0.85385,     0.85485,     0.85586,     0.85686,     0.85786,     0.85886,     0.85986,     0.86086,     0.86186,     0.86286,     0.86386,\n",
              "           0.86486,     0.86587,     0.86687,     0.86787,     0.86887,     0.86987,     0.87087,     0.87187,     0.87287,     0.87387,     0.87487,     0.87588,     0.87688,     0.87788,     0.87888,     0.87988,     0.88088,     0.88188,     0.88288,     0.88388,     0.88488,     0.88589,     0.88689,     0.88789,\n",
              "           0.88889,     0.88989,     0.89089,     0.89189,     0.89289,     0.89389,     0.89489,      0.8959,      0.8969,      0.8979,      0.8989,      0.8999,      0.9009,      0.9019,      0.9029,      0.9039,      0.9049,     0.90591,     0.90691,     0.90791,     0.90891,     0.90991,     0.91091,     0.91191,\n",
              "           0.91291,     0.91391,     0.91491,     0.91592,     0.91692,     0.91792,     0.91892,     0.91992,     0.92092,     0.92192,     0.92292,     0.92392,     0.92492,     0.92593,     0.92693,     0.92793,     0.92893,     0.92993,     0.93093,     0.93193,     0.93293,     0.93393,     0.93493,     0.93594,\n",
              "           0.93694,     0.93794,     0.93894,     0.93994,     0.94094,     0.94194,     0.94294,     0.94394,     0.94494,     0.94595,     0.94695,     0.94795,     0.94895,     0.94995,     0.95095,     0.95195,     0.95295,     0.95395,     0.95495,     0.95596,     0.95696,     0.95796,     0.95896,     0.95996,\n",
              "           0.96096,     0.96196,     0.96296,     0.96396,     0.96496,     0.96597,     0.96697,     0.96797,     0.96897,     0.96997,     0.97097,     0.97197,     0.97297,     0.97397,     0.97497,     0.97598,     0.97698,     0.97798,     0.97898,     0.97998,     0.98098,     0.98198,     0.98298,     0.98398,\n",
              "           0.98498,     0.98599,     0.98699,     0.98799,     0.98899,     0.98999,     0.99099,     0.99199,     0.99299,     0.99399,     0.99499,       0.996,       0.997,       0.998,       0.999,           1]), array([[          1,           1,           1,           1,           1,           1,           1,           1,           1,           1,           1,           1,           1,           1,           1,           1,           1,           1,           1,           1,           1,           1,           1,\n",
              "                  1,           1,           1,           1,           1,           1,           1,           1,           1,           1,           1,           1,           1,           1,           1,           1,           1,           1,           1,           1,           1,           1,           1,\n",
              "                  1,           1,           1,           1,           1,           1,           1,           1,           1,           1,           1,           1,           1,           1,           1,           1,           1,           1,           1,           1,           1,           1,           1,\n",
              "                  1,           1,           1,           1,           1,           1,           1,           1,           1,           1,           1,           1,           1,           1,           1,           1,           1,           1,           1,           1,           1,           1,           1,\n",
              "                  1,           1,           1,           1,           1,           1,           1,           1,           1,           1,           1,           1,           1,           1,           1,           1,           1,           1,           1,           1,           1,           1,           1,\n",
              "                  1,           1,           1,           1,           1,           1,           1,           1,           1,           1,           1,           1,           1,           1,           1,           1,           1,           1,           1,           1,           1,           1,           1,\n",
              "                  1,           1,           1,           1,           1,           1,           1,           1,           1,           1,           1,           1,           1,           1,           1,           1,           1,           1,           1,           1,           1,           1,           1,\n",
              "                  1,           1,           1,           1,           1,           1,           1,           1,           1,           1,           1,           1,           1,           1,           1,           1,           1,           1,           1,           1,           1,           1,           1,\n",
              "                  1,           1,           1,           1,           1,           1,           1,           1,           1,           1,           1,           1,           1,           1,           1,           1,           1,           1,           1,           1,           1,           1,           1,\n",
              "                  1,           1,           1,           1,           1,           1,           1,           1,           1,           1,           1,           1,           1,           1,           1,           1,           1,           1,           1,           1,           1,           1,           1,\n",
              "                  1,           1,           1,           1,           1,           1,           1,           1,           1,           1,           1,           1,           1,           1,           1,           1,           1,           1,           1,           1,           1,           1,           1,\n",
              "                  1,           1,           1,           1,           1,           1,           1,           1,           1,           1,           1,           1,           1,           1,           1,           1,           1,           1,           1,           1,           1,           1,           1,\n",
              "                  1,           1,           1,           1,           1,           1,           1,           1,           1,           1,           1,           1,           1,           1,           1,           1,           1,           1,           1,           1,           1,           1,           1,\n",
              "                  1,           1,           1,           1,           1,           1,           1,           1,           1,           1,           1,           1,           1,           1,           1,           1,           1,           1,           1,           1,           1,           1,           1,\n",
              "                  1,           1,           1,           1,           1,           1,           1,           1,           1,           1,           1,           1,           1,           1,           1,           1,           1,           1,           1,           1,           1,           1,           1,\n",
              "                  1,           1,           1,           1,           1,           1,           1,           1,           1,           1,           1,           1,           1,           1,           1,           1,           1,           1,           1,           1,           1,           1,           1,\n",
              "                  1,           1,           1,           1,           1,           1,           1,           1,           1,           1,           1,           1,           1,           1,           1,           1,           1,           1,           1,           1,           1,           1,           1,\n",
              "                  1,           1,           1,           1,           1,           1,           1,           1,           1,           1,           1,           1,           1,           1,           1,           1,           1,           1,           1,           1,           1,           1,           1,\n",
              "                  1,           1,           1,           1,           1,           1,           1,           1,           1,           1,           1,           1,           1,           1,           1,           1,           1,           1,           1,           1,           1,           1,           1,\n",
              "                  1,           1,           1,           1,           1,           1,           1,           1,           1,           1,           1,           1,           1,           1,           1,           1,           1,           1,           1,           1,           1,           1,           1,\n",
              "                  1,           1,           1,           1,           1,           1,           1,           1,           1,           1,           1,           1,           1,           1,           1,           1,           1,           1,           1,           1,           1,           1,           1,\n",
              "                  1,           1,           1,           1,           1,           1,           1,           1,           1,           1,           1,           1,           1,           1,           1,           1,           1,           1,           1,           1,           1,           1,           1,\n",
              "                  1,           1,           1,           1,           1,           1,           1,           1,           1,           1,           1,           1,           1,           1,           1,           1,           1,           1,           1,           1,           1,           1,           1,\n",
              "                  1,           1,           1,           1,           1,           1,           1,           1,           1,           1,           1,           1,           1,           1,           1,           1,           1,           1,           1,           1,           1,           1,           1,\n",
              "                  1,           1,           1,           1,           1,           1,           1,           1,           1,           1,           1,           1,           1,           1,           1,           1,           1,           1,           1,           1,           1,           1,           1,\n",
              "                  1,           1,           1,           1,           1,           1,           1,           1,           1,           1,           1,           1,           1,           1,           1,           1,           1,           1,           1,           1,           1,           1,           1,\n",
              "                  1,           1,           1,           1,           1,           1,           1,           1,           1,           1,           1,           1,           1,           1,           1,           1,           1,           1,           1,           1,           1,           1,           1,\n",
              "                  1,           1,           1,           1,           1,           1,           1,           1,           1,           1,           1,           1,           1,           1,           1,           1,           1,           1,           1,           1,           1,           1,           1,\n",
              "                  1,           1,           1,           1,           1,           1,           1,           1,           1,           1,           1,           1,           1,           1,           1,           1,           1,           1,           1,           1,           1,           1,           1,\n",
              "                  1,           1,           1,           1,           1,           1,           1,           1,           1,           1,           1,           1,           1,           1,           1,           1,           1,           1,           1,           1,           1,           1,           1,\n",
              "                  1,           1,           1,           1,           1,           1,           1,           1,           1,           1,           1,           1,           1,           1,           1,           1,           1,           1,           1,           1,           1,           1,           1,\n",
              "                  1,           1,           1,           1,           1,           1,           1,           1,           1,           1,           1,           1,           1,           1,           1,           1,           1,           1,           1,           1,           1,           1,           1,\n",
              "                  1,           1,           1,           1,           1,           1,           1,           1,           1,           1,           1,           1,           1,           1,           1,           1,           1,           1,           1,           1,           1,           1,           1,\n",
              "                  1,           1,           1,           1,           1,           1,           1,           1,           1,           1,           1,           1,           1,           1,           1,           1,           1,           1,           1,           1,           1,           1,           1,\n",
              "                  1,           1,           1,           1,           1,           1,           1,           1,           1,           1,           1,           1,           1,           1,           1,           1,           1,           1,           1,           1,           1,           1,           1,\n",
              "                  1,           1,           1,           1,           1,           1,           1,           1,           1,           1,           1,           1,           1,           1,           1,           1,           1,           1,           1,           1,           1,           1,           1,\n",
              "                  1,           1,           1,           1,           1,           1,           1,           1,           1,           1,           1,           1,           1,           1,           1,           1,           1,           1,     0.99029,     0.99029,     0.99029,     0.99029,     0.99029,\n",
              "            0.99029,     0.99029,     0.99029,     0.99029,     0.99029,     0.99029,     0.99029,     0.99029,     0.99029,     0.99029,     0.99029,     0.99029,     0.99029,     0.99029,     0.99029,     0.99029,     0.99029,     0.99029,     0.99029,     0.99029,     0.99029,     0.99029,     0.99029,\n",
              "            0.99029,     0.99029,     0.99029,     0.99029,     0.99029,     0.99029,     0.99029,     0.99029,     0.99029,     0.99029,     0.99029,     0.99029,     0.99029,     0.99029,     0.99029,     0.99029,     0.99029,     0.99029,     0.99029,     0.99029,     0.99029,     0.99029,     0.99029,\n",
              "            0.99029,     0.99029,     0.99029,     0.99029,     0.99029,     0.99029,     0.99029,     0.99029,     0.99029,     0.99029,     0.99029,     0.99029,     0.99029,     0.99029,     0.99029,     0.99029,     0.99029,     0.99029,     0.99029,     0.99029,     0.99029,     0.99029,     0.98131,\n",
              "            0.98131,     0.98131,     0.98131,     0.98131,     0.98131,     0.98131,     0.98131,     0.98131,     0.98131,     0.98131,     0.98131,     0.98131,     0.98131,     0.98131,     0.98131,     0.98131,     0.98131,     0.98131,     0.98131,     0.98131,     0.98131,     0.98131,     0.98131,\n",
              "            0.98131,     0.98131,     0.97368,     0.97368,     0.97368,     0.97368,     0.97368,     0.97368,     0.97368,     0.97368,     0.97368,     0.97368,     0.97368,     0.97368,     0.97368,     0.97368,     0.97368,     0.97368,     0.97368,     0.97368,     0.97368,     0.97368,     0.97368,\n",
              "            0.97368,     0.97368,     0.97368,     0.97368,     0.97368,     0.97368,     0.97368,     0.97368,     0.97368,     0.97368,     0.97368,     0.97368,     0.97368,     0.97368,     0.97368,     0.97368,     0.97368,     0.97368,     0.97368,     0.97368,     0.97368,     0.97368,     0.97368,\n",
              "            0.97368,     0.97368,     0.97368,     0.97368,     0.97368,     0.97368,     0.97368,     0.97368,     0.97368,     0.97368,           0]]), 'Recall', 'Precision'], [array([          0,    0.001001,    0.002002,    0.003003,    0.004004,    0.005005,    0.006006,    0.007007,    0.008008,    0.009009,     0.01001,    0.011011,    0.012012,    0.013013,    0.014014,    0.015015,    0.016016,    0.017017,    0.018018,    0.019019,     0.02002,    0.021021,    0.022022,    0.023023,\n",
              "          0.024024,    0.025025,    0.026026,    0.027027,    0.028028,    0.029029,     0.03003,    0.031031,    0.032032,    0.033033,    0.034034,    0.035035,    0.036036,    0.037037,    0.038038,    0.039039,     0.04004,    0.041041,    0.042042,    0.043043,    0.044044,    0.045045,    0.046046,    0.047047,\n",
              "          0.048048,    0.049049,     0.05005,    0.051051,    0.052052,    0.053053,    0.054054,    0.055055,    0.056056,    0.057057,    0.058058,    0.059059,     0.06006,    0.061061,    0.062062,    0.063063,    0.064064,    0.065065,    0.066066,    0.067067,    0.068068,    0.069069,     0.07007,    0.071071,\n",
              "          0.072072,    0.073073,    0.074074,    0.075075,    0.076076,    0.077077,    0.078078,    0.079079,     0.08008,    0.081081,    0.082082,    0.083083,    0.084084,    0.085085,    0.086086,    0.087087,    0.088088,    0.089089,     0.09009,    0.091091,    0.092092,    0.093093,    0.094094,    0.095095,\n",
              "          0.096096,    0.097097,    0.098098,    0.099099,      0.1001,      0.1011,      0.1021,      0.1031,      0.1041,     0.10511,     0.10611,     0.10711,     0.10811,     0.10911,     0.11011,     0.11111,     0.11211,     0.11311,     0.11411,     0.11512,     0.11612,     0.11712,     0.11812,     0.11912,\n",
              "           0.12012,     0.12112,     0.12212,     0.12312,     0.12412,     0.12513,     0.12613,     0.12713,     0.12813,     0.12913,     0.13013,     0.13113,     0.13213,     0.13313,     0.13413,     0.13514,     0.13614,     0.13714,     0.13814,     0.13914,     0.14014,     0.14114,     0.14214,     0.14314,\n",
              "           0.14414,     0.14515,     0.14615,     0.14715,     0.14815,     0.14915,     0.15015,     0.15115,     0.15215,     0.15315,     0.15415,     0.15516,     0.15616,     0.15716,     0.15816,     0.15916,     0.16016,     0.16116,     0.16216,     0.16316,     0.16416,     0.16517,     0.16617,     0.16717,\n",
              "           0.16817,     0.16917,     0.17017,     0.17117,     0.17217,     0.17317,     0.17417,     0.17518,     0.17618,     0.17718,     0.17818,     0.17918,     0.18018,     0.18118,     0.18218,     0.18318,     0.18418,     0.18519,     0.18619,     0.18719,     0.18819,     0.18919,     0.19019,     0.19119,\n",
              "           0.19219,     0.19319,     0.19419,      0.1952,      0.1962,      0.1972,      0.1982,      0.1992,      0.2002,      0.2012,      0.2022,      0.2032,      0.2042,     0.20521,     0.20621,     0.20721,     0.20821,     0.20921,     0.21021,     0.21121,     0.21221,     0.21321,     0.21421,     0.21522,\n",
              "           0.21622,     0.21722,     0.21822,     0.21922,     0.22022,     0.22122,     0.22222,     0.22322,     0.22422,     0.22523,     0.22623,     0.22723,     0.22823,     0.22923,     0.23023,     0.23123,     0.23223,     0.23323,     0.23423,     0.23524,     0.23624,     0.23724,     0.23824,     0.23924,\n",
              "           0.24024,     0.24124,     0.24224,     0.24324,     0.24424,     0.24525,     0.24625,     0.24725,     0.24825,     0.24925,     0.25025,     0.25125,     0.25225,     0.25325,     0.25425,     0.25526,     0.25626,     0.25726,     0.25826,     0.25926,     0.26026,     0.26126,     0.26226,     0.26326,\n",
              "           0.26426,     0.26527,     0.26627,     0.26727,     0.26827,     0.26927,     0.27027,     0.27127,     0.27227,     0.27327,     0.27427,     0.27528,     0.27628,     0.27728,     0.27828,     0.27928,     0.28028,     0.28128,     0.28228,     0.28328,     0.28428,     0.28529,     0.28629,     0.28729,\n",
              "           0.28829,     0.28929,     0.29029,     0.29129,     0.29229,     0.29329,     0.29429,      0.2953,      0.2963,      0.2973,      0.2983,      0.2993,      0.3003,      0.3013,      0.3023,      0.3033,      0.3043,     0.30531,     0.30631,     0.30731,     0.30831,     0.30931,     0.31031,     0.31131,\n",
              "           0.31231,     0.31331,     0.31431,     0.31532,     0.31632,     0.31732,     0.31832,     0.31932,     0.32032,     0.32132,     0.32232,     0.32332,     0.32432,     0.32533,     0.32633,     0.32733,     0.32833,     0.32933,     0.33033,     0.33133,     0.33233,     0.33333,     0.33433,     0.33534,\n",
              "           0.33634,     0.33734,     0.33834,     0.33934,     0.34034,     0.34134,     0.34234,     0.34334,     0.34434,     0.34535,     0.34635,     0.34735,     0.34835,     0.34935,     0.35035,     0.35135,     0.35235,     0.35335,     0.35435,     0.35536,     0.35636,     0.35736,     0.35836,     0.35936,\n",
              "           0.36036,     0.36136,     0.36236,     0.36336,     0.36436,     0.36537,     0.36637,     0.36737,     0.36837,     0.36937,     0.37037,     0.37137,     0.37237,     0.37337,     0.37437,     0.37538,     0.37638,     0.37738,     0.37838,     0.37938,     0.38038,     0.38138,     0.38238,     0.38338,\n",
              "           0.38438,     0.38539,     0.38639,     0.38739,     0.38839,     0.38939,     0.39039,     0.39139,     0.39239,     0.39339,     0.39439,      0.3954,      0.3964,      0.3974,      0.3984,      0.3994,      0.4004,      0.4014,      0.4024,      0.4034,      0.4044,     0.40541,     0.40641,     0.40741,\n",
              "           0.40841,     0.40941,     0.41041,     0.41141,     0.41241,     0.41341,     0.41441,     0.41542,     0.41642,     0.41742,     0.41842,     0.41942,     0.42042,     0.42142,     0.42242,     0.42342,     0.42442,     0.42543,     0.42643,     0.42743,     0.42843,     0.42943,     0.43043,     0.43143,\n",
              "           0.43243,     0.43343,     0.43443,     0.43544,     0.43644,     0.43744,     0.43844,     0.43944,     0.44044,     0.44144,     0.44244,     0.44344,     0.44444,     0.44545,     0.44645,     0.44745,     0.44845,     0.44945,     0.45045,     0.45145,     0.45245,     0.45345,     0.45445,     0.45546,\n",
              "           0.45646,     0.45746,     0.45846,     0.45946,     0.46046,     0.46146,     0.46246,     0.46346,     0.46446,     0.46547,     0.46647,     0.46747,     0.46847,     0.46947,     0.47047,     0.47147,     0.47247,     0.47347,     0.47447,     0.47548,     0.47648,     0.47748,     0.47848,     0.47948,\n",
              "           0.48048,     0.48148,     0.48248,     0.48348,     0.48448,     0.48549,     0.48649,     0.48749,     0.48849,     0.48949,     0.49049,     0.49149,     0.49249,     0.49349,     0.49449,      0.4955,      0.4965,      0.4975,      0.4985,      0.4995,      0.5005,      0.5015,      0.5025,      0.5035,\n",
              "            0.5045,     0.50551,     0.50651,     0.50751,     0.50851,     0.50951,     0.51051,     0.51151,     0.51251,     0.51351,     0.51451,     0.51552,     0.51652,     0.51752,     0.51852,     0.51952,     0.52052,     0.52152,     0.52252,     0.52352,     0.52452,     0.52553,     0.52653,     0.52753,\n",
              "           0.52853,     0.52953,     0.53053,     0.53153,     0.53253,     0.53353,     0.53453,     0.53554,     0.53654,     0.53754,     0.53854,     0.53954,     0.54054,     0.54154,     0.54254,     0.54354,     0.54454,     0.54555,     0.54655,     0.54755,     0.54855,     0.54955,     0.55055,     0.55155,\n",
              "           0.55255,     0.55355,     0.55455,     0.55556,     0.55656,     0.55756,     0.55856,     0.55956,     0.56056,     0.56156,     0.56256,     0.56356,     0.56456,     0.56557,     0.56657,     0.56757,     0.56857,     0.56957,     0.57057,     0.57157,     0.57257,     0.57357,     0.57457,     0.57558,\n",
              "           0.57658,     0.57758,     0.57858,     0.57958,     0.58058,     0.58158,     0.58258,     0.58358,     0.58458,     0.58559,     0.58659,     0.58759,     0.58859,     0.58959,     0.59059,     0.59159,     0.59259,     0.59359,     0.59459,      0.5956,      0.5966,      0.5976,      0.5986,      0.5996,\n",
              "            0.6006,      0.6016,      0.6026,      0.6036,      0.6046,     0.60561,     0.60661,     0.60761,     0.60861,     0.60961,     0.61061,     0.61161,     0.61261,     0.61361,     0.61461,     0.61562,     0.61662,     0.61762,     0.61862,     0.61962,     0.62062,     0.62162,     0.62262,     0.62362,\n",
              "           0.62462,     0.62563,     0.62663,     0.62763,     0.62863,     0.62963,     0.63063,     0.63163,     0.63263,     0.63363,     0.63463,     0.63564,     0.63664,     0.63764,     0.63864,     0.63964,     0.64064,     0.64164,     0.64264,     0.64364,     0.64464,     0.64565,     0.64665,     0.64765,\n",
              "           0.64865,     0.64965,     0.65065,     0.65165,     0.65265,     0.65365,     0.65465,     0.65566,     0.65666,     0.65766,     0.65866,     0.65966,     0.66066,     0.66166,     0.66266,     0.66366,     0.66466,     0.66567,     0.66667,     0.66767,     0.66867,     0.66967,     0.67067,     0.67167,\n",
              "           0.67267,     0.67367,     0.67467,     0.67568,     0.67668,     0.67768,     0.67868,     0.67968,     0.68068,     0.68168,     0.68268,     0.68368,     0.68468,     0.68569,     0.68669,     0.68769,     0.68869,     0.68969,     0.69069,     0.69169,     0.69269,     0.69369,     0.69469,      0.6957,\n",
              "            0.6967,      0.6977,      0.6987,      0.6997,      0.7007,      0.7017,      0.7027,      0.7037,      0.7047,     0.70571,     0.70671,     0.70771,     0.70871,     0.70971,     0.71071,     0.71171,     0.71271,     0.71371,     0.71471,     0.71572,     0.71672,     0.71772,     0.71872,     0.71972,\n",
              "           0.72072,     0.72172,     0.72272,     0.72372,     0.72472,     0.72573,     0.72673,     0.72773,     0.72873,     0.72973,     0.73073,     0.73173,     0.73273,     0.73373,     0.73473,     0.73574,     0.73674,     0.73774,     0.73874,     0.73974,     0.74074,     0.74174,     0.74274,     0.74374,\n",
              "           0.74474,     0.74575,     0.74675,     0.74775,     0.74875,     0.74975,     0.75075,     0.75175,     0.75275,     0.75375,     0.75475,     0.75576,     0.75676,     0.75776,     0.75876,     0.75976,     0.76076,     0.76176,     0.76276,     0.76376,     0.76476,     0.76577,     0.76677,     0.76777,\n",
              "           0.76877,     0.76977,     0.77077,     0.77177,     0.77277,     0.77377,     0.77477,     0.77578,     0.77678,     0.77778,     0.77878,     0.77978,     0.78078,     0.78178,     0.78278,     0.78378,     0.78478,     0.78579,     0.78679,     0.78779,     0.78879,     0.78979,     0.79079,     0.79179,\n",
              "           0.79279,     0.79379,     0.79479,      0.7958,      0.7968,      0.7978,      0.7988,      0.7998,      0.8008,      0.8018,      0.8028,      0.8038,      0.8048,     0.80581,     0.80681,     0.80781,     0.80881,     0.80981,     0.81081,     0.81181,     0.81281,     0.81381,     0.81481,     0.81582,\n",
              "           0.81682,     0.81782,     0.81882,     0.81982,     0.82082,     0.82182,     0.82282,     0.82382,     0.82482,     0.82583,     0.82683,     0.82783,     0.82883,     0.82983,     0.83083,     0.83183,     0.83283,     0.83383,     0.83483,     0.83584,     0.83684,     0.83784,     0.83884,     0.83984,\n",
              "           0.84084,     0.84184,     0.84284,     0.84384,     0.84484,     0.84585,     0.84685,     0.84785,     0.84885,     0.84985,     0.85085,     0.85185,     0.85285,     0.85385,     0.85485,     0.85586,     0.85686,     0.85786,     0.85886,     0.85986,     0.86086,     0.86186,     0.86286,     0.86386,\n",
              "           0.86486,     0.86587,     0.86687,     0.86787,     0.86887,     0.86987,     0.87087,     0.87187,     0.87287,     0.87387,     0.87487,     0.87588,     0.87688,     0.87788,     0.87888,     0.87988,     0.88088,     0.88188,     0.88288,     0.88388,     0.88488,     0.88589,     0.88689,     0.88789,\n",
              "           0.88889,     0.88989,     0.89089,     0.89189,     0.89289,     0.89389,     0.89489,      0.8959,      0.8969,      0.8979,      0.8989,      0.8999,      0.9009,      0.9019,      0.9029,      0.9039,      0.9049,     0.90591,     0.90691,     0.90791,     0.90891,     0.90991,     0.91091,     0.91191,\n",
              "           0.91291,     0.91391,     0.91491,     0.91592,     0.91692,     0.91792,     0.91892,     0.91992,     0.92092,     0.92192,     0.92292,     0.92392,     0.92492,     0.92593,     0.92693,     0.92793,     0.92893,     0.92993,     0.93093,     0.93193,     0.93293,     0.93393,     0.93493,     0.93594,\n",
              "           0.93694,     0.93794,     0.93894,     0.93994,     0.94094,     0.94194,     0.94294,     0.94394,     0.94494,     0.94595,     0.94695,     0.94795,     0.94895,     0.94995,     0.95095,     0.95195,     0.95295,     0.95395,     0.95495,     0.95596,     0.95696,     0.95796,     0.95896,     0.95996,\n",
              "           0.96096,     0.96196,     0.96296,     0.96396,     0.96496,     0.96597,     0.96697,     0.96797,     0.96897,     0.96997,     0.97097,     0.97197,     0.97297,     0.97397,     0.97497,     0.97598,     0.97698,     0.97798,     0.97898,     0.97998,     0.98098,     0.98198,     0.98298,     0.98398,\n",
              "           0.98498,     0.98599,     0.98699,     0.98799,     0.98899,     0.98999,     0.99099,     0.99199,     0.99299,     0.99399,     0.99499,       0.996,       0.997,       0.998,       0.999,           1]), array([[    0.65294,     0.65294,     0.73525,     0.75951,     0.78265,     0.80556,     0.81487,     0.82082,     0.82373,     0.83468,     0.84255,     0.84752,     0.84879,     0.85005,     0.85257,      0.8561,     0.86123,      0.8623,     0.86337,     0.86733,     0.86809,     0.86885,      0.8696,\n",
              "            0.87036,     0.87113,     0.87191,     0.87269,     0.87346,     0.87457,     0.87649,     0.88152,     0.88417,     0.88472,     0.88501,      0.8853,     0.88559,     0.88588,     0.88617,     0.88646,     0.88675,     0.88704,     0.88733,     0.88762,     0.88791,      0.8913,     0.89278,\n",
              "            0.89406,     0.89589,     0.89925,      0.9003,     0.90135,      0.9024,     0.90345,     0.90451,     0.90556,     0.90645,     0.90715,     0.90786,     0.90856,     0.90926,     0.90991,      0.9103,     0.91069,     0.91108,     0.91147,     0.91185,     0.91224,     0.91263,     0.91302,\n",
              "            0.91341,     0.91448,     0.91611,     0.91784,     0.91993,     0.92298,     0.92914,     0.92976,     0.93038,       0.931,     0.93163,     0.93225,     0.93864,     0.94141,     0.94227,     0.94314,       0.944,     0.94561,     0.94886,     0.94932,     0.94979,     0.95026,     0.95073,\n",
              "            0.95119,     0.95166,     0.95213,     0.95259,     0.95692,     0.95725,     0.95757,     0.95789,     0.95821,     0.95853,     0.95885,     0.95917,     0.95949,     0.95981,     0.96013,     0.96045,     0.96077,     0.96119,     0.96213,     0.96307,     0.96401,     0.96495,     0.96533,\n",
              "            0.96549,     0.96564,      0.9658,     0.96596,     0.96611,     0.96627,     0.96643,     0.96658,     0.96674,      0.9669,     0.96705,     0.96721,     0.96737,     0.96752,     0.96768,     0.96783,     0.96799,     0.96815,      0.9683,     0.96846,     0.96862,     0.96877,     0.96893,\n",
              "            0.96908,     0.96924,     0.96939,     0.96946,     0.96949,     0.96952,     0.96955,     0.96958,     0.96961,     0.96964,     0.96967,      0.9697,     0.96973,     0.96976,     0.96979,     0.96982,     0.96985,     0.96988,     0.96991,     0.96994,     0.96997,        0.97,     0.97003,\n",
              "            0.97007,      0.9701,     0.97013,     0.97016,     0.97019,     0.97022,     0.97025,     0.97028,     0.97031,     0.97034,     0.97037,      0.9704,     0.97043,     0.97046,     0.97049,     0.97052,     0.97055,     0.97058,     0.97061,     0.97064,     0.97067,      0.9707,     0.97073,\n",
              "            0.97077,      0.9708,     0.97083,     0.97086,     0.97089,     0.97092,     0.97095,     0.97098,     0.97101,     0.97104,     0.97107,      0.9711,     0.97113,     0.97116,     0.97119,     0.97122,     0.97125,     0.97128,     0.97131,     0.97134,     0.97137,      0.9714,     0.97143,\n",
              "            0.97146,     0.97149,     0.97153,     0.97156,     0.97159,     0.97162,     0.97165,     0.97168,     0.97171,     0.97174,     0.97177,      0.9718,     0.97183,     0.97186,     0.97189,     0.97192,     0.97195,     0.97198,     0.97201,     0.97204,     0.97207,      0.9721,     0.97213,\n",
              "            0.97216,     0.97219,     0.97222,     0.97225,     0.97228,     0.97231,     0.97234,     0.97237,     0.97241,     0.97244,     0.97247,      0.9725,     0.97253,     0.97256,     0.97259,     0.97262,     0.97265,     0.97268,     0.97271,     0.97274,     0.97277,      0.9728,     0.97283,\n",
              "            0.97286,     0.97289,     0.97292,     0.97295,     0.97298,     0.97301,     0.97304,     0.97307,      0.9731,     0.97313,     0.97316,     0.97319,     0.97322,     0.97325,     0.97328,     0.97331,     0.97334,     0.97337,      0.9734,     0.97344,     0.97347,      0.9735,     0.97353,\n",
              "            0.97356,     0.97359,     0.97362,     0.97365,     0.97368,     0.97375,     0.97384,     0.97393,     0.97402,      0.9741,     0.97419,     0.97428,     0.97437,     0.97446,     0.97455,     0.97463,     0.97472,     0.97481,      0.9749,     0.97499,     0.97507,     0.97516,     0.97525,\n",
              "            0.97534,     0.97543,     0.97551,      0.9756,     0.97569,     0.97578,     0.97587,     0.97595,     0.97604,     0.97613,     0.97622,     0.97631,     0.97639,     0.97648,     0.97657,     0.97666,     0.97674,     0.97683,     0.97692,     0.97701,      0.9771,     0.97718,     0.97727,\n",
              "            0.97736,     0.97745,     0.97753,     0.97762,     0.97771,      0.9778,     0.97788,     0.97797,     0.97867,     0.97939,      0.9801,      0.9808,     0.98151,     0.98222,     0.98233,     0.98237,      0.9824,     0.98244,     0.98248,     0.98251,     0.98255,     0.98258,     0.98262,\n",
              "            0.98265,     0.98269,     0.98273,     0.98276,      0.9828,     0.98283,     0.98287,     0.98291,     0.98294,     0.98298,     0.98301,     0.98305,     0.98308,     0.98312,     0.98316,     0.98319,     0.98323,     0.98326,      0.9833,     0.98333,     0.98337,     0.98341,     0.98344,\n",
              "            0.98348,     0.98351,     0.98355,     0.98358,     0.98362,     0.98366,     0.98369,     0.98373,     0.98376,      0.9838,     0.98383,     0.98387,     0.98391,     0.98394,     0.98398,     0.98401,     0.98405,     0.98408,     0.98412,     0.98416,     0.98419,     0.98423,     0.98426,\n",
              "             0.9843,     0.98433,     0.98437,     0.98441,     0.98444,     0.98448,     0.98451,     0.98455,     0.98458,     0.98462,     0.98465,     0.98469,     0.98473,     0.98476,      0.9848,     0.98483,     0.98487,      0.9849,     0.98494,     0.98498,     0.98501,     0.98505,     0.98508,\n",
              "            0.98512,     0.98515,     0.98519,     0.98522,     0.98526,      0.9853,     0.98533,     0.98537,      0.9854,     0.98544,     0.98547,     0.98551,     0.98555,     0.98558,     0.98562,     0.98565,     0.98569,     0.98572,     0.98576,     0.98579,     0.98583,     0.98587,      0.9859,\n",
              "            0.98594,     0.98597,     0.98601,     0.98604,     0.98608,     0.98611,     0.98615,     0.98619,     0.98622,     0.98626,     0.98629,     0.98633,     0.98636,      0.9864,     0.98643,     0.98647,     0.98651,     0.98654,     0.98658,     0.98661,     0.98665,     0.98662,     0.98651,\n",
              "             0.9864,     0.98629,     0.98618,     0.98607,     0.98596,     0.98585,     0.98574,     0.98563,     0.98552,     0.98541,      0.9853,     0.98519,     0.98508,     0.98497,     0.98486,     0.98474,     0.98463,     0.98452,     0.98441,      0.9843,     0.98419,     0.98408,     0.98397,\n",
              "            0.98386,     0.98375,     0.98364,     0.98353,     0.98342,     0.98331,      0.9832,     0.98309,     0.98298,     0.98287,     0.98276,     0.98264,     0.98253,     0.98242,     0.98231,      0.9822,     0.98211,     0.98203,     0.98195,     0.98187,     0.98179,     0.98171,     0.98163,\n",
              "            0.98155,     0.98147,     0.98139,     0.98132,     0.98124,     0.98116,     0.98108,       0.981,     0.98092,     0.98084,     0.98076,     0.98068,      0.9806,     0.98052,     0.98044,     0.98037,     0.98029,     0.98021,     0.98013,     0.98005,     0.97997,     0.97989,     0.97981,\n",
              "            0.97973,     0.97965,     0.97957,     0.97949,     0.97941,     0.97933,     0.97925,     0.97918,      0.9791,     0.97902,     0.97894,     0.97886,     0.97878,      0.9787,     0.97862,     0.97854,     0.97846,     0.97838,      0.9783,     0.97822,     0.97814,     0.97806,     0.97798,\n",
              "             0.9779,     0.97782,     0.97774,     0.97766,     0.97759,     0.97662,     0.97557,     0.97452,     0.97347,     0.97256,     0.97177,     0.97097,     0.97018,     0.96938,     0.96859,     0.96803,      0.9676,     0.96716,     0.96673,     0.96629,     0.96585,     0.96541,     0.96498,\n",
              "            0.96454,      0.9641,     0.96366,     0.96353,     0.96342,     0.96331,     0.96319,     0.96308,     0.96297,     0.96286,     0.96274,     0.96263,     0.96252,     0.96241,     0.96229,     0.96218,     0.96207,     0.96196,     0.96184,     0.96173,     0.96162,      0.9615,     0.96139,\n",
              "            0.96128,     0.96117,     0.96105,     0.96094,     0.96083,     0.96071,      0.9606,     0.96049,     0.96038,     0.96026,     0.96015,     0.96004,     0.95992,     0.95981,      0.9597,     0.95958,     0.95947,     0.95936,     0.95924,     0.95913,     0.95902,     0.95891,     0.95959,\n",
              "            0.96029,     0.96098,     0.96168,     0.96237,     0.96306,     0.96297,     0.96246,     0.96194,     0.96143,     0.96091,      0.9604,     0.95988,     0.95936,     0.95885,     0.95847,     0.95831,     0.95816,     0.95801,     0.95785,      0.9577,     0.95754,     0.95739,     0.95724,\n",
              "            0.95708,     0.95693,     0.95677,     0.95662,     0.95646,     0.95631,     0.95616,       0.956,     0.95585,     0.95569,     0.95554,     0.95538,     0.95523,     0.95507,     0.95492,     0.95476,     0.95461,     0.95445,      0.9543,     0.95414,     0.95399,     0.95383,     0.95209,\n",
              "            0.94928,     0.94993,     0.95058,     0.95123,     0.95188,     0.95252,     0.95317,     0.95315,     0.95301,     0.95286,     0.95272,     0.95258,     0.95243,     0.95229,     0.95215,       0.952,     0.95186,     0.95172,     0.95157,     0.95143,     0.95128,     0.95114,       0.951,\n",
              "            0.95085,     0.95071,     0.95056,     0.95042,     0.95028,     0.95013,     0.94999,     0.94984,      0.9497,     0.94956,     0.94941,     0.94927,     0.94912,     0.94898,     0.94883,     0.94869,     0.94854,      0.9484,     0.94765,     0.94663,     0.94562,      0.9446,     0.94358,\n",
              "            0.94129,     0.93872,     0.93822,     0.93802,     0.93783,     0.93763,     0.93744,     0.93724,     0.93705,     0.93685,     0.93666,     0.93646,     0.93627,     0.93607,     0.93588,     0.93568,     0.93549,     0.93529,      0.9351,      0.9349,      0.9347,     0.93451,     0.93431,\n",
              "            0.93412,     0.93392,     0.93372,     0.93353,     0.93332,     0.93278,     0.93223,     0.93168,     0.93113,     0.93058,     0.93002,     0.92947,     0.92892,     0.92837,     0.92796,     0.92759,     0.92723,     0.92687,      0.9265,     0.92614,     0.92578,     0.92541,     0.92505,\n",
              "            0.92468,     0.92432,     0.92395,     0.92359,     0.92322,     0.92276,     0.92222,     0.92169,     0.92116,     0.92063,     0.92009,     0.91956,     0.91903,     0.91849,     0.91796,      0.9174,     0.91683,     0.91627,      0.9157,     0.91513,     0.91457,       0.914,     0.91343,\n",
              "            0.91286,     0.91272,     0.91288,     0.91305,     0.91322,     0.91338,     0.91355,     0.91372,     0.91388,     0.91405,     0.91422,     0.91438,     0.91455,     0.91472,     0.91488,     0.91505,     0.91521,     0.91538,     0.91554,     0.91571,     0.91588,     0.91604,     0.91621,\n",
              "            0.91637,     0.91654,      0.9167,     0.91687,     0.91703,     0.91639,     0.91549,     0.91458,     0.91368,     0.91277,     0.91186,     0.91144,     0.91107,     0.91071,     0.91034,     0.90998,     0.90961,     0.90924,     0.90888,     0.90851,     0.90814,     0.90778,     0.90741,\n",
              "            0.90704,     0.90667,     0.90604,     0.90466,     0.90327,     0.90188,      0.9007,      0.8999,     0.89911,     0.89831,      0.8975,      0.8967,      0.8959,     0.89486,      0.8936,     0.89234,     0.89108,     0.88996,      0.8897,     0.88943,     0.88917,      0.8889,     0.88864,\n",
              "            0.88837,     0.88811,     0.88784,     0.88758,     0.88731,     0.88704,     0.88678,     0.88651,     0.88625,     0.88598,     0.88571,     0.88545,     0.88518,     0.88491,     0.88464,     0.87781,     0.87235,     0.86842,     0.86302,     0.86089,     0.86004,     0.85918,     0.85832,\n",
              "            0.85746,      0.8566,     0.85574,     0.85287,     0.84982,     0.84825,     0.84672,     0.84518,     0.84363,     0.84186,     0.84009,     0.83831,     0.83087,     0.82665,     0.82471,     0.82372,     0.82274,     0.82175,     0.82077,     0.81978,     0.81445,     0.80711,     0.79045,\n",
              "            0.78706,     0.78257,     0.77799,     0.77318,     0.76541,     0.76306,     0.76071,     0.75109,     0.73678,     0.73382,     0.73071,     0.72698,     0.72049,     0.71293,     0.70818,     0.70432,     0.69305,     0.68989,     0.68671,     0.66841,     0.66293,     0.65477,     0.65046,\n",
              "            0.64596,     0.63344,     0.62769,      0.6242,     0.61901,     0.59362,     0.58443,     0.57572,     0.56944,     0.56079,     0.55117,     0.54395,     0.53859,     0.53576,     0.53293,     0.53008,     0.50155,     0.49356,        0.48,     0.46721,     0.46358,     0.45994,     0.44595,\n",
              "               0.43,     0.40146,     0.38783,      0.3666,     0.36042,     0.35009,     0.28575,     0.26315,     0.25381,     0.24056,     0.22614,     0.20123,     0.17436,     0.14344,     0.10422,    0.070439,    0.052649,           0,           0,           0,           0,           0,           0,\n",
              "                  0,           0,           0,           0,           0,           0,           0,           0,           0,           0,           0,           0,           0,           0,           0,           0,           0,           0,           0,           0,           0,           0,           0,\n",
              "                  0,           0,           0,           0,           0,           0,           0,           0,           0,           0,           0]]), 'Confidence', 'F1'], [array([          0,    0.001001,    0.002002,    0.003003,    0.004004,    0.005005,    0.006006,    0.007007,    0.008008,    0.009009,     0.01001,    0.011011,    0.012012,    0.013013,    0.014014,    0.015015,    0.016016,    0.017017,    0.018018,    0.019019,     0.02002,    0.021021,    0.022022,    0.023023,\n",
              "          0.024024,    0.025025,    0.026026,    0.027027,    0.028028,    0.029029,     0.03003,    0.031031,    0.032032,    0.033033,    0.034034,    0.035035,    0.036036,    0.037037,    0.038038,    0.039039,     0.04004,    0.041041,    0.042042,    0.043043,    0.044044,    0.045045,    0.046046,    0.047047,\n",
              "          0.048048,    0.049049,     0.05005,    0.051051,    0.052052,    0.053053,    0.054054,    0.055055,    0.056056,    0.057057,    0.058058,    0.059059,     0.06006,    0.061061,    0.062062,    0.063063,    0.064064,    0.065065,    0.066066,    0.067067,    0.068068,    0.069069,     0.07007,    0.071071,\n",
              "          0.072072,    0.073073,    0.074074,    0.075075,    0.076076,    0.077077,    0.078078,    0.079079,     0.08008,    0.081081,    0.082082,    0.083083,    0.084084,    0.085085,    0.086086,    0.087087,    0.088088,    0.089089,     0.09009,    0.091091,    0.092092,    0.093093,    0.094094,    0.095095,\n",
              "          0.096096,    0.097097,    0.098098,    0.099099,      0.1001,      0.1011,      0.1021,      0.1031,      0.1041,     0.10511,     0.10611,     0.10711,     0.10811,     0.10911,     0.11011,     0.11111,     0.11211,     0.11311,     0.11411,     0.11512,     0.11612,     0.11712,     0.11812,     0.11912,\n",
              "           0.12012,     0.12112,     0.12212,     0.12312,     0.12412,     0.12513,     0.12613,     0.12713,     0.12813,     0.12913,     0.13013,     0.13113,     0.13213,     0.13313,     0.13413,     0.13514,     0.13614,     0.13714,     0.13814,     0.13914,     0.14014,     0.14114,     0.14214,     0.14314,\n",
              "           0.14414,     0.14515,     0.14615,     0.14715,     0.14815,     0.14915,     0.15015,     0.15115,     0.15215,     0.15315,     0.15415,     0.15516,     0.15616,     0.15716,     0.15816,     0.15916,     0.16016,     0.16116,     0.16216,     0.16316,     0.16416,     0.16517,     0.16617,     0.16717,\n",
              "           0.16817,     0.16917,     0.17017,     0.17117,     0.17217,     0.17317,     0.17417,     0.17518,     0.17618,     0.17718,     0.17818,     0.17918,     0.18018,     0.18118,     0.18218,     0.18318,     0.18418,     0.18519,     0.18619,     0.18719,     0.18819,     0.18919,     0.19019,     0.19119,\n",
              "           0.19219,     0.19319,     0.19419,      0.1952,      0.1962,      0.1972,      0.1982,      0.1992,      0.2002,      0.2012,      0.2022,      0.2032,      0.2042,     0.20521,     0.20621,     0.20721,     0.20821,     0.20921,     0.21021,     0.21121,     0.21221,     0.21321,     0.21421,     0.21522,\n",
              "           0.21622,     0.21722,     0.21822,     0.21922,     0.22022,     0.22122,     0.22222,     0.22322,     0.22422,     0.22523,     0.22623,     0.22723,     0.22823,     0.22923,     0.23023,     0.23123,     0.23223,     0.23323,     0.23423,     0.23524,     0.23624,     0.23724,     0.23824,     0.23924,\n",
              "           0.24024,     0.24124,     0.24224,     0.24324,     0.24424,     0.24525,     0.24625,     0.24725,     0.24825,     0.24925,     0.25025,     0.25125,     0.25225,     0.25325,     0.25425,     0.25526,     0.25626,     0.25726,     0.25826,     0.25926,     0.26026,     0.26126,     0.26226,     0.26326,\n",
              "           0.26426,     0.26527,     0.26627,     0.26727,     0.26827,     0.26927,     0.27027,     0.27127,     0.27227,     0.27327,     0.27427,     0.27528,     0.27628,     0.27728,     0.27828,     0.27928,     0.28028,     0.28128,     0.28228,     0.28328,     0.28428,     0.28529,     0.28629,     0.28729,\n",
              "           0.28829,     0.28929,     0.29029,     0.29129,     0.29229,     0.29329,     0.29429,      0.2953,      0.2963,      0.2973,      0.2983,      0.2993,      0.3003,      0.3013,      0.3023,      0.3033,      0.3043,     0.30531,     0.30631,     0.30731,     0.30831,     0.30931,     0.31031,     0.31131,\n",
              "           0.31231,     0.31331,     0.31431,     0.31532,     0.31632,     0.31732,     0.31832,     0.31932,     0.32032,     0.32132,     0.32232,     0.32332,     0.32432,     0.32533,     0.32633,     0.32733,     0.32833,     0.32933,     0.33033,     0.33133,     0.33233,     0.33333,     0.33433,     0.33534,\n",
              "           0.33634,     0.33734,     0.33834,     0.33934,     0.34034,     0.34134,     0.34234,     0.34334,     0.34434,     0.34535,     0.34635,     0.34735,     0.34835,     0.34935,     0.35035,     0.35135,     0.35235,     0.35335,     0.35435,     0.35536,     0.35636,     0.35736,     0.35836,     0.35936,\n",
              "           0.36036,     0.36136,     0.36236,     0.36336,     0.36436,     0.36537,     0.36637,     0.36737,     0.36837,     0.36937,     0.37037,     0.37137,     0.37237,     0.37337,     0.37437,     0.37538,     0.37638,     0.37738,     0.37838,     0.37938,     0.38038,     0.38138,     0.38238,     0.38338,\n",
              "           0.38438,     0.38539,     0.38639,     0.38739,     0.38839,     0.38939,     0.39039,     0.39139,     0.39239,     0.39339,     0.39439,      0.3954,      0.3964,      0.3974,      0.3984,      0.3994,      0.4004,      0.4014,      0.4024,      0.4034,      0.4044,     0.40541,     0.40641,     0.40741,\n",
              "           0.40841,     0.40941,     0.41041,     0.41141,     0.41241,     0.41341,     0.41441,     0.41542,     0.41642,     0.41742,     0.41842,     0.41942,     0.42042,     0.42142,     0.42242,     0.42342,     0.42442,     0.42543,     0.42643,     0.42743,     0.42843,     0.42943,     0.43043,     0.43143,\n",
              "           0.43243,     0.43343,     0.43443,     0.43544,     0.43644,     0.43744,     0.43844,     0.43944,     0.44044,     0.44144,     0.44244,     0.44344,     0.44444,     0.44545,     0.44645,     0.44745,     0.44845,     0.44945,     0.45045,     0.45145,     0.45245,     0.45345,     0.45445,     0.45546,\n",
              "           0.45646,     0.45746,     0.45846,     0.45946,     0.46046,     0.46146,     0.46246,     0.46346,     0.46446,     0.46547,     0.46647,     0.46747,     0.46847,     0.46947,     0.47047,     0.47147,     0.47247,     0.47347,     0.47447,     0.47548,     0.47648,     0.47748,     0.47848,     0.47948,\n",
              "           0.48048,     0.48148,     0.48248,     0.48348,     0.48448,     0.48549,     0.48649,     0.48749,     0.48849,     0.48949,     0.49049,     0.49149,     0.49249,     0.49349,     0.49449,      0.4955,      0.4965,      0.4975,      0.4985,      0.4995,      0.5005,      0.5015,      0.5025,      0.5035,\n",
              "            0.5045,     0.50551,     0.50651,     0.50751,     0.50851,     0.50951,     0.51051,     0.51151,     0.51251,     0.51351,     0.51451,     0.51552,     0.51652,     0.51752,     0.51852,     0.51952,     0.52052,     0.52152,     0.52252,     0.52352,     0.52452,     0.52553,     0.52653,     0.52753,\n",
              "           0.52853,     0.52953,     0.53053,     0.53153,     0.53253,     0.53353,     0.53453,     0.53554,     0.53654,     0.53754,     0.53854,     0.53954,     0.54054,     0.54154,     0.54254,     0.54354,     0.54454,     0.54555,     0.54655,     0.54755,     0.54855,     0.54955,     0.55055,     0.55155,\n",
              "           0.55255,     0.55355,     0.55455,     0.55556,     0.55656,     0.55756,     0.55856,     0.55956,     0.56056,     0.56156,     0.56256,     0.56356,     0.56456,     0.56557,     0.56657,     0.56757,     0.56857,     0.56957,     0.57057,     0.57157,     0.57257,     0.57357,     0.57457,     0.57558,\n",
              "           0.57658,     0.57758,     0.57858,     0.57958,     0.58058,     0.58158,     0.58258,     0.58358,     0.58458,     0.58559,     0.58659,     0.58759,     0.58859,     0.58959,     0.59059,     0.59159,     0.59259,     0.59359,     0.59459,      0.5956,      0.5966,      0.5976,      0.5986,      0.5996,\n",
              "            0.6006,      0.6016,      0.6026,      0.6036,      0.6046,     0.60561,     0.60661,     0.60761,     0.60861,     0.60961,     0.61061,     0.61161,     0.61261,     0.61361,     0.61461,     0.61562,     0.61662,     0.61762,     0.61862,     0.61962,     0.62062,     0.62162,     0.62262,     0.62362,\n",
              "           0.62462,     0.62563,     0.62663,     0.62763,     0.62863,     0.62963,     0.63063,     0.63163,     0.63263,     0.63363,     0.63463,     0.63564,     0.63664,     0.63764,     0.63864,     0.63964,     0.64064,     0.64164,     0.64264,     0.64364,     0.64464,     0.64565,     0.64665,     0.64765,\n",
              "           0.64865,     0.64965,     0.65065,     0.65165,     0.65265,     0.65365,     0.65465,     0.65566,     0.65666,     0.65766,     0.65866,     0.65966,     0.66066,     0.66166,     0.66266,     0.66366,     0.66466,     0.66567,     0.66667,     0.66767,     0.66867,     0.66967,     0.67067,     0.67167,\n",
              "           0.67267,     0.67367,     0.67467,     0.67568,     0.67668,     0.67768,     0.67868,     0.67968,     0.68068,     0.68168,     0.68268,     0.68368,     0.68468,     0.68569,     0.68669,     0.68769,     0.68869,     0.68969,     0.69069,     0.69169,     0.69269,     0.69369,     0.69469,      0.6957,\n",
              "            0.6967,      0.6977,      0.6987,      0.6997,      0.7007,      0.7017,      0.7027,      0.7037,      0.7047,     0.70571,     0.70671,     0.70771,     0.70871,     0.70971,     0.71071,     0.71171,     0.71271,     0.71371,     0.71471,     0.71572,     0.71672,     0.71772,     0.71872,     0.71972,\n",
              "           0.72072,     0.72172,     0.72272,     0.72372,     0.72472,     0.72573,     0.72673,     0.72773,     0.72873,     0.72973,     0.73073,     0.73173,     0.73273,     0.73373,     0.73473,     0.73574,     0.73674,     0.73774,     0.73874,     0.73974,     0.74074,     0.74174,     0.74274,     0.74374,\n",
              "           0.74474,     0.74575,     0.74675,     0.74775,     0.74875,     0.74975,     0.75075,     0.75175,     0.75275,     0.75375,     0.75475,     0.75576,     0.75676,     0.75776,     0.75876,     0.75976,     0.76076,     0.76176,     0.76276,     0.76376,     0.76476,     0.76577,     0.76677,     0.76777,\n",
              "           0.76877,     0.76977,     0.77077,     0.77177,     0.77277,     0.77377,     0.77477,     0.77578,     0.77678,     0.77778,     0.77878,     0.77978,     0.78078,     0.78178,     0.78278,     0.78378,     0.78478,     0.78579,     0.78679,     0.78779,     0.78879,     0.78979,     0.79079,     0.79179,\n",
              "           0.79279,     0.79379,     0.79479,      0.7958,      0.7968,      0.7978,      0.7988,      0.7998,      0.8008,      0.8018,      0.8028,      0.8038,      0.8048,     0.80581,     0.80681,     0.80781,     0.80881,     0.80981,     0.81081,     0.81181,     0.81281,     0.81381,     0.81481,     0.81582,\n",
              "           0.81682,     0.81782,     0.81882,     0.81982,     0.82082,     0.82182,     0.82282,     0.82382,     0.82482,     0.82583,     0.82683,     0.82783,     0.82883,     0.82983,     0.83083,     0.83183,     0.83283,     0.83383,     0.83483,     0.83584,     0.83684,     0.83784,     0.83884,     0.83984,\n",
              "           0.84084,     0.84184,     0.84284,     0.84384,     0.84484,     0.84585,     0.84685,     0.84785,     0.84885,     0.84985,     0.85085,     0.85185,     0.85285,     0.85385,     0.85485,     0.85586,     0.85686,     0.85786,     0.85886,     0.85986,     0.86086,     0.86186,     0.86286,     0.86386,\n",
              "           0.86486,     0.86587,     0.86687,     0.86787,     0.86887,     0.86987,     0.87087,     0.87187,     0.87287,     0.87387,     0.87487,     0.87588,     0.87688,     0.87788,     0.87888,     0.87988,     0.88088,     0.88188,     0.88288,     0.88388,     0.88488,     0.88589,     0.88689,     0.88789,\n",
              "           0.88889,     0.88989,     0.89089,     0.89189,     0.89289,     0.89389,     0.89489,      0.8959,      0.8969,      0.8979,      0.8989,      0.8999,      0.9009,      0.9019,      0.9029,      0.9039,      0.9049,     0.90591,     0.90691,     0.90791,     0.90891,     0.90991,     0.91091,     0.91191,\n",
              "           0.91291,     0.91391,     0.91491,     0.91592,     0.91692,     0.91792,     0.91892,     0.91992,     0.92092,     0.92192,     0.92292,     0.92392,     0.92492,     0.92593,     0.92693,     0.92793,     0.92893,     0.92993,     0.93093,     0.93193,     0.93293,     0.93393,     0.93493,     0.93594,\n",
              "           0.93694,     0.93794,     0.93894,     0.93994,     0.94094,     0.94194,     0.94294,     0.94394,     0.94494,     0.94595,     0.94695,     0.94795,     0.94895,     0.94995,     0.95095,     0.95195,     0.95295,     0.95395,     0.95495,     0.95596,     0.95696,     0.95796,     0.95896,     0.95996,\n",
              "           0.96096,     0.96196,     0.96296,     0.96396,     0.96496,     0.96597,     0.96697,     0.96797,     0.96897,     0.96997,     0.97097,     0.97197,     0.97297,     0.97397,     0.97497,     0.97598,     0.97698,     0.97798,     0.97898,     0.97998,     0.98098,     0.98198,     0.98298,     0.98398,\n",
              "           0.98498,     0.98599,     0.98699,     0.98799,     0.98899,     0.98999,     0.99099,     0.99199,     0.99299,     0.99399,     0.99499,       0.996,       0.997,       0.998,       0.999,           1]), array([[    0.48472,     0.48472,     0.58134,     0.61227,     0.64291,     0.67443,     0.68758,     0.69609,     0.70028,     0.71627,     0.72794,     0.73539,      0.7373,     0.73921,     0.74303,     0.74841,     0.75628,     0.75793,     0.75959,     0.76574,     0.76692,     0.76811,     0.76929,\n",
              "            0.77047,     0.77168,      0.7729,     0.77413,     0.77535,      0.7771,     0.78014,     0.78814,     0.79238,     0.79327,     0.79374,     0.79421,     0.79467,     0.79514,     0.79561,     0.79607,     0.79654,     0.79701,     0.79748,     0.79794,     0.79841,     0.80392,     0.80633,\n",
              "            0.80842,     0.81142,     0.81694,     0.81868,     0.82042,     0.82216,     0.82391,     0.82566,     0.82741,      0.8289,     0.83008,     0.83126,     0.83244,     0.83362,     0.83471,     0.83536,     0.83602,     0.83668,     0.83733,     0.83799,     0.83865,      0.8393,     0.83996,\n",
              "            0.84061,     0.84243,      0.8452,     0.84816,     0.85172,     0.85698,     0.86765,     0.86874,     0.86983,     0.87092,       0.872,     0.87309,     0.88438,      0.8893,     0.89085,     0.89239,     0.89394,     0.89683,     0.90269,     0.90354,     0.90439,     0.90523,     0.90608,\n",
              "            0.90693,     0.90778,     0.90863,     0.90948,     0.91741,       0.918,     0.91859,     0.91918,     0.91977,     0.92036,     0.92096,     0.92155,     0.92214,     0.92273,     0.92332,     0.92391,      0.9245,     0.92528,     0.92703,     0.92877,     0.93052,     0.93227,     0.93298,\n",
              "            0.93327,     0.93357,     0.93386,     0.93415,     0.93445,     0.93474,     0.93503,     0.93533,     0.93562,     0.93591,     0.93621,      0.9365,     0.93679,     0.93709,     0.93738,     0.93767,     0.93797,     0.93826,     0.93855,     0.93885,     0.93914,     0.93943,     0.93973,\n",
              "            0.94002,     0.94031,     0.94061,     0.94072,     0.94078,     0.94084,     0.94089,     0.94095,     0.94101,     0.94107,     0.94112,     0.94118,     0.94124,      0.9413,     0.94135,     0.94141,     0.94147,     0.94153,     0.94158,     0.94164,      0.9417,     0.94176,     0.94181,\n",
              "            0.94187,     0.94193,     0.94199,     0.94204,      0.9421,     0.94216,     0.94221,     0.94227,     0.94233,     0.94239,     0.94244,      0.9425,     0.94256,     0.94262,     0.94267,     0.94273,     0.94279,     0.94285,      0.9429,     0.94296,     0.94302,     0.94308,     0.94313,\n",
              "            0.94319,     0.94325,     0.94331,     0.94336,     0.94342,     0.94348,     0.94354,     0.94359,     0.94365,     0.94371,     0.94377,     0.94382,     0.94388,     0.94394,       0.944,     0.94405,     0.94411,     0.94417,     0.94422,     0.94428,     0.94434,      0.9444,     0.94445,\n",
              "            0.94451,     0.94457,     0.94463,     0.94468,     0.94474,      0.9448,     0.94486,     0.94491,     0.94497,     0.94503,     0.94509,     0.94514,      0.9452,     0.94526,     0.94532,     0.94537,     0.94543,     0.94549,     0.94555,      0.9456,     0.94566,     0.94572,     0.94578,\n",
              "            0.94583,     0.94589,     0.94595,     0.94601,     0.94606,     0.94612,     0.94618,     0.94623,     0.94629,     0.94635,     0.94641,     0.94646,     0.94652,     0.94658,     0.94664,     0.94669,     0.94675,     0.94681,     0.94687,     0.94692,     0.94698,     0.94704,      0.9471,\n",
              "            0.94715,     0.94721,     0.94727,     0.94733,     0.94738,     0.94744,      0.9475,     0.94756,     0.94761,     0.94767,     0.94773,     0.94779,     0.94784,      0.9479,     0.94796,     0.94802,     0.94807,     0.94813,     0.94819,     0.94824,      0.9483,     0.94836,     0.94842,\n",
              "            0.94847,     0.94853,     0.94859,     0.94865,      0.9487,     0.94885,     0.94901,     0.94918,     0.94935,     0.94952,     0.94968,     0.94985,     0.95002,     0.95019,     0.95035,     0.95052,     0.95069,     0.95086,     0.95103,     0.95119,     0.95136,     0.95153,      0.9517,\n",
              "            0.95186,     0.95203,      0.9522,     0.95237,     0.95253,      0.9527,     0.95287,     0.95304,     0.95321,     0.95337,     0.95354,     0.95371,     0.95388,     0.95404,     0.95421,     0.95438,     0.95455,     0.95471,     0.95488,     0.95505,     0.95522,     0.95538,     0.95555,\n",
              "            0.95572,     0.95589,     0.95606,     0.95622,     0.95639,     0.95656,     0.95673,     0.95689,     0.95824,      0.9596,     0.96097,     0.96233,      0.9637,     0.96506,     0.96528,     0.96535,     0.96542,     0.96549,     0.96556,     0.96562,     0.96569,     0.96576,     0.96583,\n",
              "             0.9659,     0.96597,     0.96604,     0.96611,     0.96618,     0.96625,     0.96632,     0.96639,     0.96645,     0.96652,     0.96659,     0.96666,     0.96673,      0.9668,     0.96687,     0.96694,     0.96701,     0.96708,     0.96715,     0.96721,     0.96728,     0.96735,     0.96742,\n",
              "            0.96749,     0.96756,     0.96763,      0.9677,     0.96777,     0.96784,     0.96791,     0.96798,     0.96804,     0.96811,     0.96818,     0.96825,     0.96832,     0.96839,     0.96846,     0.96853,      0.9686,     0.96867,     0.96874,     0.96881,     0.96887,     0.96894,     0.96901,\n",
              "            0.96908,     0.96915,     0.96922,     0.96929,     0.96936,     0.96943,      0.9695,     0.96957,     0.96964,      0.9697,     0.96977,     0.96984,     0.96991,     0.96998,     0.97005,     0.97012,     0.97019,     0.97026,     0.97033,      0.9704,     0.97047,     0.97053,      0.9706,\n",
              "            0.97067,     0.97074,     0.97081,     0.97088,     0.97095,     0.97102,     0.97109,     0.97116,     0.97123,     0.97129,     0.97136,     0.97143,      0.9715,     0.97157,     0.97164,     0.97171,     0.97178,     0.97185,     0.97192,     0.97199,     0.97206,     0.97212,     0.97219,\n",
              "            0.97226,     0.97233,      0.9724,     0.97247,     0.97254,     0.97261,     0.97268,     0.97275,     0.97282,     0.97289,     0.97295,     0.97302,     0.97309,     0.97316,     0.97323,      0.9733,     0.97337,     0.97344,     0.97351,     0.97358,     0.97365,     0.97368,     0.97368,\n",
              "            0.97367,     0.97366,     0.97366,     0.97365,     0.97365,     0.97364,     0.97364,     0.97363,     0.97362,     0.97362,     0.97361,     0.97361,      0.9736,      0.9736,     0.97359,     0.97359,     0.97358,     0.97357,     0.97357,     0.97356,     0.97356,     0.97355,     0.97355,\n",
              "            0.97354,     0.97353,     0.97353,     0.97352,     0.97352,     0.97351,     0.97351,      0.9735,     0.97349,     0.97349,     0.97348,     0.97348,     0.97347,     0.97347,     0.97346,     0.97345,     0.97345,     0.97345,     0.97344,     0.97344,     0.97343,     0.97343,     0.97342,\n",
              "            0.97342,     0.97342,     0.97341,     0.97341,      0.9734,      0.9734,      0.9734,     0.97339,     0.97339,     0.97338,     0.97338,     0.97338,     0.97337,     0.97337,     0.97336,     0.97336,     0.97335,     0.97335,     0.97335,     0.97334,     0.97334,     0.97333,     0.97333,\n",
              "            0.97333,     0.97332,     0.97332,     0.97331,     0.97331,     0.97331,      0.9733,      0.9733,     0.97329,     0.97329,     0.97328,     0.97328,     0.97328,     0.97327,     0.97327,     0.97326,     0.97326,     0.97326,     0.97325,     0.97325,     0.97324,     0.97324,     0.97324,\n",
              "            0.97323,     0.97323,     0.97322,     0.97322,     0.97321,     0.97316,     0.97311,     0.97305,       0.973,     0.97295,     0.97291,     0.97287,     0.97282,     0.97278,     0.97274,     0.97271,     0.97269,     0.97266,     0.97264,     0.97262,      0.9726,     0.97257,     0.97255,\n",
              "            0.97253,      0.9725,     0.97248,     0.97247,     0.97247,     0.97246,     0.97245,     0.97245,     0.97244,     0.97243,     0.97243,     0.97242,     0.97242,     0.97241,      0.9724,      0.9724,     0.97239,     0.97239,     0.97238,     0.97237,     0.97237,     0.97236,     0.97236,\n",
              "            0.97235,     0.97234,     0.97234,     0.97233,     0.97233,     0.97232,     0.97231,     0.97231,      0.9723,      0.9723,     0.97229,     0.97228,     0.97228,     0.97227,     0.97226,     0.97226,     0.97225,     0.97225,     0.97224,     0.97223,     0.97223,     0.97222,     0.97364,\n",
              "            0.97507,     0.97651,     0.97794,     0.97937,     0.98081,      0.9813,     0.98128,     0.98126,     0.98124,     0.98122,      0.9812,     0.98118,     0.98116,     0.98114,     0.98113,     0.98112,     0.98112,     0.98111,     0.98111,      0.9811,      0.9811,     0.98109,     0.98108,\n",
              "            0.98108,     0.98107,     0.98107,     0.98106,     0.98106,     0.98105,     0.98104,     0.98104,     0.98103,     0.98103,     0.98102,     0.98101,     0.98101,       0.981,       0.981,     0.98099,     0.98099,     0.98098,     0.98097,     0.98097,     0.98096,     0.98096,     0.98089,\n",
              "            0.98171,      0.9831,      0.9845,     0.98589,     0.98729,     0.98868,     0.99008,     0.99029,     0.99029,     0.99028,     0.99028,     0.99028,     0.99027,     0.99027,     0.99027,     0.99027,     0.99026,     0.99026,     0.99026,     0.99026,     0.99025,     0.99025,     0.99025,\n",
              "            0.99024,     0.99024,     0.99024,     0.99024,     0.99023,     0.99023,     0.99023,     0.99022,     0.99022,     0.99022,     0.99022,     0.99021,     0.99021,     0.99021,     0.99021,      0.9902,      0.9902,      0.9902,     0.99018,     0.99016,     0.99014,     0.99012,      0.9901,\n",
              "            0.99006,     0.99001,        0.99,     0.98999,     0.98999,     0.98998,     0.98998,     0.98998,     0.98997,     0.98997,     0.98997,     0.98996,     0.98996,     0.98995,     0.98995,     0.98995,     0.98994,     0.98994,     0.98993,     0.98993,     0.98993,     0.98992,     0.98992,\n",
              "            0.98991,     0.98991,     0.98991,      0.9899,      0.9899,     0.98989,     0.98988,     0.98987,     0.98985,     0.98984,     0.98983,     0.98982,     0.98981,      0.9898,     0.98979,     0.98978,     0.98978,     0.98977,     0.98976,     0.98975,     0.98975,     0.98974,     0.98973,\n",
              "            0.98972,     0.98972,     0.98971,      0.9897,     0.98969,     0.98968,     0.98967,     0.98966,     0.98965,     0.98964,     0.98963,     0.98962,     0.98961,      0.9896,     0.98959,     0.98957,     0.98956,     0.98955,     0.98954,     0.98953,     0.98951,      0.9895,     0.98949,\n",
              "            0.98948,      0.9897,     0.99009,     0.99049,     0.99088,     0.99127,     0.99166,     0.99206,     0.99245,     0.99284,     0.99323,     0.99362,     0.99402,     0.99441,      0.9948,     0.99519,     0.99559,     0.99598,     0.99637,     0.99676,     0.99716,     0.99755,     0.99794,\n",
              "            0.99833,     0.99873,     0.99912,     0.99951,      0.9999,           1,           1,           1,           1,           1,           1,           1,           1,           1,           1,           1,           1,           1,           1,           1,           1,           1,           1,\n",
              "                  1,           1,           1,           1,           1,           1,           1,           1,           1,           1,           1,           1,           1,           1,           1,           1,           1,           1,           1,           1,           1,           1,           1,\n",
              "                  1,           1,           1,           1,           1,           1,           1,           1,           1,           1,           1,           1,           1,           1,           1,           1,           1,           1,           1,           1,           1,           1,           1,\n",
              "                  1,           1,           1,           1,           1,           1,           1,           1,           1,           1,           1,           1,           1,           1,           1,           1,           1,           1,           1,           1,           1,           1,           1,\n",
              "                  1,           1,           1,           1,           1,           1,           1,           1,           1,           1,           1,           1,           1,           1,           1,           1,           1,           1,           1,           1,           1,           1,           1,\n",
              "                  1,           1,           1,           1,           1,           1,           1,           1,           1,           1,           1,           1,           1,           1,           1,           1,           1,           1,           1,           1,           1,           1,           1,\n",
              "                  1,           1,           1,           1,           1,           1,           1,           1,           1,           1,           1,           1,           1,           1,           1,           1,           1,           1,           1,           1,           1,           1,           1,\n",
              "                  1,           1,           1,           1,           1,           1,           1,           1,           1,           1,           1,           1,           1,           1,           1,           1,           1,           1,           1,           1,           1,           1,           1,\n",
              "                  1,           1,           1,           1,           1,           1,           1,           1,           1,           1,           1]]), 'Confidence', 'Precision'], [array([          0,    0.001001,    0.002002,    0.003003,    0.004004,    0.005005,    0.006006,    0.007007,    0.008008,    0.009009,     0.01001,    0.011011,    0.012012,    0.013013,    0.014014,    0.015015,    0.016016,    0.017017,    0.018018,    0.019019,     0.02002,    0.021021,    0.022022,    0.023023,\n",
              "          0.024024,    0.025025,    0.026026,    0.027027,    0.028028,    0.029029,     0.03003,    0.031031,    0.032032,    0.033033,    0.034034,    0.035035,    0.036036,    0.037037,    0.038038,    0.039039,     0.04004,    0.041041,    0.042042,    0.043043,    0.044044,    0.045045,    0.046046,    0.047047,\n",
              "          0.048048,    0.049049,     0.05005,    0.051051,    0.052052,    0.053053,    0.054054,    0.055055,    0.056056,    0.057057,    0.058058,    0.059059,     0.06006,    0.061061,    0.062062,    0.063063,    0.064064,    0.065065,    0.066066,    0.067067,    0.068068,    0.069069,     0.07007,    0.071071,\n",
              "          0.072072,    0.073073,    0.074074,    0.075075,    0.076076,    0.077077,    0.078078,    0.079079,     0.08008,    0.081081,    0.082082,    0.083083,    0.084084,    0.085085,    0.086086,    0.087087,    0.088088,    0.089089,     0.09009,    0.091091,    0.092092,    0.093093,    0.094094,    0.095095,\n",
              "          0.096096,    0.097097,    0.098098,    0.099099,      0.1001,      0.1011,      0.1021,      0.1031,      0.1041,     0.10511,     0.10611,     0.10711,     0.10811,     0.10911,     0.11011,     0.11111,     0.11211,     0.11311,     0.11411,     0.11512,     0.11612,     0.11712,     0.11812,     0.11912,\n",
              "           0.12012,     0.12112,     0.12212,     0.12312,     0.12412,     0.12513,     0.12613,     0.12713,     0.12813,     0.12913,     0.13013,     0.13113,     0.13213,     0.13313,     0.13413,     0.13514,     0.13614,     0.13714,     0.13814,     0.13914,     0.14014,     0.14114,     0.14214,     0.14314,\n",
              "           0.14414,     0.14515,     0.14615,     0.14715,     0.14815,     0.14915,     0.15015,     0.15115,     0.15215,     0.15315,     0.15415,     0.15516,     0.15616,     0.15716,     0.15816,     0.15916,     0.16016,     0.16116,     0.16216,     0.16316,     0.16416,     0.16517,     0.16617,     0.16717,\n",
              "           0.16817,     0.16917,     0.17017,     0.17117,     0.17217,     0.17317,     0.17417,     0.17518,     0.17618,     0.17718,     0.17818,     0.17918,     0.18018,     0.18118,     0.18218,     0.18318,     0.18418,     0.18519,     0.18619,     0.18719,     0.18819,     0.18919,     0.19019,     0.19119,\n",
              "           0.19219,     0.19319,     0.19419,      0.1952,      0.1962,      0.1972,      0.1982,      0.1992,      0.2002,      0.2012,      0.2022,      0.2032,      0.2042,     0.20521,     0.20621,     0.20721,     0.20821,     0.20921,     0.21021,     0.21121,     0.21221,     0.21321,     0.21421,     0.21522,\n",
              "           0.21622,     0.21722,     0.21822,     0.21922,     0.22022,     0.22122,     0.22222,     0.22322,     0.22422,     0.22523,     0.22623,     0.22723,     0.22823,     0.22923,     0.23023,     0.23123,     0.23223,     0.23323,     0.23423,     0.23524,     0.23624,     0.23724,     0.23824,     0.23924,\n",
              "           0.24024,     0.24124,     0.24224,     0.24324,     0.24424,     0.24525,     0.24625,     0.24725,     0.24825,     0.24925,     0.25025,     0.25125,     0.25225,     0.25325,     0.25425,     0.25526,     0.25626,     0.25726,     0.25826,     0.25926,     0.26026,     0.26126,     0.26226,     0.26326,\n",
              "           0.26426,     0.26527,     0.26627,     0.26727,     0.26827,     0.26927,     0.27027,     0.27127,     0.27227,     0.27327,     0.27427,     0.27528,     0.27628,     0.27728,     0.27828,     0.27928,     0.28028,     0.28128,     0.28228,     0.28328,     0.28428,     0.28529,     0.28629,     0.28729,\n",
              "           0.28829,     0.28929,     0.29029,     0.29129,     0.29229,     0.29329,     0.29429,      0.2953,      0.2963,      0.2973,      0.2983,      0.2993,      0.3003,      0.3013,      0.3023,      0.3033,      0.3043,     0.30531,     0.30631,     0.30731,     0.30831,     0.30931,     0.31031,     0.31131,\n",
              "           0.31231,     0.31331,     0.31431,     0.31532,     0.31632,     0.31732,     0.31832,     0.31932,     0.32032,     0.32132,     0.32232,     0.32332,     0.32432,     0.32533,     0.32633,     0.32733,     0.32833,     0.32933,     0.33033,     0.33133,     0.33233,     0.33333,     0.33433,     0.33534,\n",
              "           0.33634,     0.33734,     0.33834,     0.33934,     0.34034,     0.34134,     0.34234,     0.34334,     0.34434,     0.34535,     0.34635,     0.34735,     0.34835,     0.34935,     0.35035,     0.35135,     0.35235,     0.35335,     0.35435,     0.35536,     0.35636,     0.35736,     0.35836,     0.35936,\n",
              "           0.36036,     0.36136,     0.36236,     0.36336,     0.36436,     0.36537,     0.36637,     0.36737,     0.36837,     0.36937,     0.37037,     0.37137,     0.37237,     0.37337,     0.37437,     0.37538,     0.37638,     0.37738,     0.37838,     0.37938,     0.38038,     0.38138,     0.38238,     0.38338,\n",
              "           0.38438,     0.38539,     0.38639,     0.38739,     0.38839,     0.38939,     0.39039,     0.39139,     0.39239,     0.39339,     0.39439,      0.3954,      0.3964,      0.3974,      0.3984,      0.3994,      0.4004,      0.4014,      0.4024,      0.4034,      0.4044,     0.40541,     0.40641,     0.40741,\n",
              "           0.40841,     0.40941,     0.41041,     0.41141,     0.41241,     0.41341,     0.41441,     0.41542,     0.41642,     0.41742,     0.41842,     0.41942,     0.42042,     0.42142,     0.42242,     0.42342,     0.42442,     0.42543,     0.42643,     0.42743,     0.42843,     0.42943,     0.43043,     0.43143,\n",
              "           0.43243,     0.43343,     0.43443,     0.43544,     0.43644,     0.43744,     0.43844,     0.43944,     0.44044,     0.44144,     0.44244,     0.44344,     0.44444,     0.44545,     0.44645,     0.44745,     0.44845,     0.44945,     0.45045,     0.45145,     0.45245,     0.45345,     0.45445,     0.45546,\n",
              "           0.45646,     0.45746,     0.45846,     0.45946,     0.46046,     0.46146,     0.46246,     0.46346,     0.46446,     0.46547,     0.46647,     0.46747,     0.46847,     0.46947,     0.47047,     0.47147,     0.47247,     0.47347,     0.47447,     0.47548,     0.47648,     0.47748,     0.47848,     0.47948,\n",
              "           0.48048,     0.48148,     0.48248,     0.48348,     0.48448,     0.48549,     0.48649,     0.48749,     0.48849,     0.48949,     0.49049,     0.49149,     0.49249,     0.49349,     0.49449,      0.4955,      0.4965,      0.4975,      0.4985,      0.4995,      0.5005,      0.5015,      0.5025,      0.5035,\n",
              "            0.5045,     0.50551,     0.50651,     0.50751,     0.50851,     0.50951,     0.51051,     0.51151,     0.51251,     0.51351,     0.51451,     0.51552,     0.51652,     0.51752,     0.51852,     0.51952,     0.52052,     0.52152,     0.52252,     0.52352,     0.52452,     0.52553,     0.52653,     0.52753,\n",
              "           0.52853,     0.52953,     0.53053,     0.53153,     0.53253,     0.53353,     0.53453,     0.53554,     0.53654,     0.53754,     0.53854,     0.53954,     0.54054,     0.54154,     0.54254,     0.54354,     0.54454,     0.54555,     0.54655,     0.54755,     0.54855,     0.54955,     0.55055,     0.55155,\n",
              "           0.55255,     0.55355,     0.55455,     0.55556,     0.55656,     0.55756,     0.55856,     0.55956,     0.56056,     0.56156,     0.56256,     0.56356,     0.56456,     0.56557,     0.56657,     0.56757,     0.56857,     0.56957,     0.57057,     0.57157,     0.57257,     0.57357,     0.57457,     0.57558,\n",
              "           0.57658,     0.57758,     0.57858,     0.57958,     0.58058,     0.58158,     0.58258,     0.58358,     0.58458,     0.58559,     0.58659,     0.58759,     0.58859,     0.58959,     0.59059,     0.59159,     0.59259,     0.59359,     0.59459,      0.5956,      0.5966,      0.5976,      0.5986,      0.5996,\n",
              "            0.6006,      0.6016,      0.6026,      0.6036,      0.6046,     0.60561,     0.60661,     0.60761,     0.60861,     0.60961,     0.61061,     0.61161,     0.61261,     0.61361,     0.61461,     0.61562,     0.61662,     0.61762,     0.61862,     0.61962,     0.62062,     0.62162,     0.62262,     0.62362,\n",
              "           0.62462,     0.62563,     0.62663,     0.62763,     0.62863,     0.62963,     0.63063,     0.63163,     0.63263,     0.63363,     0.63463,     0.63564,     0.63664,     0.63764,     0.63864,     0.63964,     0.64064,     0.64164,     0.64264,     0.64364,     0.64464,     0.64565,     0.64665,     0.64765,\n",
              "           0.64865,     0.64965,     0.65065,     0.65165,     0.65265,     0.65365,     0.65465,     0.65566,     0.65666,     0.65766,     0.65866,     0.65966,     0.66066,     0.66166,     0.66266,     0.66366,     0.66466,     0.66567,     0.66667,     0.66767,     0.66867,     0.66967,     0.67067,     0.67167,\n",
              "           0.67267,     0.67367,     0.67467,     0.67568,     0.67668,     0.67768,     0.67868,     0.67968,     0.68068,     0.68168,     0.68268,     0.68368,     0.68468,     0.68569,     0.68669,     0.68769,     0.68869,     0.68969,     0.69069,     0.69169,     0.69269,     0.69369,     0.69469,      0.6957,\n",
              "            0.6967,      0.6977,      0.6987,      0.6997,      0.7007,      0.7017,      0.7027,      0.7037,      0.7047,     0.70571,     0.70671,     0.70771,     0.70871,     0.70971,     0.71071,     0.71171,     0.71271,     0.71371,     0.71471,     0.71572,     0.71672,     0.71772,     0.71872,     0.71972,\n",
              "           0.72072,     0.72172,     0.72272,     0.72372,     0.72472,     0.72573,     0.72673,     0.72773,     0.72873,     0.72973,     0.73073,     0.73173,     0.73273,     0.73373,     0.73473,     0.73574,     0.73674,     0.73774,     0.73874,     0.73974,     0.74074,     0.74174,     0.74274,     0.74374,\n",
              "           0.74474,     0.74575,     0.74675,     0.74775,     0.74875,     0.74975,     0.75075,     0.75175,     0.75275,     0.75375,     0.75475,     0.75576,     0.75676,     0.75776,     0.75876,     0.75976,     0.76076,     0.76176,     0.76276,     0.76376,     0.76476,     0.76577,     0.76677,     0.76777,\n",
              "           0.76877,     0.76977,     0.77077,     0.77177,     0.77277,     0.77377,     0.77477,     0.77578,     0.77678,     0.77778,     0.77878,     0.77978,     0.78078,     0.78178,     0.78278,     0.78378,     0.78478,     0.78579,     0.78679,     0.78779,     0.78879,     0.78979,     0.79079,     0.79179,\n",
              "           0.79279,     0.79379,     0.79479,      0.7958,      0.7968,      0.7978,      0.7988,      0.7998,      0.8008,      0.8018,      0.8028,      0.8038,      0.8048,     0.80581,     0.80681,     0.80781,     0.80881,     0.80981,     0.81081,     0.81181,     0.81281,     0.81381,     0.81481,     0.81582,\n",
              "           0.81682,     0.81782,     0.81882,     0.81982,     0.82082,     0.82182,     0.82282,     0.82382,     0.82482,     0.82583,     0.82683,     0.82783,     0.82883,     0.82983,     0.83083,     0.83183,     0.83283,     0.83383,     0.83483,     0.83584,     0.83684,     0.83784,     0.83884,     0.83984,\n",
              "           0.84084,     0.84184,     0.84284,     0.84384,     0.84484,     0.84585,     0.84685,     0.84785,     0.84885,     0.84985,     0.85085,     0.85185,     0.85285,     0.85385,     0.85485,     0.85586,     0.85686,     0.85786,     0.85886,     0.85986,     0.86086,     0.86186,     0.86286,     0.86386,\n",
              "           0.86486,     0.86587,     0.86687,     0.86787,     0.86887,     0.86987,     0.87087,     0.87187,     0.87287,     0.87387,     0.87487,     0.87588,     0.87688,     0.87788,     0.87888,     0.87988,     0.88088,     0.88188,     0.88288,     0.88388,     0.88488,     0.88589,     0.88689,     0.88789,\n",
              "           0.88889,     0.88989,     0.89089,     0.89189,     0.89289,     0.89389,     0.89489,      0.8959,      0.8969,      0.8979,      0.8989,      0.8999,      0.9009,      0.9019,      0.9029,      0.9039,      0.9049,     0.90591,     0.90691,     0.90791,     0.90891,     0.90991,     0.91091,     0.91191,\n",
              "           0.91291,     0.91391,     0.91491,     0.91592,     0.91692,     0.91792,     0.91892,     0.91992,     0.92092,     0.92192,     0.92292,     0.92392,     0.92492,     0.92593,     0.92693,     0.92793,     0.92893,     0.92993,     0.93093,     0.93193,     0.93293,     0.93393,     0.93493,     0.93594,\n",
              "           0.93694,     0.93794,     0.93894,     0.93994,     0.94094,     0.94194,     0.94294,     0.94394,     0.94494,     0.94595,     0.94695,     0.94795,     0.94895,     0.94995,     0.95095,     0.95195,     0.95295,     0.95395,     0.95495,     0.95596,     0.95696,     0.95796,     0.95896,     0.95996,\n",
              "           0.96096,     0.96196,     0.96296,     0.96396,     0.96496,     0.96597,     0.96697,     0.96797,     0.96897,     0.96997,     0.97097,     0.97197,     0.97297,     0.97397,     0.97497,     0.97598,     0.97698,     0.97798,     0.97898,     0.97998,     0.98098,     0.98198,     0.98298,     0.98398,\n",
              "           0.98498,     0.98599,     0.98699,     0.98799,     0.98899,     0.98999,     0.99099,     0.99199,     0.99299,     0.99399,     0.99499,       0.996,       0.997,       0.998,       0.999,           1]), array([[          1,           1,           1,           1,           1,           1,           1,           1,           1,           1,           1,           1,           1,           1,           1,           1,           1,           1,           1,           1,           1,           1,           1,\n",
              "                  1,           1,           1,           1,           1,           1,           1,           1,           1,           1,           1,           1,           1,           1,           1,           1,           1,           1,           1,           1,           1,           1,           1,\n",
              "                  1,           1,           1,           1,           1,           1,           1,           1,           1,           1,           1,           1,           1,           1,           1,           1,           1,           1,           1,           1,           1,           1,           1,\n",
              "                  1,           1,           1,           1,           1,           1,           1,           1,           1,           1,           1,           1,           1,           1,           1,           1,           1,           1,           1,           1,           1,           1,           1,\n",
              "                  1,           1,           1,           1,           1,           1,           1,           1,           1,           1,           1,           1,           1,           1,           1,           1,           1,           1,           1,           1,           1,           1,           1,\n",
              "                  1,           1,           1,           1,           1,           1,           1,           1,           1,           1,           1,           1,           1,           1,           1,           1,           1,           1,           1,           1,           1,           1,           1,\n",
              "                  1,           1,           1,           1,           1,           1,           1,           1,           1,           1,           1,           1,           1,           1,           1,           1,           1,           1,           1,           1,           1,           1,           1,\n",
              "                  1,           1,           1,           1,           1,           1,           1,           1,           1,           1,           1,           1,           1,           1,           1,           1,           1,           1,           1,           1,           1,           1,           1,\n",
              "                  1,           1,           1,           1,           1,           1,           1,           1,           1,           1,           1,           1,           1,           1,           1,           1,           1,           1,           1,           1,           1,           1,           1,\n",
              "                  1,           1,           1,           1,           1,           1,           1,           1,           1,           1,           1,           1,           1,           1,           1,           1,           1,           1,           1,           1,           1,           1,           1,\n",
              "                  1,           1,           1,           1,           1,           1,           1,           1,           1,           1,           1,           1,           1,           1,           1,           1,           1,           1,           1,           1,           1,           1,           1,\n",
              "                  1,           1,           1,           1,           1,           1,           1,           1,           1,           1,           1,           1,           1,           1,           1,           1,           1,           1,           1,           1,           1,           1,           1,\n",
              "                  1,           1,           1,           1,           1,           1,           1,           1,           1,           1,           1,           1,           1,           1,           1,           1,           1,           1,           1,           1,           1,           1,           1,\n",
              "                  1,           1,           1,           1,           1,           1,           1,           1,           1,           1,           1,           1,           1,           1,           1,           1,           1,           1,           1,           1,           1,           1,           1,\n",
              "                  1,           1,           1,           1,           1,           1,           1,           1,           1,           1,           1,           1,           1,           1,           1,           1,           1,           1,           1,           1,           1,           1,           1,\n",
              "                  1,           1,           1,           1,           1,           1,           1,           1,           1,           1,           1,           1,           1,           1,           1,           1,           1,           1,           1,           1,           1,           1,           1,\n",
              "                  1,           1,           1,           1,           1,           1,           1,           1,           1,           1,           1,           1,           1,           1,           1,           1,           1,           1,           1,           1,           1,           1,           1,\n",
              "                  1,           1,           1,           1,           1,           1,           1,           1,           1,           1,           1,           1,           1,           1,           1,           1,           1,           1,           1,           1,           1,           1,           1,\n",
              "                  1,           1,           1,           1,           1,           1,           1,           1,           1,           1,           1,           1,           1,           1,           1,           1,           1,           1,           1,           1,           1,           1,           1,\n",
              "                  1,           1,           1,           1,           1,           1,           1,           1,           1,           1,           1,           1,           1,           1,           1,           1,           1,           1,           1,           1,           1,      0.9999,     0.99968,\n",
              "            0.99946,     0.99924,     0.99902,      0.9988,     0.99858,     0.99836,     0.99814,     0.99792,      0.9977,     0.99748,     0.99726,     0.99704,     0.99682,      0.9966,     0.99638,     0.99616,     0.99594,     0.99572,      0.9955,     0.99528,     0.99506,     0.99484,     0.99462,\n",
              "             0.9944,     0.99418,     0.99396,     0.99374,     0.99352,      0.9933,     0.99309,     0.99287,     0.99265,     0.99243,     0.99221,     0.99199,     0.99177,     0.99155,     0.99133,     0.99111,     0.99092,     0.99076,      0.9906,     0.99045,     0.99029,     0.99013,     0.98998,\n",
              "            0.98982,     0.98966,     0.98951,     0.98935,     0.98919,     0.98904,     0.98888,     0.98873,     0.98857,     0.98841,     0.98826,      0.9881,     0.98794,     0.98779,     0.98763,     0.98747,     0.98732,     0.98716,       0.987,     0.98685,     0.98669,     0.98653,     0.98638,\n",
              "            0.98622,     0.98606,     0.98591,     0.98575,      0.9856,     0.98544,     0.98528,     0.98513,     0.98497,     0.98481,     0.98466,      0.9845,     0.98434,     0.98419,     0.98403,     0.98387,     0.98372,     0.98356,      0.9834,     0.98325,     0.98309,     0.98293,     0.98278,\n",
              "            0.98262,     0.98246,     0.98231,     0.98215,       0.982,      0.9801,     0.97805,       0.976,     0.97395,     0.97216,     0.97062,     0.96909,     0.96755,     0.96601,     0.96447,      0.9634,     0.96256,     0.96172,     0.96088,     0.96004,      0.9592,     0.95836,     0.95752,\n",
              "            0.95668,     0.95584,       0.955,     0.95475,     0.95454,     0.95432,     0.95411,     0.95389,     0.95368,     0.95346,     0.95325,     0.95303,     0.95282,     0.95261,     0.95239,     0.95218,     0.95196,     0.95175,     0.95153,     0.95132,      0.9511,     0.95089,     0.95067,\n",
              "            0.95046,     0.95024,     0.95003,     0.94981,      0.9496,     0.94938,     0.94917,     0.94895,     0.94874,     0.94852,     0.94831,      0.9481,     0.94788,     0.94767,     0.94745,     0.94724,     0.94702,     0.94681,     0.94659,     0.94638,     0.94616,     0.94595,     0.94595,\n",
              "            0.94595,     0.94595,     0.94595,     0.94595,     0.94595,     0.94531,     0.94434,     0.94337,      0.9424,     0.94143,     0.94045,     0.93948,     0.93851,     0.93754,     0.93683,     0.93654,     0.93625,     0.93596,     0.93567,     0.93538,      0.9351,     0.93481,     0.93452,\n",
              "            0.93423,     0.93394,     0.93365,     0.93336,     0.93308,     0.93279,      0.9325,     0.93221,     0.93192,     0.93163,     0.93134,     0.93106,     0.93077,     0.93048,     0.93019,      0.9299,     0.92961,     0.92932,     0.92904,     0.92875,     0.92846,     0.92817,     0.92492,\n",
              "            0.91892,     0.91892,     0.91892,     0.91892,     0.91892,     0.91892,     0.91892,      0.9187,     0.91843,     0.91817,      0.9179,     0.91764,     0.91738,     0.91711,     0.91685,     0.91659,     0.91632,     0.91606,     0.91579,     0.91553,     0.91527,       0.915,     0.91474,\n",
              "            0.91447,     0.91421,     0.91395,     0.91368,     0.91342,     0.91316,     0.91289,     0.91263,     0.91236,      0.9121,     0.91184,     0.91157,     0.91131,     0.91104,     0.91078,     0.91052,     0.91025,     0.90999,     0.90862,     0.90677,     0.90492,     0.90308,     0.90123,\n",
              "             0.8971,     0.89249,     0.89159,     0.89124,     0.89089,     0.89054,     0.89019,     0.88985,      0.8895,     0.88915,      0.8888,     0.88845,      0.8881,     0.88776,     0.88741,     0.88706,     0.88671,     0.88636,     0.88601,     0.88566,     0.88532,     0.88497,     0.88462,\n",
              "            0.88427,     0.88392,     0.88357,     0.88323,     0.88287,     0.88189,     0.88092,     0.87995,     0.87898,     0.87801,     0.87703,     0.87606,     0.87509,     0.87412,      0.8734,     0.87276,     0.87212,     0.87149,     0.87085,     0.87021,     0.86958,     0.86894,      0.8683,\n",
              "            0.86766,     0.86703,     0.86639,     0.86575,     0.86512,     0.86431,     0.86338,     0.86246,     0.86154,     0.86061,     0.85969,     0.85877,     0.85784,     0.85692,       0.856,     0.85503,     0.85406,     0.85309,     0.85212,     0.85114,     0.85017,      0.8492,     0.84823,\n",
              "            0.84726,     0.84685,     0.84685,     0.84685,     0.84685,     0.84685,     0.84685,     0.84685,     0.84685,     0.84685,     0.84685,     0.84685,     0.84685,     0.84685,     0.84685,     0.84685,     0.84685,     0.84685,     0.84685,     0.84685,     0.84685,     0.84685,     0.84685,\n",
              "            0.84685,     0.84685,     0.84685,     0.84685,     0.84685,     0.84569,     0.84415,     0.84261,     0.84107,     0.83953,     0.83799,     0.83729,     0.83667,     0.83605,     0.83544,     0.83482,     0.83421,     0.83359,     0.83298,     0.83236,     0.83174,     0.83113,     0.83051,\n",
              "             0.8299,     0.82928,     0.82822,     0.82591,      0.8236,     0.82129,     0.81934,     0.81802,      0.8167,     0.81538,     0.81407,     0.81275,     0.81143,     0.80972,     0.80767,     0.80561,     0.80356,     0.80174,     0.80131,     0.80088,     0.80045,     0.80002,     0.79959,\n",
              "            0.79916,     0.79873,      0.7983,     0.79787,     0.79745,     0.79702,     0.79659,     0.79616,     0.79573,      0.7953,     0.79487,     0.79444,     0.79401,     0.79358,     0.79315,     0.78224,     0.77359,     0.76744,     0.75904,     0.75576,     0.75444,     0.75313,     0.75181,\n",
              "            0.75049,     0.74917,     0.74785,     0.74348,     0.73886,     0.73649,     0.73418,     0.73188,     0.72954,     0.72691,     0.72427,     0.72163,     0.71068,     0.70452,      0.7017,     0.70028,     0.69886,     0.69744,     0.69602,      0.6946,     0.68698,      0.6766,      0.6535,\n",
              "            0.64889,     0.64281,     0.63665,     0.63022,     0.61998,      0.6169,     0.61382,     0.60139,     0.58325,     0.57956,     0.57569,     0.57107,      0.5631,     0.55392,     0.54821,     0.54359,     0.53028,     0.52658,     0.52289,     0.50196,     0.49581,     0.48673,     0.48199,\n",
              "            0.47706,     0.46353,     0.45739,      0.4537,     0.44823,     0.42209,     0.41285,     0.40422,     0.39806,     0.38966,     0.38042,     0.37358,     0.36854,      0.3659,     0.36326,     0.36062,     0.33471,     0.32764,     0.31579,     0.30481,     0.30173,     0.29865,     0.28696,\n",
              "            0.27389,     0.25114,     0.24056,     0.22444,     0.21983,     0.21219,     0.16669,     0.15151,     0.14535,     0.13672,     0.12749,     0.11187,    0.095505,    0.077262,    0.054974,    0.036505,    0.027036,           0,           0,           0,           0,           0,           0,\n",
              "                  0,           0,           0,           0,           0,           0,           0,           0,           0,           0,           0,           0,           0,           0,           0,           0,           0,           0,           0,           0,           0,           0,           0,\n",
              "                  0,           0,           0,           0,           0,           0,           0,           0,           0,           0,           0]]), 'Confidence', 'Recall']]\n",
              "fitness: 0.9119197738698173\n",
              "keys: ['metrics/precision(B)', 'metrics/recall(B)', 'metrics/mAP50(B)', 'metrics/mAP50-95(B)']\n",
              "maps: array([    0.90297])\n",
              "names: {0: 'helm'}\n",
              "plot: True\n",
              "results_dict: {'metrics/precision(B)': 0.9719173648654809, 'metrics/recall(B)': 1.0, 'metrics/mAP50(B)': 0.9924438512122788, 'metrics/mAP50-95(B)': 0.9029726541650993, 'fitness': 0.9119197738698173}\n",
              "save_dir: PosixPath('runs/detect/train4')\n",
              "speed: {'preprocess': 0.22815549096395804, 'inference': 11.814610902653184, 'loss': 0.0006320864655250726, 'postprocess': 0.3397908321646757}\n",
              "task: 'detect'"
            ]
          },
          "metadata": {},
          "execution_count": 29
        }
      ]
    },
    {
      "cell_type": "code",
      "source": [
        "infer = YOLO('/content/runs/detect/train3/weights/best.pt')"
      ],
      "metadata": {
        "id": "tqQ9wN7Hc_UR"
      },
      "execution_count": 24,
      "outputs": []
    },
    {
      "cell_type": "code",
      "source": [
        "infer.predict(source='/content/drive/MyDrive/Yolov8/train/images', save=True, save_txt=True)"
      ],
      "metadata": {
        "colab": {
          "base_uri": "https://localhost:8080/"
        },
        "id": "62a77AR_djFo",
        "outputId": "7d92adc9-2e14-4524-e699-95e16d868107",
        "collapsed": true
      },
      "execution_count": null,
      "outputs": [
        {
          "output_type": "stream",
          "name": "stdout",
          "text": [
            "\n",
            "image 1/36 /content/drive/MyDrive/Yolov8/train/images/building workers_1.jpeg: 448x640 1 Helmet, 1 Vest, 115.6ms\n",
            "image 2/36 /content/drive/MyDrive/Yolov8/train/images/building workers_10.jpeg: 640x416 1 Helmet, 1 Vest, 104.7ms\n",
            "image 3/36 /content/drive/MyDrive/Yolov8/train/images/building workers_11.jpeg: 640x480 1 Helmet, 88.4ms\n",
            "image 4/36 /content/drive/MyDrive/Yolov8/train/images/building workers_12.jpeg: 448x640 2 Helmets, 1 Vest, 28.6ms\n",
            "image 5/36 /content/drive/MyDrive/Yolov8/train/images/building workers_13.jpeg: 448x640 3 Helmets, 4 Vests, 27.2ms\n",
            "image 6/36 /content/drive/MyDrive/Yolov8/train/images/building workers_14.jpeg: 448x640 1 Helmet, 1 Vest, 2 Jackets, 27.1ms\n",
            "image 7/36 /content/drive/MyDrive/Yolov8/train/images/building workers_16.jpeg: 448x640 5 Helmets, 5 Vests, 25.5ms\n",
            "image 8/36 /content/drive/MyDrive/Yolov8/train/images/building workers_19.jpeg: 480x640 3 Helmets, 2 Vests, 92.6ms\n",
            "image 9/36 /content/drive/MyDrive/Yolov8/train/images/building workers_2.jpeg: 544x640 3 Helmets, 2 Vests, 76.6ms\n",
            "image 10/36 /content/drive/MyDrive/Yolov8/train/images/building workers_20.jpeg: 448x640 1 Helmet, 1 Vest, 26.4ms\n",
            "image 11/36 /content/drive/MyDrive/Yolov8/train/images/building workers_21.png: 448x640 3 Helmets, 3 Vests, 25.5ms\n",
            "image 12/36 /content/drive/MyDrive/Yolov8/train/images/building workers_22.jpeg: 384x640 6 Helmets, 5 Vests, 80.5ms\n",
            "image 13/36 /content/drive/MyDrive/Yolov8/train/images/building workers_23.png: 320x640 1 Helmet, 83.7ms\n",
            "image 14/36 /content/drive/MyDrive/Yolov8/train/images/building workers_24.jpeg: 448x640 1 Helmet, 2 Vests, 26.8ms\n",
            "image 15/36 /content/drive/MyDrive/Yolov8/train/images/building workers_25.jpeg: 352x640 2 Helmets, 72.3ms\n",
            "image 16/36 /content/drive/MyDrive/Yolov8/train/images/building workers_26.jpeg: 448x640 2 Helmets, 3 Vests, 1 Jacket, 26.8ms\n",
            "image 17/36 /content/drive/MyDrive/Yolov8/train/images/building workers_27.jpeg: 384x640 2 Helmets, 3 Vests, 24.8ms\n",
            "image 18/36 /content/drive/MyDrive/Yolov8/train/images/building workers_28.jpeg: 384x640 1 Helmet, 2 Vests, 23.5ms\n",
            "image 19/36 /content/drive/MyDrive/Yolov8/train/images/building workers_29.jpeg: 448x640 3 Helmets, 7 Vests, 26.9ms\n",
            "image 20/36 /content/drive/MyDrive/Yolov8/train/images/building workers_3.jpeg: 448x640 1 Helmet, 1 Vest, 27.3ms\n",
            "image 21/36 /content/drive/MyDrive/Yolov8/train/images/building workers_30.jpeg: 384x640 2 Helmets, 2 Vests, 26.3ms\n",
            "image 22/36 /content/drive/MyDrive/Yolov8/train/images/building workers_32.jpeg: 384x640 2 Helmets, 25.1ms\n",
            "image 23/36 /content/drive/MyDrive/Yolov8/train/images/building workers_33.jpeg: 448x640 2 Helmets, 29.8ms\n",
            "image 24/36 /content/drive/MyDrive/Yolov8/train/images/building workers_35.jpeg: 480x640 1 Helmet, 29.2ms\n",
            "image 25/36 /content/drive/MyDrive/Yolov8/train/images/building workers_36.jpeg: 448x640 3 Helmets, 2 Vests, 28.2ms\n",
            "image 26/36 /content/drive/MyDrive/Yolov8/train/images/building workers_37.jpeg: 448x640 5 Helmets, 1 Vest, 27.3ms\n",
            "image 27/36 /content/drive/MyDrive/Yolov8/train/images/building workers_38.jpeg: 480x640 3 Helmets, 3 Vests, 29.6ms\n",
            "image 28/36 /content/drive/MyDrive/Yolov8/train/images/building workers_4.jpeg: 448x640 3 Helmets, 3 Vests, 28.6ms\n",
            "image 29/36 /content/drive/MyDrive/Yolov8/train/images/building workers_40.jpeg: 384x640 1 Helmet, 26.7ms\n",
            "image 30/36 /content/drive/MyDrive/Yolov8/train/images/building workers_42.jpeg: 448x640 2 Helmets, 1 Vest, 27.1ms\n",
            "image 31/36 /content/drive/MyDrive/Yolov8/train/images/building workers_48.jpeg: 640x448 2 Helmets, 3 Vests, 128.4ms\n",
            "image 32/36 /content/drive/MyDrive/Yolov8/train/images/building workers_5.jpeg: 448x640 1 Helmet, 1 Vest, 1 Jacket, 27.4ms\n",
            "image 33/36 /content/drive/MyDrive/Yolov8/train/images/building workers_6.jpeg: 384x640 3 Helmets, 2 Vests, 1 Jacket, 24.9ms\n",
            "image 34/36 /content/drive/MyDrive/Yolov8/train/images/building workers_7.jpeg: 384x640 1 Helmet, 1 Vest, 24.0ms\n",
            "image 35/36 /content/drive/MyDrive/Yolov8/train/images/building workers_8.jpeg: 448x640 4 Helmets, 4 Vests, 1 Jacket, 27.3ms\n",
            "image 36/36 /content/drive/MyDrive/Yolov8/train/images/building workers_9.jpeg: 448x640 2 Helmets, 1 Vest, 25.5ms\n",
            "Speed: 2.8ms preprocess, 43.5ms inference, 1.8ms postprocess per image at shape (1, 3, 448, 640)\n",
            "Results saved to \u001b[1mruns/detect/predict4\u001b[0m\n",
            "36 labels saved to runs/detect/predict4/labels\n"
          ]
        },
        {
          "output_type": "execute_result",
          "data": {
            "text/plain": [
              "[ultralytics.engine.results.Results object with attributes:\n",
              " \n",
              " boxes: ultralytics.engine.results.Boxes object\n",
              " keypoints: None\n",
              " masks: None\n",
              " names: {0: 'Helmet', 1: 'Vest', 2: 'Jacket', 3: 'Google'}\n",
              " obb: None\n",
              " orig_img: array([[[255, 255, 255],\n",
              "         [255, 255, 255],\n",
              "         [255, 255, 255],\n",
              "         ...,\n",
              "         [255, 255, 255],\n",
              "         [255, 255, 255],\n",
              "         [255, 255, 255]],\n",
              " \n",
              "        [[255, 255, 255],\n",
              "         [255, 255, 255],\n",
              "         [255, 255, 255],\n",
              "         ...,\n",
              "         [255, 255, 255],\n",
              "         [255, 255, 255],\n",
              "         [255, 255, 255]],\n",
              " \n",
              "        [[255, 255, 255],\n",
              "         [255, 255, 255],\n",
              "         [255, 255, 255],\n",
              "         ...,\n",
              "         [255, 255, 255],\n",
              "         [255, 255, 255],\n",
              "         [255, 255, 255]],\n",
              " \n",
              "        ...,\n",
              " \n",
              "        [[255, 255, 255],\n",
              "         [255, 255, 255],\n",
              "         [255, 255, 255],\n",
              "         ...,\n",
              "         [255, 255, 255],\n",
              "         [255, 255, 255],\n",
              "         [255, 255, 255]],\n",
              " \n",
              "        [[255, 255, 255],\n",
              "         [255, 255, 255],\n",
              "         [255, 255, 255],\n",
              "         ...,\n",
              "         [255, 255, 255],\n",
              "         [255, 255, 255],\n",
              "         [255, 255, 255]],\n",
              " \n",
              "        [[255, 255, 255],\n",
              "         [255, 255, 255],\n",
              "         [255, 255, 255],\n",
              "         ...,\n",
              "         [255, 255, 255],\n",
              "         [255, 255, 255],\n",
              "         [255, 255, 255]]], dtype=uint8)\n",
              " orig_shape: (400, 600)\n",
              " path: '/content/drive/MyDrive/Yolov8/train/images/building workers_1.jpeg'\n",
              " probs: None\n",
              " save_dir: 'runs/detect/predict4'\n",
              " speed: {'preprocess': 4.012823104858398, 'inference': 115.63730239868164, 'postprocess': 1.8794536590576172},\n",
              " ultralytics.engine.results.Results object with attributes:\n",
              " \n",
              " boxes: ultralytics.engine.results.Boxes object\n",
              " keypoints: None\n",
              " masks: None\n",
              " names: {0: 'Helmet', 1: 'Vest', 2: 'Jacket', 3: 'Google'}\n",
              " obb: None\n",
              " orig_img: array([[[117, 138, 140],\n",
              "         [118, 139, 141],\n",
              "         [119, 140, 142],\n",
              "         ...,\n",
              "         [151, 185, 201],\n",
              "         [151, 185, 201],\n",
              "         [151, 185, 201]],\n",
              " \n",
              "        [[119, 140, 142],\n",
              "         [120, 141, 143],\n",
              "         [121, 142, 144],\n",
              "         ...,\n",
              "         [151, 185, 201],\n",
              "         [151, 185, 201],\n",
              "         [151, 185, 201]],\n",
              " \n",
              "        [[124, 145, 147],\n",
              "         [125, 146, 148],\n",
              "         [126, 147, 149],\n",
              "         ...,\n",
              "         [152, 186, 202],\n",
              "         [152, 186, 202],\n",
              "         [152, 186, 202]],\n",
              " \n",
              "        ...,\n",
              " \n",
              "        [[  1,   1,   1],\n",
              "         [  1,   1,   1],\n",
              "         [  1,   1,   1],\n",
              "         ...,\n",
              "         [  1,   1,   1],\n",
              "         [  1,   1,   1],\n",
              "         [  1,   1,   1]],\n",
              " \n",
              "        [[  1,   1,   1],\n",
              "         [  1,   1,   1],\n",
              "         [  1,   1,   1],\n",
              "         ...,\n",
              "         [  1,   1,   1],\n",
              "         [  1,   1,   1],\n",
              "         [  1,   1,   1]],\n",
              " \n",
              "        [[  1,   1,   1],\n",
              "         [  1,   1,   1],\n",
              "         [  1,   1,   1],\n",
              "         ...,\n",
              "         [  1,   1,   1],\n",
              "         [  1,   1,   1],\n",
              "         [  1,   1,   1]]], dtype=uint8)\n",
              " orig_shape: (1390, 867)\n",
              " path: '/content/drive/MyDrive/Yolov8/train/images/building workers_10.jpeg'\n",
              " probs: None\n",
              " save_dir: 'runs/detect/predict4'\n",
              " speed: {'preprocess': 2.447366714477539, 'inference': 104.65097427368164, 'postprocess': 2.1314620971679688},\n",
              " ultralytics.engine.results.Results object with attributes:\n",
              " \n",
              " boxes: ultralytics.engine.results.Boxes object\n",
              " keypoints: None\n",
              " masks: None\n",
              " names: {0: 'Helmet', 1: 'Vest', 2: 'Jacket', 3: 'Google'}\n",
              " obb: None\n",
              " orig_img: array([[[129, 140, 144],\n",
              "         [129, 140, 144],\n",
              "         [129, 140, 144],\n",
              "         ...,\n",
              "         [ 89,  96, 105],\n",
              "         [ 89,  96, 105],\n",
              "         [ 89,  96, 105]],\n",
              " \n",
              "        [[129, 140, 144],\n",
              "         [129, 140, 144],\n",
              "         [129, 140, 144],\n",
              "         ...,\n",
              "         [ 89,  96, 105],\n",
              "         [ 89,  96, 105],\n",
              "         [ 89,  96, 105]],\n",
              " \n",
              "        [[129, 140, 144],\n",
              "         [129, 140, 144],\n",
              "         [129, 140, 144],\n",
              "         ...,\n",
              "         [ 89,  96, 105],\n",
              "         [ 89,  96, 105],\n",
              "         [ 89,  96, 105]],\n",
              " \n",
              "        ...,\n",
              " \n",
              "        [[142, 144, 145],\n",
              "         [142, 144, 145],\n",
              "         [142, 144, 145],\n",
              "         ...,\n",
              "         [ 64, 100, 118],\n",
              "         [ 64, 100, 118],\n",
              "         [ 64, 100, 118]],\n",
              " \n",
              "        [[143, 145, 146],\n",
              "         [143, 145, 146],\n",
              "         [143, 145, 146],\n",
              "         ...,\n",
              "         [ 65, 101, 119],\n",
              "         [ 65, 101, 119],\n",
              "         [ 65, 101, 119]],\n",
              " \n",
              "        [[143, 145, 146],\n",
              "         [143, 145, 146],\n",
              "         [143, 145, 146],\n",
              "         ...,\n",
              "         [ 65, 101, 119],\n",
              "         [ 65, 101, 119],\n",
              "         [ 65, 101, 119]]], dtype=uint8)\n",
              " orig_shape: (2666, 2000)\n",
              " path: '/content/drive/MyDrive/Yolov8/train/images/building workers_11.jpeg'\n",
              " probs: None\n",
              " save_dir: 'runs/detect/predict4'\n",
              " speed: {'preprocess': 2.668142318725586, 'inference': 88.44757080078125, 'postprocess': 2.0897388458251953},\n",
              " ultralytics.engine.results.Results object with attributes:\n",
              " \n",
              " boxes: ultralytics.engine.results.Boxes object\n",
              " keypoints: None\n",
              " masks: None\n",
              " names: {0: 'Helmet', 1: 'Vest', 2: 'Jacket', 3: 'Google'}\n",
              " obb: None\n",
              " orig_img: array([[[ 16,  23,  32],\n",
              "         [ 15,  22,  31],\n",
              "         [ 15,  22,  31],\n",
              "         ...,\n",
              "         [ 60,  62,  86],\n",
              "         [ 68,  62,  87],\n",
              "         [ 71,  62,  88]],\n",
              " \n",
              "        [[ 14,  21,  30],\n",
              "         [ 14,  21,  30],\n",
              "         [ 14,  21,  30],\n",
              "         ...,\n",
              "         [ 61,  63,  87],\n",
              "         [ 67,  63,  88],\n",
              "         [ 72,  63,  89]],\n",
              " \n",
              "        [[ 12,  19,  28],\n",
              "         [ 12,  19,  28],\n",
              "         [ 13,  20,  29],\n",
              "         ...,\n",
              "         [ 62,  64,  88],\n",
              "         [ 68,  64,  89],\n",
              "         [ 70,  64,  89]],\n",
              " \n",
              "        ...,\n",
              " \n",
              "        [[ 99, 123, 177],\n",
              "         [100, 124, 178],\n",
              "         [101, 123, 181],\n",
              "         ...,\n",
              "         [196, 220, 240],\n",
              "         [200, 221, 242],\n",
              "         [201, 222, 243]],\n",
              " \n",
              "        [[ 99, 123, 177],\n",
              "         [100, 124, 178],\n",
              "         [101, 123, 181],\n",
              "         ...,\n",
              "         [196, 220, 240],\n",
              "         [199, 220, 241],\n",
              "         [200, 221, 242]],\n",
              " \n",
              "        [[ 99, 123, 177],\n",
              "         [100, 124, 178],\n",
              "         [101, 123, 181],\n",
              "         ...,\n",
              "         [196, 220, 240],\n",
              "         [198, 219, 240],\n",
              "         [199, 220, 241]]], dtype=uint8)\n",
              " orig_shape: (1333, 2000)\n",
              " path: '/content/drive/MyDrive/Yolov8/train/images/building workers_12.jpeg'\n",
              " probs: None\n",
              " save_dir: 'runs/detect/predict4'\n",
              " speed: {'preprocess': 2.4967193603515625, 'inference': 28.574705123901367, 'postprocess': 1.3835430145263672},\n",
              " ultralytics.engine.results.Results object with attributes:\n",
              " \n",
              " boxes: ultralytics.engine.results.Boxes object\n",
              " keypoints: None\n",
              " masks: None\n",
              " names: {0: 'Helmet', 1: 'Vest', 2: 'Jacket', 3: 'Google'}\n",
              " obb: None\n",
              " orig_img: array([[[217, 225, 242],\n",
              "         [217, 226, 240],\n",
              "         [220, 227, 242],\n",
              "         ...,\n",
              "         [104,  84,  79],\n",
              "         [103,  83,  78],\n",
              "         [103,  83,  78]],\n",
              " \n",
              "        [[217, 225, 242],\n",
              "         [217, 226, 240],\n",
              "         [220, 227, 242],\n",
              "         ...,\n",
              "         [103,  83,  78],\n",
              "         [102,  82,  77],\n",
              "         [102,  82,  77]],\n",
              " \n",
              "        [[217, 225, 242],\n",
              "         [217, 226, 240],\n",
              "         [220, 227, 242],\n",
              "         ...,\n",
              "         [102,  82,  77],\n",
              "         [101,  81,  76],\n",
              "         [101,  81,  76]],\n",
              " \n",
              "        ...,\n",
              " \n",
              "        [[146, 183, 233],\n",
              "         [143, 180, 230],\n",
              "         [138, 175, 227],\n",
              "         ...,\n",
              "         [  1, 245, 174],\n",
              "         [  1, 245, 174],\n",
              "         [  2, 246, 176]],\n",
              " \n",
              "        [[160, 201, 246],\n",
              "         [154, 194, 242],\n",
              "         [145, 185, 234],\n",
              "         ...,\n",
              "         [  1, 248, 176],\n",
              "         [  2, 249, 177],\n",
              "         [  2, 248, 178]],\n",
              " \n",
              "        [[161, 204, 247],\n",
              "         [155, 197, 242],\n",
              "         [147, 187, 235],\n",
              "         ...,\n",
              "         [  1, 248, 176],\n",
              "         [  2, 249, 177],\n",
              "         [  2, 248, 178]]], dtype=uint8)\n",
              " orig_shape: (682, 1023)\n",
              " path: '/content/drive/MyDrive/Yolov8/train/images/building workers_13.jpeg'\n",
              " probs: None\n",
              " save_dir: 'runs/detect/predict4'\n",
              " speed: {'preprocess': 2.1533966064453125, 'inference': 27.18496322631836, 'postprocess': 1.3425350189208984},\n",
              " ultralytics.engine.results.Results object with attributes:\n",
              " \n",
              " boxes: ultralytics.engine.results.Boxes object\n",
              " keypoints: None\n",
              " masks: None\n",
              " names: {0: 'Helmet', 1: 'Vest', 2: 'Jacket', 3: 'Google'}\n",
              " obb: None\n",
              " orig_img: array([[[207, 190, 193],\n",
              "         [211, 195, 196],\n",
              "         [215, 200, 198],\n",
              "         ...,\n",
              "         [175, 172, 181],\n",
              "         [177, 172, 181],\n",
              "         [180, 172, 182]],\n",
              " \n",
              "        [[207, 190, 193],\n",
              "         [211, 195, 196],\n",
              "         [215, 200, 197],\n",
              "         ...,\n",
              "         [172, 169, 178],\n",
              "         [174, 169, 178],\n",
              "         [176, 168, 178]],\n",
              " \n",
              "        [[210, 192, 191],\n",
              "         [213, 195, 194],\n",
              "         [215, 201, 195],\n",
              "         ...,\n",
              "         [171, 168, 177],\n",
              "         [173, 168, 177],\n",
              "         [175, 167, 177]],\n",
              " \n",
              "        ...,\n",
              " \n",
              "        [[121, 123, 124],\n",
              "         [119, 118, 120],\n",
              "         [122, 119, 121],\n",
              "         ...,\n",
              "         [ 87,  78,  65],\n",
              "         [ 87,  78,  65],\n",
              "         [ 86,  77,  64]],\n",
              " \n",
              "        [[127, 131, 132],\n",
              "         [127, 129, 130],\n",
              "         [129, 128, 130],\n",
              "         ...,\n",
              "         [ 81,  72,  62],\n",
              "         [ 82,  73,  63],\n",
              "         [ 82,  73,  63]],\n",
              " \n",
              "        [[127, 132, 133],\n",
              "         [128, 132, 133],\n",
              "         [133, 135, 136],\n",
              "         ...,\n",
              "         [ 76,  69,  60],\n",
              "         [ 78,  71,  62],\n",
              "         [ 79,  72,  63]]], dtype=uint8)\n",
              " orig_shape: (360, 540)\n",
              " path: '/content/drive/MyDrive/Yolov8/train/images/building workers_14.jpeg'\n",
              " probs: None\n",
              " save_dir: 'runs/detect/predict4'\n",
              " speed: {'preprocess': 1.733541488647461, 'inference': 27.142047882080078, 'postprocess': 1.3897418975830078},\n",
              " ultralytics.engine.results.Results object with attributes:\n",
              " \n",
              " boxes: ultralytics.engine.results.Boxes object\n",
              " keypoints: None\n",
              " masks: None\n",
              " names: {0: 'Helmet', 1: 'Vest', 2: 'Jacket', 3: 'Google'}\n",
              " obb: None\n",
              " orig_img: array([[[169, 125,   0],\n",
              "         [169, 125,   0],\n",
              "         [170, 126,   1],\n",
              "         ...,\n",
              "         [172, 127,   0],\n",
              "         [172, 127,   0],\n",
              "         [170, 124,   0]],\n",
              " \n",
              "        [[169, 125,   0],\n",
              "         [169, 125,   0],\n",
              "         [170, 126,   1],\n",
              "         ...,\n",
              "         [173, 128,   1],\n",
              "         [173, 128,   1],\n",
              "         [171, 125,   0]],\n",
              " \n",
              "        [[169, 125,   0],\n",
              "         [170, 126,   1],\n",
              "         [170, 127,   0],\n",
              "         ...,\n",
              "         [174, 129,   2],\n",
              "         [173, 128,   1],\n",
              "         [171, 125,   0]],\n",
              " \n",
              "        ...,\n",
              " \n",
              "        [[ 52,  55,  40],\n",
              "         [ 54,  57,  42],\n",
              "         [ 55,  58,  43],\n",
              "         ...,\n",
              "         [ 32,  65, 222],\n",
              "         [ 34,  71, 223],\n",
              "         [ 27,  67, 215]],\n",
              " \n",
              "        [[ 52,  55,  40],\n",
              "         [ 54,  57,  42],\n",
              "         [ 55,  58,  43],\n",
              "         ...,\n",
              "         [  9,  45, 205],\n",
              "         [  9,  46, 204],\n",
              "         [ 19,  60, 212]],\n",
              " \n",
              "        [[ 52,  55,  40],\n",
              "         [ 53,  56,  41],\n",
              "         [ 55,  58,  43],\n",
              "         ...,\n",
              "         [  0,  28, 192],\n",
              "         [  0,  29, 188],\n",
              "         [ 13,  55, 208]]], dtype=uint8)\n",
              " orig_shape: (1414, 2121)\n",
              " path: '/content/drive/MyDrive/Yolov8/train/images/building workers_16.jpeg'\n",
              " probs: None\n",
              " save_dir: 'runs/detect/predict4'\n",
              " speed: {'preprocess': 2.417325973510742, 'inference': 25.54607391357422, 'postprocess': 1.47247314453125},\n",
              " ultralytics.engine.results.Results object with attributes:\n",
              " \n",
              " boxes: ultralytics.engine.results.Boxes object\n",
              " keypoints: None\n",
              " masks: None\n",
              " names: {0: 'Helmet', 1: 'Vest', 2: 'Jacket', 3: 'Google'}\n",
              " obb: None\n",
              " orig_img: array([[[159, 148,  91],\n",
              "         [159, 148,  91],\n",
              "         [161, 150,  93],\n",
              "         ...,\n",
              "         [182, 185, 170],\n",
              "         [157, 156, 136],\n",
              "         [148, 142, 119]],\n",
              " \n",
              "        [[159, 148,  91],\n",
              "         [159, 148,  91],\n",
              "         [161, 150,  93],\n",
              "         ...,\n",
              "         [183, 186, 171],\n",
              "         [158, 157, 137],\n",
              "         [148, 142, 119]],\n",
              " \n",
              "        [[159, 148,  91],\n",
              "         [160, 149,  92],\n",
              "         [161, 150,  93],\n",
              "         ...,\n",
              "         [185, 188, 173],\n",
              "         [159, 158, 138],\n",
              "         [150, 144, 121]],\n",
              " \n",
              "        ...,\n",
              " \n",
              "        [[  1,   1,   1],\n",
              "         [  1,   1,   1],\n",
              "         [  1,   1,   1],\n",
              "         ...,\n",
              "         [  1,   1,   1],\n",
              "         [  1,   1,   1],\n",
              "         [  1,   1,   1]],\n",
              " \n",
              "        [[  1,   1,   1],\n",
              "         [  1,   1,   1],\n",
              "         [  1,   1,   1],\n",
              "         ...,\n",
              "         [  1,   1,   1],\n",
              "         [  1,   1,   1],\n",
              "         [  1,   1,   1]],\n",
              " \n",
              "        [[  1,   1,   1],\n",
              "         [  1,   1,   1],\n",
              "         [  1,   1,   1],\n",
              "         ...,\n",
              "         [  1,   1,   1],\n",
              "         [  1,   1,   1],\n",
              "         [  1,   1,   1]]], dtype=uint8)\n",
              " orig_shape: (956, 1300)\n",
              " path: '/content/drive/MyDrive/Yolov8/train/images/building workers_19.jpeg'\n",
              " probs: None\n",
              " save_dir: 'runs/detect/predict4'\n",
              " speed: {'preprocess': 2.3317337036132812, 'inference': 92.55695343017578, 'postprocess': 1.3499259948730469},\n",
              " ultralytics.engine.results.Results object with attributes:\n",
              " \n",
              " boxes: ultralytics.engine.results.Boxes object\n",
              " keypoints: None\n",
              " masks: None\n",
              " names: {0: 'Helmet', 1: 'Vest', 2: 'Jacket', 3: 'Google'}\n",
              " obb: None\n",
              " orig_img: array([[[194, 208, 244],\n",
              "         [194, 208, 244],\n",
              "         [194, 208, 244],\n",
              "         ...,\n",
              "         [170, 193, 243],\n",
              "         [175, 198, 248],\n",
              "         [174, 197, 247]],\n",
              " \n",
              "        [[194, 210, 246],\n",
              "         [193, 209, 245],\n",
              "         [192, 208, 244],\n",
              "         ...,\n",
              "         [166, 189, 239],\n",
              "         [167, 190, 240],\n",
              "         [166, 189, 239]],\n",
              " \n",
              "        [[195, 211, 247],\n",
              "         [194, 210, 246],\n",
              "         [193, 209, 245],\n",
              "         ...,\n",
              "         [161, 184, 234],\n",
              "         [162, 185, 235],\n",
              "         [163, 186, 236]],\n",
              " \n",
              "        ...,\n",
              " \n",
              "        [[ 92,  88,  87],\n",
              "         [ 92,  88,  87],\n",
              "         [ 92,  88,  87],\n",
              "         ...,\n",
              "         [ 58,  51,  58],\n",
              "         [ 56,  49,  56],\n",
              "         [ 55,  48,  55]],\n",
              " \n",
              "        [[ 93,  89,  88],\n",
              "         [ 92,  88,  87],\n",
              "         [ 92,  88,  87],\n",
              "         ...,\n",
              "         [ 54,  50,  56],\n",
              "         [ 53,  49,  55],\n",
              "         [ 53,  49,  55]],\n",
              " \n",
              "        [[ 94,  90,  89],\n",
              "         [ 93,  89,  88],\n",
              "         [ 92,  88,  87],\n",
              "         ...,\n",
              "         [ 52,  48,  54],\n",
              "         [ 52,  48,  54],\n",
              "         [ 52,  48,  54]]], dtype=uint8)\n",
              " orig_shape: (1584, 1884)\n",
              " path: '/content/drive/MyDrive/Yolov8/train/images/building workers_2.jpeg'\n",
              " probs: None\n",
              " save_dir: 'runs/detect/predict4'\n",
              " speed: {'preprocess': 2.7637481689453125, 'inference': 76.58171653747559, 'postprocess': 1.42669677734375},\n",
              " ultralytics.engine.results.Results object with attributes:\n",
              " \n",
              " boxes: ultralytics.engine.results.Boxes object\n",
              " keypoints: None\n",
              " masks: None\n",
              " names: {0: 'Helmet', 1: 'Vest', 2: 'Jacket', 3: 'Google'}\n",
              " obb: None\n",
              " orig_img: array([[[252, 255, 253],\n",
              "         [252, 255, 253],\n",
              "         [252, 255, 253],\n",
              "         ...,\n",
              "         [ 57,  53,  59],\n",
              "         [ 60,  56,  62],\n",
              "         [ 61,  57,  63]],\n",
              " \n",
              "        [[252, 255, 253],\n",
              "         [250, 255, 253],\n",
              "         [252, 255, 253],\n",
              "         ...,\n",
              "         [ 56,  52,  58],\n",
              "         [ 58,  54,  60],\n",
              "         [ 59,  55,  61]],\n",
              " \n",
              "        [[250, 255, 254],\n",
              "         [249, 255, 254],\n",
              "         [250, 255, 254],\n",
              "         ...,\n",
              "         [ 54,  50,  56],\n",
              "         [ 56,  52,  58],\n",
              "         [ 57,  53,  59]],\n",
              " \n",
              "        ...,\n",
              " \n",
              "        [[ 43,  51,  64],\n",
              "         [ 43,  51,  64],\n",
              "         [ 43,  51,  64],\n",
              "         ...,\n",
              "         [ 40,  42,  53],\n",
              "         [ 42,  44,  55],\n",
              "         [ 43,  45,  56]],\n",
              " \n",
              "        [[ 46,  54,  67],\n",
              "         [ 46,  54,  67],\n",
              "         [ 46,  54,  67],\n",
              "         ...,\n",
              "         [ 40,  42,  53],\n",
              "         [ 42,  44,  55],\n",
              "         [ 43,  45,  56]],\n",
              " \n",
              "        [[ 47,  55,  68],\n",
              "         [ 47,  55,  68],\n",
              "         [ 47,  55,  68],\n",
              "         ...,\n",
              "         [ 40,  42,  53],\n",
              "         [ 42,  44,  55],\n",
              "         [ 43,  45,  56]]], dtype=uint8)\n",
              " orig_shape: (500, 750)\n",
              " path: '/content/drive/MyDrive/Yolov8/train/images/building workers_20.jpeg'\n",
              " probs: None\n",
              " save_dir: 'runs/detect/predict4'\n",
              " speed: {'preprocess': 2.0294189453125, 'inference': 26.3519287109375, 'postprocess': 1.2841224670410156},\n",
              " ultralytics.engine.results.Results object with attributes:\n",
              " \n",
              " boxes: ultralytics.engine.results.Boxes object\n",
              " keypoints: None\n",
              " masks: None\n",
              " names: {0: 'Helmet', 1: 'Vest', 2: 'Jacket', 3: 'Google'}\n",
              " obb: None\n",
              " orig_img: array([[[221, 172, 124],\n",
              "         [227, 178, 134],\n",
              "         [233, 188, 150],\n",
              "         ...,\n",
              "         [222, 171, 115],\n",
              "         [221, 170, 114],\n",
              "         [219, 168, 112]],\n",
              " \n",
              "        [[221, 172, 124],\n",
              "         [227, 178, 134],\n",
              "         [233, 188, 150],\n",
              "         ...,\n",
              "         [223, 172, 116],\n",
              "         [222, 171, 115],\n",
              "         [221, 170, 114]],\n",
              " \n",
              "        [[222, 173, 125],\n",
              "         [228, 179, 135],\n",
              "         [234, 189, 151],\n",
              "         ...,\n",
              "         [225, 174, 118],\n",
              "         [224, 173, 117],\n",
              "         [222, 171, 115]],\n",
              " \n",
              "        ...,\n",
              " \n",
              "        [[  0,  48,  48],\n",
              "         [  0,  38,  38],\n",
              "         [  0,  23,  25],\n",
              "         ...,\n",
              "         [224, 227, 231],\n",
              "         [224, 227, 232],\n",
              "         [224, 227, 231]],\n",
              " \n",
              "        [[  0,   8,   6],\n",
              "         [  0,   5,   3],\n",
              "         [  3,   5,   5],\n",
              "         ...,\n",
              "         [221, 225, 230],\n",
              "         [221, 224, 232],\n",
              "         [221, 225, 230]],\n",
              " \n",
              "        [[  6,  11,   9],\n",
              "         [ 15,  14,  10],\n",
              "         [ 34,  16,  15],\n",
              "         ...,\n",
              "         [221, 224, 232],\n",
              "         [221, 224, 232],\n",
              "         [221, 224, 232]]], dtype=uint8)\n",
              " orig_shape: (1154, 1732)\n",
              " path: '/content/drive/MyDrive/Yolov8/train/images/building workers_21.png'\n",
              " probs: None\n",
              " save_dir: 'runs/detect/predict4'\n",
              " speed: {'preprocess': 2.1696090698242188, 'inference': 25.486230850219727, 'postprocess': 1.4476776123046875},\n",
              " ultralytics.engine.results.Results object with attributes:\n",
              " \n",
              " boxes: ultralytics.engine.results.Boxes object\n",
              " keypoints: None\n",
              " masks: None\n",
              " names: {0: 'Helmet', 1: 'Vest', 2: 'Jacket', 3: 'Google'}\n",
              " obb: None\n",
              " orig_img: array([[[ 87,  85,  84],\n",
              "         [ 88,  86,  85],\n",
              "         [ 89,  87,  86],\n",
              "         ...,\n",
              "         [220, 217, 213],\n",
              "         [220, 217, 213],\n",
              "         [220, 217, 213]],\n",
              " \n",
              "        [[ 51,  49,  48],\n",
              "         [ 52,  50,  49],\n",
              "         [ 53,  51,  50],\n",
              "         ...,\n",
              "         [220, 217, 213],\n",
              "         [220, 217, 213],\n",
              "         [220, 217, 213]],\n",
              " \n",
              "        [[ 28,  25,  21],\n",
              "         [ 29,  26,  22],\n",
              "         [ 30,  27,  23],\n",
              "         ...,\n",
              "         [220, 217, 213],\n",
              "         [220, 217, 213],\n",
              "         [220, 217, 213]],\n",
              " \n",
              "        ...,\n",
              " \n",
              "        [[ 23,   9,   3],\n",
              "         [ 26,  10,   4],\n",
              "         [ 33,  11,   5],\n",
              "         ...,\n",
              "         [113, 157, 126],\n",
              "         [115, 156, 128],\n",
              "         [117, 157, 129]],\n",
              " \n",
              "        [[ 21,   9,   3],\n",
              "         [ 26,  10,   4],\n",
              "         [ 31,  12,   5],\n",
              "         ...,\n",
              "         [ 88, 157, 120],\n",
              "         [ 90, 157, 120],\n",
              "         [ 91, 157, 122]],\n",
              " \n",
              "        [[ 21,  10,   6],\n",
              "         [ 22,  10,   4],\n",
              "         [ 28,  10,   3],\n",
              "         ...,\n",
              "         [ 80, 166, 126],\n",
              "         [ 78, 166, 126],\n",
              "         [ 78, 166, 126]]], dtype=uint8)\n",
              " orig_shape: (449, 779)\n",
              " path: '/content/drive/MyDrive/Yolov8/train/images/building workers_22.jpeg'\n",
              " probs: None\n",
              " save_dir: 'runs/detect/predict4'\n",
              " speed: {'preprocess': 1.8672943115234375, 'inference': 80.50227165222168, 'postprocess': 1.7609596252441406},\n",
              " ultralytics.engine.results.Results object with attributes:\n",
              " \n",
              " boxes: ultralytics.engine.results.Boxes object\n",
              " keypoints: None\n",
              " masks: None\n",
              " names: {0: 'Helmet', 1: 'Vest', 2: 'Jacket', 3: 'Google'}\n",
              " obb: None\n",
              " orig_img: array([[[146, 119,  87],\n",
              "         [143, 117,  87],\n",
              "         [142, 117,  89],\n",
              "         ...,\n",
              "         [111, 128, 185],\n",
              "         [110, 127, 183],\n",
              "         [110, 127, 183]],\n",
              " \n",
              "        [[145, 119,  87],\n",
              "         [143, 117,  86],\n",
              "         [139, 116,  88],\n",
              "         ...,\n",
              "         [112, 129, 186],\n",
              "         [111, 128, 185],\n",
              "         [110, 127, 183]],\n",
              " \n",
              "        [[146, 120,  88],\n",
              "         [142, 116,  86],\n",
              "         [138, 115,  88],\n",
              "         ...,\n",
              "         [111, 128, 185],\n",
              "         [112, 129, 186],\n",
              "         [110, 127, 184]],\n",
              " \n",
              "        ...,\n",
              " \n",
              "        [[ 66,  79, 131],\n",
              "         [ 66,  79, 131],\n",
              "         [ 67,  80, 132],\n",
              "         ...,\n",
              "         [103, 171, 200],\n",
              "         [103, 171, 200],\n",
              "         [102, 170, 199]],\n",
              " \n",
              "        [[ 66,  79, 131],\n",
              "         [ 66,  79, 131],\n",
              "         [ 67,  80, 132],\n",
              "         ...,\n",
              "         [104, 172, 201],\n",
              "         [103, 171, 200],\n",
              "         [101, 169, 198]],\n",
              " \n",
              "        [[ 67,  80, 132],\n",
              "         [ 68,  81, 133],\n",
              "         [ 66,  79, 131],\n",
              "         ...,\n",
              "         [103, 171, 200],\n",
              "         [103, 171, 200],\n",
              "         [101, 169, 198]]], dtype=uint8)\n",
              " orig_shape: (600, 1256)\n",
              " path: '/content/drive/MyDrive/Yolov8/train/images/building workers_23.png'\n",
              " probs: None\n",
              " save_dir: 'runs/detect/predict4'\n",
              " speed: {'preprocess': 1.7008781433105469, 'inference': 83.73689651489258, 'postprocess': 1.3866424560546875},\n",
              " ultralytics.engine.results.Results object with attributes:\n",
              " \n",
              " boxes: ultralytics.engine.results.Boxes object\n",
              " keypoints: None\n",
              " masks: None\n",
              " names: {0: 'Helmet', 1: 'Vest', 2: 'Jacket', 3: 'Google'}\n",
              " obb: None\n",
              " orig_img: array([[[ 19,  21,  21],\n",
              "         [ 19,  21,  21],\n",
              "         [ 19,  21,  21],\n",
              "         ...,\n",
              "         [255, 255, 255],\n",
              "         [255, 255, 255],\n",
              "         [255, 255, 255]],\n",
              " \n",
              "        [[ 19,  21,  21],\n",
              "         [ 19,  21,  21],\n",
              "         [ 19,  21,  21],\n",
              "         ...,\n",
              "         [255, 255, 255],\n",
              "         [255, 255, 255],\n",
              "         [255, 255, 255]],\n",
              " \n",
              "        [[ 20,  22,  22],\n",
              "         [ 20,  22,  22],\n",
              "         [ 20,  22,  22],\n",
              "         ...,\n",
              "         [255, 255, 255],\n",
              "         [255, 255, 255],\n",
              "         [255, 255, 255]],\n",
              " \n",
              "        ...,\n",
              " \n",
              "        [[ 72,  74,  74],\n",
              "         [ 72,  74,  74],\n",
              "         [ 73,  75,  75],\n",
              "         ...,\n",
              "         [ 28,  17,  13],\n",
              "         [ 28,  17,  13],\n",
              "         [ 28,  17,  13]],\n",
              " \n",
              "        [[ 70,  72,  72],\n",
              "         [ 70,  72,  72],\n",
              "         [ 71,  73,  73],\n",
              "         ...,\n",
              "         [ 28,  17,  13],\n",
              "         [ 28,  17,  13],\n",
              "         [ 28,  17,  13]],\n",
              " \n",
              "        [[ 67,  69,  69],\n",
              "         [ 68,  70,  70],\n",
              "         [ 69,  71,  71],\n",
              "         ...,\n",
              "         [ 28,  17,  13],\n",
              "         [ 28,  17,  13],\n",
              "         [ 28,  17,  13]]], dtype=uint8)\n",
              " orig_shape: (558, 800)\n",
              " path: '/content/drive/MyDrive/Yolov8/train/images/building workers_24.jpeg'\n",
              " probs: None\n",
              " save_dir: 'runs/detect/predict4'\n",
              " speed: {'preprocess': 1.9490718841552734, 'inference': 26.845455169677734, 'postprocess': 1.7981529235839844},\n",
              " ultralytics.engine.results.Results object with attributes:\n",
              " \n",
              " boxes: ultralytics.engine.results.Boxes object\n",
              " keypoints: None\n",
              " masks: None\n",
              " names: {0: 'Helmet', 1: 'Vest', 2: 'Jacket', 3: 'Google'}\n",
              " obb: None\n",
              " orig_img: array([[[  8,  10,  10],\n",
              "         [  8,  10,  10],\n",
              "         [  8,  10,  10],\n",
              "         ...,\n",
              "         [ 48,  67,  88],\n",
              "         [ 49,  69,  87],\n",
              "         [ 48,  68,  86]],\n",
              " \n",
              "        [[  7,   9,   9],\n",
              "         [  7,   9,   9],\n",
              "         [  7,   9,   9],\n",
              "         ...,\n",
              "         [ 60,  81, 102],\n",
              "         [ 57,  76,  97],\n",
              "         [ 48,  70,  88]],\n",
              " \n",
              "        [[  6,   8,   8],\n",
              "         [  6,   8,   8],\n",
              "         [  7,   9,   9],\n",
              "         ...,\n",
              "         [ 48,  72,  92],\n",
              "         [ 44,  65,  86],\n",
              "         [ 36,  60,  80]],\n",
              " \n",
              "        ...,\n",
              " \n",
              "        [[ 14,  16,  16],\n",
              "         [ 15,  17,  17],\n",
              "         [ 16,  18,  18],\n",
              "         ...,\n",
              "         [ 44,  50,  49],\n",
              "         [ 63,  71,  70],\n",
              "         [ 89,  97,  96]],\n",
              " \n",
              "        [[ 14,  16,  16],\n",
              "         [ 15,  17,  17],\n",
              "         [ 16,  18,  18],\n",
              "         ...,\n",
              "         [ 40,  46,  45],\n",
              "         [ 55,  63,  62],\n",
              "         [ 72,  80,  79]],\n",
              " \n",
              "        [[ 14,  16,  16],\n",
              "         [ 15,  17,  17],\n",
              "         [ 16,  18,  18],\n",
              "         ...,\n",
              "         [ 30,  36,  35],\n",
              "         [ 48,  56,  55],\n",
              "         [ 66,  74,  73]]], dtype=uint8)\n",
              " orig_shape: (630, 1200)\n",
              " path: '/content/drive/MyDrive/Yolov8/train/images/building workers_25.jpeg'\n",
              " probs: None\n",
              " save_dir: 'runs/detect/predict4'\n",
              " speed: {'preprocess': 2.577543258666992, 'inference': 72.31497764587402, 'postprocess': 1.2595653533935547},\n",
              " ultralytics.engine.results.Results object with attributes:\n",
              " \n",
              " boxes: ultralytics.engine.results.Boxes object\n",
              " keypoints: None\n",
              " masks: None\n",
              " names: {0: 'Helmet', 1: 'Vest', 2: 'Jacket', 3: 'Google'}\n",
              " obb: None\n",
              " orig_img: array([[[168, 165, 167],\n",
              "         [167, 164, 166],\n",
              "         [167, 163, 168],\n",
              "         ...,\n",
              "         [123,  93,  46],\n",
              "         [123,  93,  46],\n",
              "         [123,  93,  46]],\n",
              " \n",
              "        [[172, 170, 176],\n",
              "         [171, 169, 175],\n",
              "         [172, 169, 178],\n",
              "         ...,\n",
              "         [123,  93,  46],\n",
              "         [123,  93,  46],\n",
              "         [123,  93,  46]],\n",
              " \n",
              "        [[173, 173, 185],\n",
              "         [173, 173, 185],\n",
              "         [174, 175, 189],\n",
              "         ...,\n",
              "         [124,  94,  47],\n",
              "         [124,  94,  47],\n",
              "         [124,  94,  47]],\n",
              " \n",
              "        ...,\n",
              " \n",
              "        [[ 46,  44,  43],\n",
              "         [ 45,  43,  42],\n",
              "         [ 43,  41,  40],\n",
              "         ...,\n",
              "         [ 46,  44,  44],\n",
              "         [ 45,  45,  45],\n",
              "         [ 49,  51,  51]],\n",
              " \n",
              "        [[ 47,  45,  45],\n",
              "         [ 46,  44,  44],\n",
              "         [ 45,  43,  43],\n",
              "         ...,\n",
              "         [ 50,  51,  49],\n",
              "         [ 47,  49,  49],\n",
              "         [ 51,  56,  55]],\n",
              " \n",
              "        [[ 47,  45,  45],\n",
              "         [ 46,  44,  44],\n",
              "         [ 46,  44,  44],\n",
              "         ...,\n",
              "         [ 50,  51,  49],\n",
              "         [ 51,  53,  53],\n",
              "         [ 55,  60,  59]]], dtype=uint8)\n",
              " orig_shape: (418, 626)\n",
              " path: '/content/drive/MyDrive/Yolov8/train/images/building workers_26.jpeg'\n",
              " probs: None\n",
              " save_dir: 'runs/detect/predict4'\n",
              " speed: {'preprocess': 2.894878387451172, 'inference': 26.772022247314453, 'postprocess': 2.1812915802001953},\n",
              " ultralytics.engine.results.Results object with attributes:\n",
              " \n",
              " boxes: ultralytics.engine.results.Boxes object\n",
              " keypoints: None\n",
              " masks: None\n",
              " names: {0: 'Helmet', 1: 'Vest', 2: 'Jacket', 3: 'Google'}\n",
              " obb: None\n",
              " orig_img: array([[[199, 171, 137],\n",
              "         [199, 171, 137],\n",
              "         [199, 171, 137],\n",
              "         ...,\n",
              "         [200, 158, 113],\n",
              "         [199, 157, 112],\n",
              "         [199, 157, 112]],\n",
              " \n",
              "        [[200, 172, 138],\n",
              "         [200, 172, 138],\n",
              "         [200, 172, 138],\n",
              "         ...,\n",
              "         [200, 158, 113],\n",
              "         [200, 158, 113],\n",
              "         [199, 157, 112]],\n",
              " \n",
              "        [[201, 173, 139],\n",
              "         [201, 173, 139],\n",
              "         [201, 173, 139],\n",
              "         ...,\n",
              "         [200, 158, 113],\n",
              "         [200, 158, 113],\n",
              "         [200, 158, 113]],\n",
              " \n",
              "        ...,\n",
              " \n",
              "        [[100, 128,  92],\n",
              "         [ 97, 128,  91],\n",
              "         [ 84, 116,  81],\n",
              "         ...,\n",
              "         [ 44,  51,  18],\n",
              "         [ 48,  45,  14],\n",
              "         [ 46,  38,   8]],\n",
              " \n",
              "        [[ 88, 122,  85],\n",
              "         [ 86, 120,  83],\n",
              "         [ 72, 109,  75],\n",
              "         ...,\n",
              "         [ 56,  63,  30],\n",
              "         [ 62,  59,  28],\n",
              "         [ 58,  50,  20]],\n",
              " \n",
              "        [[ 85, 126,  88],\n",
              "         [ 82, 126,  87],\n",
              "         [ 71, 115,  79],\n",
              "         ...,\n",
              "         [ 60,  67,  34],\n",
              "         [ 67,  64,  33],\n",
              "         [ 61,  53,  23]]], dtype=uint8)\n",
              " orig_shape: (549, 976)\n",
              " path: '/content/drive/MyDrive/Yolov8/train/images/building workers_27.jpeg'\n",
              " probs: None\n",
              " save_dir: 'runs/detect/predict4'\n",
              " speed: {'preprocess': 2.7246475219726562, 'inference': 24.80006217956543, 'postprocess': 2.0453929901123047},\n",
              " ultralytics.engine.results.Results object with attributes:\n",
              " \n",
              " boxes: ultralytics.engine.results.Boxes object\n",
              " keypoints: None\n",
              " masks: None\n",
              " names: {0: 'Helmet', 1: 'Vest', 2: 'Jacket', 3: 'Google'}\n",
              " obb: None\n",
              " orig_img: array([[[101, 133, 192],\n",
              "         [ 96, 126, 185],\n",
              "         [ 89, 117, 177],\n",
              "         ...,\n",
              "         [ 50, 114, 169],\n",
              "         [ 47, 111, 166],\n",
              "         [ 49, 110, 166]],\n",
              " \n",
              "        [[ 99, 131, 190],\n",
              "         [ 94, 124, 183],\n",
              "         [ 87, 115, 175],\n",
              "         ...,\n",
              "         [ 55, 115, 167],\n",
              "         [ 58, 118, 170],\n",
              "         [ 60, 120, 172]],\n",
              " \n",
              "        [[103, 135, 194],\n",
              "         [ 99, 129, 188],\n",
              "         [ 91, 121, 180],\n",
              "         ...,\n",
              "         [ 58, 116, 168],\n",
              "         [ 59, 117, 169],\n",
              "         [ 60, 118, 170]],\n",
              " \n",
              "        ...,\n",
              " \n",
              "        [[141, 170, 215],\n",
              "         [140, 171, 216],\n",
              "         [141, 171, 218],\n",
              "         ...,\n",
              "         [112, 119, 139],\n",
              "         [115, 121, 140],\n",
              "         [118, 122, 140]],\n",
              " \n",
              "        [[138, 169, 214],\n",
              "         [138, 169, 214],\n",
              "         [138, 168, 215],\n",
              "         ...,\n",
              "         [105, 114, 134],\n",
              "         [114, 120, 139],\n",
              "         [120, 124, 142]],\n",
              " \n",
              "        [[137, 168, 213],\n",
              "         [137, 168, 213],\n",
              "         [136, 166, 213],\n",
              "         ...,\n",
              "         [101, 110, 130],\n",
              "         [109, 116, 135],\n",
              "         [113, 119, 138]]], dtype=uint8)\n",
              " orig_shape: (540, 960)\n",
              " path: '/content/drive/MyDrive/Yolov8/train/images/building workers_28.jpeg'\n",
              " probs: None\n",
              " save_dir: 'runs/detect/predict4'\n",
              " speed: {'preprocess': 2.7205944061279297, 'inference': 23.540019989013672, 'postprocess': 1.6336441040039062},\n",
              " ultralytics.engine.results.Results object with attributes:\n",
              " \n",
              " boxes: ultralytics.engine.results.Boxes object\n",
              " keypoints: None\n",
              " masks: None\n",
              " names: {0: 'Helmet', 1: 'Vest', 2: 'Jacket', 3: 'Google'}\n",
              " obb: None\n",
              " orig_img: array([[[212, 219, 216],\n",
              "         [205, 214, 211],\n",
              "         [192, 203, 200],\n",
              "         ...,\n",
              "         [120, 135, 144],\n",
              "         [122, 137, 146],\n",
              "         [124, 136, 146]],\n",
              " \n",
              "        [[218, 223, 221],\n",
              "         [208, 215, 212],\n",
              "         [203, 212, 209],\n",
              "         ...,\n",
              "         [119, 134, 143],\n",
              "         [122, 137, 146],\n",
              "         [127, 139, 149]],\n",
              " \n",
              "        [[214, 216, 216],\n",
              "         [206, 213, 210],\n",
              "         [198, 207, 204],\n",
              "         ...,\n",
              "         [125, 140, 149],\n",
              "         [127, 142, 151],\n",
              "         [124, 139, 148]],\n",
              " \n",
              "        ...,\n",
              " \n",
              "        [[ 74, 228, 217],\n",
              "         [ 67, 226, 216],\n",
              "         [ 68, 223, 214],\n",
              "         ...,\n",
              "         [134, 147, 163],\n",
              "         [129, 142, 158],\n",
              "         [137, 149, 167]],\n",
              " \n",
              "        [[ 63, 223, 211],\n",
              "         [ 63, 223, 211],\n",
              "         [ 69, 225, 214],\n",
              "         ...,\n",
              "         [131, 144, 160],\n",
              "         [127, 141, 159],\n",
              "         [122, 136, 154]],\n",
              " \n",
              "        [[ 70, 225, 211],\n",
              "         [ 74, 223, 213],\n",
              "         [ 71, 222, 212],\n",
              "         ...,\n",
              "         [129, 144, 160],\n",
              "         [124, 138, 156],\n",
              "         [128, 142, 160]]], dtype=uint8)\n",
              " orig_shape: (1280, 1920)\n",
              " path: '/content/drive/MyDrive/Yolov8/train/images/building workers_29.jpeg'\n",
              " probs: None\n",
              " save_dir: 'runs/detect/predict4'\n",
              " speed: {'preprocess': 3.7126541137695312, 'inference': 26.917219161987305, 'postprocess': 4.055500030517578},\n",
              " ultralytics.engine.results.Results object with attributes:\n",
              " \n",
              " boxes: ultralytics.engine.results.Boxes object\n",
              " keypoints: None\n",
              " masks: None\n",
              " names: {0: 'Helmet', 1: 'Vest', 2: 'Jacket', 3: 'Google'}\n",
              " obb: None\n",
              " orig_img: array([[[193, 134,  55],\n",
              "         [198, 139,  60],\n",
              "         [199, 140,  61],\n",
              "         ...,\n",
              "         [196, 142,  81],\n",
              "         [196, 142,  81],\n",
              "         [195, 141,  80]],\n",
              " \n",
              "        [[189, 130,  51],\n",
              "         [193, 134,  55],\n",
              "         [195, 136,  57],\n",
              "         ...,\n",
              "         [196, 142,  81],\n",
              "         [196, 142,  81],\n",
              "         [195, 141,  80]],\n",
              " \n",
              "        [[190, 130,  54],\n",
              "         [193, 133,  57],\n",
              "         [194, 134,  58],\n",
              "         ...,\n",
              "         [194, 140,  79],\n",
              "         [194, 140,  79],\n",
              "         [193, 139,  78]],\n",
              " \n",
              "        ...,\n",
              " \n",
              "        [[126, 175, 207],\n",
              "         [127, 176, 208],\n",
              "         [124, 175, 207],\n",
              "         ...,\n",
              "         [ 53, 101, 113],\n",
              "         [ 58, 108, 120],\n",
              "         [ 66, 114, 126]],\n",
              " \n",
              "        [[130, 177, 208],\n",
              "         [131, 178, 209],\n",
              "         [127, 176, 208],\n",
              "         ...,\n",
              "         [ 50,  98, 110],\n",
              "         [ 56, 104, 116],\n",
              "         [ 61, 109, 121]],\n",
              " \n",
              "        [[131, 178, 209],\n",
              "         [132, 179, 210],\n",
              "         [127, 176, 208],\n",
              "         ...,\n",
              "         [ 50,  98, 110],\n",
              "         [ 55, 103, 115],\n",
              "         [ 59, 107, 119]]], dtype=uint8)\n",
              " orig_shape: (4323, 6485)\n",
              " path: '/content/drive/MyDrive/Yolov8/train/images/building workers_3.jpeg'\n",
              " probs: None\n",
              " save_dir: 'runs/detect/predict4'\n",
              " speed: {'preprocess': 4.259347915649414, 'inference': 27.296066284179688, 'postprocess': 2.2821426391601562},\n",
              " ultralytics.engine.results.Results object with attributes:\n",
              " \n",
              " boxes: ultralytics.engine.results.Boxes object\n",
              " keypoints: None\n",
              " masks: None\n",
              " names: {0: 'Helmet', 1: 'Vest', 2: 'Jacket', 3: 'Google'}\n",
              " obb: None\n",
              " orig_img: array([[[186, 174, 170],\n",
              "         [186, 174, 170],\n",
              "         [186, 174, 170],\n",
              "         ...,\n",
              "         [225, 213, 211],\n",
              "         [225, 213, 211],\n",
              "         [225, 213, 211]],\n",
              " \n",
              "        [[186, 174, 170],\n",
              "         [186, 174, 170],\n",
              "         [186, 174, 170],\n",
              "         ...,\n",
              "         [225, 213, 211],\n",
              "         [225, 213, 211],\n",
              "         [225, 213, 211]],\n",
              " \n",
              "        [[186, 174, 170],\n",
              "         [186, 174, 170],\n",
              "         [186, 174, 170],\n",
              "         ...,\n",
              "         [223, 214, 211],\n",
              "         [223, 214, 211],\n",
              "         [223, 214, 211]],\n",
              " \n",
              "        ...,\n",
              " \n",
              "        [[ 27,  23,  22],\n",
              "         [ 33,  31,  30],\n",
              "         [ 45,  43,  43],\n",
              "         ...,\n",
              "         [181, 174, 165],\n",
              "         [172, 165, 156],\n",
              "         [160, 153, 144]],\n",
              " \n",
              "        [[ 24,  20,  19],\n",
              "         [ 34,  32,  31],\n",
              "         [ 53,  51,  51],\n",
              "         ...,\n",
              "         [181, 174, 165],\n",
              "         [172, 165, 156],\n",
              "         [160, 153, 144]],\n",
              " \n",
              "        [[ 22,  18,  17],\n",
              "         [ 34,  32,  31],\n",
              "         [ 61,  59,  59],\n",
              "         ...,\n",
              "         [181, 174, 165],\n",
              "         [172, 165, 156],\n",
              "         [160, 153, 144]]], dtype=uint8)\n",
              " orig_shape: (363, 645)\n",
              " path: '/content/drive/MyDrive/Yolov8/train/images/building workers_30.jpeg'\n",
              " probs: None\n",
              " save_dir: 'runs/detect/predict4'\n",
              " speed: {'preprocess': 2.5506019592285156, 'inference': 26.275634765625, 'postprocess': 1.6739368438720703},\n",
              " ultralytics.engine.results.Results object with attributes:\n",
              " \n",
              " boxes: ultralytics.engine.results.Boxes object\n",
              " keypoints: None\n",
              " masks: None\n",
              " names: {0: 'Helmet', 1: 'Vest', 2: 'Jacket', 3: 'Google'}\n",
              " obb: None\n",
              " orig_img: array([[[229, 222, 219],\n",
              "         [240, 233, 230],\n",
              "         [243, 236, 233],\n",
              "         ...,\n",
              "         [160, 171, 175],\n",
              "         [158, 167, 171],\n",
              "         [201, 210, 214]],\n",
              " \n",
              "        [[227, 220, 217],\n",
              "         [240, 233, 230],\n",
              "         [248, 241, 238],\n",
              "         ...,\n",
              "         [162, 173, 177],\n",
              "         [163, 172, 176],\n",
              "         [204, 213, 217]],\n",
              " \n",
              "        [[251, 244, 241],\n",
              "         [248, 241, 238],\n",
              "         [241, 234, 231],\n",
              "         ...,\n",
              "         [166, 177, 181],\n",
              "         [171, 180, 184],\n",
              "         [210, 219, 223]],\n",
              " \n",
              "        ...,\n",
              " \n",
              "        [[237, 241, 246],\n",
              "         [196, 200, 205],\n",
              "         [145, 149, 154],\n",
              "         ...,\n",
              "         [128, 134, 141],\n",
              "         [119, 125, 132],\n",
              "         [163, 169, 176]],\n",
              " \n",
              "        [[236, 240, 245],\n",
              "         [241, 245, 250],\n",
              "         [199, 203, 208],\n",
              "         ...,\n",
              "         [139, 145, 152],\n",
              "         [134, 140, 147],\n",
              "         [171, 177, 184]],\n",
              " \n",
              "        [[237, 241, 246],\n",
              "         [223, 227, 232],\n",
              "         [219, 223, 228],\n",
              "         ...,\n",
              "         [133, 139, 146],\n",
              "         [134, 140, 147],\n",
              "         [177, 183, 190]]], dtype=uint8)\n",
              " orig_shape: (720, 1280)\n",
              " path: '/content/drive/MyDrive/Yolov8/train/images/building workers_32.jpeg'\n",
              " probs: None\n",
              " save_dir: 'runs/detect/predict4'\n",
              " speed: {'preprocess': 1.8873214721679688, 'inference': 25.069236755371094, 'postprocess': 1.6551017761230469},\n",
              " ultralytics.engine.results.Results object with attributes:\n",
              " \n",
              " boxes: ultralytics.engine.results.Boxes object\n",
              " keypoints: None\n",
              " masks: None\n",
              " names: {0: 'Helmet', 1: 'Vest', 2: 'Jacket', 3: 'Google'}\n",
              " obb: None\n",
              " orig_img: array([[[ 17,  14,   9],\n",
              "         [ 11,   8,   3],\n",
              "         [ 16,  13,   8],\n",
              "         ...,\n",
              "         [118, 113,  88],\n",
              "         [ 99,  92,  75],\n",
              "         [ 79,  72,  57]],\n",
              " \n",
              "        [[ 19,  16,  11],\n",
              "         [ 16,  13,   8],\n",
              "         [ 15,  12,   7],\n",
              "         ...,\n",
              "         [110, 104,  81],\n",
              "         [ 92,  85,  68],\n",
              "         [ 82,  75,  60]],\n",
              " \n",
              "        [[ 19,  16,  11],\n",
              "         [ 19,  16,  11],\n",
              "         [ 16,  13,   8],\n",
              "         ...,\n",
              "         [ 99,  92,  72],\n",
              "         [ 89,  82,  67],\n",
              "         [ 79,  73,  60]],\n",
              " \n",
              "        ...,\n",
              " \n",
              "        [[ 60,  75,  91],\n",
              "         [ 48,  63,  79],\n",
              "         [ 32,  47,  63],\n",
              "         ...,\n",
              "         [144, 125, 110],\n",
              "         [144, 125, 110],\n",
              "         [145, 126, 111]],\n",
              " \n",
              "        [[ 45,  58,  74],\n",
              "         [ 33,  46,  62],\n",
              "         [ 25,  36,  50],\n",
              "         ...,\n",
              "         [145, 126, 111],\n",
              "         [144, 125, 110],\n",
              "         [145, 126, 111]],\n",
              " \n",
              "        [[ 44,  55,  69],\n",
              "         [ 33,  44,  58],\n",
              "         [ 29,  38,  52],\n",
              "         ...,\n",
              "         [148, 129, 114],\n",
              "         [149, 128, 113],\n",
              "         [151, 130, 115]]], dtype=uint8)\n",
              " orig_shape: (2687, 4032)\n",
              " path: '/content/drive/MyDrive/Yolov8/train/images/building workers_33.jpeg'\n",
              " probs: None\n",
              " save_dir: 'runs/detect/predict4'\n",
              " speed: {'preprocess': 4.124164581298828, 'inference': 29.773473739624023, 'postprocess': 1.7287731170654297},\n",
              " ultralytics.engine.results.Results object with attributes:\n",
              " \n",
              " boxes: ultralytics.engine.results.Boxes object\n",
              " keypoints: None\n",
              " masks: None\n",
              " names: {0: 'Helmet', 1: 'Vest', 2: 'Jacket', 3: 'Google'}\n",
              " obb: None\n",
              " orig_img: array([[[150, 169, 152],\n",
              "         [148, 167, 150],\n",
              "         [148, 167, 150],\n",
              "         ...,\n",
              "         [234, 234, 234],\n",
              "         [234, 234, 234],\n",
              "         [234, 234, 234]],\n",
              " \n",
              "        [[144, 163, 146],\n",
              "         [142, 161, 144],\n",
              "         [140, 159, 142],\n",
              "         ...,\n",
              "         [234, 234, 234],\n",
              "         [234, 234, 234],\n",
              "         [234, 234, 234]],\n",
              " \n",
              "        [[146, 165, 148],\n",
              "         [147, 166, 149],\n",
              "         [146, 165, 148],\n",
              "         ...,\n",
              "         [234, 234, 234],\n",
              "         [234, 234, 234],\n",
              "         [234, 234, 234]],\n",
              " \n",
              "        ...,\n",
              " \n",
              "        [[ 40,  41,  45],\n",
              "         [ 21,  22,  26],\n",
              "         [ 31,  32,  36],\n",
              "         ...,\n",
              "         [167, 178, 186],\n",
              "         [172, 183, 191],\n",
              "         [176, 187, 195]],\n",
              " \n",
              "        [[ 40,  41,  45],\n",
              "         [ 41,  42,  46],\n",
              "         [ 43,  44,  48],\n",
              "         ...,\n",
              "         [182, 193, 201],\n",
              "         [184, 195, 203],\n",
              "         [181, 192, 200]],\n",
              " \n",
              "        [[ 49,  50,  54],\n",
              "         [ 66,  67,  71],\n",
              "         [ 61,  62,  66],\n",
              "         ...,\n",
              "         [187, 198, 206],\n",
              "         [188, 199, 207],\n",
              "         [186, 197, 205]]], dtype=uint8)\n",
              " orig_shape: (900, 1200)\n",
              " path: '/content/drive/MyDrive/Yolov8/train/images/building workers_35.jpeg'\n",
              " probs: None\n",
              " save_dir: 'runs/detect/predict4'\n",
              " speed: {'preprocess': 3.7899017333984375, 'inference': 29.199600219726562, 'postprocess': 1.6148090362548828},\n",
              " ultralytics.engine.results.Results object with attributes:\n",
              " \n",
              " boxes: ultralytics.engine.results.Boxes object\n",
              " keypoints: None\n",
              " masks: None\n",
              " names: {0: 'Helmet', 1: 'Vest', 2: 'Jacket', 3: 'Google'}\n",
              " obb: None\n",
              " orig_img: array([[[212, 249, 223],\n",
              "         [211, 248, 222],\n",
              "         [212, 246, 222],\n",
              "         ...,\n",
              "         [ 18,  37,  64],\n",
              "         [ 19,  38,  65],\n",
              "         [ 20,  39,  66]],\n",
              " \n",
              "        [[211, 248, 222],\n",
              "         [211, 248, 222],\n",
              "         [212, 246, 222],\n",
              "         ...,\n",
              "         [ 18,  37,  64],\n",
              "         [ 18,  37,  64],\n",
              "         [ 19,  38,  65]],\n",
              " \n",
              "        [[211, 248, 222],\n",
              "         [211, 248, 222],\n",
              "         [212, 246, 222],\n",
              "         ...,\n",
              "         [ 18,  37,  64],\n",
              "         [ 18,  37,  64],\n",
              "         [ 20,  39,  66]],\n",
              " \n",
              "        ...,\n",
              " \n",
              "        [[  1,  67, 126],\n",
              "         [  0,  65, 124],\n",
              "         [  0,  50, 108],\n",
              "         ...,\n",
              "         [ 94, 144, 164],\n",
              "         [ 96, 146, 166],\n",
              "         [ 97, 147, 167]],\n",
              " \n",
              "        [[  0,  54, 112],\n",
              "         [  0,  51, 108],\n",
              "         [  0,  61, 120],\n",
              "         ...,\n",
              "         [ 93, 143, 163],\n",
              "         [ 95, 145, 165],\n",
              "         [ 96, 146, 166]],\n",
              " \n",
              "        [[ 23,  87, 145],\n",
              "         [ 49, 116, 173],\n",
              "         [ 63, 131, 190],\n",
              "         ...,\n",
              "         [103, 153, 173],\n",
              "         [102, 152, 172],\n",
              "         [102, 152, 172]]], dtype=uint8)\n",
              " orig_shape: (628, 960)\n",
              " path: '/content/drive/MyDrive/Yolov8/train/images/building workers_36.jpeg'\n",
              " probs: None\n",
              " save_dir: 'runs/detect/predict4'\n",
              " speed: {'preprocess': 3.3380985260009766, 'inference': 28.19204330444336, 'postprocess': 1.5823841094970703},\n",
              " ultralytics.engine.results.Results object with attributes:\n",
              " \n",
              " boxes: ultralytics.engine.results.Boxes object\n",
              " keypoints: None\n",
              " masks: None\n",
              " names: {0: 'Helmet', 1: 'Vest', 2: 'Jacket', 3: 'Google'}\n",
              " obb: None\n",
              " orig_img: array([[[188, 182, 177],\n",
              "         [189, 183, 178],\n",
              "         [191, 182, 178],\n",
              "         ...,\n",
              "         [192, 181, 177],\n",
              "         [192, 181, 177],\n",
              "         [192, 181, 177]],\n",
              " \n",
              "        [[188, 182, 177],\n",
              "         [188, 182, 177],\n",
              "         [190, 181, 177],\n",
              "         ...,\n",
              "         [192, 181, 177],\n",
              "         [192, 181, 177],\n",
              "         [192, 181, 177]],\n",
              " \n",
              "        [[189, 180, 176],\n",
              "         [189, 180, 176],\n",
              "         [189, 180, 176],\n",
              "         ...,\n",
              "         [192, 181, 177],\n",
              "         [192, 181, 177],\n",
              "         [192, 181, 177]],\n",
              " \n",
              "        ...,\n",
              " \n",
              "        [[165, 180, 196],\n",
              "         [164, 180, 196],\n",
              "         [165, 180, 196],\n",
              "         ...,\n",
              "         [ 42,  66,  96],\n",
              "         [ 46,  74, 105],\n",
              "         [ 50,  78, 112]],\n",
              " \n",
              "        [[168, 181, 197],\n",
              "         [168, 181, 197],\n",
              "         [168, 181, 197],\n",
              "         ...,\n",
              "         [ 42,  67,  99],\n",
              "         [ 44,  72, 106],\n",
              "         [ 46,  74, 108]],\n",
              " \n",
              "        [[173, 184, 198],\n",
              "         [173, 184, 198],\n",
              "         [172, 183, 197],\n",
              "         ...,\n",
              "         [ 42,  70, 101],\n",
              "         [ 44,  72, 106],\n",
              "         [ 41,  71, 106]]], dtype=uint8)\n",
              " orig_shape: (1333, 2000)\n",
              " path: '/content/drive/MyDrive/Yolov8/train/images/building workers_37.jpeg'\n",
              " probs: None\n",
              " save_dir: 'runs/detect/predict4'\n",
              " speed: {'preprocess': 3.7059783935546875, 'inference': 27.298927307128906, 'postprocess': 2.181529998779297},\n",
              " ultralytics.engine.results.Results object with attributes:\n",
              " \n",
              " boxes: ultralytics.engine.results.Boxes object\n",
              " keypoints: None\n",
              " masks: None\n",
              " names: {0: 'Helmet', 1: 'Vest', 2: 'Jacket', 3: 'Google'}\n",
              " obb: None\n",
              " orig_img: array([[[ 42,  62,  63],\n",
              "         [ 40,  60,  61],\n",
              "         [ 40,  60,  61],\n",
              "         ...,\n",
              "         [ 82, 106, 112],\n",
              "         [ 82, 106, 112],\n",
              "         [ 82, 106, 112]],\n",
              " \n",
              "        [[ 43,  63,  64],\n",
              "         [ 41,  61,  62],\n",
              "         [ 41,  61,  62],\n",
              "         ...,\n",
              "         [ 83, 107, 113],\n",
              "         [ 83, 107, 113],\n",
              "         [ 83, 107, 113]],\n",
              " \n",
              "        [[ 41,  61,  62],\n",
              "         [ 40,  60,  61],\n",
              "         [ 41,  61,  62],\n",
              "         ...,\n",
              "         [ 85, 109, 115],\n",
              "         [ 85, 109, 115],\n",
              "         [ 84, 108, 114]],\n",
              " \n",
              "        ...,\n",
              " \n",
              "        [[ 55,  64,  73],\n",
              "         [ 55,  64,  73],\n",
              "         [ 55,  64,  73],\n",
              "         ...,\n",
              "         [  3,   6,  10],\n",
              "         [  5,   8,  12],\n",
              "         [  9,  12,  16]],\n",
              " \n",
              "        [[ 56,  65,  75],\n",
              "         [ 56,  65,  75],\n",
              "         [ 56,  65,  75],\n",
              "         ...,\n",
              "         [  5,   8,  12],\n",
              "         [  6,   9,  13],\n",
              "         [ 10,  13,  17]],\n",
              " \n",
              "        [[ 57,  66,  76],\n",
              "         [ 57,  66,  76],\n",
              "         [ 57,  66,  76],\n",
              "         ...,\n",
              "         [  7,  10,  14],\n",
              "         [  8,  11,  15],\n",
              "         [ 11,  14,  18]]], dtype=uint8)\n",
              " orig_shape: (768, 1024)\n",
              " path: '/content/drive/MyDrive/Yolov8/train/images/building workers_38.jpeg'\n",
              " probs: None\n",
              " save_dir: 'runs/detect/predict4'\n",
              " speed: {'preprocess': 3.3571720123291016, 'inference': 29.58202362060547, 'postprocess': 1.9619464874267578},\n",
              " ultralytics.engine.results.Results object with attributes:\n",
              " \n",
              " boxes: ultralytics.engine.results.Boxes object\n",
              " keypoints: None\n",
              " masks: None\n",
              " names: {0: 'Helmet', 1: 'Vest', 2: 'Jacket', 3: 'Google'}\n",
              " obb: None\n",
              " orig_img: array([[[119, 119, 131],\n",
              "         [117, 119, 130],\n",
              "         [116, 118, 129],\n",
              "         ...,\n",
              "         [191, 154, 140],\n",
              "         [190, 151, 137],\n",
              "         [185, 146, 132]],\n",
              " \n",
              "        [[123, 125, 136],\n",
              "         [122, 124, 135],\n",
              "         [118, 122, 133],\n",
              "         ...,\n",
              "         [191, 152, 137],\n",
              "         [188, 149, 134],\n",
              "         [186, 145, 130]],\n",
              " \n",
              "        [[126, 128, 139],\n",
              "         [123, 127, 138],\n",
              "         [121, 125, 136],\n",
              "         ...,\n",
              "         [192, 149, 132],\n",
              "         [190, 147, 130],\n",
              "         [186, 143, 126]],\n",
              " \n",
              "        ...,\n",
              " \n",
              "        [[148, 116,  97],\n",
              "         [142, 112,  93],\n",
              "         [138, 108,  91],\n",
              "         ...,\n",
              "         [ 97, 101, 125],\n",
              "         [ 95,  99, 123],\n",
              "         [ 94,  98, 123]],\n",
              " \n",
              "        [[154, 123, 100],\n",
              "         [147, 116,  93],\n",
              "         [141, 110,  89],\n",
              "         ...,\n",
              "         [118, 120, 138],\n",
              "         [119, 120, 140],\n",
              "         [121, 122, 142]],\n",
              " \n",
              "        [[167, 137, 110],\n",
              "         [157, 126, 101],\n",
              "         [146, 115,  90],\n",
              "         ...,\n",
              "         [139, 139, 151],\n",
              "         [143, 140, 155],\n",
              "         [145, 142, 157]]], dtype=uint8)\n",
              " orig_shape: (360, 540)\n",
              " path: '/content/drive/MyDrive/Yolov8/train/images/building workers_4.jpeg'\n",
              " probs: None\n",
              " save_dir: 'runs/detect/predict4'\n",
              " speed: {'preprocess': 2.7856826782226562, 'inference': 28.561830520629883, 'postprocess': 1.9595623016357422},\n",
              " ultralytics.engine.results.Results object with attributes:\n",
              " \n",
              " boxes: ultralytics.engine.results.Boxes object\n",
              " keypoints: None\n",
              " masks: None\n",
              " names: {0: 'Helmet', 1: 'Vest', 2: 'Jacket', 3: 'Google'}\n",
              " obb: None\n",
              " orig_img: array([[[170, 168, 120],\n",
              "         [170, 168, 120],\n",
              "         [170, 168, 120],\n",
              "         ...,\n",
              "         [ 23,  18,   9],\n",
              "         [ 24,  19,  10],\n",
              "         [ 25,  20,  11]],\n",
              " \n",
              "        [[169, 167, 119],\n",
              "         [169, 167, 119],\n",
              "         [169, 167, 119],\n",
              "         ...,\n",
              "         [ 21,  16,   7],\n",
              "         [ 22,  17,   8],\n",
              "         [ 23,  18,   9]],\n",
              " \n",
              "        [[168, 166, 118],\n",
              "         [168, 166, 118],\n",
              "         [168, 166, 118],\n",
              "         ...,\n",
              "         [ 20,  15,   6],\n",
              "         [ 20,  15,   6],\n",
              "         [ 21,  16,   7]],\n",
              " \n",
              "        ...,\n",
              " \n",
              "        [[ 22,  35,  61],\n",
              "         [ 21,  35,  58],\n",
              "         [ 21,  33,  57],\n",
              "         ...,\n",
              "         [ 27,  27,  27],\n",
              "         [ 34,  35,  33],\n",
              "         [ 40,  41,  39]],\n",
              " \n",
              "        [[ 22,  35,  61],\n",
              "         [ 21,  35,  58],\n",
              "         [ 23,  35,  59],\n",
              "         ...,\n",
              "         [ 32,  33,  31],\n",
              "         [ 41,  40,  36],\n",
              "         [ 44,  45,  41]],\n",
              " \n",
              "        [[ 22,  34,  58],\n",
              "         [ 28,  41,  63],\n",
              "         [ 26,  39,  61],\n",
              "         ...,\n",
              "         [ 37,  37,  31],\n",
              "         [ 46,  44,  36],\n",
              "         [ 49,  50,  41]]], dtype=uint8)\n",
              " orig_shape: (337, 600)\n",
              " path: '/content/drive/MyDrive/Yolov8/train/images/building workers_40.jpeg'\n",
              " probs: None\n",
              " save_dir: 'runs/detect/predict4'\n",
              " speed: {'preprocess': 2.441883087158203, 'inference': 26.711463928222656, 'postprocess': 1.8837451934814453},\n",
              " ultralytics.engine.results.Results object with attributes:\n",
              " \n",
              " boxes: ultralytics.engine.results.Boxes object\n",
              " keypoints: None\n",
              " masks: None\n",
              " names: {0: 'Helmet', 1: 'Vest', 2: 'Jacket', 3: 'Google'}\n",
              " obb: None\n",
              " orig_img: array([[[205, 189, 172],\n",
              "         [209, 193, 176],\n",
              "         [210, 194, 177],\n",
              "         ...,\n",
              "         [157, 161, 166],\n",
              "         [155, 161, 168],\n",
              "         [156, 162, 169]],\n",
              " \n",
              "        [[205, 189, 172],\n",
              "         [209, 193, 176],\n",
              "         [210, 194, 177],\n",
              "         ...,\n",
              "         [158, 162, 167],\n",
              "         [156, 162, 169],\n",
              "         [156, 162, 169]],\n",
              " \n",
              "        [[206, 190, 173],\n",
              "         [209, 193, 176],\n",
              "         [211, 195, 178],\n",
              "         ...,\n",
              "         [159, 163, 168],\n",
              "         [156, 162, 169],\n",
              "         [156, 162, 169]],\n",
              " \n",
              "        ...,\n",
              " \n",
              "        [[ 44,  50,  57],\n",
              "         [ 44,  50,  57],\n",
              "         [ 47,  53,  60],\n",
              "         ...,\n",
              "         [ 39,  90, 122],\n",
              "         [ 72, 122, 158],\n",
              "         [ 45,  94, 132]],\n",
              " \n",
              "        [[ 42,  45,  53],\n",
              "         [ 39,  42,  50],\n",
              "         [ 45,  51,  58],\n",
              "         ...,\n",
              "         [ 47,  94, 125],\n",
              "         [ 68, 118, 154],\n",
              "         [ 39,  91, 128]],\n",
              " \n",
              "        [[ 47,  50,  58],\n",
              "         [ 42,  45,  53],\n",
              "         [ 51,  57,  64],\n",
              "         ...,\n",
              "         [ 60, 106, 137],\n",
              "         [ 59, 109, 145],\n",
              "         [ 42,  94, 131]]], dtype=uint8)\n",
              " orig_shape: (800, 1200)\n",
              " path: '/content/drive/MyDrive/Yolov8/train/images/building workers_42.jpeg'\n",
              " probs: None\n",
              " save_dir: 'runs/detect/predict4'\n",
              " speed: {'preprocess': 3.389120101928711, 'inference': 27.118921279907227, 'postprocess': 1.3904571533203125},\n",
              " ultralytics.engine.results.Results object with attributes:\n",
              " \n",
              " boxes: ultralytics.engine.results.Boxes object\n",
              " keypoints: None\n",
              " masks: None\n",
              " names: {0: 'Helmet', 1: 'Vest', 2: 'Jacket', 3: 'Google'}\n",
              " obb: None\n",
              " orig_img: array([[[100, 101,  69],\n",
              "         [100, 101,  69],\n",
              "         [101, 101,  71],\n",
              "         ...,\n",
              "         [250, 246, 241],\n",
              "         [250, 246, 241],\n",
              "         [251, 247, 242]],\n",
              " \n",
              "        [[100, 101,  69],\n",
              "         [101, 102,  70],\n",
              "         [101, 101,  71],\n",
              "         ...,\n",
              "         [250, 246, 241],\n",
              "         [250, 246, 241],\n",
              "         [250, 246, 241]],\n",
              " \n",
              "        [[101, 102,  70],\n",
              "         [101, 102,  70],\n",
              "         [102, 103,  71],\n",
              "         ...,\n",
              "         [250, 246, 241],\n",
              "         [250, 246, 241],\n",
              "         [250, 246, 241]],\n",
              " \n",
              "        ...,\n",
              " \n",
              "        [[112, 113,  87],\n",
              "         [ 99,  98,  70],\n",
              "         [120, 114,  85],\n",
              "         ...,\n",
              "         [136, 132,  79],\n",
              "         [136, 132,  79],\n",
              "         [138, 134,  81]],\n",
              " \n",
              "        [[114, 113,  85],\n",
              "         [113, 111,  81],\n",
              "         [117, 112,  81],\n",
              "         ...,\n",
              "         [141, 151, 109],\n",
              "         [143, 154, 114],\n",
              "         [141, 154, 116]],\n",
              " \n",
              "        [[123, 122,  94],\n",
              "         [121, 119,  89],\n",
              "         [123, 118,  87],\n",
              "         ...,\n",
              "         [161, 178, 144],\n",
              "         [166, 185, 152],\n",
              "         [166, 186, 157]]], dtype=uint8)\n",
              " orig_shape: (626, 417)\n",
              " path: '/content/drive/MyDrive/Yolov8/train/images/building workers_48.jpeg'\n",
              " probs: None\n",
              " save_dir: 'runs/detect/predict4'\n",
              " speed: {'preprocess': 2.8934478759765625, 'inference': 128.42750549316406, 'postprocess': 1.7366409301757812},\n",
              " ultralytics.engine.results.Results object with attributes:\n",
              " \n",
              " boxes: ultralytics.engine.results.Boxes object\n",
              " keypoints: None\n",
              " masks: None\n",
              " names: {0: 'Helmet', 1: 'Vest', 2: 'Jacket', 3: 'Google'}\n",
              " obb: None\n",
              " orig_img: array([[[241, 241, 241],\n",
              "         [241, 241, 241],\n",
              "         [241, 241, 241],\n",
              "         ...,\n",
              "         [171, 174, 182],\n",
              "         [171, 174, 182],\n",
              "         [170, 173, 181]],\n",
              " \n",
              "        [[241, 241, 241],\n",
              "         [241, 241, 241],\n",
              "         [241, 241, 241],\n",
              "         ...,\n",
              "         [168, 173, 182],\n",
              "         [167, 172, 181],\n",
              "         [167, 172, 181]],\n",
              " \n",
              "        [[241, 241, 241],\n",
              "         [241, 241, 241],\n",
              "         [241, 241, 241],\n",
              "         ...,\n",
              "         [159, 169, 179],\n",
              "         [159, 169, 179],\n",
              "         [158, 168, 178]],\n",
              " \n",
              "        ...,\n",
              " \n",
              "        [[144, 152, 165],\n",
              "         [144, 153, 163],\n",
              "         [144, 152, 165],\n",
              "         ...,\n",
              "         [ 74,  83,  92],\n",
              "         [ 64,  74,  81],\n",
              "         [ 56,  66,  73]],\n",
              " \n",
              "        [[138, 147, 161],\n",
              "         [136, 148, 160],\n",
              "         [136, 147, 161],\n",
              "         ...,\n",
              "         [ 76,  85,  94],\n",
              "         [ 66,  76,  83],\n",
              "         [ 58,  68,  75]],\n",
              " \n",
              "        [[134, 145, 159],\n",
              "         [134, 145, 159],\n",
              "         [131, 144, 158],\n",
              "         ...,\n",
              "         [ 78,  87,  96],\n",
              "         [ 67,  77,  84],\n",
              "         [ 60,  70,  77]]], dtype=uint8)\n",
              " orig_shape: (1334, 2000)\n",
              " path: '/content/drive/MyDrive/Yolov8/train/images/building workers_5.jpeg'\n",
              " probs: None\n",
              " save_dir: 'runs/detect/predict4'\n",
              " speed: {'preprocess': 4.675388336181641, 'inference': 27.39882469177246, 'postprocess': 2.0575523376464844},\n",
              " ultralytics.engine.results.Results object with attributes:\n",
              " \n",
              " boxes: ultralytics.engine.results.Boxes object\n",
              " keypoints: None\n",
              " masks: None\n",
              " names: {0: 'Helmet', 1: 'Vest', 2: 'Jacket', 3: 'Google'}\n",
              " obb: None\n",
              " orig_img: array([[[208, 145,  87],\n",
              "         [209, 146,  88],\n",
              "         [209, 147,  87],\n",
              "         ...,\n",
              "         [227, 203, 181],\n",
              "         [227, 203, 181],\n",
              "         [227, 203, 181]],\n",
              " \n",
              "        [[209, 146,  88],\n",
              "         [209, 146,  88],\n",
              "         [210, 148,  88],\n",
              "         ...,\n",
              "         [226, 202, 180],\n",
              "         [226, 202, 180],\n",
              "         [226, 202, 180]],\n",
              " \n",
              "        [[209, 147,  87],\n",
              "         [209, 147,  87],\n",
              "         [210, 148,  88],\n",
              "         ...,\n",
              "         [225, 201, 179],\n",
              "         [225, 201, 179],\n",
              "         [225, 201, 179]],\n",
              " \n",
              "        ...,\n",
              " \n",
              "        [[ 13,  28,  54],\n",
              "         [ 22,  37,  63],\n",
              "         [ 31,  47,  70],\n",
              "         ...,\n",
              "         [ 64,  70, 105],\n",
              "         [ 64,  70, 105],\n",
              "         [ 63,  69, 104]],\n",
              " \n",
              "        [[ 25,  42,  69],\n",
              "         [ 35,  52,  78],\n",
              "         [ 45,  63,  86],\n",
              "         ...,\n",
              "         [ 58,  64,  99],\n",
              "         [ 58,  64,  99],\n",
              "         [ 58,  64,  99]],\n",
              " \n",
              "        [[ 31,  50,  77],\n",
              "         [ 40,  60,  85],\n",
              "         [ 48,  68,  93],\n",
              "         ...,\n",
              "         [ 55,  61,  96],\n",
              "         [ 54,  60,  95],\n",
              "         [ 54,  60,  95]]], dtype=uint8)\n",
              " orig_shape: (412, 700)\n",
              " path: '/content/drive/MyDrive/Yolov8/train/images/building workers_6.jpeg'\n",
              " probs: None\n",
              " save_dir: 'runs/detect/predict4'\n",
              " speed: {'preprocess': 2.5634765625, 'inference': 24.907827377319336, 'postprocess': 2.0427703857421875},\n",
              " ultralytics.engine.results.Results object with attributes:\n",
              " \n",
              " boxes: ultralytics.engine.results.Boxes object\n",
              " keypoints: None\n",
              " masks: None\n",
              " names: {0: 'Helmet', 1: 'Vest', 2: 'Jacket', 3: 'Google'}\n",
              " obb: None\n",
              " orig_img: array([[[248, 248, 248],\n",
              "         [248, 248, 248],\n",
              "         [248, 248, 248],\n",
              "         ...,\n",
              "         [183, 157, 120],\n",
              "         [186, 161, 121],\n",
              "         [188, 163, 123]],\n",
              " \n",
              "        [[248, 248, 248],\n",
              "         [248, 248, 248],\n",
              "         [248, 248, 248],\n",
              "         ...,\n",
              "         [183, 157, 120],\n",
              "         [186, 161, 121],\n",
              "         [188, 163, 123]],\n",
              " \n",
              "        [[248, 248, 248],\n",
              "         [248, 248, 248],\n",
              "         [248, 248, 248],\n",
              "         ...,\n",
              "         [184, 158, 121],\n",
              "         [186, 161, 121],\n",
              "         [187, 162, 122]],\n",
              " \n",
              "        ...,\n",
              " \n",
              "        [[248, 237, 217],\n",
              "         [248, 237, 217],\n",
              "         [247, 236, 216],\n",
              "         ...,\n",
              "         [247, 240, 237],\n",
              "         [247, 240, 237],\n",
              "         [247, 240, 237]],\n",
              " \n",
              "        [[248, 237, 217],\n",
              "         [248, 237, 217],\n",
              "         [247, 236, 216],\n",
              "         ...,\n",
              "         [247, 240, 237],\n",
              "         [247, 240, 237],\n",
              "         [247, 240, 237]],\n",
              " \n",
              "        [[248, 237, 217],\n",
              "         [248, 237, 217],\n",
              "         [247, 236, 216],\n",
              "         ...,\n",
              "         [247, 240, 237],\n",
              "         [247, 240, 237],\n",
              "         [247, 240, 237]]], dtype=uint8)\n",
              " orig_shape: (1125, 2000)\n",
              " path: '/content/drive/MyDrive/Yolov8/train/images/building workers_7.jpeg'\n",
              " probs: None\n",
              " save_dir: 'runs/detect/predict4'\n",
              " speed: {'preprocess': 3.314971923828125, 'inference': 24.0480899810791, 'postprocess': 2.2950172424316406},\n",
              " ultralytics.engine.results.Results object with attributes:\n",
              " \n",
              " boxes: ultralytics.engine.results.Boxes object\n",
              " keypoints: None\n",
              " masks: None\n",
              " names: {0: 'Helmet', 1: 'Vest', 2: 'Jacket', 3: 'Google'}\n",
              " obb: None\n",
              " orig_img: array([[[169, 188, 185],\n",
              "         [168, 187, 184],\n",
              "         [163, 181, 180],\n",
              "         ...,\n",
              "         [241, 234, 241],\n",
              "         [242, 235, 242],\n",
              "         [243, 236, 243]],\n",
              " \n",
              "        [[168, 187, 184],\n",
              "         [168, 187, 184],\n",
              "         [164, 182, 181],\n",
              "         ...,\n",
              "         [242, 235, 242],\n",
              "         [243, 236, 243],\n",
              "         [243, 236, 243]],\n",
              " \n",
              "        [[164, 185, 183],\n",
              "         [164, 185, 183],\n",
              "         [161, 182, 180],\n",
              "         ...,\n",
              "         [240, 236, 242],\n",
              "         [241, 237, 243],\n",
              "         [242, 238, 244]],\n",
              " \n",
              "        ...,\n",
              " \n",
              "        [[147, 169, 164],\n",
              "         [148, 169, 166],\n",
              "         [150, 168, 167],\n",
              "         ...,\n",
              "         [235, 222, 230],\n",
              "         [227, 221, 222],\n",
              "         [225, 220, 219]],\n",
              " \n",
              "        [[148, 170, 165],\n",
              "         [149, 170, 167],\n",
              "         [149, 170, 168],\n",
              "         ...,\n",
              "         [238, 223, 231],\n",
              "         [230, 221, 224],\n",
              "         [226, 221, 220]],\n",
              " \n",
              "        [[148, 171, 166],\n",
              "         [149, 172, 168],\n",
              "         [149, 170, 168],\n",
              "         ...,\n",
              "         [239, 224, 232],\n",
              "         [233, 222, 225],\n",
              "         [229, 221, 222]]], dtype=uint8)\n",
              " orig_shape: (683, 1024)\n",
              " path: '/content/drive/MyDrive/Yolov8/train/images/building workers_8.jpeg'\n",
              " probs: None\n",
              " save_dir: 'runs/detect/predict4'\n",
              " speed: {'preprocess': 3.200531005859375, 'inference': 27.28891372680664, 'postprocess': 2.5839805603027344},\n",
              " ultralytics.engine.results.Results object with attributes:\n",
              " \n",
              " boxes: ultralytics.engine.results.Boxes object\n",
              " keypoints: None\n",
              " masks: None\n",
              " names: {0: 'Helmet', 1: 'Vest', 2: 'Jacket', 3: 'Google'}\n",
              " obb: None\n",
              " orig_img: array([[[150, 162, 174],\n",
              "         [150, 162, 174],\n",
              "         [165, 177, 189],\n",
              "         ...,\n",
              "         [175, 180, 179],\n",
              "         [171, 177, 176],\n",
              "         [170, 176, 175]],\n",
              " \n",
              "        [[150, 162, 174],\n",
              "         [163, 175, 187],\n",
              "         [164, 176, 188],\n",
              "         ...,\n",
              "         [180, 182, 183],\n",
              "         [178, 180, 181],\n",
              "         [176, 178, 179]],\n",
              " \n",
              "        [[157, 169, 181],\n",
              "         [166, 178, 190],\n",
              "         [156, 168, 180],\n",
              "         ...,\n",
              "         [160, 154, 155],\n",
              "         [158, 152, 153],\n",
              "         [159, 151, 151]],\n",
              " \n",
              "        ...,\n",
              " \n",
              "        [[167, 175, 192],\n",
              "         [167, 175, 192],\n",
              "         [164, 173, 187],\n",
              "         ...,\n",
              "         [105, 156, 182],\n",
              "         [110, 157, 184],\n",
              "         [130, 173, 200]],\n",
              " \n",
              "        [[167, 176, 179],\n",
              "         [169, 178, 181],\n",
              "         [160, 172, 174],\n",
              "         ...,\n",
              "         [106, 157, 183],\n",
              "         [111, 158, 186],\n",
              "         [129, 174, 201]],\n",
              " \n",
              "        [[157, 163, 158],\n",
              "         [161, 168, 163],\n",
              "         [151, 158, 155],\n",
              "         ...,\n",
              "         [107, 157, 185],\n",
              "         [110, 158, 186],\n",
              "         [130, 175, 202]]], dtype=uint8)\n",
              " orig_shape: (501, 750)\n",
              " path: '/content/drive/MyDrive/Yolov8/train/images/building workers_9.jpeg'\n",
              " probs: None\n",
              " save_dir: 'runs/detect/predict4'\n",
              " speed: {'preprocess': 2.8769969940185547, 'inference': 25.52008628845215, 'postprocess': 1.9214153289794922}]"
            ]
          },
          "metadata": {},
          "execution_count": 26
        }
      ]
    },
    {
      "cell_type": "code",
      "source": [
        "import locale\n",
        "def getpreferredencoding(do_setlocale = True):\n",
        "    return \"UTF-8\"\n",
        "locale.getpreferredencoding = getpreferredencoding"
      ],
      "metadata": {
        "id": "Cmpt4PrN49IP"
      },
      "execution_count": 25,
      "outputs": []
    },
    {
      "cell_type": "code",
      "source": [
        "!yolo detect predict model='/content/runs/detect/train3/weights/best.pt' source='/content/drive/MyDrive/Yolov8/video/umam.mp4'"
      ],
      "metadata": {
        "colab": {
          "base_uri": "https://localhost:8080/"
        },
        "id": "XaBuNCc8zUuf",
        "outputId": "2a6eaf1c-89e0-497f-a89a-e94dd3dd862c",
        "collapsed": true
      },
      "execution_count": 26,
      "outputs": [
        {
          "output_type": "stream",
          "name": "stdout",
          "text": [
            "Ultralytics YOLOv8.2.81 🚀 Python-3.10.12 torch-2.3.1+cu121 CUDA:0 (Tesla T4, 15102MiB)\n",
            "Model summary (fused): 268 layers, 43,607,379 parameters, 0 gradients, 164.8 GFLOPs\n",
            "\n",
            "video 1/1 (frame 1/772) /content/drive/MyDrive/Yolov8/video/umam.mp4: 640x384 (no detections), 166.4ms\n",
            "video 1/1 (frame 2/772) /content/drive/MyDrive/Yolov8/video/umam.mp4: 640x384 (no detections), 39.5ms\n",
            "video 1/1 (frame 3/772) /content/drive/MyDrive/Yolov8/video/umam.mp4: 640x384 (no detections), 39.5ms\n",
            "video 1/1 (frame 4/772) /content/drive/MyDrive/Yolov8/video/umam.mp4: 640x384 (no detections), 43.8ms\n",
            "video 1/1 (frame 5/772) /content/drive/MyDrive/Yolov8/video/umam.mp4: 640x384 (no detections), 39.5ms\n",
            "video 1/1 (frame 6/772) /content/drive/MyDrive/Yolov8/video/umam.mp4: 640x384 (no detections), 45.6ms\n",
            "video 1/1 (frame 7/772) /content/drive/MyDrive/Yolov8/video/umam.mp4: 640x384 (no detections), 40.2ms\n",
            "video 1/1 (frame 8/772) /content/drive/MyDrive/Yolov8/video/umam.mp4: 640x384 (no detections), 39.5ms\n",
            "video 1/1 (frame 9/772) /content/drive/MyDrive/Yolov8/video/umam.mp4: 640x384 (no detections), 39.5ms\n",
            "video 1/1 (frame 10/772) /content/drive/MyDrive/Yolov8/video/umam.mp4: 640x384 (no detections), 39.5ms\n",
            "video 1/1 (frame 11/772) /content/drive/MyDrive/Yolov8/video/umam.mp4: 640x384 (no detections), 41.1ms\n",
            "video 1/1 (frame 12/772) /content/drive/MyDrive/Yolov8/video/umam.mp4: 640x384 (no detections), 38.7ms\n",
            "video 1/1 (frame 13/772) /content/drive/MyDrive/Yolov8/video/umam.mp4: 640x384 (no detections), 40.2ms\n",
            "video 1/1 (frame 14/772) /content/drive/MyDrive/Yolov8/video/umam.mp4: 640x384 (no detections), 43.3ms\n",
            "video 1/1 (frame 15/772) /content/drive/MyDrive/Yolov8/video/umam.mp4: 640x384 (no detections), 42.0ms\n",
            "video 1/1 (frame 16/772) /content/drive/MyDrive/Yolov8/video/umam.mp4: 640x384 (no detections), 38.6ms\n",
            "video 1/1 (frame 17/772) /content/drive/MyDrive/Yolov8/video/umam.mp4: 640x384 (no detections), 38.6ms\n",
            "video 1/1 (frame 18/772) /content/drive/MyDrive/Yolov8/video/umam.mp4: 640x384 (no detections), 38.7ms\n",
            "video 1/1 (frame 19/772) /content/drive/MyDrive/Yolov8/video/umam.mp4: 640x384 (no detections), 38.6ms\n",
            "video 1/1 (frame 20/772) /content/drive/MyDrive/Yolov8/video/umam.mp4: 640x384 (no detections), 37.0ms\n",
            "video 1/1 (frame 21/772) /content/drive/MyDrive/Yolov8/video/umam.mp4: 640x384 (no detections), 35.6ms\n",
            "video 1/1 (frame 22/772) /content/drive/MyDrive/Yolov8/video/umam.mp4: 640x384 (no detections), 35.4ms\n",
            "video 1/1 (frame 23/772) /content/drive/MyDrive/Yolov8/video/umam.mp4: 640x384 (no detections), 32.6ms\n",
            "video 1/1 (frame 24/772) /content/drive/MyDrive/Yolov8/video/umam.mp4: 640x384 (no detections), 32.6ms\n",
            "video 1/1 (frame 25/772) /content/drive/MyDrive/Yolov8/video/umam.mp4: 640x384 (no detections), 32.6ms\n",
            "video 1/1 (frame 26/772) /content/drive/MyDrive/Yolov8/video/umam.mp4: 640x384 (no detections), 36.4ms\n",
            "video 1/1 (frame 27/772) /content/drive/MyDrive/Yolov8/video/umam.mp4: 640x384 (no detections), 32.6ms\n",
            "video 1/1 (frame 28/772) /content/drive/MyDrive/Yolov8/video/umam.mp4: 640x384 (no detections), 33.1ms\n",
            "video 1/1 (frame 29/772) /content/drive/MyDrive/Yolov8/video/umam.mp4: 640x384 (no detections), 32.6ms\n",
            "video 1/1 (frame 30/772) /content/drive/MyDrive/Yolov8/video/umam.mp4: 640x384 (no detections), 32.6ms\n",
            "video 1/1 (frame 31/772) /content/drive/MyDrive/Yolov8/video/umam.mp4: 640x384 (no detections), 32.6ms\n",
            "video 1/1 (frame 32/772) /content/drive/MyDrive/Yolov8/video/umam.mp4: 640x384 (no detections), 32.6ms\n",
            "video 1/1 (frame 33/772) /content/drive/MyDrive/Yolov8/video/umam.mp4: 640x384 (no detections), 32.6ms\n",
            "video 1/1 (frame 34/772) /content/drive/MyDrive/Yolov8/video/umam.mp4: 640x384 (no detections), 36.9ms\n",
            "video 1/1 (frame 35/772) /content/drive/MyDrive/Yolov8/video/umam.mp4: 640x384 (no detections), 32.6ms\n",
            "video 1/1 (frame 36/772) /content/drive/MyDrive/Yolov8/video/umam.mp4: 640x384 (no detections), 36.6ms\n",
            "video 1/1 (frame 37/772) /content/drive/MyDrive/Yolov8/video/umam.mp4: 640x384 (no detections), 32.6ms\n",
            "video 1/1 (frame 38/772) /content/drive/MyDrive/Yolov8/video/umam.mp4: 640x384 (no detections), 32.6ms\n",
            "video 1/1 (frame 39/772) /content/drive/MyDrive/Yolov8/video/umam.mp4: 640x384 (no detections), 32.5ms\n",
            "video 1/1 (frame 40/772) /content/drive/MyDrive/Yolov8/video/umam.mp4: 640x384 (no detections), 32.6ms\n",
            "video 1/1 (frame 41/772) /content/drive/MyDrive/Yolov8/video/umam.mp4: 640x384 (no detections), 37.0ms\n",
            "video 1/1 (frame 42/772) /content/drive/MyDrive/Yolov8/video/umam.mp4: 640x384 (no detections), 33.7ms\n",
            "video 1/1 (frame 43/772) /content/drive/MyDrive/Yolov8/video/umam.mp4: 640x384 (no detections), 33.7ms\n",
            "video 1/1 (frame 44/772) /content/drive/MyDrive/Yolov8/video/umam.mp4: 640x384 (no detections), 37.5ms\n",
            "video 1/1 (frame 45/772) /content/drive/MyDrive/Yolov8/video/umam.mp4: 640x384 (no detections), 34.3ms\n",
            "video 1/1 (frame 46/772) /content/drive/MyDrive/Yolov8/video/umam.mp4: 640x384 (no detections), 34.3ms\n",
            "video 1/1 (frame 47/772) /content/drive/MyDrive/Yolov8/video/umam.mp4: 640x384 (no detections), 34.4ms\n",
            "video 1/1 (frame 48/772) /content/drive/MyDrive/Yolov8/video/umam.mp4: 640x384 (no detections), 34.3ms\n",
            "video 1/1 (frame 49/772) /content/drive/MyDrive/Yolov8/video/umam.mp4: 640x384 (no detections), 35.0ms\n",
            "video 1/1 (frame 50/772) /content/drive/MyDrive/Yolov8/video/umam.mp4: 640x384 (no detections), 35.0ms\n",
            "video 1/1 (frame 51/772) /content/drive/MyDrive/Yolov8/video/umam.mp4: 640x384 (no detections), 35.9ms\n",
            "video 1/1 (frame 52/772) /content/drive/MyDrive/Yolov8/video/umam.mp4: 640x384 (no detections), 40.3ms\n",
            "video 1/1 (frame 53/772) /content/drive/MyDrive/Yolov8/video/umam.mp4: 640x384 (no detections), 36.4ms\n",
            "video 1/1 (frame 54/772) /content/drive/MyDrive/Yolov8/video/umam.mp4: 640x384 (no detections), 35.7ms\n",
            "video 1/1 (frame 55/772) /content/drive/MyDrive/Yolov8/video/umam.mp4: 640x384 (no detections), 36.4ms\n",
            "video 1/1 (frame 56/772) /content/drive/MyDrive/Yolov8/video/umam.mp4: 640x384 (no detections), 36.4ms\n",
            "video 1/1 (frame 57/772) /content/drive/MyDrive/Yolov8/video/umam.mp4: 640x384 (no detections), 35.6ms\n",
            "video 1/1 (frame 58/772) /content/drive/MyDrive/Yolov8/video/umam.mp4: 640x384 (no detections), 35.7ms\n",
            "video 1/1 (frame 59/772) /content/drive/MyDrive/Yolov8/video/umam.mp4: 640x384 (no detections), 35.6ms\n",
            "video 1/1 (frame 60/772) /content/drive/MyDrive/Yolov8/video/umam.mp4: 640x384 (no detections), 30.1ms\n",
            "video 1/1 (frame 61/772) /content/drive/MyDrive/Yolov8/video/umam.mp4: 640x384 (no detections), 30.1ms\n",
            "video 1/1 (frame 62/772) /content/drive/MyDrive/Yolov8/video/umam.mp4: 640x384 (no detections), 30.1ms\n",
            "video 1/1 (frame 63/772) /content/drive/MyDrive/Yolov8/video/umam.mp4: 640x384 (no detections), 27.3ms\n",
            "video 1/1 (frame 64/772) /content/drive/MyDrive/Yolov8/video/umam.mp4: 640x384 (no detections), 27.3ms\n",
            "video 1/1 (frame 65/772) /content/drive/MyDrive/Yolov8/video/umam.mp4: 640x384 (no detections), 27.2ms\n",
            "video 1/1 (frame 66/772) /content/drive/MyDrive/Yolov8/video/umam.mp4: 640x384 (no detections), 27.0ms\n",
            "video 1/1 (frame 67/772) /content/drive/MyDrive/Yolov8/video/umam.mp4: 640x384 (no detections), 26.9ms\n",
            "video 1/1 (frame 68/772) /content/drive/MyDrive/Yolov8/video/umam.mp4: 640x384 (no detections), 26.9ms\n",
            "video 1/1 (frame 69/772) /content/drive/MyDrive/Yolov8/video/umam.mp4: 640x384 (no detections), 25.7ms\n",
            "video 1/1 (frame 70/772) /content/drive/MyDrive/Yolov8/video/umam.mp4: 640x384 (no detections), 24.3ms\n",
            "video 1/1 (frame 71/772) /content/drive/MyDrive/Yolov8/video/umam.mp4: 640x384 (no detections), 23.8ms\n",
            "video 1/1 (frame 72/772) /content/drive/MyDrive/Yolov8/video/umam.mp4: 640x384 (no detections), 23.8ms\n",
            "video 1/1 (frame 73/772) /content/drive/MyDrive/Yolov8/video/umam.mp4: 640x384 (no detections), 23.3ms\n",
            "video 1/1 (frame 74/772) /content/drive/MyDrive/Yolov8/video/umam.mp4: 640x384 (no detections), 23.2ms\n",
            "video 1/1 (frame 75/772) /content/drive/MyDrive/Yolov8/video/umam.mp4: 640x384 (no detections), 22.6ms\n",
            "video 1/1 (frame 76/772) /content/drive/MyDrive/Yolov8/video/umam.mp4: 640x384 (no detections), 22.7ms\n",
            "video 1/1 (frame 77/772) /content/drive/MyDrive/Yolov8/video/umam.mp4: 640x384 (no detections), 22.6ms\n",
            "video 1/1 (frame 78/772) /content/drive/MyDrive/Yolov8/video/umam.mp4: 640x384 (no detections), 22.6ms\n",
            "video 1/1 (frame 79/772) /content/drive/MyDrive/Yolov8/video/umam.mp4: 640x384 (no detections), 22.6ms\n",
            "video 1/1 (frame 80/772) /content/drive/MyDrive/Yolov8/video/umam.mp4: 640x384 (no detections), 21.2ms\n",
            "video 1/1 (frame 81/772) /content/drive/MyDrive/Yolov8/video/umam.mp4: 640x384 (no detections), 21.2ms\n",
            "video 1/1 (frame 82/772) /content/drive/MyDrive/Yolov8/video/umam.mp4: 640x384 (no detections), 20.6ms\n",
            "video 1/1 (frame 83/772) /content/drive/MyDrive/Yolov8/video/umam.mp4: 640x384 (no detections), 21.2ms\n",
            "video 1/1 (frame 84/772) /content/drive/MyDrive/Yolov8/video/umam.mp4: 640x384 (no detections), 21.2ms\n",
            "video 1/1 (frame 85/772) /content/drive/MyDrive/Yolov8/video/umam.mp4: 640x384 (no detections), 20.6ms\n",
            "video 1/1 (frame 86/772) /content/drive/MyDrive/Yolov8/video/umam.mp4: 640x384 (no detections), 20.5ms\n",
            "video 1/1 (frame 87/772) /content/drive/MyDrive/Yolov8/video/umam.mp4: 640x384 (no detections), 20.6ms\n",
            "video 1/1 (frame 88/772) /content/drive/MyDrive/Yolov8/video/umam.mp4: 640x384 (no detections), 20.6ms\n",
            "video 1/1 (frame 89/772) /content/drive/MyDrive/Yolov8/video/umam.mp4: 640x384 (no detections), 20.3ms\n",
            "video 1/1 (frame 90/772) /content/drive/MyDrive/Yolov8/video/umam.mp4: 640x384 (no detections), 20.4ms\n",
            "video 1/1 (frame 91/772) /content/drive/MyDrive/Yolov8/video/umam.mp4: 640x384 (no detections), 20.6ms\n",
            "video 1/1 (frame 92/772) /content/drive/MyDrive/Yolov8/video/umam.mp4: 640x384 (no detections), 25.7ms\n",
            "video 1/1 (frame 93/772) /content/drive/MyDrive/Yolov8/video/umam.mp4: 640x384 (no detections), 20.4ms\n",
            "video 1/1 (frame 94/772) /content/drive/MyDrive/Yolov8/video/umam.mp4: 640x384 (no detections), 20.4ms\n",
            "video 1/1 (frame 95/772) /content/drive/MyDrive/Yolov8/video/umam.mp4: 640x384 (no detections), 20.4ms\n",
            "video 1/1 (frame 96/772) /content/drive/MyDrive/Yolov8/video/umam.mp4: 640x384 (no detections), 20.4ms\n",
            "video 1/1 (frame 97/772) /content/drive/MyDrive/Yolov8/video/umam.mp4: 640x384 (no detections), 20.6ms\n",
            "video 1/1 (frame 98/772) /content/drive/MyDrive/Yolov8/video/umam.mp4: 640x384 (no detections), 20.6ms\n",
            "video 1/1 (frame 99/772) /content/drive/MyDrive/Yolov8/video/umam.mp4: 640x384 (no detections), 20.4ms\n",
            "video 1/1 (frame 100/772) /content/drive/MyDrive/Yolov8/video/umam.mp4: 640x384 (no detections), 20.4ms\n",
            "video 1/1 (frame 101/772) /content/drive/MyDrive/Yolov8/video/umam.mp4: 640x384 (no detections), 20.4ms\n",
            "video 1/1 (frame 102/772) /content/drive/MyDrive/Yolov8/video/umam.mp4: 640x384 (no detections), 20.4ms\n",
            "video 1/1 (frame 103/772) /content/drive/MyDrive/Yolov8/video/umam.mp4: 640x384 (no detections), 20.4ms\n",
            "video 1/1 (frame 104/772) /content/drive/MyDrive/Yolov8/video/umam.mp4: 640x384 (no detections), 20.5ms\n",
            "video 1/1 (frame 105/772) /content/drive/MyDrive/Yolov8/video/umam.mp4: 640x384 (no detections), 20.6ms\n",
            "video 1/1 (frame 106/772) /content/drive/MyDrive/Yolov8/video/umam.mp4: 640x384 (no detections), 20.4ms\n",
            "video 1/1 (frame 107/772) /content/drive/MyDrive/Yolov8/video/umam.mp4: 640x384 (no detections), 20.3ms\n",
            "video 1/1 (frame 108/772) /content/drive/MyDrive/Yolov8/video/umam.mp4: 640x384 (no detections), 20.4ms\n",
            "video 1/1 (frame 109/772) /content/drive/MyDrive/Yolov8/video/umam.mp4: 640x384 (no detections), 20.6ms\n",
            "video 1/1 (frame 110/772) /content/drive/MyDrive/Yolov8/video/umam.mp4: 640x384 (no detections), 20.7ms\n",
            "video 1/1 (frame 111/772) /content/drive/MyDrive/Yolov8/video/umam.mp4: 640x384 (no detections), 20.3ms\n",
            "video 1/1 (frame 112/772) /content/drive/MyDrive/Yolov8/video/umam.mp4: 640x384 (no detections), 20.4ms\n",
            "video 1/1 (frame 113/772) /content/drive/MyDrive/Yolov8/video/umam.mp4: 640x384 (no detections), 20.4ms\n",
            "video 1/1 (frame 114/772) /content/drive/MyDrive/Yolov8/video/umam.mp4: 640x384 (no detections), 20.4ms\n",
            "video 1/1 (frame 115/772) /content/drive/MyDrive/Yolov8/video/umam.mp4: 640x384 (no detections), 20.3ms\n",
            "video 1/1 (frame 116/772) /content/drive/MyDrive/Yolov8/video/umam.mp4: 640x384 (no detections), 20.4ms\n",
            "video 1/1 (frame 117/772) /content/drive/MyDrive/Yolov8/video/umam.mp4: 640x384 (no detections), 20.4ms\n",
            "video 1/1 (frame 118/772) /content/drive/MyDrive/Yolov8/video/umam.mp4: 640x384 (no detections), 20.4ms\n",
            "video 1/1 (frame 119/772) /content/drive/MyDrive/Yolov8/video/umam.mp4: 640x384 (no detections), 20.3ms\n",
            "video 1/1 (frame 120/772) /content/drive/MyDrive/Yolov8/video/umam.mp4: 640x384 (no detections), 20.4ms\n",
            "video 1/1 (frame 121/772) /content/drive/MyDrive/Yolov8/video/umam.mp4: 640x384 (no detections), 20.3ms\n",
            "video 1/1 (frame 122/772) /content/drive/MyDrive/Yolov8/video/umam.mp4: 640x384 (no detections), 20.2ms\n",
            "video 1/1 (frame 123/772) /content/drive/MyDrive/Yolov8/video/umam.mp4: 640x384 (no detections), 20.2ms\n",
            "video 1/1 (frame 124/772) /content/drive/MyDrive/Yolov8/video/umam.mp4: 640x384 (no detections), 20.4ms\n",
            "video 1/1 (frame 125/772) /content/drive/MyDrive/Yolov8/video/umam.mp4: 640x384 (no detections), 20.4ms\n",
            "video 1/1 (frame 126/772) /content/drive/MyDrive/Yolov8/video/umam.mp4: 640x384 (no detections), 20.4ms\n",
            "video 1/1 (frame 127/772) /content/drive/MyDrive/Yolov8/video/umam.mp4: 640x384 (no detections), 20.2ms\n",
            "video 1/1 (frame 128/772) /content/drive/MyDrive/Yolov8/video/umam.mp4: 640x384 (no detections), 20.2ms\n",
            "video 1/1 (frame 129/772) /content/drive/MyDrive/Yolov8/video/umam.mp4: 640x384 (no detections), 20.2ms\n",
            "video 1/1 (frame 130/772) /content/drive/MyDrive/Yolov8/video/umam.mp4: 640x384 (no detections), 20.2ms\n",
            "video 1/1 (frame 131/772) /content/drive/MyDrive/Yolov8/video/umam.mp4: 640x384 (no detections), 20.2ms\n",
            "video 1/1 (frame 132/772) /content/drive/MyDrive/Yolov8/video/umam.mp4: 640x384 (no detections), 20.2ms\n",
            "video 1/1 (frame 133/772) /content/drive/MyDrive/Yolov8/video/umam.mp4: 640x384 (no detections), 20.4ms\n",
            "video 1/1 (frame 134/772) /content/drive/MyDrive/Yolov8/video/umam.mp4: 640x384 (no detections), 20.4ms\n",
            "video 1/1 (frame 135/772) /content/drive/MyDrive/Yolov8/video/umam.mp4: 640x384 (no detections), 20.4ms\n",
            "video 1/1 (frame 136/772) /content/drive/MyDrive/Yolov8/video/umam.mp4: 640x384 (no detections), 20.2ms\n",
            "video 1/1 (frame 137/772) /content/drive/MyDrive/Yolov8/video/umam.mp4: 640x384 (no detections), 20.1ms\n",
            "video 1/1 (frame 138/772) /content/drive/MyDrive/Yolov8/video/umam.mp4: 640x384 (no detections), 20.4ms\n",
            "video 1/1 (frame 139/772) /content/drive/MyDrive/Yolov8/video/umam.mp4: 640x384 (no detections), 20.4ms\n",
            "video 1/1 (frame 140/772) /content/drive/MyDrive/Yolov8/video/umam.mp4: 640x384 (no detections), 20.3ms\n",
            "video 1/1 (frame 141/772) /content/drive/MyDrive/Yolov8/video/umam.mp4: 640x384 (no detections), 20.4ms\n",
            "video 1/1 (frame 142/772) /content/drive/MyDrive/Yolov8/video/umam.mp4: 640x384 (no detections), 20.2ms\n",
            "video 1/1 (frame 143/772) /content/drive/MyDrive/Yolov8/video/umam.mp4: 640x384 (no detections), 20.3ms\n",
            "video 1/1 (frame 144/772) /content/drive/MyDrive/Yolov8/video/umam.mp4: 640x384 (no detections), 20.7ms\n",
            "video 1/1 (frame 145/772) /content/drive/MyDrive/Yolov8/video/umam.mp4: 640x384 (no detections), 20.2ms\n",
            "video 1/1 (frame 146/772) /content/drive/MyDrive/Yolov8/video/umam.mp4: 640x384 (no detections), 20.2ms\n",
            "video 1/1 (frame 147/772) /content/drive/MyDrive/Yolov8/video/umam.mp4: 640x384 (no detections), 20.2ms\n",
            "video 1/1 (frame 148/772) /content/drive/MyDrive/Yolov8/video/umam.mp4: 640x384 (no detections), 20.2ms\n",
            "video 1/1 (frame 149/772) /content/drive/MyDrive/Yolov8/video/umam.mp4: 640x384 (no detections), 20.2ms\n",
            "video 1/1 (frame 150/772) /content/drive/MyDrive/Yolov8/video/umam.mp4: 640x384 (no detections), 20.4ms\n",
            "video 1/1 (frame 151/772) /content/drive/MyDrive/Yolov8/video/umam.mp4: 640x384 (no detections), 20.9ms\n",
            "video 1/1 (frame 152/772) /content/drive/MyDrive/Yolov8/video/umam.mp4: 640x384 (no detections), 20.7ms\n",
            "video 1/1 (frame 153/772) /content/drive/MyDrive/Yolov8/video/umam.mp4: 640x384 (no detections), 20.4ms\n",
            "video 1/1 (frame 154/772) /content/drive/MyDrive/Yolov8/video/umam.mp4: 640x384 (no detections), 21.2ms\n",
            "video 1/1 (frame 155/772) /content/drive/MyDrive/Yolov8/video/umam.mp4: 640x384 (no detections), 21.2ms\n",
            "video 1/1 (frame 156/772) /content/drive/MyDrive/Yolov8/video/umam.mp4: 640x384 (no detections), 20.5ms\n",
            "video 1/1 (frame 157/772) /content/drive/MyDrive/Yolov8/video/umam.mp4: 640x384 (no detections), 20.5ms\n",
            "video 1/1 (frame 158/772) /content/drive/MyDrive/Yolov8/video/umam.mp4: 640x384 (no detections), 20.9ms\n",
            "video 1/1 (frame 159/772) /content/drive/MyDrive/Yolov8/video/umam.mp4: 640x384 (no detections), 20.9ms\n",
            "video 1/1 (frame 160/772) /content/drive/MyDrive/Yolov8/video/umam.mp4: 640x384 (no detections), 20.4ms\n",
            "video 1/1 (frame 161/772) /content/drive/MyDrive/Yolov8/video/umam.mp4: 640x384 (no detections), 20.4ms\n",
            "video 1/1 (frame 162/772) /content/drive/MyDrive/Yolov8/video/umam.mp4: 640x384 (no detections), 20.4ms\n",
            "video 1/1 (frame 163/772) /content/drive/MyDrive/Yolov8/video/umam.mp4: 640x384 (no detections), 20.4ms\n",
            "video 1/1 (frame 164/772) /content/drive/MyDrive/Yolov8/video/umam.mp4: 640x384 (no detections), 20.4ms\n",
            "video 1/1 (frame 165/772) /content/drive/MyDrive/Yolov8/video/umam.mp4: 640x384 (no detections), 20.5ms\n",
            "video 1/1 (frame 166/772) /content/drive/MyDrive/Yolov8/video/umam.mp4: 640x384 (no detections), 20.9ms\n",
            "video 1/1 (frame 167/772) /content/drive/MyDrive/Yolov8/video/umam.mp4: 640x384 (no detections), 20.9ms\n",
            "video 1/1 (frame 168/772) /content/drive/MyDrive/Yolov8/video/umam.mp4: 640x384 (no detections), 20.4ms\n",
            "video 1/1 (frame 169/772) /content/drive/MyDrive/Yolov8/video/umam.mp4: 640x384 (no detections), 20.4ms\n",
            "video 1/1 (frame 170/772) /content/drive/MyDrive/Yolov8/video/umam.mp4: 640x384 (no detections), 20.9ms\n",
            "video 1/1 (frame 171/772) /content/drive/MyDrive/Yolov8/video/umam.mp4: 640x384 (no detections), 20.9ms\n",
            "video 1/1 (frame 172/772) /content/drive/MyDrive/Yolov8/video/umam.mp4: 640x384 (no detections), 20.4ms\n",
            "video 1/1 (frame 173/772) /content/drive/MyDrive/Yolov8/video/umam.mp4: 640x384 (no detections), 20.4ms\n",
            "video 1/1 (frame 174/772) /content/drive/MyDrive/Yolov8/video/umam.mp4: 640x384 (no detections), 20.4ms\n",
            "video 1/1 (frame 175/772) /content/drive/MyDrive/Yolov8/video/umam.mp4: 640x384 (no detections), 20.9ms\n",
            "video 1/1 (frame 176/772) /content/drive/MyDrive/Yolov8/video/umam.mp4: 640x384 (no detections), 20.9ms\n",
            "video 1/1 (frame 177/772) /content/drive/MyDrive/Yolov8/video/umam.mp4: 640x384 (no detections), 20.4ms\n",
            "video 1/1 (frame 178/772) /content/drive/MyDrive/Yolov8/video/umam.mp4: 640x384 (no detections), 20.4ms\n",
            "video 1/1 (frame 179/772) /content/drive/MyDrive/Yolov8/video/umam.mp4: 640x384 (no detections), 20.4ms\n",
            "video 1/1 (frame 180/772) /content/drive/MyDrive/Yolov8/video/umam.mp4: 640x384 (no detections), 20.9ms\n",
            "video 1/1 (frame 181/772) /content/drive/MyDrive/Yolov8/video/umam.mp4: 640x384 (no detections), 20.9ms\n",
            "video 1/1 (frame 182/772) /content/drive/MyDrive/Yolov8/video/umam.mp4: 640x384 (no detections), 20.4ms\n",
            "video 1/1 (frame 183/772) /content/drive/MyDrive/Yolov8/video/umam.mp4: 640x384 (no detections), 20.5ms\n",
            "video 1/1 (frame 184/772) /content/drive/MyDrive/Yolov8/video/umam.mp4: 640x384 (no detections), 20.5ms\n",
            "video 1/1 (frame 185/772) /content/drive/MyDrive/Yolov8/video/umam.mp4: 640x384 (no detections), 20.4ms\n",
            "video 1/1 (frame 186/772) /content/drive/MyDrive/Yolov8/video/umam.mp4: 640x384 (no detections), 20.6ms\n",
            "video 1/1 (frame 187/772) /content/drive/MyDrive/Yolov8/video/umam.mp4: 640x384 (no detections), 20.6ms\n",
            "video 1/1 (frame 188/772) /content/drive/MyDrive/Yolov8/video/umam.mp4: 640x384 (no detections), 20.2ms\n",
            "video 1/1 (frame 189/772) /content/drive/MyDrive/Yolov8/video/umam.mp4: 640x384 (no detections), 20.6ms\n",
            "video 1/1 (frame 190/772) /content/drive/MyDrive/Yolov8/video/umam.mp4: 640x384 (no detections), 20.6ms\n",
            "video 1/1 (frame 191/772) /content/drive/MyDrive/Yolov8/video/umam.mp4: 640x384 1 helm, 20.2ms\n",
            "video 1/1 (frame 192/772) /content/drive/MyDrive/Yolov8/video/umam.mp4: 640x384 1 helm, 20.2ms\n",
            "video 1/1 (frame 193/772) /content/drive/MyDrive/Yolov8/video/umam.mp4: 640x384 1 helm, 20.6ms\n",
            "video 1/1 (frame 194/772) /content/drive/MyDrive/Yolov8/video/umam.mp4: 640x384 1 helm, 20.6ms\n",
            "video 1/1 (frame 195/772) /content/drive/MyDrive/Yolov8/video/umam.mp4: 640x384 (no detections), 20.6ms\n",
            "video 1/1 (frame 196/772) /content/drive/MyDrive/Yolov8/video/umam.mp4: 640x384 (no detections), 20.2ms\n",
            "video 1/1 (frame 197/772) /content/drive/MyDrive/Yolov8/video/umam.mp4: 640x384 (no detections), 20.3ms\n",
            "video 1/1 (frame 198/772) /content/drive/MyDrive/Yolov8/video/umam.mp4: 640x384 (no detections), 20.4ms\n",
            "video 1/1 (frame 199/772) /content/drive/MyDrive/Yolov8/video/umam.mp4: 640x384 (no detections), 20.4ms\n",
            "video 1/1 (frame 200/772) /content/drive/MyDrive/Yolov8/video/umam.mp4: 640x384 (no detections), 20.2ms\n",
            "video 1/1 (frame 201/772) /content/drive/MyDrive/Yolov8/video/umam.mp4: 640x384 (no detections), 20.2ms\n",
            "video 1/1 (frame 202/772) /content/drive/MyDrive/Yolov8/video/umam.mp4: 640x384 (no detections), 20.3ms\n",
            "video 1/1 (frame 203/772) /content/drive/MyDrive/Yolov8/video/umam.mp4: 640x384 (no detections), 20.4ms\n",
            "video 1/1 (frame 204/772) /content/drive/MyDrive/Yolov8/video/umam.mp4: 640x384 (no detections), 20.4ms\n",
            "video 1/1 (frame 205/772) /content/drive/MyDrive/Yolov8/video/umam.mp4: 640x384 (no detections), 20.3ms\n",
            "video 1/1 (frame 206/772) /content/drive/MyDrive/Yolov8/video/umam.mp4: 640x384 (no detections), 20.2ms\n",
            "video 1/1 (frame 207/772) /content/drive/MyDrive/Yolov8/video/umam.mp4: 640x384 (no detections), 20.2ms\n",
            "video 1/1 (frame 208/772) /content/drive/MyDrive/Yolov8/video/umam.mp4: 640x384 (no detections), 21.1ms\n",
            "video 1/1 (frame 209/772) /content/drive/MyDrive/Yolov8/video/umam.mp4: 640x384 (no detections), 20.3ms\n",
            "video 1/1 (frame 210/772) /content/drive/MyDrive/Yolov8/video/umam.mp4: 640x384 (no detections), 20.2ms\n",
            "video 1/1 (frame 211/772) /content/drive/MyDrive/Yolov8/video/umam.mp4: 640x384 (no detections), 20.2ms\n",
            "video 1/1 (frame 212/772) /content/drive/MyDrive/Yolov8/video/umam.mp4: 640x384 (no detections), 20.3ms\n",
            "video 1/1 (frame 213/772) /content/drive/MyDrive/Yolov8/video/umam.mp4: 640x384 (no detections), 20.3ms\n",
            "video 1/1 (frame 214/772) /content/drive/MyDrive/Yolov8/video/umam.mp4: 640x384 1 helm, 25.3ms\n",
            "video 1/1 (frame 215/772) /content/drive/MyDrive/Yolov8/video/umam.mp4: 640x384 (no detections), 20.2ms\n",
            "video 1/1 (frame 216/772) /content/drive/MyDrive/Yolov8/video/umam.mp4: 640x384 (no detections), 22.0ms\n",
            "video 1/1 (frame 217/772) /content/drive/MyDrive/Yolov8/video/umam.mp4: 640x384 1 helm, 20.2ms\n",
            "video 1/1 (frame 218/772) /content/drive/MyDrive/Yolov8/video/umam.mp4: 640x384 1 helm, 20.2ms\n",
            "video 1/1 (frame 219/772) /content/drive/MyDrive/Yolov8/video/umam.mp4: 640x384 1 helm, 29.2ms\n",
            "video 1/1 (frame 220/772) /content/drive/MyDrive/Yolov8/video/umam.mp4: 640x384 1 helm, 20.2ms\n",
            "video 1/1 (frame 221/772) /content/drive/MyDrive/Yolov8/video/umam.mp4: 640x384 1 helm, 20.3ms\n",
            "video 1/1 (frame 222/772) /content/drive/MyDrive/Yolov8/video/umam.mp4: 640x384 1 helm, 20.2ms\n",
            "video 1/1 (frame 223/772) /content/drive/MyDrive/Yolov8/video/umam.mp4: 640x384 1 helm, 20.2ms\n",
            "video 1/1 (frame 224/772) /content/drive/MyDrive/Yolov8/video/umam.mp4: 640x384 1 helm, 20.3ms\n",
            "video 1/1 (frame 225/772) /content/drive/MyDrive/Yolov8/video/umam.mp4: 640x384 1 helm, 23.8ms\n",
            "video 1/1 (frame 226/772) /content/drive/MyDrive/Yolov8/video/umam.mp4: 640x384 1 helm, 23.4ms\n",
            "video 1/1 (frame 227/772) /content/drive/MyDrive/Yolov8/video/umam.mp4: 640x384 1 helm, 25.1ms\n",
            "video 1/1 (frame 228/772) /content/drive/MyDrive/Yolov8/video/umam.mp4: 640x384 (no detections), 26.7ms\n",
            "video 1/1 (frame 229/772) /content/drive/MyDrive/Yolov8/video/umam.mp4: 640x384 (no detections), 24.5ms\n",
            "video 1/1 (frame 230/772) /content/drive/MyDrive/Yolov8/video/umam.mp4: 640x384 (no detections), 34.0ms\n",
            "video 1/1 (frame 231/772) /content/drive/MyDrive/Yolov8/video/umam.mp4: 640x384 (no detections), 24.7ms\n",
            "video 1/1 (frame 232/772) /content/drive/MyDrive/Yolov8/video/umam.mp4: 640x384 (no detections), 25.5ms\n",
            "video 1/1 (frame 233/772) /content/drive/MyDrive/Yolov8/video/umam.mp4: 640x384 (no detections), 25.4ms\n",
            "video 1/1 (frame 234/772) /content/drive/MyDrive/Yolov8/video/umam.mp4: 640x384 (no detections), 25.9ms\n",
            "video 1/1 (frame 235/772) /content/drive/MyDrive/Yolov8/video/umam.mp4: 640x384 (no detections), 25.9ms\n",
            "video 1/1 (frame 236/772) /content/drive/MyDrive/Yolov8/video/umam.mp4: 640x384 (no detections), 26.0ms\n",
            "video 1/1 (frame 237/772) /content/drive/MyDrive/Yolov8/video/umam.mp4: 640x384 (no detections), 26.2ms\n",
            "video 1/1 (frame 238/772) /content/drive/MyDrive/Yolov8/video/umam.mp4: 640x384 (no detections), 27.4ms\n",
            "video 1/1 (frame 239/772) /content/drive/MyDrive/Yolov8/video/umam.mp4: 640x384 (no detections), 26.5ms\n",
            "video 1/1 (frame 240/772) /content/drive/MyDrive/Yolov8/video/umam.mp4: 640x384 (no detections), 26.6ms\n",
            "video 1/1 (frame 241/772) /content/drive/MyDrive/Yolov8/video/umam.mp4: 640x384 (no detections), 26.7ms\n",
            "video 1/1 (frame 242/772) /content/drive/MyDrive/Yolov8/video/umam.mp4: 640x384 (no detections), 26.9ms\n",
            "video 1/1 (frame 243/772) /content/drive/MyDrive/Yolov8/video/umam.mp4: 640x384 (no detections), 38.4ms\n",
            "video 1/1 (frame 244/772) /content/drive/MyDrive/Yolov8/video/umam.mp4: 640x384 (no detections), 27.2ms\n",
            "video 1/1 (frame 245/772) /content/drive/MyDrive/Yolov8/video/umam.mp4: 640x384 (no detections), 28.7ms\n",
            "video 1/1 (frame 246/772) /content/drive/MyDrive/Yolov8/video/umam.mp4: 640x384 (no detections), 28.0ms\n",
            "video 1/1 (frame 247/772) /content/drive/MyDrive/Yolov8/video/umam.mp4: 640x384 (no detections), 28.0ms\n",
            "video 1/1 (frame 248/772) /content/drive/MyDrive/Yolov8/video/umam.mp4: 640x384 (no detections), 28.4ms\n",
            "video 1/1 (frame 249/772) /content/drive/MyDrive/Yolov8/video/umam.mp4: 640x384 (no detections), 28.4ms\n",
            "video 1/1 (frame 250/772) /content/drive/MyDrive/Yolov8/video/umam.mp4: 640x384 (no detections), 29.2ms\n",
            "video 1/1 (frame 251/772) /content/drive/MyDrive/Yolov8/video/umam.mp4: 640x384 (no detections), 29.3ms\n",
            "video 1/1 (frame 252/772) /content/drive/MyDrive/Yolov8/video/umam.mp4: 640x384 (no detections), 29.5ms\n",
            "video 1/1 (frame 253/772) /content/drive/MyDrive/Yolov8/video/umam.mp4: 640x384 (no detections), 29.6ms\n",
            "video 1/1 (frame 254/772) /content/drive/MyDrive/Yolov8/video/umam.mp4: 640x384 (no detections), 29.6ms\n",
            "video 1/1 (frame 255/772) /content/drive/MyDrive/Yolov8/video/umam.mp4: 640x384 (no detections), 29.7ms\n",
            "video 1/1 (frame 256/772) /content/drive/MyDrive/Yolov8/video/umam.mp4: 640x384 (no detections), 30.4ms\n",
            "video 1/1 (frame 257/772) /content/drive/MyDrive/Yolov8/video/umam.mp4: 640x384 (no detections), 33.6ms\n",
            "video 1/1 (frame 258/772) /content/drive/MyDrive/Yolov8/video/umam.mp4: 640x384 (no detections), 30.1ms\n",
            "video 1/1 (frame 259/772) /content/drive/MyDrive/Yolov8/video/umam.mp4: 640x384 (no detections), 30.5ms\n",
            "video 1/1 (frame 260/772) /content/drive/MyDrive/Yolov8/video/umam.mp4: 640x384 (no detections), 33.0ms\n",
            "video 1/1 (frame 261/772) /content/drive/MyDrive/Yolov8/video/umam.mp4: 640x384 (no detections), 31.7ms\n",
            "video 1/1 (frame 262/772) /content/drive/MyDrive/Yolov8/video/umam.mp4: 640x384 (no detections), 31.0ms\n",
            "video 1/1 (frame 263/772) /content/drive/MyDrive/Yolov8/video/umam.mp4: 640x384 (no detections), 31.5ms\n",
            "video 1/1 (frame 264/772) /content/drive/MyDrive/Yolov8/video/umam.mp4: 640x384 (no detections), 34.3ms\n",
            "video 1/1 (frame 265/772) /content/drive/MyDrive/Yolov8/video/umam.mp4: 640x384 (no detections), 32.0ms\n",
            "video 1/1 (frame 266/772) /content/drive/MyDrive/Yolov8/video/umam.mp4: 640x384 (no detections), 32.6ms\n",
            "video 1/1 (frame 267/772) /content/drive/MyDrive/Yolov8/video/umam.mp4: 640x384 (no detections), 32.7ms\n",
            "video 1/1 (frame 268/772) /content/drive/MyDrive/Yolov8/video/umam.mp4: 640x384 (no detections), 32.6ms\n",
            "video 1/1 (frame 269/772) /content/drive/MyDrive/Yolov8/video/umam.mp4: 640x384 (no detections), 33.1ms\n",
            "video 1/1 (frame 270/772) /content/drive/MyDrive/Yolov8/video/umam.mp4: 640x384 (no detections), 33.1ms\n",
            "video 1/1 (frame 271/772) /content/drive/MyDrive/Yolov8/video/umam.mp4: 640x384 (no detections), 33.1ms\n",
            "video 1/1 (frame 272/772) /content/drive/MyDrive/Yolov8/video/umam.mp4: 640x384 (no detections), 33.1ms\n",
            "video 1/1 (frame 273/772) /content/drive/MyDrive/Yolov8/video/umam.mp4: 640x384 (no detections), 33.7ms\n",
            "video 1/1 (frame 274/772) /content/drive/MyDrive/Yolov8/video/umam.mp4: 640x384 (no detections), 33.7ms\n",
            "video 1/1 (frame 275/772) /content/drive/MyDrive/Yolov8/video/umam.mp4: 640x384 (no detections), 33.3ms\n",
            "video 1/1 (frame 276/772) /content/drive/MyDrive/Yolov8/video/umam.mp4: 640x384 (no detections), 29.2ms\n",
            "video 1/1 (frame 277/772) /content/drive/MyDrive/Yolov8/video/umam.mp4: 640x384 (no detections), 32.5ms\n",
            "video 1/1 (frame 278/772) /content/drive/MyDrive/Yolov8/video/umam.mp4: 640x384 (no detections), 29.3ms\n",
            "video 1/1 (frame 279/772) /content/drive/MyDrive/Yolov8/video/umam.mp4: 640x384 (no detections), 29.2ms\n",
            "video 1/1 (frame 280/772) /content/drive/MyDrive/Yolov8/video/umam.mp4: 640x384 (no detections), 29.2ms\n",
            "video 1/1 (frame 281/772) /content/drive/MyDrive/Yolov8/video/umam.mp4: 640x384 (no detections), 33.0ms\n",
            "video 1/1 (frame 282/772) /content/drive/MyDrive/Yolov8/video/umam.mp4: 640x384 (no detections), 29.2ms\n",
            "video 1/1 (frame 283/772) /content/drive/MyDrive/Yolov8/video/umam.mp4: 640x384 (no detections), 29.2ms\n",
            "video 1/1 (frame 284/772) /content/drive/MyDrive/Yolov8/video/umam.mp4: 640x384 (no detections), 29.2ms\n",
            "video 1/1 (frame 285/772) /content/drive/MyDrive/Yolov8/video/umam.mp4: 640x384 (no detections), 30.2ms\n",
            "video 1/1 (frame 286/772) /content/drive/MyDrive/Yolov8/video/umam.mp4: 640x384 (no detections), 28.0ms\n",
            "video 1/1 (frame 287/772) /content/drive/MyDrive/Yolov8/video/umam.mp4: 640x384 (no detections), 28.0ms\n",
            "video 1/1 (frame 288/772) /content/drive/MyDrive/Yolov8/video/umam.mp4: 640x384 (no detections), 28.0ms\n",
            "video 1/1 (frame 289/772) /content/drive/MyDrive/Yolov8/video/umam.mp4: 640x384 (no detections), 28.0ms\n",
            "video 1/1 (frame 290/772) /content/drive/MyDrive/Yolov8/video/umam.mp4: 640x384 (no detections), 28.1ms\n",
            "video 1/1 (frame 291/772) /content/drive/MyDrive/Yolov8/video/umam.mp4: 640x384 (no detections), 28.0ms\n",
            "video 1/1 (frame 292/772) /content/drive/MyDrive/Yolov8/video/umam.mp4: 640x384 (no detections), 28.1ms\n",
            "video 1/1 (frame 293/772) /content/drive/MyDrive/Yolov8/video/umam.mp4: 640x384 (no detections), 28.0ms\n",
            "video 1/1 (frame 294/772) /content/drive/MyDrive/Yolov8/video/umam.mp4: 640x384 (no detections), 28.0ms\n",
            "video 1/1 (frame 295/772) /content/drive/MyDrive/Yolov8/video/umam.mp4: 640x384 (no detections), 28.0ms\n",
            "video 1/1 (frame 296/772) /content/drive/MyDrive/Yolov8/video/umam.mp4: 640x384 (no detections), 27.3ms\n",
            "video 1/1 (frame 297/772) /content/drive/MyDrive/Yolov8/video/umam.mp4: 640x384 (no detections), 27.3ms\n",
            "video 1/1 (frame 298/772) /content/drive/MyDrive/Yolov8/video/umam.mp4: 640x384 1 helm, 27.2ms\n",
            "video 1/1 (frame 299/772) /content/drive/MyDrive/Yolov8/video/umam.mp4: 640x384 (no detections), 27.3ms\n",
            "video 1/1 (frame 300/772) /content/drive/MyDrive/Yolov8/video/umam.mp4: 640x384 (no detections), 27.2ms\n",
            "video 1/1 (frame 301/772) /content/drive/MyDrive/Yolov8/video/umam.mp4: 640x384 (no detections), 27.3ms\n",
            "video 1/1 (frame 302/772) /content/drive/MyDrive/Yolov8/video/umam.mp4: 640x384 (no detections), 27.3ms\n",
            "video 1/1 (frame 303/772) /content/drive/MyDrive/Yolov8/video/umam.mp4: 640x384 (no detections), 27.3ms\n",
            "video 1/1 (frame 304/772) /content/drive/MyDrive/Yolov8/video/umam.mp4: 640x384 (no detections), 28.2ms\n",
            "video 1/1 (frame 305/772) /content/drive/MyDrive/Yolov8/video/umam.mp4: 640x384 (no detections), 27.3ms\n",
            "video 1/1 (frame 306/772) /content/drive/MyDrive/Yolov8/video/umam.mp4: 640x384 (no detections), 27.3ms\n",
            "video 1/1 (frame 307/772) /content/drive/MyDrive/Yolov8/video/umam.mp4: 640x384 (no detections), 27.3ms\n",
            "video 1/1 (frame 308/772) /content/drive/MyDrive/Yolov8/video/umam.mp4: 640x384 (no detections), 29.1ms\n",
            "video 1/1 (frame 309/772) /content/drive/MyDrive/Yolov8/video/umam.mp4: 640x384 (no detections), 27.3ms\n",
            "video 1/1 (frame 310/772) /content/drive/MyDrive/Yolov8/video/umam.mp4: 640x384 (no detections), 27.3ms\n",
            "video 1/1 (frame 311/772) /content/drive/MyDrive/Yolov8/video/umam.mp4: 640x384 (no detections), 27.3ms\n",
            "video 1/1 (frame 312/772) /content/drive/MyDrive/Yolov8/video/umam.mp4: 640x384 (no detections), 27.7ms\n",
            "video 1/1 (frame 313/772) /content/drive/MyDrive/Yolov8/video/umam.mp4: 640x384 (no detections), 27.3ms\n",
            "video 1/1 (frame 314/772) /content/drive/MyDrive/Yolov8/video/umam.mp4: 640x384 (no detections), 28.5ms\n",
            "video 1/1 (frame 315/772) /content/drive/MyDrive/Yolov8/video/umam.mp4: 640x384 (no detections), 27.3ms\n",
            "video 1/1 (frame 316/772) /content/drive/MyDrive/Yolov8/video/umam.mp4: 640x384 (no detections), 27.3ms\n",
            "video 1/1 (frame 317/772) /content/drive/MyDrive/Yolov8/video/umam.mp4: 640x384 (no detections), 26.9ms\n",
            "video 1/1 (frame 318/772) /content/drive/MyDrive/Yolov8/video/umam.mp4: 640x384 (no detections), 26.9ms\n",
            "video 1/1 (frame 319/772) /content/drive/MyDrive/Yolov8/video/umam.mp4: 640x384 (no detections), 26.9ms\n",
            "video 1/1 (frame 320/772) /content/drive/MyDrive/Yolov8/video/umam.mp4: 640x384 (no detections), 26.9ms\n",
            "video 1/1 (frame 321/772) /content/drive/MyDrive/Yolov8/video/umam.mp4: 640x384 (no detections), 26.9ms\n",
            "video 1/1 (frame 322/772) /content/drive/MyDrive/Yolov8/video/umam.mp4: 640x384 (no detections), 26.9ms\n",
            "video 1/1 (frame 323/772) /content/drive/MyDrive/Yolov8/video/umam.mp4: 640x384 (no detections), 26.9ms\n",
            "video 1/1 (frame 324/772) /content/drive/MyDrive/Yolov8/video/umam.mp4: 640x384 1 helm, 26.9ms\n",
            "video 1/1 (frame 325/772) /content/drive/MyDrive/Yolov8/video/umam.mp4: 640x384 1 helm, 26.9ms\n",
            "video 1/1 (frame 326/772) /content/drive/MyDrive/Yolov8/video/umam.mp4: 640x384 1 helm, 26.6ms\n",
            "video 1/1 (frame 327/772) /content/drive/MyDrive/Yolov8/video/umam.mp4: 640x384 1 helm, 26.5ms\n",
            "video 1/1 (frame 328/772) /content/drive/MyDrive/Yolov8/video/umam.mp4: 640x384 1 helm, 26.5ms\n",
            "video 1/1 (frame 329/772) /content/drive/MyDrive/Yolov8/video/umam.mp4: 640x384 1 helm, 26.0ms\n",
            "video 1/1 (frame 330/772) /content/drive/MyDrive/Yolov8/video/umam.mp4: 640x384 1 helm, 25.9ms\n",
            "video 1/1 (frame 331/772) /content/drive/MyDrive/Yolov8/video/umam.mp4: 640x384 1 helm, 25.9ms\n",
            "video 1/1 (frame 332/772) /content/drive/MyDrive/Yolov8/video/umam.mp4: 640x384 1 helm, 25.9ms\n",
            "video 1/1 (frame 333/772) /content/drive/MyDrive/Yolov8/video/umam.mp4: 640x384 1 helm, 25.9ms\n",
            "video 1/1 (frame 334/772) /content/drive/MyDrive/Yolov8/video/umam.mp4: 640x384 1 helm, 25.9ms\n",
            "video 1/1 (frame 335/772) /content/drive/MyDrive/Yolov8/video/umam.mp4: 640x384 1 helm, 25.4ms\n",
            "video 1/1 (frame 336/772) /content/drive/MyDrive/Yolov8/video/umam.mp4: 640x384 1 helm, 23.8ms\n",
            "video 1/1 (frame 337/772) /content/drive/MyDrive/Yolov8/video/umam.mp4: 640x384 1 helm, 23.1ms\n",
            "video 1/1 (frame 338/772) /content/drive/MyDrive/Yolov8/video/umam.mp4: 640x384 1 helm, 23.1ms\n",
            "video 1/1 (frame 339/772) /content/drive/MyDrive/Yolov8/video/umam.mp4: 640x384 1 helm, 23.1ms\n",
            "video 1/1 (frame 340/772) /content/drive/MyDrive/Yolov8/video/umam.mp4: 640x384 1 helm, 23.1ms\n",
            "video 1/1 (frame 341/772) /content/drive/MyDrive/Yolov8/video/umam.mp4: 640x384 1 helm, 23.1ms\n",
            "video 1/1 (frame 342/772) /content/drive/MyDrive/Yolov8/video/umam.mp4: 640x384 1 helm, 23.1ms\n",
            "video 1/1 (frame 343/772) /content/drive/MyDrive/Yolov8/video/umam.mp4: 640x384 1 helm, 23.1ms\n",
            "video 1/1 (frame 344/772) /content/drive/MyDrive/Yolov8/video/umam.mp4: 640x384 1 helm, 23.1ms\n",
            "video 1/1 (frame 345/772) /content/drive/MyDrive/Yolov8/video/umam.mp4: 640x384 1 helm, 23.1ms\n",
            "video 1/1 (frame 346/772) /content/drive/MyDrive/Yolov8/video/umam.mp4: 640x384 1 helm, 21.3ms\n",
            "video 1/1 (frame 347/772) /content/drive/MyDrive/Yolov8/video/umam.mp4: 640x384 1 helm, 20.8ms\n",
            "video 1/1 (frame 348/772) /content/drive/MyDrive/Yolov8/video/umam.mp4: 640x384 1 helm, 20.7ms\n",
            "video 1/1 (frame 349/772) /content/drive/MyDrive/Yolov8/video/umam.mp4: 640x384 1 helm, 20.7ms\n",
            "video 1/1 (frame 350/772) /content/drive/MyDrive/Yolov8/video/umam.mp4: 640x384 1 helm, 20.7ms\n",
            "video 1/1 (frame 351/772) /content/drive/MyDrive/Yolov8/video/umam.mp4: 640x384 1 helm, 21.3ms\n",
            "video 1/1 (frame 352/772) /content/drive/MyDrive/Yolov8/video/umam.mp4: 640x384 1 helm, 21.3ms\n",
            "video 1/1 (frame 353/772) /content/drive/MyDrive/Yolov8/video/umam.mp4: 640x384 1 helm, 20.7ms\n",
            "video 1/1 (frame 354/772) /content/drive/MyDrive/Yolov8/video/umam.mp4: 640x384 1 helm, 20.7ms\n",
            "video 1/1 (frame 355/772) /content/drive/MyDrive/Yolov8/video/umam.mp4: 640x384 1 helm, 20.7ms\n",
            "video 1/1 (frame 356/772) /content/drive/MyDrive/Yolov8/video/umam.mp4: 640x384 1 helm, 20.7ms\n",
            "video 1/1 (frame 357/772) /content/drive/MyDrive/Yolov8/video/umam.mp4: 640x384 1 helm, 20.7ms\n",
            "video 1/1 (frame 358/772) /content/drive/MyDrive/Yolov8/video/umam.mp4: 640x384 1 helm, 21.3ms\n",
            "video 1/1 (frame 359/772) /content/drive/MyDrive/Yolov8/video/umam.mp4: 640x384 1 helm, 20.7ms\n",
            "video 1/1 (frame 360/772) /content/drive/MyDrive/Yolov8/video/umam.mp4: 640x384 1 helm, 20.7ms\n",
            "video 1/1 (frame 361/772) /content/drive/MyDrive/Yolov8/video/umam.mp4: 640x384 1 helm, 20.7ms\n",
            "video 1/1 (frame 362/772) /content/drive/MyDrive/Yolov8/video/umam.mp4: 640x384 1 helm, 20.7ms\n",
            "video 1/1 (frame 363/772) /content/drive/MyDrive/Yolov8/video/umam.mp4: 640x384 1 helm, 20.9ms\n",
            "video 1/1 (frame 364/772) /content/drive/MyDrive/Yolov8/video/umam.mp4: 640x384 1 helm, 20.6ms\n",
            "video 1/1 (frame 365/772) /content/drive/MyDrive/Yolov8/video/umam.mp4: 640x384 1 helm, 20.4ms\n",
            "video 1/1 (frame 366/772) /content/drive/MyDrive/Yolov8/video/umam.mp4: 640x384 1 helm, 20.9ms\n",
            "video 1/1 (frame 367/772) /content/drive/MyDrive/Yolov8/video/umam.mp4: 640x384 (no detections), 20.9ms\n",
            "video 1/1 (frame 368/772) /content/drive/MyDrive/Yolov8/video/umam.mp4: 640x384 (no detections), 20.9ms\n",
            "video 1/1 (frame 369/772) /content/drive/MyDrive/Yolov8/video/umam.mp4: 640x384 1 helm, 20.9ms\n",
            "video 1/1 (frame 370/772) /content/drive/MyDrive/Yolov8/video/umam.mp4: 640x384 (no detections), 20.4ms\n",
            "video 1/1 (frame 371/772) /content/drive/MyDrive/Yolov8/video/umam.mp4: 640x384 (no detections), 20.4ms\n",
            "video 1/1 (frame 372/772) /content/drive/MyDrive/Yolov8/video/umam.mp4: 640x384 (no detections), 20.4ms\n",
            "video 1/1 (frame 373/772) /content/drive/MyDrive/Yolov8/video/umam.mp4: 640x384 (no detections), 20.9ms\n",
            "video 1/1 (frame 374/772) /content/drive/MyDrive/Yolov8/video/umam.mp4: 640x384 (no detections), 20.9ms\n",
            "video 1/1 (frame 375/772) /content/drive/MyDrive/Yolov8/video/umam.mp4: 640x384 (no detections), 20.9ms\n",
            "video 1/1 (frame 376/772) /content/drive/MyDrive/Yolov8/video/umam.mp4: 640x384 (no detections), 20.5ms\n",
            "video 1/1 (frame 377/772) /content/drive/MyDrive/Yolov8/video/umam.mp4: 640x384 (no detections), 20.4ms\n",
            "video 1/1 (frame 378/772) /content/drive/MyDrive/Yolov8/video/umam.mp4: 640x384 (no detections), 21.0ms\n",
            "video 1/1 (frame 379/772) /content/drive/MyDrive/Yolov8/video/umam.mp4: 640x384 (no detections), 21.0ms\n",
            "video 1/1 (frame 380/772) /content/drive/MyDrive/Yolov8/video/umam.mp4: 640x384 1 helm, 21.0ms\n",
            "video 1/1 (frame 381/772) /content/drive/MyDrive/Yolov8/video/umam.mp4: 640x384 1 helm, 20.4ms\n",
            "video 1/1 (frame 382/772) /content/drive/MyDrive/Yolov8/video/umam.mp4: 640x384 (no detections), 20.5ms\n",
            "video 1/1 (frame 383/772) /content/drive/MyDrive/Yolov8/video/umam.mp4: 640x384 (no detections), 20.5ms\n",
            "video 1/1 (frame 384/772) /content/drive/MyDrive/Yolov8/video/umam.mp4: 640x384 (no detections), 20.4ms\n",
            "video 1/1 (frame 385/772) /content/drive/MyDrive/Yolov8/video/umam.mp4: 640x384 (no detections), 20.5ms\n",
            "video 1/1 (frame 386/772) /content/drive/MyDrive/Yolov8/video/umam.mp4: 640x384 (no detections), 20.9ms\n",
            "video 1/1 (frame 387/772) /content/drive/MyDrive/Yolov8/video/umam.mp4: 640x384 (no detections), 21.0ms\n",
            "video 1/1 (frame 388/772) /content/drive/MyDrive/Yolov8/video/umam.mp4: 640x384 (no detections), 20.4ms\n",
            "video 1/1 (frame 389/772) /content/drive/MyDrive/Yolov8/video/umam.mp4: 640x384 (no detections), 20.4ms\n",
            "video 1/1 (frame 390/772) /content/drive/MyDrive/Yolov8/video/umam.mp4: 640x384 (no detections), 20.4ms\n",
            "video 1/1 (frame 391/772) /content/drive/MyDrive/Yolov8/video/umam.mp4: 640x384 (no detections), 20.4ms\n",
            "video 1/1 (frame 392/772) /content/drive/MyDrive/Yolov8/video/umam.mp4: 640x384 (no detections), 20.4ms\n",
            "video 1/1 (frame 393/772) /content/drive/MyDrive/Yolov8/video/umam.mp4: 640x384 (no detections), 20.2ms\n",
            "video 1/1 (frame 394/772) /content/drive/MyDrive/Yolov8/video/umam.mp4: 640x384 (no detections), 20.2ms\n",
            "video 1/1 (frame 395/772) /content/drive/MyDrive/Yolov8/video/umam.mp4: 640x384 1 helm, 20.4ms\n",
            "video 1/1 (frame 396/772) /content/drive/MyDrive/Yolov8/video/umam.mp4: 640x384 1 helm, 20.4ms\n",
            "video 1/1 (frame 397/772) /content/drive/MyDrive/Yolov8/video/umam.mp4: 640x384 1 helm, 20.2ms\n",
            "video 1/1 (frame 398/772) /content/drive/MyDrive/Yolov8/video/umam.mp4: 640x384 1 helm, 20.2ms\n",
            "video 1/1 (frame 399/772) /content/drive/MyDrive/Yolov8/video/umam.mp4: 640x384 1 helm, 20.2ms\n",
            "video 1/1 (frame 400/772) /content/drive/MyDrive/Yolov8/video/umam.mp4: 640x384 1 helm, 21.0ms\n",
            "video 1/1 (frame 401/772) /content/drive/MyDrive/Yolov8/video/umam.mp4: 640x384 1 helm, 20.3ms\n",
            "video 1/1 (frame 402/772) /content/drive/MyDrive/Yolov8/video/umam.mp4: 640x384 1 helm, 20.2ms\n",
            "video 1/1 (frame 403/772) /content/drive/MyDrive/Yolov8/video/umam.mp4: 640x384 1 helm, 20.4ms\n",
            "video 1/1 (frame 404/772) /content/drive/MyDrive/Yolov8/video/umam.mp4: 640x384 1 helm, 20.3ms\n",
            "video 1/1 (frame 405/772) /content/drive/MyDrive/Yolov8/video/umam.mp4: 640x384 1 helm, 20.4ms\n",
            "video 1/1 (frame 406/772) /content/drive/MyDrive/Yolov8/video/umam.mp4: 640x384 1 helm, 20.4ms\n",
            "video 1/1 (frame 407/772) /content/drive/MyDrive/Yolov8/video/umam.mp4: 640x384 1 helm, 20.2ms\n",
            "video 1/1 (frame 408/772) /content/drive/MyDrive/Yolov8/video/umam.mp4: 640x384 1 helm, 20.2ms\n",
            "video 1/1 (frame 409/772) /content/drive/MyDrive/Yolov8/video/umam.mp4: 640x384 1 helm, 20.2ms\n",
            "video 1/1 (frame 410/772) /content/drive/MyDrive/Yolov8/video/umam.mp4: 640x384 1 helm, 20.3ms\n",
            "video 1/1 (frame 411/772) /content/drive/MyDrive/Yolov8/video/umam.mp4: 640x384 1 helm, 20.4ms\n",
            "video 1/1 (frame 412/772) /content/drive/MyDrive/Yolov8/video/umam.mp4: 640x384 1 helm, 20.4ms\n",
            "video 1/1 (frame 413/772) /content/drive/MyDrive/Yolov8/video/umam.mp4: 640x384 1 helm, 20.4ms\n",
            "video 1/1 (frame 414/772) /content/drive/MyDrive/Yolov8/video/umam.mp4: 640x384 1 helm, 20.2ms\n",
            "video 1/1 (frame 415/772) /content/drive/MyDrive/Yolov8/video/umam.mp4: 640x384 1 helm, 20.2ms\n",
            "video 1/1 (frame 416/772) /content/drive/MyDrive/Yolov8/video/umam.mp4: 640x384 1 helm, 20.2ms\n",
            "video 1/1 (frame 417/772) /content/drive/MyDrive/Yolov8/video/umam.mp4: 640x384 1 helm, 20.4ms\n",
            "video 1/1 (frame 418/772) /content/drive/MyDrive/Yolov8/video/umam.mp4: 640x384 1 helm, 21.6ms\n",
            "video 1/1 (frame 419/772) /content/drive/MyDrive/Yolov8/video/umam.mp4: 640x384 1 helm, 20.3ms\n",
            "video 1/1 (frame 420/772) /content/drive/MyDrive/Yolov8/video/umam.mp4: 640x384 1 helm, 20.4ms\n",
            "video 1/1 (frame 421/772) /content/drive/MyDrive/Yolov8/video/umam.mp4: 640x384 1 helm, 20.4ms\n",
            "video 1/1 (frame 422/772) /content/drive/MyDrive/Yolov8/video/umam.mp4: 640x384 1 helm, 20.4ms\n",
            "video 1/1 (frame 423/772) /content/drive/MyDrive/Yolov8/video/umam.mp4: 640x384 1 helm, 20.2ms\n",
            "video 1/1 (frame 424/772) /content/drive/MyDrive/Yolov8/video/umam.mp4: 640x384 1 helm, 20.2ms\n",
            "video 1/1 (frame 425/772) /content/drive/MyDrive/Yolov8/video/umam.mp4: 640x384 1 helm, 20.2ms\n",
            "video 1/1 (frame 426/772) /content/drive/MyDrive/Yolov8/video/umam.mp4: 640x384 1 helm, 20.2ms\n",
            "video 1/1 (frame 427/772) /content/drive/MyDrive/Yolov8/video/umam.mp4: 640x384 1 helm, 20.4ms\n",
            "video 1/1 (frame 428/772) /content/drive/MyDrive/Yolov8/video/umam.mp4: 640x384 1 helm, 20.4ms\n",
            "video 1/1 (frame 429/772) /content/drive/MyDrive/Yolov8/video/umam.mp4: 640x384 1 helm, 20.2ms\n",
            "video 1/1 (frame 430/772) /content/drive/MyDrive/Yolov8/video/umam.mp4: 640x384 2 helms, 20.4ms\n",
            "video 1/1 (frame 431/772) /content/drive/MyDrive/Yolov8/video/umam.mp4: 640x384 2 helms, 20.4ms\n",
            "video 1/1 (frame 432/772) /content/drive/MyDrive/Yolov8/video/umam.mp4: 640x384 1 helm, 20.4ms\n",
            "video 1/1 (frame 433/772) /content/drive/MyDrive/Yolov8/video/umam.mp4: 640x384 1 helm, 20.4ms\n",
            "video 1/1 (frame 434/772) /content/drive/MyDrive/Yolov8/video/umam.mp4: 640x384 1 helm, 20.4ms\n",
            "video 1/1 (frame 435/772) /content/drive/MyDrive/Yolov8/video/umam.mp4: 640x384 2 helms, 20.4ms\n",
            "video 1/1 (frame 436/772) /content/drive/MyDrive/Yolov8/video/umam.mp4: 640x384 2 helms, 20.6ms\n",
            "video 1/1 (frame 437/772) /content/drive/MyDrive/Yolov8/video/umam.mp4: 640x384 2 helms, 20.6ms\n",
            "video 1/1 (frame 438/772) /content/drive/MyDrive/Yolov8/video/umam.mp4: 640x384 1 helm, 20.2ms\n",
            "video 1/1 (frame 439/772) /content/drive/MyDrive/Yolov8/video/umam.mp4: 640x384 1 helm, 20.2ms\n",
            "video 1/1 (frame 440/772) /content/drive/MyDrive/Yolov8/video/umam.mp4: 640x384 1 helm, 20.2ms\n",
            "video 1/1 (frame 441/772) /content/drive/MyDrive/Yolov8/video/umam.mp4: 640x384 1 helm, 20.6ms\n",
            "video 1/1 (frame 442/772) /content/drive/MyDrive/Yolov8/video/umam.mp4: 640x384 1 helm, 20.6ms\n",
            "video 1/1 (frame 443/772) /content/drive/MyDrive/Yolov8/video/umam.mp4: 640x384 1 helm, 20.2ms\n",
            "video 1/1 (frame 444/772) /content/drive/MyDrive/Yolov8/video/umam.mp4: 640x384 1 helm, 20.6ms\n",
            "video 1/1 (frame 445/772) /content/drive/MyDrive/Yolov8/video/umam.mp4: 640x384 2 helms, 20.7ms\n",
            "video 1/1 (frame 446/772) /content/drive/MyDrive/Yolov8/video/umam.mp4: 640x384 1 helm, 20.4ms\n",
            "video 1/1 (frame 447/772) /content/drive/MyDrive/Yolov8/video/umam.mp4: 640x384 1 helm, 20.4ms\n",
            "video 1/1 (frame 448/772) /content/drive/MyDrive/Yolov8/video/umam.mp4: 640x384 2 helms, 20.4ms\n",
            "video 1/1 (frame 449/772) /content/drive/MyDrive/Yolov8/video/umam.mp4: 640x384 2 helms, 20.4ms\n",
            "video 1/1 (frame 450/772) /content/drive/MyDrive/Yolov8/video/umam.mp4: 640x384 2 helms, 20.2ms\n",
            "video 1/1 (frame 451/772) /content/drive/MyDrive/Yolov8/video/umam.mp4: 640x384 1 helm, 20.2ms\n",
            "video 1/1 (frame 452/772) /content/drive/MyDrive/Yolov8/video/umam.mp4: 640x384 1 helm, 20.2ms\n",
            "video 1/1 (frame 453/772) /content/drive/MyDrive/Yolov8/video/umam.mp4: 640x384 2 helms, 20.2ms\n",
            "video 1/1 (frame 454/772) /content/drive/MyDrive/Yolov8/video/umam.mp4: 640x384 2 helms, 20.4ms\n",
            "video 1/1 (frame 455/772) /content/drive/MyDrive/Yolov8/video/umam.mp4: 640x384 1 helm, 20.4ms\n",
            "video 1/1 (frame 456/772) /content/drive/MyDrive/Yolov8/video/umam.mp4: 640x384 1 helm, 20.4ms\n",
            "video 1/1 (frame 457/772) /content/drive/MyDrive/Yolov8/video/umam.mp4: 640x384 1 helm, 20.4ms\n",
            "video 1/1 (frame 458/772) /content/drive/MyDrive/Yolov8/video/umam.mp4: 640x384 1 helm, 20.4ms\n",
            "video 1/1 (frame 459/772) /content/drive/MyDrive/Yolov8/video/umam.mp4: 640x384 1 helm, 20.4ms\n",
            "video 1/1 (frame 460/772) /content/drive/MyDrive/Yolov8/video/umam.mp4: 640x384 1 helm, 20.2ms\n",
            "video 1/1 (frame 461/772) /content/drive/MyDrive/Yolov8/video/umam.mp4: 640x384 2 helms, 20.2ms\n",
            "video 1/1 (frame 462/772) /content/drive/MyDrive/Yolov8/video/umam.mp4: 640x384 1 helm, 20.2ms\n",
            "video 1/1 (frame 463/772) /content/drive/MyDrive/Yolov8/video/umam.mp4: 640x384 1 helm, 20.2ms\n",
            "video 1/1 (frame 464/772) /content/drive/MyDrive/Yolov8/video/umam.mp4: 640x384 1 helm, 20.2ms\n",
            "video 1/1 (frame 465/772) /content/drive/MyDrive/Yolov8/video/umam.mp4: 640x384 1 helm, 20.2ms\n",
            "video 1/1 (frame 466/772) /content/drive/MyDrive/Yolov8/video/umam.mp4: 640x384 1 helm, 20.4ms\n",
            "video 1/1 (frame 467/772) /content/drive/MyDrive/Yolov8/video/umam.mp4: 640x384 1 helm, 20.4ms\n",
            "video 1/1 (frame 468/772) /content/drive/MyDrive/Yolov8/video/umam.mp4: 640x384 1 helm, 20.4ms\n",
            "video 1/1 (frame 469/772) /content/drive/MyDrive/Yolov8/video/umam.mp4: 640x384 1 helm, 20.4ms\n",
            "video 1/1 (frame 470/772) /content/drive/MyDrive/Yolov8/video/umam.mp4: 640x384 1 helm, 20.4ms\n",
            "video 1/1 (frame 471/772) /content/drive/MyDrive/Yolov8/video/umam.mp4: 640x384 1 helm, 20.4ms\n",
            "video 1/1 (frame 472/772) /content/drive/MyDrive/Yolov8/video/umam.mp4: 640x384 1 helm, 20.4ms\n",
            "video 1/1 (frame 473/772) /content/drive/MyDrive/Yolov8/video/umam.mp4: 640x384 1 helm, 20.4ms\n",
            "video 1/1 (frame 474/772) /content/drive/MyDrive/Yolov8/video/umam.mp4: 640x384 1 helm, 20.4ms\n",
            "video 1/1 (frame 475/772) /content/drive/MyDrive/Yolov8/video/umam.mp4: 640x384 1 helm, 20.4ms\n",
            "video 1/1 (frame 476/772) /content/drive/MyDrive/Yolov8/video/umam.mp4: 640x384 1 helm, 22.0ms\n",
            "video 1/1 (frame 477/772) /content/drive/MyDrive/Yolov8/video/umam.mp4: 640x384 1 helm, 22.0ms\n",
            "video 1/1 (frame 478/772) /content/drive/MyDrive/Yolov8/video/umam.mp4: 640x384 1 helm, 21.6ms\n",
            "video 1/1 (frame 479/772) /content/drive/MyDrive/Yolov8/video/umam.mp4: 640x384 1 helm, 22.1ms\n",
            "video 1/1 (frame 480/772) /content/drive/MyDrive/Yolov8/video/umam.mp4: 640x384 1 helm, 22.4ms\n",
            "video 1/1 (frame 481/772) /content/drive/MyDrive/Yolov8/video/umam.mp4: 640x384 1 helm, 21.8ms\n",
            "video 1/1 (frame 482/772) /content/drive/MyDrive/Yolov8/video/umam.mp4: 640x384 1 helm, 21.8ms\n",
            "video 1/1 (frame 483/772) /content/drive/MyDrive/Yolov8/video/umam.mp4: 640x384 (no detections), 21.4ms\n",
            "video 1/1 (frame 484/772) /content/drive/MyDrive/Yolov8/video/umam.mp4: 640x384 1 helm, 25.2ms\n",
            "video 1/1 (frame 485/772) /content/drive/MyDrive/Yolov8/video/umam.mp4: 640x384 1 helm, 24.4ms\n",
            "video 1/1 (frame 486/772) /content/drive/MyDrive/Yolov8/video/umam.mp4: 640x384 1 helm, 21.1ms\n",
            "video 1/1 (frame 487/772) /content/drive/MyDrive/Yolov8/video/umam.mp4: 640x384 1 helm, 20.9ms\n",
            "video 1/1 (frame 488/772) /content/drive/MyDrive/Yolov8/video/umam.mp4: 640x384 1 helm, 20.9ms\n",
            "video 1/1 (frame 489/772) /content/drive/MyDrive/Yolov8/video/umam.mp4: 640x384 1 helm, 23.7ms\n",
            "video 1/1 (frame 490/772) /content/drive/MyDrive/Yolov8/video/umam.mp4: 640x384 1 helm, 20.9ms\n",
            "video 1/1 (frame 491/772) /content/drive/MyDrive/Yolov8/video/umam.mp4: 640x384 1 helm, 26.4ms\n",
            "video 1/1 (frame 492/772) /content/drive/MyDrive/Yolov8/video/umam.mp4: 640x384 1 helm, 20.9ms\n",
            "video 1/1 (frame 493/772) /content/drive/MyDrive/Yolov8/video/umam.mp4: 640x384 1 helm, 21.4ms\n",
            "video 1/1 (frame 494/772) /content/drive/MyDrive/Yolov8/video/umam.mp4: 640x384 1 helm, 21.1ms\n",
            "video 1/1 (frame 495/772) /content/drive/MyDrive/Yolov8/video/umam.mp4: 640x384 1 helm, 21.1ms\n",
            "video 1/1 (frame 496/772) /content/drive/MyDrive/Yolov8/video/umam.mp4: 640x384 1 helm, 21.1ms\n",
            "video 1/1 (frame 497/772) /content/drive/MyDrive/Yolov8/video/umam.mp4: 640x384 1 helm, 21.1ms\n",
            "video 1/1 (frame 498/772) /content/drive/MyDrive/Yolov8/video/umam.mp4: 640x384 1 helm, 22.0ms\n",
            "video 1/1 (frame 499/772) /content/drive/MyDrive/Yolov8/video/umam.mp4: 640x384 1 helm, 21.1ms\n",
            "video 1/1 (frame 500/772) /content/drive/MyDrive/Yolov8/video/umam.mp4: 640x384 1 helm, 21.3ms\n",
            "video 1/1 (frame 501/772) /content/drive/MyDrive/Yolov8/video/umam.mp4: 640x384 1 helm, 21.1ms\n",
            "video 1/1 (frame 502/772) /content/drive/MyDrive/Yolov8/video/umam.mp4: 640x384 1 helm, 21.1ms\n",
            "video 1/1 (frame 503/772) /content/drive/MyDrive/Yolov8/video/umam.mp4: 640x384 1 helm, 21.7ms\n",
            "video 1/1 (frame 504/772) /content/drive/MyDrive/Yolov8/video/umam.mp4: 640x384 1 helm, 28.7ms\n",
            "video 1/1 (frame 505/772) /content/drive/MyDrive/Yolov8/video/umam.mp4: 640x384 1 helm, 25.3ms\n",
            "video 1/1 (frame 506/772) /content/drive/MyDrive/Yolov8/video/umam.mp4: 640x384 1 helm, 24.7ms\n",
            "video 1/1 (frame 507/772) /content/drive/MyDrive/Yolov8/video/umam.mp4: 640x384 1 helm, 26.0ms\n",
            "video 1/1 (frame 508/772) /content/drive/MyDrive/Yolov8/video/umam.mp4: 640x384 1 helm, 25.6ms\n",
            "video 1/1 (frame 509/772) /content/drive/MyDrive/Yolov8/video/umam.mp4: 640x384 1 helm, 25.9ms\n",
            "video 1/1 (frame 510/772) /content/drive/MyDrive/Yolov8/video/umam.mp4: 640x384 1 helm, 26.0ms\n",
            "video 1/1 (frame 511/772) /content/drive/MyDrive/Yolov8/video/umam.mp4: 640x384 1 helm, 26.3ms\n",
            "video 1/1 (frame 512/772) /content/drive/MyDrive/Yolov8/video/umam.mp4: 640x384 1 helm, 26.6ms\n",
            "video 1/1 (frame 513/772) /content/drive/MyDrive/Yolov8/video/umam.mp4: 640x384 1 helm, 28.3ms\n",
            "video 1/1 (frame 514/772) /content/drive/MyDrive/Yolov8/video/umam.mp4: 640x384 1 helm, 27.1ms\n",
            "video 1/1 (frame 515/772) /content/drive/MyDrive/Yolov8/video/umam.mp4: 640x384 1 helm, 28.2ms\n",
            "video 1/1 (frame 516/772) /content/drive/MyDrive/Yolov8/video/umam.mp4: 640x384 1 helm, 27.6ms\n",
            "video 1/1 (frame 517/772) /content/drive/MyDrive/Yolov8/video/umam.mp4: 640x384 1 helm, 27.6ms\n",
            "video 1/1 (frame 518/772) /content/drive/MyDrive/Yolov8/video/umam.mp4: 640x384 1 helm, 31.3ms\n",
            "video 1/1 (frame 519/772) /content/drive/MyDrive/Yolov8/video/umam.mp4: 640x384 1 helm, 28.4ms\n",
            "video 1/1 (frame 520/772) /content/drive/MyDrive/Yolov8/video/umam.mp4: 640x384 1 helm, 28.1ms\n",
            "video 1/1 (frame 521/772) /content/drive/MyDrive/Yolov8/video/umam.mp4: 640x384 1 helm, 28.0ms\n",
            "video 1/1 (frame 522/772) /content/drive/MyDrive/Yolov8/video/umam.mp4: 640x384 1 helm, 28.3ms\n",
            "video 1/1 (frame 523/772) /content/drive/MyDrive/Yolov8/video/umam.mp4: 640x384 1 helm, 28.4ms\n",
            "video 1/1 (frame 524/772) /content/drive/MyDrive/Yolov8/video/umam.mp4: 640x384 1 helm, 34.8ms\n",
            "video 1/1 (frame 525/772) /content/drive/MyDrive/Yolov8/video/umam.mp4: 640x384 1 helm, 36.3ms\n",
            "video 1/1 (frame 526/772) /content/drive/MyDrive/Yolov8/video/umam.mp4: 640x384 1 helm, 29.3ms\n",
            "video 1/1 (frame 527/772) /content/drive/MyDrive/Yolov8/video/umam.mp4: 640x384 1 helm, 29.6ms\n",
            "video 1/1 (frame 528/772) /content/drive/MyDrive/Yolov8/video/umam.mp4: 640x384 1 helm, 29.6ms\n",
            "video 1/1 (frame 529/772) /content/drive/MyDrive/Yolov8/video/umam.mp4: 640x384 1 helm, 30.1ms\n",
            "video 1/1 (frame 530/772) /content/drive/MyDrive/Yolov8/video/umam.mp4: 640x384 1 helm, 30.1ms\n",
            "video 1/1 (frame 531/772) /content/drive/MyDrive/Yolov8/video/umam.mp4: 640x384 1 helm, 30.5ms\n",
            "video 1/1 (frame 532/772) /content/drive/MyDrive/Yolov8/video/umam.mp4: 640x384 1 helm, 38.7ms\n",
            "video 1/1 (frame 533/772) /content/drive/MyDrive/Yolov8/video/umam.mp4: 640x384 1 helm, 30.9ms\n",
            "video 1/1 (frame 534/772) /content/drive/MyDrive/Yolov8/video/umam.mp4: 640x384 1 helm, 31.0ms\n",
            "video 1/1 (frame 535/772) /content/drive/MyDrive/Yolov8/video/umam.mp4: 640x384 1 helm, 31.4ms\n",
            "video 1/1 (frame 536/772) /content/drive/MyDrive/Yolov8/video/umam.mp4: 640x384 1 helm, 31.5ms\n",
            "video 1/1 (frame 537/772) /content/drive/MyDrive/Yolov8/video/umam.mp4: 640x384 1 helm, 33.7ms\n",
            "video 1/1 (frame 538/772) /content/drive/MyDrive/Yolov8/video/umam.mp4: 640x384 1 helm, 30.5ms\n",
            "video 1/1 (frame 539/772) /content/drive/MyDrive/Yolov8/video/umam.mp4: 640x384 1 helm, 30.5ms\n",
            "video 1/1 (frame 540/772) /content/drive/MyDrive/Yolov8/video/umam.mp4: 640x384 1 helm, 30.5ms\n",
            "video 1/1 (frame 541/772) /content/drive/MyDrive/Yolov8/video/umam.mp4: 640x384 1 helm, 30.8ms\n",
            "video 1/1 (frame 542/772) /content/drive/MyDrive/Yolov8/video/umam.mp4: 640x384 1 helm, 30.5ms\n",
            "video 1/1 (frame 543/772) /content/drive/MyDrive/Yolov8/video/umam.mp4: 640x384 1 helm, 30.9ms\n",
            "video 1/1 (frame 544/772) /content/drive/MyDrive/Yolov8/video/umam.mp4: 640x384 1 helm, 30.6ms\n",
            "video 1/1 (frame 545/772) /content/drive/MyDrive/Yolov8/video/umam.mp4: 640x384 1 helm, 30.5ms\n",
            "video 1/1 (frame 546/772) /content/drive/MyDrive/Yolov8/video/umam.mp4: 640x384 1 helm, 30.5ms\n",
            "video 1/1 (frame 547/772) /content/drive/MyDrive/Yolov8/video/umam.mp4: 640x384 1 helm, 30.5ms\n",
            "video 1/1 (frame 548/772) /content/drive/MyDrive/Yolov8/video/umam.mp4: 640x384 1 helm, 30.5ms\n",
            "video 1/1 (frame 549/772) /content/drive/MyDrive/Yolov8/video/umam.mp4: 640x384 1 helm, 30.5ms\n",
            "video 1/1 (frame 550/772) /content/drive/MyDrive/Yolov8/video/umam.mp4: 640x384 1 helm, 30.5ms\n",
            "video 1/1 (frame 551/772) /content/drive/MyDrive/Yolov8/video/umam.mp4: 640x384 1 helm, 32.6ms\n",
            "video 1/1 (frame 552/772) /content/drive/MyDrive/Yolov8/video/umam.mp4: 640x384 1 helm, 33.2ms\n",
            "video 1/1 (frame 553/772) /content/drive/MyDrive/Yolov8/video/umam.mp4: 640x384 1 helm, 29.6ms\n",
            "video 1/1 (frame 554/772) /content/drive/MyDrive/Yolov8/video/umam.mp4: 640x384 1 helm, 29.6ms\n",
            "video 1/1 (frame 555/772) /content/drive/MyDrive/Yolov8/video/umam.mp4: 640x384 1 helm, 29.7ms\n",
            "video 1/1 (frame 556/772) /content/drive/MyDrive/Yolov8/video/umam.mp4: 640x384 1 helm, 29.6ms\n",
            "video 1/1 (frame 557/772) /content/drive/MyDrive/Yolov8/video/umam.mp4: 640x384 1 helm, 33.3ms\n",
            "video 1/1 (frame 558/772) /content/drive/MyDrive/Yolov8/video/umam.mp4: 640x384 1 helm, 34.9ms\n",
            "video 1/1 (frame 559/772) /content/drive/MyDrive/Yolov8/video/umam.mp4: 640x384 1 helm, 29.7ms\n",
            "video 1/1 (frame 560/772) /content/drive/MyDrive/Yolov8/video/umam.mp4: 640x384 1 helm, 29.7ms\n",
            "video 1/1 (frame 561/772) /content/drive/MyDrive/Yolov8/video/umam.mp4: 640x384 1 helm, 29.7ms\n",
            "video 1/1 (frame 562/772) /content/drive/MyDrive/Yolov8/video/umam.mp4: 640x384 1 helm, 29.6ms\n",
            "video 1/1 (frame 563/772) /content/drive/MyDrive/Yolov8/video/umam.mp4: 640x384 1 helm, 29.6ms\n",
            "video 1/1 (frame 564/772) /content/drive/MyDrive/Yolov8/video/umam.mp4: 640x384 1 helm, 29.6ms\n",
            "video 1/1 (frame 565/772) /content/drive/MyDrive/Yolov8/video/umam.mp4: 640x384 1 helm, 29.6ms\n",
            "video 1/1 (frame 566/772) /content/drive/MyDrive/Yolov8/video/umam.mp4: 640x384 1 helm, 29.6ms\n",
            "video 1/1 (frame 567/772) /content/drive/MyDrive/Yolov8/video/umam.mp4: 640x384 1 helm, 29.6ms\n",
            "video 1/1 (frame 568/772) /content/drive/MyDrive/Yolov8/video/umam.mp4: 640x384 1 helm, 34.7ms\n",
            "video 1/1 (frame 569/772) /content/drive/MyDrive/Yolov8/video/umam.mp4: 640x384 1 helm, 35.3ms\n",
            "video 1/1 (frame 570/772) /content/drive/MyDrive/Yolov8/video/umam.mp4: 640x384 1 helm, 35.6ms\n",
            "video 1/1 (frame 571/772) /content/drive/MyDrive/Yolov8/video/umam.mp4: 640x384 1 helm, 35.6ms\n",
            "video 1/1 (frame 572/772) /content/drive/MyDrive/Yolov8/video/umam.mp4: 640x384 1 helm, 35.7ms\n",
            "video 1/1 (frame 573/772) /content/drive/MyDrive/Yolov8/video/umam.mp4: 640x384 1 helm, 35.7ms\n",
            "video 1/1 (frame 574/772) /content/drive/MyDrive/Yolov8/video/umam.mp4: 640x384 1 helm, 36.3ms\n",
            "video 1/1 (frame 575/772) /content/drive/MyDrive/Yolov8/video/umam.mp4: 640x384 1 helm, 35.2ms\n",
            "video 1/1 (frame 576/772) /content/drive/MyDrive/Yolov8/video/umam.mp4: 640x384 1 helm, 31.5ms\n",
            "video 1/1 (frame 577/772) /content/drive/MyDrive/Yolov8/video/umam.mp4: 640x384 1 helm, 31.5ms\n",
            "video 1/1 (frame 578/772) /content/drive/MyDrive/Yolov8/video/umam.mp4: 640x384 1 helm, 30.8ms\n",
            "video 1/1 (frame 579/772) /content/drive/MyDrive/Yolov8/video/umam.mp4: 640x384 1 helm, 28.4ms\n",
            "video 1/1 (frame 580/772) /content/drive/MyDrive/Yolov8/video/umam.mp4: 640x384 1 helm, 28.4ms\n",
            "video 1/1 (frame 581/772) /content/drive/MyDrive/Yolov8/video/umam.mp4: 640x384 1 helm, 28.4ms\n",
            "video 1/1 (frame 582/772) /content/drive/MyDrive/Yolov8/video/umam.mp4: 640x384 1 helm, 28.4ms\n",
            "video 1/1 (frame 583/772) /content/drive/MyDrive/Yolov8/video/umam.mp4: 640x384 1 helm, 28.4ms\n",
            "video 1/1 (frame 584/772) /content/drive/MyDrive/Yolov8/video/umam.mp4: 640x384 1 helm, 28.4ms\n",
            "video 1/1 (frame 585/772) /content/drive/MyDrive/Yolov8/video/umam.mp4: 640x384 1 helm, 28.4ms\n",
            "video 1/1 (frame 586/772) /content/drive/MyDrive/Yolov8/video/umam.mp4: 640x384 1 helm, 28.4ms\n",
            "video 1/1 (frame 587/772) /content/drive/MyDrive/Yolov8/video/umam.mp4: 640x384 1 helm, 27.6ms\n",
            "video 1/1 (frame 588/772) /content/drive/MyDrive/Yolov8/video/umam.mp4: 640x384 1 helm, 27.2ms\n",
            "video 1/1 (frame 589/772) /content/drive/MyDrive/Yolov8/video/umam.mp4: 640x384 1 helm, 27.2ms\n",
            "video 1/1 (frame 590/772) /content/drive/MyDrive/Yolov8/video/umam.mp4: 640x384 1 helm, 26.5ms\n",
            "video 1/1 (frame 591/772) /content/drive/MyDrive/Yolov8/video/umam.mp4: 640x384 1 helm, 25.3ms\n",
            "video 1/1 (frame 592/772) /content/drive/MyDrive/Yolov8/video/umam.mp4: 640x384 1 helm, 24.4ms\n",
            "video 1/1 (frame 593/772) /content/drive/MyDrive/Yolov8/video/umam.mp4: 640x384 1 helm, 24.5ms\n",
            "video 1/1 (frame 594/772) /content/drive/MyDrive/Yolov8/video/umam.mp4: 640x384 1 helm, 23.4ms\n",
            "video 1/1 (frame 595/772) /content/drive/MyDrive/Yolov8/video/umam.mp4: 640x384 1 helm, 23.1ms\n",
            "video 1/1 (frame 596/772) /content/drive/MyDrive/Yolov8/video/umam.mp4: 640x384 1 helm, 22.9ms\n",
            "video 1/1 (frame 597/772) /content/drive/MyDrive/Yolov8/video/umam.mp4: 640x384 1 helm, 22.8ms\n",
            "video 1/1 (frame 598/772) /content/drive/MyDrive/Yolov8/video/umam.mp4: 640x384 1 helm, 22.8ms\n",
            "video 1/1 (frame 599/772) /content/drive/MyDrive/Yolov8/video/umam.mp4: 640x384 1 helm, 22.8ms\n",
            "video 1/1 (frame 600/772) /content/drive/MyDrive/Yolov8/video/umam.mp4: 640x384 1 helm, 22.9ms\n",
            "video 1/1 (frame 601/772) /content/drive/MyDrive/Yolov8/video/umam.mp4: 640x384 1 helm, 22.9ms\n",
            "video 1/1 (frame 602/772) /content/drive/MyDrive/Yolov8/video/umam.mp4: 640x384 1 helm, 22.4ms\n",
            "video 1/1 (frame 603/772) /content/drive/MyDrive/Yolov8/video/umam.mp4: 640x384 1 helm, 22.3ms\n",
            "video 1/1 (frame 604/772) /content/drive/MyDrive/Yolov8/video/umam.mp4: 640x384 1 helm, 22.3ms\n",
            "video 1/1 (frame 605/772) /content/drive/MyDrive/Yolov8/video/umam.mp4: 640x384 1 helm, 22.3ms\n",
            "video 1/1 (frame 606/772) /content/drive/MyDrive/Yolov8/video/umam.mp4: 640x384 1 helm, 22.4ms\n",
            "video 1/1 (frame 607/772) /content/drive/MyDrive/Yolov8/video/umam.mp4: 640x384 1 helm, 22.3ms\n",
            "video 1/1 (frame 608/772) /content/drive/MyDrive/Yolov8/video/umam.mp4: 640x384 1 helm, 22.3ms\n",
            "video 1/1 (frame 609/772) /content/drive/MyDrive/Yolov8/video/umam.mp4: 640x384 1 helm, 22.3ms\n",
            "video 1/1 (frame 610/772) /content/drive/MyDrive/Yolov8/video/umam.mp4: 640x384 1 helm, 22.3ms\n",
            "video 1/1 (frame 611/772) /content/drive/MyDrive/Yolov8/video/umam.mp4: 640x384 1 helm, 22.4ms\n",
            "video 1/1 (frame 612/772) /content/drive/MyDrive/Yolov8/video/umam.mp4: 640x384 1 helm, 22.3ms\n",
            "video 1/1 (frame 613/772) /content/drive/MyDrive/Yolov8/video/umam.mp4: 640x384 1 helm, 24.9ms\n",
            "video 1/1 (frame 614/772) /content/drive/MyDrive/Yolov8/video/umam.mp4: 640x384 1 helm, 22.3ms\n",
            "video 1/1 (frame 615/772) /content/drive/MyDrive/Yolov8/video/umam.mp4: 640x384 1 helm, 22.4ms\n",
            "video 1/1 (frame 616/772) /content/drive/MyDrive/Yolov8/video/umam.mp4: 640x384 1 helm, 22.4ms\n",
            "video 1/1 (frame 617/772) /content/drive/MyDrive/Yolov8/video/umam.mp4: 640x384 1 helm, 22.4ms\n",
            "video 1/1 (frame 618/772) /content/drive/MyDrive/Yolov8/video/umam.mp4: 640x384 1 helm, 22.4ms\n",
            "video 1/1 (frame 619/772) /content/drive/MyDrive/Yolov8/video/umam.mp4: 640x384 1 helm, 22.3ms\n",
            "video 1/1 (frame 620/772) /content/drive/MyDrive/Yolov8/video/umam.mp4: 640x384 1 helm, 22.4ms\n",
            "video 1/1 (frame 621/772) /content/drive/MyDrive/Yolov8/video/umam.mp4: 640x384 1 helm, 22.2ms\n",
            "video 1/1 (frame 622/772) /content/drive/MyDrive/Yolov8/video/umam.mp4: 640x384 1 helm, 22.0ms\n",
            "video 1/1 (frame 623/772) /content/drive/MyDrive/Yolov8/video/umam.mp4: 640x384 1 helm, 22.0ms\n",
            "video 1/1 (frame 624/772) /content/drive/MyDrive/Yolov8/video/umam.mp4: 640x384 1 helm, 22.0ms\n",
            "video 1/1 (frame 625/772) /content/drive/MyDrive/Yolov8/video/umam.mp4: 640x384 1 helm, 22.0ms\n",
            "video 1/1 (frame 626/772) /content/drive/MyDrive/Yolov8/video/umam.mp4: 640x384 1 helm, 22.0ms\n",
            "video 1/1 (frame 627/772) /content/drive/MyDrive/Yolov8/video/umam.mp4: 640x384 1 helm, 22.0ms\n",
            "video 1/1 (frame 628/772) /content/drive/MyDrive/Yolov8/video/umam.mp4: 640x384 1 helm, 22.0ms\n",
            "video 1/1 (frame 629/772) /content/drive/MyDrive/Yolov8/video/umam.mp4: 640x384 1 helm, 22.0ms\n",
            "video 1/1 (frame 630/772) /content/drive/MyDrive/Yolov8/video/umam.mp4: 640x384 1 helm, 26.1ms\n",
            "video 1/1 (frame 631/772) /content/drive/MyDrive/Yolov8/video/umam.mp4: 640x384 1 helm, 20.9ms\n",
            "video 1/1 (frame 632/772) /content/drive/MyDrive/Yolov8/video/umam.mp4: 640x384 1 helm, 20.8ms\n",
            "video 1/1 (frame 633/772) /content/drive/MyDrive/Yolov8/video/umam.mp4: 640x384 1 helm, 21.1ms\n",
            "video 1/1 (frame 634/772) /content/drive/MyDrive/Yolov8/video/umam.mp4: 640x384 1 helm, 21.4ms\n",
            "video 1/1 (frame 635/772) /content/drive/MyDrive/Yolov8/video/umam.mp4: 640x384 1 helm, 21.4ms\n",
            "video 1/1 (frame 636/772) /content/drive/MyDrive/Yolov8/video/umam.mp4: 640x384 1 helm, 21.4ms\n",
            "video 1/1 (frame 637/772) /content/drive/MyDrive/Yolov8/video/umam.mp4: 640x384 1 helm, 21.4ms\n",
            "video 1/1 (frame 638/772) /content/drive/MyDrive/Yolov8/video/umam.mp4: 640x384 1 helm, 20.7ms\n",
            "video 1/1 (frame 639/772) /content/drive/MyDrive/Yolov8/video/umam.mp4: 640x384 1 helm, 20.7ms\n",
            "video 1/1 (frame 640/772) /content/drive/MyDrive/Yolov8/video/umam.mp4: 640x384 1 helm, 21.0ms\n",
            "video 1/1 (frame 641/772) /content/drive/MyDrive/Yolov8/video/umam.mp4: 640x384 1 helm, 21.0ms\n",
            "video 1/1 (frame 642/772) /content/drive/MyDrive/Yolov8/video/umam.mp4: 640x384 1 helm, 20.3ms\n",
            "video 1/1 (frame 643/772) /content/drive/MyDrive/Yolov8/video/umam.mp4: 640x384 1 helm, 20.9ms\n",
            "video 1/1 (frame 644/772) /content/drive/MyDrive/Yolov8/video/umam.mp4: 640x384 1 helm, 22.5ms\n",
            "video 1/1 (frame 645/772) /content/drive/MyDrive/Yolov8/video/umam.mp4: 640x384 1 helm, 23.7ms\n",
            "video 1/1 (frame 646/772) /content/drive/MyDrive/Yolov8/video/umam.mp4: 640x384 1 helm, 21.0ms\n",
            "video 1/1 (frame 647/772) /content/drive/MyDrive/Yolov8/video/umam.mp4: 640x384 1 helm, 20.5ms\n",
            "video 1/1 (frame 648/772) /content/drive/MyDrive/Yolov8/video/umam.mp4: 640x384 1 helm, 20.4ms\n",
            "video 1/1 (frame 649/772) /content/drive/MyDrive/Yolov8/video/umam.mp4: 640x384 1 helm, 20.4ms\n",
            "video 1/1 (frame 650/772) /content/drive/MyDrive/Yolov8/video/umam.mp4: 640x384 1 helm, 20.5ms\n",
            "video 1/1 (frame 651/772) /content/drive/MyDrive/Yolov8/video/umam.mp4: 640x384 1 helm, 20.4ms\n",
            "video 1/1 (frame 652/772) /content/drive/MyDrive/Yolov8/video/umam.mp4: 640x384 1 helm, 20.4ms\n",
            "video 1/1 (frame 653/772) /content/drive/MyDrive/Yolov8/video/umam.mp4: 640x384 1 helm, 20.4ms\n",
            "video 1/1 (frame 654/772) /content/drive/MyDrive/Yolov8/video/umam.mp4: 640x384 1 helm, 21.0ms\n",
            "video 1/1 (frame 655/772) /content/drive/MyDrive/Yolov8/video/umam.mp4: 640x384 1 helm, 21.0ms\n",
            "video 1/1 (frame 656/772) /content/drive/MyDrive/Yolov8/video/umam.mp4: 640x384 1 helm, 20.9ms\n",
            "video 1/1 (frame 657/772) /content/drive/MyDrive/Yolov8/video/umam.mp4: 640x384 1 helm, 20.4ms\n",
            "video 1/1 (frame 658/772) /content/drive/MyDrive/Yolov8/video/umam.mp4: 640x384 1 helm, 20.4ms\n",
            "video 1/1 (frame 659/772) /content/drive/MyDrive/Yolov8/video/umam.mp4: 640x384 1 helm, 20.4ms\n",
            "video 1/1 (frame 660/772) /content/drive/MyDrive/Yolov8/video/umam.mp4: 640x384 1 helm, 24.2ms\n",
            "video 1/1 (frame 661/772) /content/drive/MyDrive/Yolov8/video/umam.mp4: 640x384 1 helm, 20.4ms\n",
            "video 1/1 (frame 662/772) /content/drive/MyDrive/Yolov8/video/umam.mp4: 640x384 1 helm, 20.5ms\n",
            "video 1/1 (frame 663/772) /content/drive/MyDrive/Yolov8/video/umam.mp4: 640x384 1 helm, 21.0ms\n",
            "video 1/1 (frame 664/772) /content/drive/MyDrive/Yolov8/video/umam.mp4: 640x384 1 helm, 21.0ms\n",
            "video 1/1 (frame 665/772) /content/drive/MyDrive/Yolov8/video/umam.mp4: 640x384 1 helm, 21.0ms\n",
            "video 1/1 (frame 666/772) /content/drive/MyDrive/Yolov8/video/umam.mp4: 640x384 1 helm, 21.0ms\n",
            "video 1/1 (frame 667/772) /content/drive/MyDrive/Yolov8/video/umam.mp4: 640x384 1 helm, 21.1ms\n",
            "video 1/1 (frame 668/772) /content/drive/MyDrive/Yolov8/video/umam.mp4: 640x384 1 helm, 21.0ms\n",
            "video 1/1 (frame 669/772) /content/drive/MyDrive/Yolov8/video/umam.mp4: 640x384 1 helm, 21.0ms\n",
            "video 1/1 (frame 670/772) /content/drive/MyDrive/Yolov8/video/umam.mp4: 640x384 1 helm, 21.0ms\n",
            "video 1/1 (frame 671/772) /content/drive/MyDrive/Yolov8/video/umam.mp4: 640x384 1 helm, 21.0ms\n",
            "video 1/1 (frame 672/772) /content/drive/MyDrive/Yolov8/video/umam.mp4: 640x384 1 helm, 20.4ms\n",
            "video 1/1 (frame 673/772) /content/drive/MyDrive/Yolov8/video/umam.mp4: 640x384 1 helm, 20.3ms\n",
            "video 1/1 (frame 674/772) /content/drive/MyDrive/Yolov8/video/umam.mp4: 640x384 1 helm, 20.3ms\n",
            "video 1/1 (frame 675/772) /content/drive/MyDrive/Yolov8/video/umam.mp4: 640x384 1 helm, 20.3ms\n",
            "video 1/1 (frame 676/772) /content/drive/MyDrive/Yolov8/video/umam.mp4: 640x384 1 helm, 20.3ms\n",
            "video 1/1 (frame 677/772) /content/drive/MyDrive/Yolov8/video/umam.mp4: 640x384 1 helm, 20.4ms\n",
            "video 1/1 (frame 678/772) /content/drive/MyDrive/Yolov8/video/umam.mp4: 640x384 1 helm, 20.9ms\n",
            "video 1/1 (frame 679/772) /content/drive/MyDrive/Yolov8/video/umam.mp4: 640x384 1 helm, 21.0ms\n",
            "video 1/1 (frame 680/772) /content/drive/MyDrive/Yolov8/video/umam.mp4: 640x384 1 helm, 21.0ms\n",
            "video 1/1 (frame 681/772) /content/drive/MyDrive/Yolov8/video/umam.mp4: 640x384 1 helm, 20.4ms\n",
            "video 1/1 (frame 682/772) /content/drive/MyDrive/Yolov8/video/umam.mp4: 640x384 1 helm, 20.5ms\n",
            "video 1/1 (frame 683/772) /content/drive/MyDrive/Yolov8/video/umam.mp4: 640x384 1 helm, 20.4ms\n",
            "video 1/1 (frame 684/772) /content/drive/MyDrive/Yolov8/video/umam.mp4: 640x384 1 helm, 20.5ms\n",
            "video 1/1 (frame 685/772) /content/drive/MyDrive/Yolov8/video/umam.mp4: 640x384 1 helm, 20.4ms\n",
            "video 1/1 (frame 686/772) /content/drive/MyDrive/Yolov8/video/umam.mp4: 640x384 1 helm, 20.4ms\n",
            "video 1/1 (frame 687/772) /content/drive/MyDrive/Yolov8/video/umam.mp4: 640x384 1 helm, 20.6ms\n",
            "video 1/1 (frame 688/772) /content/drive/MyDrive/Yolov8/video/umam.mp4: 640x384 1 helm, 20.6ms\n",
            "video 1/1 (frame 689/772) /content/drive/MyDrive/Yolov8/video/umam.mp4: 640x384 1 helm, 20.3ms\n",
            "video 1/1 (frame 690/772) /content/drive/MyDrive/Yolov8/video/umam.mp4: 640x384 1 helm, 20.2ms\n",
            "video 1/1 (frame 691/772) /content/drive/MyDrive/Yolov8/video/umam.mp4: 640x384 1 helm, 20.6ms\n",
            "video 1/1 (frame 692/772) /content/drive/MyDrive/Yolov8/video/umam.mp4: 640x384 1 helm, 20.7ms\n",
            "video 1/1 (frame 693/772) /content/drive/MyDrive/Yolov8/video/umam.mp4: 640x384 1 helm, 20.6ms\n",
            "video 1/1 (frame 694/772) /content/drive/MyDrive/Yolov8/video/umam.mp4: 640x384 1 helm, 20.2ms\n",
            "video 1/1 (frame 695/772) /content/drive/MyDrive/Yolov8/video/umam.mp4: 640x384 1 helm, 20.2ms\n",
            "video 1/1 (frame 696/772) /content/drive/MyDrive/Yolov8/video/umam.mp4: 640x384 1 helm, 20.2ms\n",
            "video 1/1 (frame 697/772) /content/drive/MyDrive/Yolov8/video/umam.mp4: 640x384 1 helm, 20.6ms\n",
            "video 1/1 (frame 698/772) /content/drive/MyDrive/Yolov8/video/umam.mp4: 640x384 1 helm, 20.6ms\n",
            "video 1/1 (frame 699/772) /content/drive/MyDrive/Yolov8/video/umam.mp4: 640x384 1 helm, 20.6ms\n",
            "video 1/1 (frame 700/772) /content/drive/MyDrive/Yolov8/video/umam.mp4: 640x384 1 helm, 20.6ms\n",
            "video 1/1 (frame 701/772) /content/drive/MyDrive/Yolov8/video/umam.mp4: 640x384 1 helm, 22.4ms\n",
            "video 1/1 (frame 702/772) /content/drive/MyDrive/Yolov8/video/umam.mp4: 640x384 1 helm, 20.6ms\n",
            "video 1/1 (frame 703/772) /content/drive/MyDrive/Yolov8/video/umam.mp4: 640x384 1 helm, 20.6ms\n",
            "video 1/1 (frame 704/772) /content/drive/MyDrive/Yolov8/video/umam.mp4: 640x384 1 helm, 20.6ms\n",
            "video 1/1 (frame 705/772) /content/drive/MyDrive/Yolov8/video/umam.mp4: 640x384 1 helm, 20.2ms\n",
            "video 1/1 (frame 706/772) /content/drive/MyDrive/Yolov8/video/umam.mp4: 640x384 1 helm, 20.2ms\n",
            "video 1/1 (frame 707/772) /content/drive/MyDrive/Yolov8/video/umam.mp4: 640x384 1 helm, 20.2ms\n",
            "video 1/1 (frame 708/772) /content/drive/MyDrive/Yolov8/video/umam.mp4: 640x384 1 helm, 20.2ms\n",
            "video 1/1 (frame 709/772) /content/drive/MyDrive/Yolov8/video/umam.mp4: 640x384 1 helm, 20.6ms\n",
            "video 1/1 (frame 710/772) /content/drive/MyDrive/Yolov8/video/umam.mp4: 640x384 1 helm, 20.6ms\n",
            "video 1/1 (frame 711/772) /content/drive/MyDrive/Yolov8/video/umam.mp4: 640x384 1 helm, 20.4ms\n",
            "video 1/1 (frame 712/772) /content/drive/MyDrive/Yolov8/video/umam.mp4: 640x384 1 helm, 20.3ms\n",
            "video 1/1 (frame 713/772) /content/drive/MyDrive/Yolov8/video/umam.mp4: 640x384 1 helm, 20.2ms\n",
            "video 1/1 (frame 714/772) /content/drive/MyDrive/Yolov8/video/umam.mp4: 640x384 1 helm, 20.2ms\n",
            "video 1/1 (frame 715/772) /content/drive/MyDrive/Yolov8/video/umam.mp4: 640x384 1 helm, 20.4ms\n",
            "video 1/1 (frame 716/772) /content/drive/MyDrive/Yolov8/video/umam.mp4: 640x384 1 helm, 20.5ms\n",
            "video 1/1 (frame 717/772) /content/drive/MyDrive/Yolov8/video/umam.mp4: 640x384 1 helm, 21.0ms\n",
            "video 1/1 (frame 718/772) /content/drive/MyDrive/Yolov8/video/umam.mp4: 640x384 1 helm, 20.4ms\n",
            "video 1/1 (frame 719/772) /content/drive/MyDrive/Yolov8/video/umam.mp4: 640x384 1 helm, 20.4ms\n",
            "video 1/1 (frame 720/772) /content/drive/MyDrive/Yolov8/video/umam.mp4: 640x384 1 helm, 20.4ms\n",
            "video 1/1 (frame 721/772) /content/drive/MyDrive/Yolov8/video/umam.mp4: 640x384 1 helm, 20.2ms\n",
            "video 1/1 (frame 722/772) /content/drive/MyDrive/Yolov8/video/umam.mp4: 640x384 1 helm, 20.2ms\n",
            "video 1/1 (frame 723/772) /content/drive/MyDrive/Yolov8/video/umam.mp4: 640x384 1 helm, 20.2ms\n",
            "video 1/1 (frame 724/772) /content/drive/MyDrive/Yolov8/video/umam.mp4: 640x384 1 helm, 20.2ms\n",
            "video 1/1 (frame 725/772) /content/drive/MyDrive/Yolov8/video/umam.mp4: 640x384 1 helm, 20.2ms\n",
            "video 1/1 (frame 726/772) /content/drive/MyDrive/Yolov8/video/umam.mp4: 640x384 1 helm, 20.4ms\n",
            "video 1/1 (frame 727/772) /content/drive/MyDrive/Yolov8/video/umam.mp4: 640x384 1 helm, 20.4ms\n",
            "video 1/1 (frame 728/772) /content/drive/MyDrive/Yolov8/video/umam.mp4: 640x384 1 helm, 20.4ms\n",
            "video 1/1 (frame 729/772) /content/drive/MyDrive/Yolov8/video/umam.mp4: 640x384 1 helm, 20.3ms\n",
            "video 1/1 (frame 730/772) /content/drive/MyDrive/Yolov8/video/umam.mp4: 640x384 1 helm, 20.4ms\n",
            "video 1/1 (frame 731/772) /content/drive/MyDrive/Yolov8/video/umam.mp4: 640x384 1 helm, 20.2ms\n",
            "video 1/1 (frame 732/772) /content/drive/MyDrive/Yolov8/video/umam.mp4: 640x384 1 helm, 20.2ms\n",
            "video 1/1 (frame 733/772) /content/drive/MyDrive/Yolov8/video/umam.mp4: 640x384 1 helm, 20.2ms\n",
            "video 1/1 (frame 734/772) /content/drive/MyDrive/Yolov8/video/umam.mp4: 640x384 1 helm, 20.4ms\n",
            "video 1/1 (frame 735/772) /content/drive/MyDrive/Yolov8/video/umam.mp4: 640x384 1 helm, 20.5ms\n",
            "video 1/1 (frame 736/772) /content/drive/MyDrive/Yolov8/video/umam.mp4: 640x384 1 helm, 20.3ms\n",
            "video 1/1 (frame 737/772) /content/drive/MyDrive/Yolov8/video/umam.mp4: 640x384 1 helm, 20.2ms\n",
            "video 1/1 (frame 738/772) /content/drive/MyDrive/Yolov8/video/umam.mp4: 640x384 1 helm, 20.2ms\n",
            "video 1/1 (frame 739/772) /content/drive/MyDrive/Yolov8/video/umam.mp4: 640x384 1 helm, 22.2ms\n",
            "video 1/1 (frame 740/772) /content/drive/MyDrive/Yolov8/video/umam.mp4: 640x384 1 helm, 20.4ms\n",
            "video 1/1 (frame 741/772) /content/drive/MyDrive/Yolov8/video/umam.mp4: 640x384 1 helm, 21.7ms\n",
            "video 1/1 (frame 742/772) /content/drive/MyDrive/Yolov8/video/umam.mp4: 640x384 1 helm, 23.9ms\n",
            "video 1/1 (frame 743/772) /content/drive/MyDrive/Yolov8/video/umam.mp4: 640x384 1 helm, 24.4ms\n",
            "video 1/1 (frame 744/772) /content/drive/MyDrive/Yolov8/video/umam.mp4: 640x384 1 helm, 27.5ms\n",
            "video 1/1 (frame 745/772) /content/drive/MyDrive/Yolov8/video/umam.mp4: 640x384 1 helm, 23.3ms\n",
            "video 1/1 (frame 746/772) /content/drive/MyDrive/Yolov8/video/umam.mp4: 640x384 1 helm, 22.9ms\n",
            "video 1/1 (frame 747/772) /content/drive/MyDrive/Yolov8/video/umam.mp4: 640x384 1 helm, 23.1ms\n",
            "video 1/1 (frame 748/772) /content/drive/MyDrive/Yolov8/video/umam.mp4: 640x384 1 helm, 23.6ms\n",
            "video 1/1 (frame 749/772) /content/drive/MyDrive/Yolov8/video/umam.mp4: 640x384 1 helm, 23.3ms\n",
            "video 1/1 (frame 750/772) /content/drive/MyDrive/Yolov8/video/umam.mp4: 640x384 1 helm, 24.1ms\n",
            "video 1/1 (frame 751/772) /content/drive/MyDrive/Yolov8/video/umam.mp4: 640x384 1 helm, 23.9ms\n",
            "video 1/1 (frame 752/772) /content/drive/MyDrive/Yolov8/video/umam.mp4: 640x384 1 helm, 24.8ms\n",
            "video 1/1 (frame 753/772) /content/drive/MyDrive/Yolov8/video/umam.mp4: 640x384 1 helm, 24.1ms\n",
            "video 1/1 (frame 754/772) /content/drive/MyDrive/Yolov8/video/umam.mp4: 640x384 1 helm, 25.4ms\n",
            "video 1/1 (frame 755/772) /content/drive/MyDrive/Yolov8/video/umam.mp4: 640x384 1 helm, 25.2ms\n",
            "video 1/1 (frame 756/772) /content/drive/MyDrive/Yolov8/video/umam.mp4: 640x384 1 helm, 32.6ms\n",
            "video 1/1 (frame 757/772) /content/drive/MyDrive/Yolov8/video/umam.mp4: 640x384 1 helm, 29.5ms\n",
            "video 1/1 (frame 758/772) /content/drive/MyDrive/Yolov8/video/umam.mp4: 640x384 1 helm, 25.6ms\n",
            "video 1/1 (frame 759/772) /content/drive/MyDrive/Yolov8/video/umam.mp4: 640x384 1 helm, 26.0ms\n",
            "video 1/1 (frame 760/772) /content/drive/MyDrive/Yolov8/video/umam.mp4: 640x384 1 helm, 29.6ms\n",
            "video 1/1 (frame 761/772) /content/drive/MyDrive/Yolov8/video/umam.mp4: 640x384 1 helm, 26.6ms\n",
            "video 1/1 (frame 762/772) /content/drive/MyDrive/Yolov8/video/umam.mp4: 640x384 1 helm, 26.6ms\n",
            "video 1/1 (frame 763/772) /content/drive/MyDrive/Yolov8/video/umam.mp4: 640x384 1 helm, 27.3ms\n",
            "video 1/1 (frame 764/772) /content/drive/MyDrive/Yolov8/video/umam.mp4: 640x384 1 helm, 27.3ms\n",
            "video 1/1 (frame 765/772) /content/drive/MyDrive/Yolov8/video/umam.mp4: 640x384 1 helm, 27.5ms\n",
            "video 1/1 (frame 766/772) /content/drive/MyDrive/Yolov8/video/umam.mp4: 640x384 1 helm, 27.7ms\n",
            "video 1/1 (frame 767/772) /content/drive/MyDrive/Yolov8/video/umam.mp4: 640x384 1 helm, 33.7ms\n",
            "video 1/1 (frame 768/772) /content/drive/MyDrive/Yolov8/video/umam.mp4: 640x384 1 helm, 28.0ms\n",
            "video 1/1 (frame 769/772) /content/drive/MyDrive/Yolov8/video/umam.mp4: 640x384 1 helm, 28.0ms\n",
            "video 1/1 (frame 770/772) /content/drive/MyDrive/Yolov8/video/umam.mp4: 640x384 1 helm, 28.4ms\n",
            "video 1/1 (frame 771/772) /content/drive/MyDrive/Yolov8/video/umam.mp4: 640x384 1 helm, 28.4ms\n",
            "video 1/1 (frame 772/772) /content/drive/MyDrive/Yolov8/video/umam.mp4: 640x384 1 helm, 28.8ms\n",
            "Speed: 4.2ms preprocess, 24.7ms inference, 2.4ms postprocess per image at shape (1, 3, 640, 384)\n",
            "Results saved to \u001b[1mruns/detect/predict\u001b[0m\n",
            "💡 Learn more at https://docs.ultralytics.com/modes/predict\n"
          ]
        }
      ]
    },
    {
      "cell_type": "code",
      "source": [
        "!ffmpeg -i /content/runs/detect/predict/umam.avi -vcodec libx264 /content/runs/detect/predict/umam.mp4"
      ],
      "metadata": {
        "colab": {
          "base_uri": "https://localhost:8080/"
        },
        "id": "7BnTDb7b8uzB",
        "outputId": "fc5cd48f-3dfd-4f7e-9732-6da57358b274",
        "collapsed": true
      },
      "execution_count": 27,
      "outputs": [
        {
          "output_type": "stream",
          "name": "stdout",
          "text": [
            "ffmpeg version 4.4.2-0ubuntu0.22.04.1 Copyright (c) 2000-2021 the FFmpeg developers\n",
            "  built with gcc 11 (Ubuntu 11.2.0-19ubuntu1)\n",
            "  configuration: --prefix=/usr --extra-version=0ubuntu0.22.04.1 --toolchain=hardened --libdir=/usr/lib/x86_64-linux-gnu --incdir=/usr/include/x86_64-linux-gnu --arch=amd64 --enable-gpl --disable-stripping --enable-gnutls --enable-ladspa --enable-libaom --enable-libass --enable-libbluray --enable-libbs2b --enable-libcaca --enable-libcdio --enable-libcodec2 --enable-libdav1d --enable-libflite --enable-libfontconfig --enable-libfreetype --enable-libfribidi --enable-libgme --enable-libgsm --enable-libjack --enable-libmp3lame --enable-libmysofa --enable-libopenjpeg --enable-libopenmpt --enable-libopus --enable-libpulse --enable-librabbitmq --enable-librubberband --enable-libshine --enable-libsnappy --enable-libsoxr --enable-libspeex --enable-libsrt --enable-libssh --enable-libtheora --enable-libtwolame --enable-libvidstab --enable-libvorbis --enable-libvpx --enable-libwebp --enable-libx265 --enable-libxml2 --enable-libxvid --enable-libzimg --enable-libzmq --enable-libzvbi --enable-lv2 --enable-omx --enable-openal --enable-opencl --enable-opengl --enable-sdl2 --enable-pocketsphinx --enable-librsvg --enable-libmfx --enable-libdc1394 --enable-libdrm --enable-libiec61883 --enable-chromaprint --enable-frei0r --enable-libx264 --enable-shared\n",
            "  libavutil      56. 70.100 / 56. 70.100\n",
            "  libavcodec     58.134.100 / 58.134.100\n",
            "  libavformat    58. 76.100 / 58. 76.100\n",
            "  libavdevice    58. 13.100 / 58. 13.100\n",
            "  libavfilter     7.110.100 /  7.110.100\n",
            "  libswscale      5.  9.100 /  5.  9.100\n",
            "  libswresample   3.  9.100 /  3.  9.100\n",
            "  libpostproc    55.  9.100 / 55.  9.100\n",
            "Input #0, avi, from '/content/runs/detect/predict/umam.avi':\n",
            "  Metadata:\n",
            "    software        : Lavf59.27.100\n",
            "  Duration: 00:00:26.62, start: 0.000000, bitrate: 32105 kb/s\n",
            "  Stream #0:0: Video: mjpeg (Baseline) (MJPG / 0x47504A4D), yuvj420p(pc, bt470bg/unknown/unknown), 1080x1920, 32133 kb/s, 29 fps, 29 tbr, 29 tbn, 29 tbc\n",
            "Stream mapping:\n",
            "  Stream #0:0 -> #0:0 (mjpeg (native) -> h264 (libx264))\n",
            "Press [q] to stop, [?] for help\n",
            "\u001b[1;36m[libx264 @ 0x562f13de3740] \u001b[0musing cpu capabilities: MMX2 SSE2Fast SSSE3 SSE4.2 AVX FMA3 BMI2 AVX2 AVX512\n",
            "\u001b[1;36m[libx264 @ 0x562f13de3740] \u001b[0mprofile High, level 4.0, 4:2:0, 8-bit\n",
            "\u001b[1;36m[libx264 @ 0x562f13de3740] \u001b[0m264 - core 163 r3060 5db6aa6 - H.264/MPEG-4 AVC codec - Copyleft 2003-2021 - http://www.videolan.org/x264.html - options: cabac=1 ref=3 deblock=1:0:0 analyse=0x3:0x113 me=hex subme=7 psy=1 psy_rd=1.00:0.00 mixed_ref=1 me_range=16 chroma_me=1 trellis=1 8x8dct=1 cqm=0 deadzone=21,11 fast_pskip=1 chroma_qp_offset=-2 threads=3 lookahead_threads=1 sliced_threads=0 nr=0 decimate=1 interlaced=0 bluray_compat=0 constrained_intra=0 bframes=3 b_pyramid=2 b_adapt=1 b_bias=0 direct=1 weightb=1 open_gop=0 weightp=2 keyint=250 keyint_min=25 scenecut=40 intra_refresh=0 rc_lookahead=40 rc=crf mbtree=1 crf=23.0 qcomp=0.60 qpmin=0 qpmax=69 qpstep=4 ip_ratio=1.40 aq=1:1.00\n",
            "Output #0, mp4, to '/content/runs/detect/predict/umam.mp4':\n",
            "  Metadata:\n",
            "    software        : Lavf59.27.100\n",
            "    encoder         : Lavf58.76.100\n",
            "  Stream #0:0: Video: h264 (avc1 / 0x31637661), yuvj420p(pc, bt470bg/unknown/unknown, progressive), 1080x1920, q=2-31, 29 fps, 14848 tbn\n",
            "    Metadata:\n",
            "      encoder         : Lavc58.134.100 libx264\n",
            "    Side data:\n",
            "      cpb: bitrate max/min/avg: 0/0/0 buffer size: 0 vbv_delay: N/A\n",
            "frame=  772 fps=4.5 q=-1.0 Lsize=   30819kB time=00:00:26.51 bitrate=9520.9kbits/s speed=0.153x    \n",
            "video:30809kB audio:0kB subtitle:0kB other streams:0kB global headers:0kB muxing overhead: 0.033219%\n",
            "\u001b[1;36m[libx264 @ 0x562f13de3740] \u001b[0mframe I:5     Avg QP:22.24  size: 64281\n",
            "\u001b[1;36m[libx264 @ 0x562f13de3740] \u001b[0mframe P:203   Avg QP:24.59  size: 56300\n",
            "\u001b[1;36m[libx264 @ 0x562f13de3740] \u001b[0mframe B:564   Avg QP:26.07  size: 35101\n",
            "\u001b[1;36m[libx264 @ 0x562f13de3740] \u001b[0mconsecutive B-frames:  1.4%  2.6%  2.7% 93.3%\n",
            "\u001b[1;36m[libx264 @ 0x562f13de3740] \u001b[0mmb I  I16..4: 12.1% 85.0%  2.9%\n",
            "\u001b[1;36m[libx264 @ 0x562f13de3740] \u001b[0mmb P  I16..4: 12.0% 58.2%  3.0%  P16..4: 15.8%  6.9%  2.2%  0.0%  0.0%    skip: 1.9%\n",
            "\u001b[1;36m[libx264 @ 0x562f13de3740] \u001b[0mmb B  I16..4:  6.2% 23.0%  0.6%  B16..8: 31.0% 11.8%  2.4%  direct: 6.3%  skip:18.8%  L0:50.8% L1:40.2% BI: 9.0%\n",
            "\u001b[1;36m[libx264 @ 0x562f13de3740] \u001b[0m8x8 transform intra:78.4% inter:75.9%\n",
            "\u001b[1;36m[libx264 @ 0x562f13de3740] \u001b[0mcoded y,uvDC,uvAC intra: 53.5% 58.3% 0.6% inter: 28.4% 33.8% 0.5%\n",
            "\u001b[1;36m[libx264 @ 0x562f13de3740] \u001b[0mi16 v,h,dc,p: 33% 27% 13% 27%\n",
            "\u001b[1;36m[libx264 @ 0x562f13de3740] \u001b[0mi8 v,h,dc,ddl,ddr,vr,hd,vl,hu: 30% 25% 29%  3%  2%  2%  3%  3%  3%\n",
            "\u001b[1;36m[libx264 @ 0x562f13de3740] \u001b[0mi4 v,h,dc,ddl,ddr,vr,hd,vl,hu: 31% 24% 12%  4%  7%  7%  6%  5%  4%\n",
            "\u001b[1;36m[libx264 @ 0x562f13de3740] \u001b[0mi8c dc,h,v,p: 47% 23% 26%  4%\n",
            "\u001b[1;36m[libx264 @ 0x562f13de3740] \u001b[0mWeighted P-Frames: Y:14.3% UV:8.9%\n",
            "\u001b[1;36m[libx264 @ 0x562f13de3740] \u001b[0mref P L0: 46.5% 12.8% 23.8% 15.2%  1.6%\n",
            "\u001b[1;36m[libx264 @ 0x562f13de3740] \u001b[0mref B L0: 83.2% 12.7%  4.2%\n",
            "\u001b[1;36m[libx264 @ 0x562f13de3740] \u001b[0mref B L1: 93.0%  7.0%\n",
            "\u001b[1;36m[libx264 @ 0x562f13de3740] \u001b[0mkb/s:9480.58\n"
          ]
        }
      ]
    }
  ]
}